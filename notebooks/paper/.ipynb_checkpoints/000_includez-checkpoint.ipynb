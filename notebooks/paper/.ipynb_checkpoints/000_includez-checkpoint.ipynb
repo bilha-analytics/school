{
 "cells": [
  {
   "cell_type": "code",
   "execution_count": 1,
   "metadata": {},
   "outputs": [],
   "source": [
    "import numpy as np\n",
    "import pandas as pd\n",
    "\n",
    "import matplotlib.pyplot as plt\n",
    "import seaborn as sns\n",
    "%matplotlib inline"
   ]
  },
  {
   "cell_type": "code",
   "execution_count": 2,
   "metadata": {},
   "outputs": [],
   "source": [
    "import warnings\n",
    "warnings.filterwarnings('ignore')\n",
    "\n",
    "import logging\n",
    "logging.getLogger('tensorflow').disabled = True\n",
    "# logging.getLogger('google_auth_oauthlib').disabled = True"
   ]
  },
  {
   "cell_type": "code",
   "execution_count": 3,
   "metadata": {},
   "outputs": [],
   "source": [
    "from IPython.core.interactiveshell import InteractiveShell\n",
    "InteractiveShell.ast_node_interactivity = \"all\" #last_expr\" ##<< show all output (not just last) even bila a print"
   ]
  },
  {
   "cell_type": "code",
   "execution_count": 4,
   "metadata": {},
   "outputs": [],
   "source": [
    "## plot settings\n",
    "params = {\n",
    "    'font.size' : 14.0,\n",
    "    'figure.figsize': (15.0, 7.0), ##20,15 10.0, 8.0\n",
    "    'figure.dpi' : 50\n",
    "}\n",
    "plt.rcParams.update(params)\n",
    "plt.style.use('fivethirtyeight') #tableau-colorblind10 ggplot"
   ]
  },
  {
   "cell_type": "code",
   "execution_count": 5,
   "metadata": {},
   "outputs": [],
   "source": [
    "def show_image_list(img_list, nc=2, cmap='gray', titlez=None):    \n",
    "    n = len(img_list)\n",
    "    nr = n//nc + ( 0 if n%nc == 0 else 1) \n",
    "    for i, img in enumerate(img_list):\n",
    "        plt.subplot(nr, nc, (i+1) )\n",
    "        plt.imshow( img, cmap=cmap)\n",
    "        plt.axis('off')\n",
    "        if titlez:\n",
    "            plt.title( f\"{titlez[min(i, len(titlez)-1)]}\" )\n",
    "    plt.subplots_adjust(wspace=0, hspace=0)\n",
    "    plt.show();\n",
    "     "
   ]
  },
  {
   "cell_type": "code",
   "execution_count": 7,
   "metadata": {},
   "outputs": [],
   "source": [
    "def show_image_hist(img, cmap='gray', binz=None):\n",
    "    plt.subplot(1,2,1)\n",
    "    if (cmap is None):\n",
    "        plt.imshow(img)\n",
    "    else:\n",
    "        plt.imshow(img, cmap=cmap) \n",
    "    plt.axis('off')\n",
    "    plt.subplot(1,2,2)\n",
    "    plt.hist(img.flatten()*(1/img.max()), bins=binz)\n",
    "    plt.title(f\"Histogram: {binz} bins\")\n",
    "    plt.tick_params(axis='y', which='both', labelleft=False, labelright=False)\n",
    "    plt.subplots_adjust(wspace=0, hspace=0)"
   ]
  },
  {
   "cell_type": "code",
   "execution_count": null,
   "metadata": {},
   "outputs": [],
   "source": []
  }
 ],
 "metadata": {
  "kernelspec": {
   "display_name": "Python 3",
   "language": "python",
   "name": "python3"
  },
  "language_info": {
   "codemirror_mode": {
    "name": "ipython",
    "version": 3
   },
   "file_extension": ".py",
   "mimetype": "text/x-python",
   "name": "python",
   "nbconvert_exporter": "python",
   "pygments_lexer": "ipython3",
   "version": "3.7.6"
  }
 },
 "nbformat": 4,
 "nbformat_minor": 4
}
