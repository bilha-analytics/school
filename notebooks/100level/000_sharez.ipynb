version https://git-lfs.github.com/spec/v1
oid sha256:680973ba37b0d052c7d3bd3102651f129324932b0a03c40dae22b711ba50e240
size 1012
