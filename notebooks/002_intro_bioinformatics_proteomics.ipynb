{
 "cells": [
  {
   "cell_type": "markdown",
   "metadata": {},
   "source": [
    "# Introduction to Bioinformatics\n",
    "\n",
    "**Dataset:**\n",
    "\n",
    "Sources:\n",
    "- Using NCBI datasets.\n",
    "- Other sources but not used here: EBI, SRS, BioMart, ExPASy, Pubmed, Entrez\n",
    "\n",
    "Specific datasets:\n",
    "- [Leukemia nucleotides - LIF=leukemia inhibitory factor](https://www.ncbi.nlm.nih.gov/nuccore/S73374.1). Identification of two elements involved in regulating expression of the murine leukaemia inhibitory factor gene\n",
    "    \n",
    "**Goal:**\n",
    "- DNA sequence analysis\n",
    "    - base stats\n",
    "    - [GC content](https://en.wikipedia.org/wiki/GC-content) - Percent of G or C bases in DNA. DNA with low GC-content is less stable than DNA with high GC-content. TODO: relevance \n",
    "    - \n",
    "\n",
    "\n",
    "**Resources:**\n",
    "- `Biopython`: Py package for sequencing \n",
    "- `Rosalind`:  An online resource that is a series interactive learning modules for bioinformatics \n",
    "\n",
    "\n",
    "**Tutorial Playlist**\n",
    "- [Bioinformatics and Python Playlist - a plethora](https://www.youtube.com/watch?v=CXv7Wd1VwVU&list=PLymkKpD_KgfmYyscPiXNlJj7Jkth_dQhb) - You need to be selective of what to work with;\n",
    "- [BioPython, C.G.Oliver](https://youtu.be/qQ7rIpB4oOw?t=1041)\n"
   ]
  },
  {
   "cell_type": "code",
   "execution_count": 1,
   "metadata": {},
   "outputs": [],
   "source": [
    "from collections import Counter\n",
    "import nltk\n",
    "\n",
    "import seaborn as sns\n",
    "from matplotlib import pyplot as plt\n",
    "%matplotlib inline\n",
    "\n",
    "import warnings\n",
    "warnings.filterwarnings('ignore')"
   ]
  },
  {
   "cell_type": "code",
   "execution_count": 2,
   "metadata": {},
   "outputs": [],
   "source": [
    "class Sequence:\n",
    "    def __init__(self, seq):\n",
    "        self.seq = seq\n",
    "        self.counter = Counter(c.lower().strip() for c in seq ) \n",
    "    \n",
    "    def num_stats(self):\n",
    "        # order: len, gc, \n",
    "        N = sum(self.counter.values() )\n",
    "        return (self.seq[:7], N, (self.counter['g']+self.counter['c'])/max(N,1))\n",
    "        \n",
    "    def stats(self):\n",
    "        # order: len, gc, \n",
    "        s, N, gc = self.num_stats()\n",
    "        return f\"{s} \\t {N} \\t {gc}\"\n",
    "    \n",
    "    def gen_kmer_motifs(self, k=6): ##n-gram \n",
    "        return [ self.seq[x:x+k].lower() for x in range(len(self.seq) - k + 1)]\n",
    "\n",
    "        \n",
    "class Dna:\n",
    "    sequences = []\n",
    "    all_counter = None \n",
    "    def gene_load(self, fname):\n",
    "        with open(fname, \"r\") as fd:\n",
    "            for l in fd.readlines():\n",
    "                if not l.startswith(\">\") and len(l.strip()) > 0:\n",
    "                    self.sequences.append( Sequence(l.strip() ) )                    \n",
    "        self.all_counter = Counter( c for seq in self.sequences for c in seq.seq.lower() )\n",
    "        \n",
    "    def gc_content_per_sequence(self):\n",
    "        pass\n",
    "            \n",
    "    def gene_stats(self):        \n",
    "        sb = []\n",
    "        \n",
    "        sb.append(f\"1. Count of bases \\n\")\n",
    "        N = sum(self.all_counter.values())\n",
    "        for n,c in self.all_counter.most_common():\n",
    "            sb.append( f\"\\tBase { n.upper() } : {c} {int(c)/N}\\n\")\n",
    "            \n",
    "        sb.append(f\"\\n2. GC Content \\n\")\n",
    "        sb.append( f\"\\tGC Content: { (self.all_counter['g']+self.all_counter['c'])/N }\\n\")\n",
    "        \n",
    "        sb.append(f\"\\n3. Sample 3 \\n\")\n",
    "        sb.append(f\"\\n\\tStart of seq \\tCount \\tGC Content\\n\")\n",
    "        for s in range(4):\n",
    "            sb.append(f\"\\t{self.sequences[s].stats() }\\n\")\n",
    "                                          \n",
    "        return sb\n",
    "    \n",
    "    def __str__(self):            \n",
    "        return f\"DNA: # seqs: {len(self.sequences)} \\t counter: {len(self.all_counter)}\"+\\\n",
    "                f\"\\n{ ''.join(self.gene_stats() ) }\""
   ]
  },
  {
   "cell_type": "code",
   "execution_count": 3,
   "metadata": {},
   "outputs": [
    {
     "name": "stdout",
     "output_type": "stream",
     "text": [
      "Leukemia - LIF\n",
      " DNA: # seqs: 99 \t counter: 4\n",
      "1. Count of bases \n",
      "\tBase G : 1985 0.28830791575889614\n",
      "\tBase C : 1851 0.26884531590413946\n",
      "\tBase T : 1534 0.22280319535221496\n",
      "\tBase A : 1515 0.22004357298474944\n",
      "\n",
      "2. GC Content \n",
      "\tGC Content: 0.5571532316630355\n",
      "\n",
      "3. Sample 3 \n",
      "\n",
      "\tStart of seq \tCount \tGC Content\n",
      "\tGAATTCC \t 70 \t 0.5714285714285714\n",
      "\tGGCAGGC \t 70 \t 0.6\n",
      "\tGGGCCAG \t 70 \t 0.7285714285714285\n",
      "\tCCGGGGC \t 70 \t 0.5714285714285714\n",
      "\n"
     ]
    }
   ],
   "source": [
    "lif_fname = \"../data/LIF_NCBI_sequence.fasta\"\n",
    "dna = Dna()\n",
    "dna.gene_load(lif_fname)\n",
    "print(\"Leukemia - LIF\\n\", dna)"
   ]
  },
  {
   "cell_type": "code",
   "execution_count": 4,
   "metadata": {
    "scrolled": false
   },
   "outputs": [
    {
     "data": {
      "image/png": "[encoded data removed]",
      "text/plain": [
       "<Figure size 432x288 with 2 Axes>"
      ]
     },
     "metadata": {
      "needs_background": "light"
     },
     "output_type": "display_data"
    }
   ],
   "source": [
    "# for s in dna.sequences:\n",
    "#     print(s.stats() )\n",
    "\n",
    "\n",
    "#plt.plot([s.seq[0] for s in dna.sequences if len(s.seq) > 0] )\n",
    "# plt.subplot(1,4,1)\n",
    "# sns.countplot(y=[s.seq[0] for s in dna.sequences if len(s.seq) > 0] )#.title(\"Start base\")\n",
    "# plt.subplot(1,4,2)\n",
    "# sns.countplot(y=[s.seq[-1] for s in dna.sequences if len(s.seq) > 0] )#.title(\"End base\")\n",
    "\n",
    "plt.subplot(1,2,1)\n",
    "sns.countplot(y=[s.seq[0:2] for s in dna.sequences if len(s.seq) > 0] )#.title(\"Start base\")\n",
    "plt.subplot(1,2,2)\n",
    "sns.countplot(y=[s.seq[-2:] for s in dna.sequences if len(s.seq) > 0] )#.title(\"End base\")\n",
    "plt.show();"
   ]
  },
  {
   "cell_type": "code",
   "execution_count": 5,
   "metadata": {},
   "outputs": [
    {
     "data": {
      "image/png": "[encoded data removed]",
      "text/plain": [
       "<Figure size 432x288 with 2 Axes>"
      ]
     },
     "metadata": {
      "needs_background": "light"
     },
     "output_type": "display_data"
    }
   ],
   "source": [
    "## Start base\n",
    "plt.subplot(1,2,1)\n",
    "sns.violinplot(\n",
    "    y=[s.num_stats()[0][0] for s in dna.sequences ], \n",
    "    x=[ s.num_stats()[2] for s in dna.sequences ],\n",
    ");\n",
    "\n",
    "## End base\n",
    "plt.subplot(1,2,2)\n",
    "sns.violinplot(\n",
    "    y=[s.num_stats()[0][-1] for s in dna.sequences ], \n",
    "    x=[ s.num_stats()[2] for s in dna.sequences ],\n",
    "); \n",
    "# sns.swarmplot(\n",
    "#     y=[s.num_stats()[0][-1] for s in dna.sequences ], \n",
    "#     x=[ s.num_stats()[2] for s in dna.sequences ]\n",
    "# );\n",
    "\n"
   ]
  },
  {
   "cell_type": "code",
   "execution_count": 6,
   "metadata": {},
   "outputs": [
    {
     "data": {
      "image/png": "[encoded data removed]",
      "text/plain": [
       "<Figure size 432x288 with 1 Axes>"
      ]
     },
     "metadata": {
      "needs_background": "light"
     },
     "output_type": "display_data"
    }
   ],
   "source": [
    "# Distribution of GC Content \n",
    "plt.hist([s.num_stats()[2] for s in dna.sequences], bins=50, density=True ); \n",
    "plt.xlabel = 'GC content'\n",
    "plt.title = \"Distribution of GC content\"\n",
    "plt.show();\n"
   ]
  },
  {
   "cell_type": "code",
   "execution_count": 7,
   "metadata": {},
   "outputs": [
    {
     "name": "stdout",
     "output_type": "stream",
     "text": [
      "Breast Cancer - BCRA1\n",
      " DNA: # seqs: 1773 \t counter: 4\n",
      "1. Count of bases \n",
      "\tBase T : 33853 0.2729464314509627\n",
      "\tBase A : 32674 0.26344051343245073\n",
      "\tBase G : 29224 0.23562421388718677\n",
      "\tBase C : 28277 0.2279888412293998\n",
      "\n",
      "2. GC Content \n",
      "\tGC Content: 0.46361305511658657\n",
      "\n",
      "3. Sample 3 \n",
      "\n",
      "\tStart of seq \tCount \tGC Content\n",
      "\tGAATTCC \t 70 \t 0.5714285714285714\n",
      "\tGGCAGGC \t 70 \t 0.6\n",
      "\tGGGCCAG \t 70 \t 0.7285714285714285\n",
      "\tCCGGGGC \t 70 \t 0.5714285714285714\n",
      "\n"
     ]
    }
   ],
   "source": [
    "lif_fname = \"../data/BRCA1_NCBI_sequence.fasta\"\n",
    "dna = Dna()\n",
    "dna.gene_load(lif_fname)\n",
    "print(\"Breast Cancer - BCRA1\\n\", dna)"
   ]
  },
  {
   "cell_type": "code",
   "execution_count": 8,
   "metadata": {},
   "outputs": [
    {
     "data": {
      "image/png": "[encoded data removed]",
      "text/plain": [
       "<Figure size 432x288 with 2 Axes>"
      ]
     },
     "metadata": {
      "needs_background": "light"
     },
     "output_type": "display_data"
    }
   ],
   "source": [
    "## Start base\n",
    "plt.subplot(1,2,1)\n",
    "sns.violinplot(\n",
    "    y=[s.num_stats()[0][0] for s in dna.sequences ], \n",
    "    x=[ s.num_stats()[2] for s in dna.sequences ],\n",
    ");\n",
    "\n",
    "## End base\n",
    "plt.subplot(1,2,2)\n",
    "sns.violinplot(\n",
    "    y=[s.num_stats()[0][-1] for s in dna.sequences ], \n",
    "    x=[ s.num_stats()[2] for s in dna.sequences ],\n",
    ");"
   ]
  },
  {
   "cell_type": "code",
   "execution_count": 9,
   "metadata": {},
   "outputs": [
    {
     "data": {
      "image/png": "[encoded data removed]",
      "text/plain": [
       "<Figure size 432x288 with 1 Axes>"
      ]
     },
     "metadata": {
      "needs_background": "light"
     },
     "output_type": "display_data"
    }
   ],
   "source": [
    "#plt.subplot(2,2,3)\n",
    "plt.hist([s.num_stats()[2] for s in dna.sequences], bins=50, density=True ); \n",
    "plt.xlabel = 'GC content'\n",
    "plt.title = \"Distribution of GC content\"\n",
    "plt.show();"
   ]
  },
  {
   "cell_type": "markdown",
   "metadata": {},
   "source": [
    "# BioPython\n",
    "\n",
    "[Ref Tutorial](https://youtu.be/qQ7rIpB4oOw?t=1041)\n",
    "\n",
    "BioPython functionalities\n",
    "- Sequences Operations by type @ DNA, RNA, proteins\n",
    "    - transcription, translation\n",
    "    - \n",
    "- 3D structure handling \n",
    "- Population genetics e.g. population patterns "
   ]
  },
  {
   "cell_type": "code",
   "execution_count": 10,
   "metadata": {},
   "outputs": [],
   "source": [
    "#import statistics\n",
    "from Bio.Seq import Seq\n",
    "from Bio.Alphabet import generic_dna, generic_rna, generic_protein, generic_nucleotide"
   ]
  },
  {
   "cell_type": "code",
   "execution_count": 11,
   "metadata": {},
   "outputs": [],
   "source": [
    "## BioSeq\n",
    "lif_fname = \"../data/LIF_NCBI_sequence.fasta\"\n",
    "dna = Dna()\n",
    "dna.gene_load(lif_fname)\n",
    "#print(\"Leukemia - LIF\\n\", dna)\n",
    "\n",
    "LIF_Seqs = [ Seq(s.seq, generic_dna) for s in dna.sequences]"
   ]
  },
  {
   "cell_type": "code",
   "execution_count": 12,
   "metadata": {},
   "outputs": [
    {
     "name": "stdout",
     "output_type": "stream",
     "text": [
      "<class 'Bio.Seq.Seq'>\n",
      "DNAAlphabet()\n",
      "\n",
      "GAATTCCCAGTGCCCAGAGAGCTGCTTCCTTACCTGCTGAGTAACCACTGCCCACACAGGATGCCTGGCT\n",
      "\n",
      "['alphabet', 'back_transcribe', 'complement', 'count', 'count_overlap', 'encode', 'endswith', 'find', 'index', 'join', 'lower', 'lstrip', 'reverse_complement', 'rfind', 'rindex', 'rsplit', 'rstrip', 'split', 'startswith', 'strip', 'tomutable', 'transcribe', 'translate', 'ungap', 'upper']\n"
     ]
    }
   ],
   "source": [
    "tmp = LIF_Seqs[0]\n",
    "print(type( tmp ) )\n",
    "print( tmp.alphabet )\n",
    "print(f\"\\n{tmp}\\n\")\n",
    "print([ s for s in dir(LIF_Seqs[0]) if not s.startswith('_') ] )\n",
    "\n"
   ]
  },
  {
   "cell_type": "code",
   "execution_count": 19,
   "metadata": {},
   "outputs": [
    {
     "name": "stdout",
     "output_type": "stream",
     "text": [
      "DNA: DNAAlphabet() \n",
      "GGCAGGTTCCCAGAGTCCTCCCGGG\n",
      "\n",
      "mRNA: RNAAlphabet() \n",
      "GGCAGGUUCCCAGAGUCCUCCCGGG\n",
      "\n",
      "protein from mRNA: ExtendedIUPACProtein() \n",
      "GRFPESSR\n",
      "\n",
      "protein from DNA: ExtendedIUPACProtein() \n",
      "GRFPESSR\n",
      "\n"
     ]
    }
   ],
   "source": [
    "## Transcription and Translation\n",
    "tmp = LIF_Seqs[-1]\n",
    "\n",
    "# 1. transcribe = make copy of some gene - DNA to RNA; same except Ts are Us\n",
    "mRNA = tmp.transcribe()\n",
    "print(f\"DNA: {tmp.alphabet} \\n{tmp}\\n\")\n",
    "print(f\"mRNA: {mRNA.alphabet} \\n{mRNA}\\n\")\n",
    "\n",
    "# 2. translate = manufacture protein coded by the gene \n",
    "protein = mRNA.translate()\n",
    "print(f\"protein from mRNA: {protein.alphabet} \\n{protein}\\n\")\n",
    "\n",
    "# 3. From DNA straight to protein\n",
    "# stop codons represented as '*' and so use to_stop to force stop\n",
    "# can force a valid start and stop coding seq by setting cds to true. Will throw error if invalid gene\n",
    "protein2 = tmp.translate(to_stop=True) #, cds=True)\n",
    "print(f\"protein from DNA: {protein2.alphabet} \\n{protein2}\\n\")\n"
   ]
  },
  {
   "cell_type": "code",
   "execution_count": 14,
   "metadata": {},
   "outputs": [
    {
     "name": "stdout",
     "output_type": "stream",
     "text": [
      "GAATT \t CCGGG \t GAATTCCGGG\n",
      "Found GAA at: -1 \t its count is 0\n",
      "Found TAC at: -1 \t its count is 0\n",
      "Found GCA at: 1 \t its count is 1\n",
      "Found CTTA at: -1 \t its count is 0\n"
     ]
    }
   ],
   "source": [
    "#### Concatenating sequences if they are matching types\n",
    "# Seq objects behave like strings. BUT are not mutable\n",
    "# Can make mutable by converting seq.tomutable() \n",
    "\n",
    "s1 = LIF_Seqs[0][:5] \n",
    "s2 = LIF_Seqs[-1][-5:]\n",
    "print(s1,\"\\t\",s2,\"\\t\",s1+s2)\n",
    "\n",
    "## Find and counts segments. Counts is non-overlapping \n",
    "for sf in ['GAA', \"TAC\", \"GCA\", \"CTTA\"]:\n",
    "    print( f\"Found {sf} at: {tmp.find(sf)} \\t its count is {tmp.count(sf)}\")"
   ]
  },
  {
   "cell_type": "markdown",
   "metadata": {},
   "source": [
    "## Database Searching\n",
    "\n",
    "**BLAST** \n",
    "- An alignment algorithm that searches the origin organism of a sequences in a big DB say NCBI. Alternative would be to take the string and go to NCBI and do a search\n"
   ]
  },
  {
   "cell_type": "code",
   "execution_count": 15,
   "metadata": {},
   "outputs": [],
   "source": [
    "from Bio.Blast import NCBIWWW\n",
    "from Bio.Blast import NCBIXML # results of blast search results is xml\n"
   ]
  },
  {
   "cell_type": "code",
   "execution_count": 16,
   "metadata": {},
   "outputs": [
    {
     "name": "stdout",
     "output_type": "stream",
     "text": [
      "<generator object parse at 0x7fbbad2bc6d0>\n"
     ]
    }
   ],
   "source": [
    "## do blast seach with blastn algoritm\n",
    "s = \"AAAAGGAGAGAGAGTTTATA\" #\"AGGTTCCCAGAGTC\"\n",
    "tmp2 = Seq( s, generic_dna)\n",
    "res = NCBIWWW.qblast('blastn', 'nt', tmp2) #alg, type(nt=nucleotides), seq\n",
    "## result is an xml file so use parser\n",
    "result = NCBIXML.parse( res )\n",
    "print(result)"
   ]
  },
  {
   "cell_type": "code",
   "execution_count": 18,
   "metadata": {},
   "outputs": [],
   "source": [
    "# the parsed result is an iterator\n",
    "for b in result:\n",
    "    for rec in B.alignments:\n",
    "        for al in rec.hsps:\n",
    "            print(\"*** Alignment ***\")\n",
    "            print( f\"Seq: {rec.title}\\tlen: {rec.length}\\te value: {al.expect}\")\n",
    "            print(f\"{al.query[:75]} ...\" )\n",
    "            print(f\"{al.match[:75]} ...\" )\n",
    "            print(f\"{al.sbjct[:75]} ...\" )"
   ]
  },
  {
   "cell_type": "markdown",
   "metadata": {},
   "source": [
    "## SeqRecord and SeqIO\n",
    "\n",
    "- Access more information e.g. source species and parse files \n",
    "- "
   ]
  },
  {
   "cell_type": "code",
   "execution_count": 110,
   "metadata": {},
   "outputs": [],
   "source": [
    "from Bio import SeqIO \n",
    "from Bio.SeqRecord import SeqRecord ## can create own and save as fasta\n"
   ]
  },
  {
   "cell_type": "code",
   "execution_count": 109,
   "metadata": {},
   "outputs": [
    {
     "name": "stdout",
     "output_type": "stream",
     "text": [
      "<class 'Bio.SeqRecord.SeqRecord'>\n",
      "Name: ADRZ01000932.1\n",
      "Desc: ADRZ01000932.1 Yersinia pestis biovar Antiqua str. E1979001 Contig_E1979001_19275, whole genome shotgun sequence\n",
      "\n",
      "['annotations', 'dbxrefs', 'description', 'features', 'format', 'id', 'letter_annotations', 'lower', 'name', 'reverse_complement', 'seq', 'translate', 'upper']\n",
      "\n",
      " ID: ADRZ01000932.1\n",
      "Name: ADRZ01000932.1\n",
      "Description: ADRZ01000932.1 Yersinia pestis biovar Antiqua str. E1979001 Contig_E1979001_19275, whole genome shotgun sequence\n",
      "Number of features: 0\n",
      "Seq('CTCTCCCAGCTGAGCTATAGCCCCAATGCGCACATAATAAATCGTGTGAACGGG...AGC', SingleLetterAlphabet())\n"
     ]
    }
   ],
   "source": [
    "# Source: https://www.ncbi.nlm.nih.gov/genbank/ \n",
    "bubonic_fname = \"../data/YPBA_NCBI_GEN_sequence.fasta\"\n",
    "\n",
    "BUB_seqs = SeqIO.parse( bubonic_fname, 'fasta')\n",
    "dtmp = None\n",
    "for r in BUB_seqs:\n",
    "    print(f\"{type(r)}\\nName: {r.name}\\nDesc: {r.description}\\n\")\n",
    "    dtmp = r\n",
    "\n",
    "print([ s for s in dir(dtmp) if not s.startswith('_') ] )\n",
    "\n",
    "print(\"\\n\", dtmp)"
   ]
  },
  {
   "cell_type": "code",
   "execution_count": 111,
   "metadata": {},
   "outputs": [],
   "source": [
    "## Can create SeqRecord(Seq()) e.g. after new edits and save as fasta\n"
   ]
  },
  {
   "cell_type": "markdown",
   "metadata": {},
   "source": [
    "## Alignments and Phylogenetic Trees"
   ]
  },
  {
   "cell_type": "code",
   "execution_count": null,
   "metadata": {},
   "outputs": [],
   "source": []
  },
  {
   "cell_type": "code",
   "execution_count": null,
   "metadata": {},
   "outputs": [],
   "source": []
  },
  {
   "cell_type": "code",
   "execution_count": null,
   "metadata": {},
   "outputs": [],
   "source": []
  },
  {
   "cell_type": "code",
   "execution_count": null,
   "metadata": {},
   "outputs": [],
   "source": []
  },
  {
   "cell_type": "markdown",
   "metadata": {},
   "source": [
    "## 3D Molecular  Structures with BiPython\n",
    "\n",
    "[Part 2 of Tutorial](https://www.youtube.com/watch?v=mL8NPpRxgJA&list=PLfclbddrqrdm29HaMHxmcWBbECU9vJZJZ)\n",
    "\n",
    "\n",
    "Data Source: \n",
    "- [**Protein Data Bank (PDB)**](http://www.rcsb.org/pdb/home/home.do)\n",
    "-\n",
    "\n",
    "**Biomolecule Structure**\n",
    "- Proteins, DNA, RNA, chemicals (e.g. dopamine) \n",
    "- Biological function is determined by structure\n",
    "- X-ray crystallography \n",
    "\n",
    "**3D Structure on BioPython**\n",
    "- `Bio.PDB` module \n",
    "- File format 'mmCIF'\n",
    "- **Visualizing the 3D Structyre**\n",
    "    - [`bioconda`](https://bioconda.github.io/user/install.html): works with jupyter notebook as widget\n",
    "    - [`PyMOL`](https://pymol.org/2/): "
   ]
  },
  {
   "cell_type": "code",
   "execution_count": 27,
   "metadata": {},
   "outputs": [],
   "source": [
    "from Bio.PDB import *"
   ]
  },
  {
   "cell_type": "code",
   "execution_count": 32,
   "metadata": {},
   "outputs": [
    {
     "name": "stdout",
     "output_type": "stream",
     "text": [
      "<class 'Bio.Seq.Seq'>\n"
     ]
    }
   ],
   "source": [
    "## Dopamine transpoerter protein \n",
    "prot_seq = Seq(\"DERETWSGKVDFLLSVIGFAVDLANVWRFPYLCYKNGGGAFLVPYGIMLAVGGIPLFYMELALGQHNRKGAITCWGRLVP\\\n",
    "LFKGIGYAVVLIAFYVDFYYNVIIAWSLRFFFASFTNSLPWTSCNNIWNTPNCRPFEGHVEGFQSAASEYFNRYILELNR\\\n",
    "SEGIHDLGAIKWDMALCLLIVYLICYFSLWKGISTSGKVVWFTALFPYAVLLILLIRGLTLPGSFLGIQYYLTPNFSAIY\\\n",
    "KAEVWVDAATQVFFSLGPGFGVLLAYASYNKYHNNVYKDALLTSFINSATSFIAGFVIFSVLGYMAHTLGVRIEDVATEG\\\n",
    "PGLVFVVYPAAIATMPASTFWALIFFMMLATLGLDSSFGGSEAIITALSDEFPKIKRNRELFVAGLFSLYFVVGLASCTQ\\\n",
    "GGFYFFHLLDRYAAGYSILVAVFFEAIAVSWIYGTNRFSEDIRDMIGFPPGRYWQVCWRFVAPIFLLFITVYGLIGYEPL\\\n",
    "TYADYVYPSWANALGWCIAGSSVVMIPAVAIFKLLSTPGSLRQRFTILTTPWRDQ\" , generic_protein)\n",
    "\n",
    "print( type(prot_seq))\n",
    "#print( prot_seq)"
   ]
  },
  {
   "cell_type": "code",
   "execution_count": 28,
   "metadata": {},
   "outputs": [
    {
     "name": "stderr",
     "output_type": "stream",
     "text": [
      "WARNING: The default download format has changed from PDB to PDBx/mmCif\n"
     ]
    },
    {
     "name": "stdout",
     "output_type": "stream",
     "text": [
      "Downloading PDB structure '4XP1'...\n"
     ]
    },
    {
     "data": {
      "text/plain": [
       "'/mnt/externz/zRepoz/003_school/notebooks/xp/4xp1.cif'"
      ]
     },
     "execution_count": 28,
     "metadata": {},
     "output_type": "execute_result"
    }
   ],
   "source": [
    "pdbl = PDBList()\n",
    "pdbl.retrieve_pdb_file('4XP1')"
   ]
  },
  {
   "cell_type": "code",
   "execution_count": 33,
   "metadata": {},
   "outputs": [],
   "source": [
    "parser = MMCIFParser()"
   ]
  },
  {
   "cell_type": "code",
   "execution_count": 35,
   "metadata": {},
   "outputs": [
    {
     "name": "stderr",
     "output_type": "stream",
     "text": [
      "/home/bilha/anaconda3/lib/python3.7/site-packages/Bio/PDB/StructureBuilder.py:92: PDBConstructionWarning: WARNING: Chain A is discontinuous at line 7523.\n",
      "  PDBConstructionWarning,\n",
      "/home/bilha/anaconda3/lib/python3.7/site-packages/Bio/PDB/StructureBuilder.py:92: PDBConstructionWarning: WARNING: Chain L is discontinuous at line 7658.\n",
      "  PDBConstructionWarning,\n",
      "/home/bilha/anaconda3/lib/python3.7/site-packages/Bio/PDB/StructureBuilder.py:92: PDBConstructionWarning: WARNING: Chain A is discontinuous at line 7659.\n",
      "  PDBConstructionWarning,\n",
      "/home/bilha/anaconda3/lib/python3.7/site-packages/Bio/PDB/StructureBuilder.py:92: PDBConstructionWarning: WARNING: Chain L is discontinuous at line 7674.\n",
      "  PDBConstructionWarning,\n",
      "/home/bilha/anaconda3/lib/python3.7/site-packages/Bio/PDB/StructureBuilder.py:92: PDBConstructionWarning: WARNING: Chain H is discontinuous at line 7677.\n",
      "  PDBConstructionWarning,\n"
     ]
    }
   ],
   "source": [
    "struct = parser.get_structure('4XP1', \"xp/4xp1.cif\")"
   ]
  },
  {
   "cell_type": "code",
   "execution_count": 36,
   "metadata": {},
   "outputs": [
    {
     "name": "stdout",
     "output_type": "stream",
     "text": [
      "['add', 'child_dict', 'child_list', 'copy', 'detach_child', 'detach_parent', 'full_id', 'get_atoms', 'get_chains', 'get_full_id', 'get_id', 'get_iterator', 'get_level', 'get_list', 'get_models', 'get_parent', 'get_residues', 'has_id', 'header', 'id', 'insert', 'level', 'parent', 'set_parent', 'transform', 'xtra']\n"
     ]
    }
   ],
   "source": [
    "\n",
    "print([ s for s in dir(struct) if not s.startswith('_') ] )"
   ]
  },
  {
   "cell_type": "code",
   "execution_count": null,
   "metadata": {},
   "outputs": [],
   "source": [
    "## nglview\n",
    "import nglview as nv\n"
   ]
  },
  {
   "cell_type": "code",
   "execution_count": null,
   "metadata": {},
   "outputs": [],
   "source": [
    "## atom ball and sticks structure view \n",
    "view = nv.show_biopytho(struct)\n",
    "view.clear_represetntations()\n",
    "view.add_ball_and_stick()\n",
    "view"
   ]
  },
  {
   "cell_type": "code",
   "execution_count": null,
   "metadata": {},
   "outputs": [],
   "source": [
    "## cartoon ribbon representation \n",
    "view.clear_represetntations()\n",
    "view.add_cartoon(\"protein\")\n",
    "view.add_ball_and_stick(\"not protein\")\n",
    "view"
   ]
  },
  {
   "cell_type": "code",
   "execution_count": 40,
   "metadata": {},
   "outputs": [
    {
     "name": "stdout",
     "output_type": "stream",
     "text": [
      "model<Model id=0>\n"
     ]
    }
   ],
   "source": [
    "## Parsing the structure object\n",
    "for model in struct:\n",
    "    print( f\"model{model}\" )"
   ]
  },
  {
   "cell_type": "code",
   "execution_count": 50,
   "metadata": {},
   "outputs": [
    {
     "name": "stdout",
     "output_type": "stream",
     "text": [
      "chain:<Chain id=A> \tA \t559\n",
      "chain:<Chain id=L> \tL \t218\n",
      "chain:<Chain id=H> \tH \t222\n",
      "chain:<Chain id=B> \tB \t2\n",
      "chain:<Chain id=C> \tC \t2\n"
     ]
    }
   ],
   "source": [
    "mode = struct[0]\n",
    "for chain in model:\n",
    "    print( f\"chain:{chain} \\t{chain.id} \\t{len(chain)}\" )"
   ]
  },
  {
   "cell_type": "code",
   "execution_count": 53,
   "metadata": {},
   "outputs": [
    {
     "name": "stdout",
     "output_type": "stream",
     "text": [
      "Residue:ASP \t(' ', 25, ' ') \t8\n",
      "Residue:GLU \t(' ', 26, ' ') \t9\n",
      "Residue:ARG \t(' ', 27, ' ') \t11\n",
      "Residue:GLU \t(' ', 28, ' ') \t9\n"
     ]
    }
   ],
   "source": [
    "chain = model['A']\n",
    "for i, prot in enumerate(chain):\n",
    "    print( f\"Residue:{prot.resname} \\t{prot.id} \\t{len(prot)}\" )\n",
    "    if i>= 3:\n",
    "        break"
   ]
  },
  {
   "cell_type": "code",
   "execution_count": 54,
   "metadata": {},
   "outputs": [
    {
     "name": "stdout",
     "output_type": "stream",
     "text": [
      "<Residue ASN het=  resseq=156 icode= > \n",
      "---\n",
      "\n",
      "Atom:N \t<Atom N>\n",
      "Atom:CA \t<Atom CA>\n",
      "Atom:C \t<Atom C>\n",
      "Atom:O \t<Atom O>\n"
     ]
    }
   ],
   "source": [
    "residue = chain[156]\n",
    "print( residue ,\"\\n---\\n\")\n",
    "for i, atom in enumerate(residue):\n",
    "    print( f\"Atom:{atom.name} \\t{atom}\" )\n",
    "    if i>= 3:\n",
    "        break"
   ]
  },
  {
   "cell_type": "markdown",
   "metadata": {},
   "source": [
    "### Mini Project - Find Dopamine Binding Pockets\n",
    "\n",
    "- Two ways: 1). parsing the mmCIF file and 2). Bio.Atom functions \n",
    "\n",
    "- nonpolymers = not protein, DNA or RNA = is chemical \n",
    "- CA atom is often used as reference point at distances. Distance = diff between atoms"
   ]
  },
  {
   "cell_type": "code",
   "execution_count": 64,
   "metadata": {},
   "outputs": [
    {
     "name": "stdout",
     "output_type": "stream",
     "text": [
      "# Keys =  845\n"
     ]
    }
   ],
   "source": [
    "struct_dict = MMCIF2Dict.MMCIF2Dict('xp/4xp1.cif')\n",
    "\n",
    "print(\"# Keys = \", len( struct_dict.keys()))\n",
    "\n",
    "#struct_dict"
   ]
  },
  {
   "cell_type": "code",
   "execution_count": 60,
   "metadata": {},
   "outputs": [
    {
     "data": {
      "text/plain": [
       "'Not Found'"
      ]
     },
     "execution_count": 60,
     "metadata": {},
     "output_type": "execute_result"
    }
   ],
   "source": [
    "## structure site => binding sites \n",
    "struct_dict.get('_struct_site.details', \"Not Found\")"
   ]
  },
  {
   "cell_type": "code",
   "execution_count": 63,
   "metadata": {},
   "outputs": [
    {
     "data": {
      "text/plain": [
       "'Not Found'"
      ]
     },
     "execution_count": 63,
     "metadata": {},
     "output_type": "execute_result"
    }
   ],
   "source": [
    "## Residues in a binding site\n",
    "struct_dict.get('_struct_site_gen', \"Not Found\")"
   ]
  },
  {
   "cell_type": "code",
   "execution_count": 69,
   "metadata": {},
   "outputs": [
    {
     "name": "stdout",
     "output_type": "stream",
     "text": [
      "Atom:LDP \t<Residue LDP het=H_LDP resseq=708 icode= >\n"
     ]
    }
   ],
   "source": [
    "LDP = None\n",
    "for i, res in enumerate(struct[0].get_residues() ):\n",
    "    if res.resname == 'LDP':\n",
    "        print( f\"Atom:{res.resname} \\t{res}\" )\n",
    "        LDP = res\n",
    "        break\n",
    "#print(LDP)"
   ]
  },
  {
   "cell_type": "code",
   "execution_count": 83,
   "metadata": {},
   "outputs": [
    {
     "name": "stdout",
     "output_type": "stream",
     "text": [
      "Residue:LDP \t('H_LDP', 708, ' ') \t22\n",
      "-------------------------------------------\n",
      "Atom Name\tAtom Coordinates\n",
      "-------------------------------------------\n",
      "C7\t\t[ -9.19    2.991 -26.818]\n",
      "C1\t\t[-10.34    3.577 -26.027]\n",
      "C4\t\t[-12.498   4.64  -24.661]\n",
      "C2\t\t[-10.201   3.953 -24.698]\n",
      "C6\t\t[-11.552   3.736 -26.67 ]\n",
      "C5\t\t[-12.63    4.265 -25.988]\n",
      "C3\t\t[-11.286   4.483 -24.014]\n",
      "O1\t\t[-11.168   4.87  -22.666]\n",
      "O2\t\t[-13.604   5.179 -23.976]\n",
      "C8\t\t[ -8.275   2.214 -25.896]\n",
      "N1\t\t[ -7.384   1.41  -26.667]\n",
      "H71\t\t[ -8.685   3.713 -27.243]\n",
      "H72\t\t[ -9.541   2.392 -27.507]\n",
      "H2\t\t[ -9.344   3.84  -24.244]\n",
      "H6\t\t[-11.647   3.471 -27.604]\n",
      "H5\t\t[-13.487   4.376 -26.443]\n",
      "HO1\t\t[-10.973   5.736 -22.623]\n",
      "HO2\t\t[-14.25    4.57  -23.931]\n",
      "H81\t\t[ -8.813   1.638 -25.314]\n",
      "H82\t\t[ -7.758   2.84  -25.348]\n",
      "HN11\t\t[ -7.39    0.553 -26.344]\n",
      "HN12\t\t[ -6.536   1.753 -26.609]\n"
     ]
    }
   ],
   "source": [
    "### Find other residues that are nearby that we can say they are a binding residue\n",
    "# doable b/c every atom has x,y coordinates\n",
    "# CA atom is often used as reference point at distances\n",
    "print( f\"Residue:{LDP.resname} \\t{LDP.id} \\t{len(LDP)}\" )\n",
    "\n",
    "ref_atom = None\n",
    "\n",
    "print( f\"{'-'*43}\\nAtom Name\\tAtom Coordinates\\n{'-'*43}\")\n",
    "for i, atom in enumerate(LDP):\n",
    "    print( f\"{atom.name}\\t\\t{atom.coord}\" )\n",
    "    if i == 1:\n",
    "        ref_atom = atom"
   ]
  },
  {
   "cell_type": "code",
   "execution_count": 95,
   "metadata": {},
   "outputs": [
    {
     "name": "stdout",
     "output_type": "stream",
     "text": [
      "DISTANCE w/r/t Atom C1 at [-10.34    3.577 -26.027]\n",
      "---------------------------------------------------------------\n",
      "Atom Name\tDistance\tDiff Coords\n",
      "---------------------------------------------------------------\n",
      "C7\t1.513796091079712\t[ 1.1500006  -0.58599997 -0.79100037]\n",
      "C1\t0.0\t[0. 0. 0.]\n",
      "C4\t2.766386032104492\t[-2.158      1.063      1.3660011]\n",
      "C2\t1.388142466545105\t[0.13899994 0.37600017 1.3290005 ]\n",
      "C6\t1.381185531616211\t[-1.2119999   0.15900016 -0.64299965]\n",
      "C5\t2.3914356231689453\t[-2.29        0.68799996  0.03899956]\n",
      "C3\t2.4016499519348145\t[-0.9460001  0.9059999  2.0130005]\n",
      "O1\t3.695098876953125\t[-0.82800007  1.293       3.361     ]\n",
      "O2\t4.174530506134033\t[-3.264      1.602      2.0510006]\n",
      "C8\t2.4777321815490723\t[ 2.0650005  -1.3629999   0.13100052]\n",
      "N1\t3.720675468444824\t[ 2.9560003 -2.1669998 -0.6399994]\n",
      "H71\t2.058197021484375\t[ 1.6549997   0.13600016 -1.2159996 ]\n",
      "H72\t2.05743145942688\t[ 0.7989998 -1.185     -1.4799995]\n",
      "H2\t2.0591936111450195\t[0.9960003 0.263     1.783001 ]\n",
      "H6\t2.0509543418884277\t[-1.3070002  -0.10599995 -1.5769997 ]\n",
      "H5\t3.273387908935547\t[-3.1470003   0.799      -0.41600037]\n",
      "HO1\t4.0803422927856445\t[-0.6329994  2.1590002  3.4040012]\n",
      "HO2\t4.54613733291626\t[-3.9099998   0.99300027  2.0960007 ]\n",
      "H81\t2.569011688232422\t[ 1.5270004  -1.9389999   0.71300125]\n",
      "H82\t2.7696454524993896\t[ 2.5820003  -0.737       0.67900085]\n",
      "HN11\t4.236456871032715\t[ 2.9500003  -3.024      -0.31699944]\n",
      "HN12\t4.2586517333984375\t[ 3.8040004 -1.8239999 -0.5819988]\n"
     ]
    }
   ],
   "source": [
    "# ldp_ca = LDP['CA']\n",
    "# print(f\"LDP CA: {ldp_ca}\")\n",
    "\n",
    "## The norm2 distance measure\n",
    "import numpy as np\n",
    "#np.linalg.norm([ a.coord - ref_atom.coord for a in LDP], axis=1 )\n",
    "\n",
    "\n",
    "\n",
    "print( f\"DISTANCE w/r/t Atom {ref_atom.name} at {ref_atom.coord}\")\n",
    "print( f\"{'-'*63}\\nAtom Name\\tDistance\\tDiff Coords\\n{'-'*63}\")\n",
    "for i, atom in enumerate(LDP):\n",
    "    print( f\"{atom.name}\\t{np.linalg.norm(atom.coord - ref_atom.coord)}\\t{atom.coord - ref_atom.coord}\" )\n",
    "    if i == 1:\n",
    "        ref_atom = atom\n"
   ]
  },
  {
   "cell_type": "code",
   "execution_count": 105,
   "metadata": {},
   "outputs": [
    {
     "data": {
      "text/plain": [
       "1.5137961983637354"
      ]
     },
     "execution_count": 105,
     "metadata": {},
     "output_type": "execute_result"
    }
   ],
   "source": [
    "x = np.array( [ 1.1500006, -0.58599997, -0.79100037] )\n",
    "np.sqrt( np.sum( x * x) )"
   ]
  },
  {
   "cell_type": "code",
   "execution_count": 106,
   "metadata": {},
   "outputs": [
    {
     "data": {
      "text/plain": [
       "(array([1.32250138, 0.34339596, 0.62568159]),\n",
       " 2.291578930180498,\n",
       " array([1.32250138, 0.34339596, 0.62568159]))"
      ]
     },
     "execution_count": 106,
     "metadata": {},
     "output_type": "execute_result"
    }
   ],
   "source": [
    "x*x, x@x, x**2"
   ]
  },
  {
   "cell_type": "code",
   "execution_count": null,
   "metadata": {},
   "outputs": [],
   "source": []
  },
  {
   "cell_type": "code",
   "execution_count": null,
   "metadata": {},
   "outputs": [],
   "source": []
  }
 ],
 "metadata": {
  "kernelspec": {
   "display_name": "Python 3",
   "language": "python",
   "name": "python3"
  },
  "language_info": {
   "codemirror_mode": {
    "name": "ipython",
    "version": 3
   },
   "file_extension": ".py",
   "mimetype": "text/x-python",
   "name": "python",
   "nbconvert_exporter": "python",
   "pygments_lexer": "ipython3",
   "version": "3.7.6"
  }
 },
 "nbformat": 4,
 "nbformat_minor": 4
}
