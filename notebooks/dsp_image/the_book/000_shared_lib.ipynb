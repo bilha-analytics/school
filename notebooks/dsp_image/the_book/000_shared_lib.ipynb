{
 "cells": [
  {
   "cell_type": "code",
   "execution_count": 2,
   "metadata": {},
   "outputs": [],
   "source": [
    "# import warnings\n",
    "# warnings.filterwarnings('ignore')"
   ]
  },
  {
   "cell_type": "code",
   "execution_count": 1,
   "metadata": {},
   "outputs": [],
   "source": [
    "import numpy as np\n",
    "import matplotlib.pyplot as plt\n",
    "\n",
    "%matplotlib inline "
   ]
  },
  {
   "cell_type": "code",
   "execution_count": 3,
   "metadata": {},
   "outputs": [],
   "source": [
    "from IPython.core.interactiveshell import InteractiveShell\n",
    "InteractiveShell.ast_node_interactivity = 'all'"
   ]
  },
  {
   "cell_type": "code",
   "execution_count": 4,
   "metadata": {},
   "outputs": [],
   "source": [
    "import skimage\n",
    "from scipy import ndimage "
   ]
  },
  {
   "cell_type": "code",
   "execution_count": 5,
   "metadata": {},
   "outputs": [],
   "source": [
    "def show_image_list(img_list, nc=2, cmap='gray', titlez=None):    \n",
    "    n = len(img_list)\n",
    "    nr = n//nc + ( 0 if n%nc == 0 else 1) \n",
    "    for i, img in enumerate(img_list):\n",
    "        plt.subplot(nr, nc, (i+1) )\n",
    "        plt.imshow( img, cmap=cmap)\n",
    "        plt.axis('off')\n",
    "        if titlez:\n",
    "            plt.title( f\"{titlez[min(i, len(titlez)-1)]}\" )\n",
    "    plt.subplots_adjust(wspace=0, hspace=0)\n",
    "    plt.show();\n",
    "     "
   ]
  },
  {
   "cell_type": "code",
   "execution_count": null,
   "metadata": {},
   "outputs": [],
   "source": []
  }
 ],
 "metadata": {
  "kernelspec": {
   "display_name": "Python 3",
   "language": "python",
   "name": "python3"
  },
  "language_info": {
   "codemirror_mode": {
    "name": "ipython",
    "version": 3
   },
   "file_extension": ".py",
   "mimetype": "text/x-python",
   "name": "python",
   "nbconvert_exporter": "python",
   "pygments_lexer": "ipython3",
   "version": "3.7.3"
  }
 },
 "nbformat": 4,
 "nbformat_minor": 2
}
