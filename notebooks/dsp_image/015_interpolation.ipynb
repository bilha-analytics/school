{
 "cells": [
  {
   "cell_type": "markdown",
   "metadata": {},
   "source": [
    "# Interpolation\n",
    "\n",
    "It is using known data to estimate values at unknown points. \n",
    "\n",
    "Happens each time an image is resized or remapped - mapping image from one pixel grid to another; each time you increase or decrease the total number of pixels. e.g. correcting lens distortion, changing perspectives, rotating an image\n",
    "\n",
    "**The Rotation Problem** 90 degree rotationis lossless b/c no pixel ever has to bre repositioned onto the border between two pixes but 45 degree rotationis lossy from the very first time and image will continue to degrade with increasing multiples of that 45 degree rotation. So generally avoid rotating and if must no more than once.  \n",
    "\n",
    "Degradation at both blurring and loss of contrast (intensity). \n",
    "\n",
    "\n",
    "**Interpolation Algorithms**\n",
    "Common ones can be categorizes as adaptive and non adaptive. \n",
    "Can use from 0 to 256 or omre adjacent pixels when interpolating. The more adjacent pixels included the more accurate the estimation but also the more the processing time. The algorithms can be used for both resizing and distortion \n",
    "\n",
    "1. **Adaptive Algorithms**\n",
    "    - pixel by pixel \n",
    "    - when an edge is detected \n",
    "    - goal is to minimize interpolation artifacts in regions where they are most apparent. \n",
    "    - Primarily designed for i mage enlargment so may not work for distortion or rotation \n",
    "\n",
    "1.1. Nearest Neighbour Interpolation \n",
    "    - most basic alg\n",
    "    - least processing time of all \n",
    "    - considers only one pixel - the pixel closest to the interpolation point. Thus making each pixel bigger\n",
    "    - \n",
    "    \n",
    "1.2. Bilinear Interpolation \n",
    "    - considers the closest 2x2 hood of known pixel calues surrounding the unknown. \n",
    "    - interpolated value = a weighted average of this hood\n",
    "    - has much smoother looking images that nearest neighbour \n",
    "    - the weights can be the distance between the hood pixel and the unkown \n",
    "\n",
    "1.3. Bicubic Interpolation \n",
    "    - Extends bilinear by considering the closest 4x4 hood of known pixels i.e. more data points = better accuracy\n",
    "    - higher weighting for pixels closer to the unkown pixel \n",
    "    - Has sharper images \n",
    "    - potentially has ideal processing time and quality combo\n",
    "    - So, it is most used \n",
    "    \n",
    "1.4. Higher Order Interpolation: Spline and Sinc\n",
    "    - \n",
    "\n",
    "\n",
    "2. **Non-adaptive Algorithms**\n",
    "-"
   ]
  },
  {
   "cell_type": "code",
   "execution_count": null,
   "metadata": {},
   "outputs": [],
   "source": []
  }
 ],
 "metadata": {
  "kernelspec": {
   "display_name": "Python 3",
   "language": "python",
   "name": "python3"
  },
  "language_info": {
   "codemirror_mode": {
    "name": "ipython",
    "version": 3
   },
   "file_extension": ".py",
   "mimetype": "text/x-python",
   "name": "python",
   "nbconvert_exporter": "python",
   "pygments_lexer": "ipython3",
   "version": "3.7.3"
  }
 },
 "nbformat": 4,
 "nbformat_minor": 2
}
