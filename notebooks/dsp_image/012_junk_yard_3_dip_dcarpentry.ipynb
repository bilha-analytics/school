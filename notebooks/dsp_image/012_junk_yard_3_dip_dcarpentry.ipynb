version https://git-lfs.github.com/spec/v1
oid sha256:711b4d1c6ea8a0b7ba0e93e5ae5d6ea331a22027122823385b5fe6733b9ecc64
size 889
