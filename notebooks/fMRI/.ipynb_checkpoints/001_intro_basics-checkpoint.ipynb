{
 "cells": [
  {
   "cell_type": "markdown",
   "metadata": {},
   "source": [
    "[Python for MRI Analysis](https://www.youtube.com/watch?v=gMuxB18Cr0o)\n",
    "- [SciNet Courses](https://www.scinethpc.ca/)\n",
    "- [course material](https://support.scinet.utoronto.ca/education/browse.php?search=fmri+analysis&filter=)\n",
    "\n",
    "Course goal: perform an intra-network functional connectivity analysis \n",
    "\n",
    "**Packages**\n",
    "- `nilear` - neuro-imaging py package \n",
    "- \n",
    "\n",
    "**fMRI Data**\n",
    "- data over time; correlations between regions \n",
    "\n",
    "## Preprocessing \n",
    "**Why Preprocessing**\n",
    "- harmonize: same scale, motion effects \n",
    "- select relevant slices b/c fMRI data == whole head images so pick only the brain (remove skull, etc)\n",
    "- fMRI image and T1 image are not aligned b/c are acquired in different time slots\n",
    "- fMRI data is inherently distorted due to changing magnetic field in some areas of the brain - need to remove those scanning artifacts \n",
    "- motion - scanning takes several seconds and patients or blood etc move (misalignment). This motion causes mismatch and can also influence brains signals themselves (jumps in the fMRI signal b/c of motion and not brain activity)\n",
    "- people have different brain gyra and curvture etc - need to have common scale \n",
    "\n",
    "**How to Preprocess**\n",
    "Structural data - T1 images \n",
    "1. Brain extraction: removing brain part in T1 image \n",
    "2. Normalization: onto a template that enables comparison between participants b/c the fmri images warp \n",
    "\n",
    "Functional data- fMRI images (time series) \n",
    "1. Brain extraction; Remove skull\n",
    "2. Motion correction - to align images to same scale <<< then later step correct signal correction (spikes)\n",
    "3. susceptibility distortion correction e.g. b/cof air packets etc in brain \n",
    "4. align to T1 image \n",
    "5. MNI152 transformation - onto a template or same scale system for comparison \n",
    "6. Confound regression - now can clean artifacts like the signal spikes \n",
    "\n",
    "**Solutions**\n",
    "BIDS data structure, the better\n",
    "- there are pipelines available that run all the preprocessing steps\n",
    "    - `FMRIPREP` works very well on most data \n",
    "\n",
    "[FMRIPREP](https://fmriprep.org/en/stable/)\n",
    "- standardizes how data is output and runs the preprocessing pipeline steps \n",
    "    - outputs a report, one per subject/patient/record\n",
    "    - [fMRIPrep pipeline & report explanation](https://oesteban.github.io/ohbm19/#13)\n",
    "- anatomical volumetric outputs. Two spaces: \n",
    "    - Native and \n",
    "    - Normalized MNI - onto a template system \n",
    "- functional outputs - Two spaces also as above   \n",
    "- additional outputs \n",
    "    - anatomical surface outputs - for surface space analysis \n",
    "    \n",
    "    \n",
    "**Confounds & Motion Correction**\n",
    "- no perfect solutions for motion as yet \n",
    "- solving involves a bit of modelling such that the observed signal = true signal + confounder signal\n",
    "    - true signal and confounder signal are taken to be independent \n",
    "    - nuisance regression or confound regression \n",
    "        - should be a last resort. control the scanner or during scanning instead of post-processing else questionable data and results \n",
    "- \n",
    "\n",
    "\n",
    "[Setup](https://docs.google.com/document/d/1KaKtm17ABOBce0vLBaIlwSsb4PPbdDJsueh1Cf67TpI/edit#)"
   ]
  },
  {
   "cell_type": "code",
   "execution_count": 1,
   "metadata": {},
   "outputs": [],
   "source": [
    "%run \"000_shared.ipynb\""
   ]
  },
  {
   "cell_type": "code",
   "execution_count": null,
   "metadata": {},
   "outputs": [],
   "source": []
  }
 ],
 "metadata": {
  "kernelspec": {
   "display_name": "Python 3",
   "language": "python",
   "name": "python3"
  },
  "language_info": {
   "codemirror_mode": {
    "name": "ipython",
    "version": 3
   },
   "file_extension": ".py",
   "mimetype": "text/x-python",
   "name": "python",
   "nbconvert_exporter": "python",
   "pygments_lexer": "ipython3",
   "version": "3.7.6"
  }
 },
 "nbformat": 4,
 "nbformat_minor": 4
}
