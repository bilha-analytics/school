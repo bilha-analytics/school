{
 "cells": [
  {
   "cell_type": "markdown",
   "metadata": {},
   "source": [
    "[Source on Youtube](https://www.youtube.com/watch?v=3vg6B0kpT6M) \n",
    "\n",
    "[SciNet Page](https://www.scinethpc.ca/scinet-virtual-summer-training-program/)\n",
    "- [github page](https://github.com/carpentries-incubator/SDC-BIDS-IntroMRI)\n",
    "- [binder page](https://mybinder.org/v2/gh/carpentries-incubator/SDC-BIDS-IntroMRI.git/gh-pages) \n",
    "- [openneuro dataset page](https://openneuro.org/datasets/ds000030/versions/1.0.0)\n",
    "- [hackmd page](https://hackmd.io/@O7pajo3zQEeZez6H0a7Y0g/ryEKNEi1w)"
   ]
  },
  {
   "cell_type": "code",
   "execution_count": 1,
   "metadata": {},
   "outputs": [],
   "source": [
    "import warnings\n",
    "warnings.filterwarnings('ignore')"
   ]
  },
  {
   "cell_type": "code",
   "execution_count": 2,
   "metadata": {},
   "outputs": [],
   "source": [
    "dDIR= '../../../datasets/sdc_bids_fmri/data/ds000030/derivatives/fmriprep/'\n"
   ]
  },
  {
   "cell_type": "code",
   "execution_count": null,
   "metadata": {},
   "outputs": [],
   "source": []
  }
 ],
 "metadata": {
  "kernelspec": {
   "display_name": "Python 3",
   "language": "python",
   "name": "python3"
  },
  "language_info": {
   "codemirror_mode": {
    "name": "ipython",
    "version": 3
   },
   "file_extension": ".py",
   "mimetype": "text/x-python",
   "name": "python",
   "nbconvert_exporter": "python",
   "pygments_lexer": "ipython3",
   "version": "3.7.6"
  }
 },
 "nbformat": 4,
 "nbformat_minor": 4
}
