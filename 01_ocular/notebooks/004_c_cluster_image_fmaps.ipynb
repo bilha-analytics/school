{
 "cells": [
  {
   "cell_type": "markdown",
   "id": "collectible-ordinary",
   "metadata": {},
   "source": [
    "# Cluster Imagez - What's the value of the different modes"
   ]
  },
  {
   "cell_type": "code",
   "execution_count": 1,
   "id": "congressional-gathering",
   "metadata": {},
   "outputs": [],
   "source": [
    "import warnings\n",
    "warnings.filterwarnings('ignore')\n",
    "from IPython.core.interactiveshell import InteractiveShell\n",
    "InteractiveShell.ast_node_interactivity = 'all'\n",
    "\n",
    "\n",
    "from tqdm import tqdm\n",
    "\n",
    "import glob, pickle\n",
    "\n",
    "import numpy as np\n",
    "import pandas as pd\n",
    "import matplotlib.pyplot as plt\n",
    "\n",
    "%matplotlib inline \n",
    "\n",
    "##hack don't know why i suddenly need to do this :/\n",
    "plt.rcParams['axes.facecolor'] = 'white'"
   ]
  },
  {
   "cell_type": "code",
   "execution_count": 2,
   "id": "egyptian-profession",
   "metadata": {},
   "outputs": [],
   "source": [
    "import mflow\n",
    "from zdata import PdDataStats, ZPdDataset\n",
    "import utilz, content, preprocess, extract\n",
    "import report\n",
    "\n",
    "from sklearn.preprocessing import StandardScaler, PowerTransformer , OneHotEncoder "
   ]
  },
  {
   "cell_type": "code",
   "execution_count": 3,
   "id": "promising-missouri",
   "metadata": {},
   "outputs": [],
   "source": [
    "report.ZReporter.start(\"fundusEDA_Clustering\")"
   ]
  },
  {
   "cell_type": "code",
   "execution_count": 4,
   "id": "worst-referral",
   "metadata": {},
   "outputs": [
    {
     "data": {
      "text/html": [
       "<div>\n",
       "<style scoped>\n",
       "    .dataframe tbody tr th:only-of-type {\n",
       "        vertical-align: middle;\n",
       "    }\n",
       "\n",
       "    .dataframe tbody tr th {\n",
       "        vertical-align: top;\n",
       "    }\n",
       "\n",
       "    .dataframe thead th {\n",
       "        text-align: right;\n",
       "    }\n",
       "</style>\n",
       "<table border=\"1\" class=\"dataframe\">\n",
       "  <thead>\n",
       "    <tr style=\"text-align: right;\">\n",
       "      <th></th>\n",
       "      <th>fname</th>\n",
       "      <th>fpath</th>\n",
       "      <th>ishape</th>\n",
       "      <th>imin</th>\n",
       "      <th>imax</th>\n",
       "      <th>imean</th>\n",
       "      <th>istd</th>\n",
       "      <th>Normal</th>\n",
       "      <th>Emboli</th>\n",
       "      <th>BRAO</th>\n",
       "      <th>...</th>\n",
       "      <th>ASR</th>\n",
       "      <th>HTR</th>\n",
       "      <th>Coats</th>\n",
       "      <th>MA</th>\n",
       "      <th>CNV</th>\n",
       "      <th>UNDEF</th>\n",
       "      <th>dcodez_id</th>\n",
       "      <th>dcodez_short</th>\n",
       "      <th>dcodez_desc</th>\n",
       "      <th>dnotes</th>\n",
       "    </tr>\n",
       "  </thead>\n",
       "  <tbody>\n",
       "    <tr>\n",
       "      <th>count</th>\n",
       "      <td>397</td>\n",
       "      <td>397</td>\n",
       "      <td>397</td>\n",
       "      <td>397</td>\n",
       "      <td>397</td>\n",
       "      <td>397</td>\n",
       "      <td>397</td>\n",
       "      <td>397</td>\n",
       "      <td>397</td>\n",
       "      <td>397</td>\n",
       "      <td>...</td>\n",
       "      <td>397</td>\n",
       "      <td>397</td>\n",
       "      <td>397</td>\n",
       "      <td>397</td>\n",
       "      <td>397</td>\n",
       "      <td>397</td>\n",
       "      <td>397</td>\n",
       "      <td>397</td>\n",
       "      <td>397</td>\n",
       "      <td>210</td>\n",
       "    </tr>\n",
       "    <tr>\n",
       "      <th>unique</th>\n",
       "      <td>397</td>\n",
       "      <td>397</td>\n",
       "      <td>1</td>\n",
       "      <td>2</td>\n",
       "      <td>17</td>\n",
       "      <td>397</td>\n",
       "      <td>397</td>\n",
       "      <td>2</td>\n",
       "      <td>2</td>\n",
       "      <td>2</td>\n",
       "      <td>...</td>\n",
       "      <td>2</td>\n",
       "      <td>2</td>\n",
       "      <td>2</td>\n",
       "      <td>2</td>\n",
       "      <td>2</td>\n",
       "      <td>2</td>\n",
       "      <td>48</td>\n",
       "      <td>48</td>\n",
       "      <td>48</td>\n",
       "      <td>75</td>\n",
       "    </tr>\n",
       "    <tr>\n",
       "      <th>top</th>\n",
       "      <td>im0275</td>\n",
       "      <td>/mnt/externz/zRepoz/datasets/fundus/stare/im02...</td>\n",
       "      <td>(605, 700, 3)</td>\n",
       "      <td>0</td>\n",
       "      <td>255</td>\n",
       "      <td>86.98691932310115</td>\n",
       "      <td>91.12101625384672</td>\n",
       "      <td>0.0</td>\n",
       "      <td>0.0</td>\n",
       "      <td>0.0</td>\n",
       "      <td>...</td>\n",
       "      <td>0.0</td>\n",
       "      <td>0.0</td>\n",
       "      <td>0.0</td>\n",
       "      <td>0.0</td>\n",
       "      <td>0.0</td>\n",
       "      <td>0.0</td>\n",
       "      <td>14</td>\n",
       "      <td>UNDEF</td>\n",
       "      <td>Unknown Diagnosis</td>\n",
       "      <td>Choroidal Neovascularization AND Age Related M...</td>\n",
       "    </tr>\n",
       "    <tr>\n",
       "      <th>freq</th>\n",
       "      <td>1</td>\n",
       "      <td>1</td>\n",
       "      <td>397</td>\n",
       "      <td>371</td>\n",
       "      <td>373</td>\n",
       "      <td>1</td>\n",
       "      <td>1</td>\n",
       "      <td>358</td>\n",
       "      <td>384</td>\n",
       "      <td>390</td>\n",
       "      <td>...</td>\n",
       "      <td>364</td>\n",
       "      <td>361</td>\n",
       "      <td>383</td>\n",
       "      <td>389</td>\n",
       "      <td>336</td>\n",
       "      <td>239</td>\n",
       "      <td>90</td>\n",
       "      <td>90</td>\n",
       "      <td>90</td>\n",
       "      <td>33</td>\n",
       "    </tr>\n",
       "  </tbody>\n",
       "</table>\n",
       "<p>4 rows × 26 columns</p>\n",
       "</div>"
      ],
      "text/plain": [
       "         fname                                              fpath  \\\n",
       "count      397                                                397   \n",
       "unique     397                                                397   \n",
       "top     im0275  /mnt/externz/zRepoz/datasets/fundus/stare/im02...   \n",
       "freq         1                                                  1   \n",
       "\n",
       "               ishape imin imax              imean               istd Normal  \\\n",
       "count             397  397  397                397                397    397   \n",
       "unique              1    2   17                397                397      2   \n",
       "top     (605, 700, 3)    0  255  86.98691932310115  91.12101625384672    0.0   \n",
       "freq              397  371  373                  1                  1    358   \n",
       "\n",
       "       Emboli BRAO  ...  ASR  HTR Coats   MA  CNV UNDEF dcodez_id  \\\n",
       "count     397  397  ...  397  397   397  397  397   397       397   \n",
       "unique      2    2  ...    2    2     2    2    2     2        48   \n",
       "top       0.0  0.0  ...  0.0  0.0   0.0  0.0  0.0   0.0        14   \n",
       "freq      384  390  ...  364  361   383  389  336   239        90   \n",
       "\n",
       "       dcodez_short        dcodez_desc  \\\n",
       "count           397                397   \n",
       "unique           48                 48   \n",
       "top           UNDEF  Unknown Diagnosis   \n",
       "freq             90                 90   \n",
       "\n",
       "                                                   dnotes  \n",
       "count                                                 210  \n",
       "unique                                                 75  \n",
       "top     Choroidal Neovascularization AND Age Related M...  \n",
       "freq                                                   33  \n",
       "\n",
       "[4 rows x 26 columns]"
      ]
     },
     "execution_count": 4,
     "metadata": {},
     "output_type": "execute_result"
    }
   ],
   "source": [
    "pdstats = PdDataStats(\n",
    "                {PdDataStats.DATA_DICT_RECORDZ_KEY: content.STARE_FUNDUS_CONTENT_FPATH,\n",
    "                PdDataStats.DATA_DICT_HAS_HEADERZ_KEY: True,\n",
    "                'rec_parser': utilz.FileIO.row_parser                     \n",
    "                },\n",
    "                 ftype=PdDataStats.TYPE_TXT_LINES_FILE ) \n",
    "\n",
    "pdstats.dframe.describe() "
   ]
  },
  {
   "cell_type": "code",
   "execution_count": 5,
   "id": "green-small",
   "metadata": {},
   "outputs": [],
   "source": [
    "def fda_load_fmapz(fmapz_dir, show_it=False):\n",
    "    if fmapz_dir == _FMAPZ_DIR_RGB:\n",
    "        tz = ['lbp', 'vessel', 'green', 'red', 'blue', 'eigenz', 'color-eq',  'update-rgb']\n",
    "        chanz = [ *list(range(5)), 8, (5,6,7)]  \n",
    "    else:\n",
    "        tz = ['lbp', 'vessel', 'green', 'red', 'blue', 'yellow', 'eigenz', 'color-eq',  'update-rgb']\n",
    "        chanz = [ *list(range(6)), 9, (6,7,8)]  \n",
    "    for fmap_file in sorted( glob.glob(f\"{fmapz_dir}/*.fmap.pkl\") ):\n",
    "        with open( fmap_file, \"rb\") as fd:\n",
    "            fmap = pickle.load( fd )\n",
    "        if show_it:\n",
    "            imgz = [ *[ fmap[:,:,i] for i in chanz ], fmap[:,:,2:5]]\n",
    "            utilz.Image.plot_images_list( imgz, titlez=tz, nc=len(imgz) , cmap='gray')\n",
    "        yield fmap"
   ]
  },
  {
   "cell_type": "code",
   "execution_count": 6,
   "id": "resident-champion",
   "metadata": {
    "scrolled": true
   },
   "outputs": [
    {
     "name": "stdout",
     "output_type": "stream",
     "text": [
      "[0 2 1 3]\n",
      "0    202\n",
      "2    156\n",
      "1     37\n",
      "3      2\n",
      "Name: condition, dtype: int64\n",
      "[2. 2. 0. 0. 0. 0. 0.]\n",
      "im0001__sick__BDR-NPDR\n"
     ]
    }
   ],
   "source": [
    "### **** TODO: fix sick+okay/undef 88888\n",
    "_CLASSES = ['sick', 'okay', 'undef', 'sick-n-undef']\n",
    "_CLASS_LABELZ = {'sick':0, 'okay':1, 'undef':2, 'sick-n-undef':3}\n",
    "_N_CLASSES = 22\n",
    "    \n",
    "def get_data_infor(X_data):    \n",
    "    if _N_CLASSES <= 2:\n",
    "        cname = 'Normal'\n",
    "    else:\n",
    "        cname = 'condition'\n",
    "    data_infor = [ f\"{x[0]}__{_CLASSES[int(float(x[1]))]}__{x[2]}\" for x in zip(X_data['fname'],X_data[cname], X_data['dcodez_short'])]\n",
    "    print(data_infor[0])\n",
    "    return data_infor\n",
    "\n",
    "\n",
    "if _N_CLASSES > 2:\n",
    "    pdstats.dframe['condition'] = np.where( ( pdstats.dframe['Normal'] == '1.0') & ( pdstats.dframe['UNDEF'] == '0.0') , 1, \n",
    "                                np.where( ( pdstats.dframe['Normal'] == '0.0')&( pdstats.dframe['UNDEF'] == '1.0'), 2, \n",
    "                                    np.where(( pdstats.dframe['Normal'] == '1.0')&( pdstats.dframe['UNDEF'] == '1.0'), 3, 0)) ) \n",
    "    print( pdstats.dframe['condition'].unique() )\n",
    "    print( pdstats.dframe['condition'].value_counts())\n",
    "    _Y_DATA = pdstats.dframe['condition'].values.astype(np.float32) ##TODO: 'dcodez_short'\n",
    "    _N_CLASSES = len( _CLASSES)\n",
    "else:\n",
    "    _Y_DATA = pdstats.dframe['Normal'].values.astype(np.float32) ##TODO: 'dcodez_short'\n",
    "    _N_CLASSES = 2\n",
    "\n",
    "print(_Y_DATA[107:107+7])\n",
    "\n",
    "\n",
    "_DATA_INFOR = get_data_infor(pdstats.dframe) \n",
    "# _DATA_INFOR "
   ]
  },
  {
   "cell_type": "code",
   "execution_count": 7,
   "id": "published-massachusetts",
   "metadata": {},
   "outputs": [],
   "source": [
    "_FMAPZ_DIR_RGB = \"/mnt/fatsie/xRepoz/output/__00_FMAPZ__RGB/F47\" ## No Yellow + RGB only\n",
    "_FMAPZ_DIR_LAB = \"/mnt/fatsie/xRepoz/output/__00_FMAPZ__RGB_LAB_combo/F47\" ## with Yellow + LAB&RGB"
   ]
  },
  {
   "cell_type": "code",
   "execution_count": 8,
   "id": "tropical-encounter",
   "metadata": {},
   "outputs": [
    {
     "name": "stderr",
     "output_type": "stream",
     "text": [
      "397it [00:04, 86.90it/s] \n"
     ]
    }
   ],
   "source": [
    "_USE_LAB = True\n",
    "if _USE_LAB:\n",
    "    FMAPZ_DATA = [x for x in tqdm( fda_load_fmapz(_FMAPZ_DIR_RGB) )]\n",
    "else:\n",
    "    FMAPZ_DATA = [x for x in tqdm( fda_load_fmapz(_FMAPZ_DIR_LAB) )]"
   ]
  },
  {
   "cell_type": "markdown",
   "id": "square-soviet",
   "metadata": {},
   "source": [
    "## Setting up the pipeline"
   ]
  },
  {
   "cell_type": "code",
   "execution_count": 9,
   "id": "guilty-wildlife",
   "metadata": {},
   "outputs": [],
   "source": [
    "## ======= Channel selectors   =======                  \n",
    "### ORDER = lbp + vessel + g + r + b + y + origi + eigenz + updated \n",
    "if _USE_LAB:\n",
    "    _L, _V, _G, _R, _B, _Y, _Ori, _E = 0, 1, 2, 3, 4, 5, (6,7,8), 9\n",
    "else:\n",
    "    _L, _V, _G, _R, _B, _Ori, _E = 0, 1, 2, 3, 4, (5,6,7), 8\n",
    "\n",
    "channelz_origi = [('channelz_origi',extract.ChannelzSelector( ls_channelz=_Ori ) )] \n",
    "channelz_g_only = [('channelz_green',extract.ChannelzSelector( ls_channelz=(_G,) ) )] \n",
    "channelz_grb = [('channelz_grb',extract.ChannelzSelector( ls_channelz=(_G, _R, _B) ) )] \n",
    "channelz_vgrb = [('channelz_vgrb',extract.ChannelzSelector( ls_channelz=(_V, _G, _R, _B) ) )] \n",
    "channelz_vgrby = [('channelz_vgrby',extract.ChannelzSelector( ls_channelz=(_V, _G, _R, _B, _Y) ) )] \n",
    "\n",
    "channelz_lbp_only = [('channelz_lbp_only',extract.ChannelzSelector( ls_channelz=(_L,) ) )] \n",
    "channelz_lbp_grn = [('channelz_lbp_green', extract.ChannelzSelector( ls_channelz=(_L, _G) ) )] \n",
    "channelz_lbp_origi = [('channelz_lbp_origi',extract.ChannelzSelector( ls_channelz=(_L, *_Ori) ) )] \n",
    "channelz_lbp_grb = [('channelz_lbp_grb', extract.ChannelzSelector( ls_channelz=(_L, _G, _R, _B) ) )] \n",
    "channelz_lbp_grby = [('channelz_lbp_grby', extract.ChannelzSelector( ls_channelz=(_L, _G, _R, _B, _Y) ) )] \n",
    "channelz_lbp_vgrb = [('channelz_lbp_vgrb', extract.ChannelzSelector( ls_channelz=(_L, _V, _G, _R, _B) ) )] \n",
    "\n",
    "## TODO: on fundus only bila lbp \n",
    "channelz_eigz_only = [('channelz_eigz',extract.ChannelzSelector( ls_channelz=(_E,) ) )] \n",
    "channelz_eigz_lbp = [('channelz_eigz_lbp',extract.ChannelzSelector( ls_channelz=(_E, _L) ) )] \n",
    "channelz_eigz_rb = [('channelz_eigz_rb',extract.ChannelzSelector( ls_channelz=(_E, _R, _B) ) )]\n",
    "channelz_eigz_rby = [('channelz_eigz_rby',extract.ChannelzSelector( ls_channelz=(_E, _R, _B, _Y) ) )]\n",
    "channelz_eigz_lbp_rb = [('channelz_eigz_lbp_rb',extract.ChannelzSelector( ls_channelz=(_E, _L,  _R, _B) ) )]\n",
    "channelz_eigz_lbp_rby = [('channelz_eigz_lbp_rby',extract.ChannelzSelector( ls_channelz=(_E, _L,  _R, _B, _Y) ) )]\n",
    "\n"
   ]
  },
  {
   "cell_type": "code",
   "execution_count": 10,
   "id": "going-january",
   "metadata": {},
   "outputs": [],
   "source": [
    "## Reshapez \n",
    "flattenor = [ ('flatten', preprocess.Flattenor()), ]\n",
    "scaler_p = [('scaler', StandardScaler()), ]"
   ]
  },
  {
   "cell_type": "markdown",
   "id": "disabled-progressive",
   "metadata": {},
   "source": [
    "# 2. Setup Clustering model"
   ]
  },
  {
   "cell_type": "code",
   "execution_count": 11,
   "id": "interested-lover",
   "metadata": {},
   "outputs": [],
   "source": [
    "import cv2\n",
    "import clustering\n",
    "import pickle \n",
    "import torch\n",
    "import numpy as np \n",
    "import os\n",
    "from glob import glob\n",
    "\n",
    "from sklearn.pipeline import Pipeline\n",
    "\n",
    "import seaborn as sns\n",
    "\n",
    "\n",
    "import utilz"
   ]
  },
  {
   "cell_type": "code",
   "execution_count": 22,
   "id": "alert-bearing",
   "metadata": {},
   "outputs": [],
   "source": [
    "_n_clusters = 4 \n",
    "_img_resize = (224,224)\n",
    "_tensor_vgg_img_format = (1,3,224,224)\n",
    "\n",
    "_data_pipez = [ #channelz_origi, channelz_g_only, \n",
    "               channelz_grb, \n",
    "               #channelz_vgrb, channelz_vgrby,\n",
    "              \n",
    "               #channelz_lbp_only, channelz_lbp_grn, channelz_lbp_origi,\n",
    "               #channelz_lbp_grb,channelz_lbp_grby, channelz_lbp_vgrb,\n",
    "              \n",
    "               #channelz_eigz_only,channelz_eigz_lbp, \n",
    "               channelz_eigz_rb, \n",
    "               #channelz_eigz_rby, channelz_eigz_lbp_rb, channelz_eigz_lbp_rby\n",
    "                ]\n",
    "\n",
    "get_pipe_name = lambda x: x[0][0] \n",
    "fmap_chan_to_tensor_img = lambda x: torch.tensor( utilz.Image.resize_image_dim(x[0], _img_resize).reshape(1, x[1], *_img_resize ).astype('f') )\n",
    "encoded_to_vectorized_for_kmeans = lambda x: np.dstack(x).reshape(-1, 3)\n",
    "cluster_centers_to_img = lambda x: x.reshape(*_img_resize,3)\n",
    "\n",
    "_idn, _fname, _condition, _conditionID, _diseases = list(range(5))\n",
    "fmap_name_parse = lambda x: (x.split('.'))[0].split('_')\n",
    "\n",
    "def fmap_fname_to_data(fdir, fp=\"*.pkl\"):\n",
    "    O_ = []\n",
    "    for i, fp in enumerate( sorted(glob(f\"{fdir}/*.pkl\")) ):\n",
    "        o = [i] + list(fmap_name_parse(os.path.basename(fp) ) ) #[i, *fmap_name_parse(os.path.basename(fp) ) ]\n",
    "        o[_conditionID] = _CLASS_LABELZ.get(o[_condition], '') \n",
    "        O_.append( o )\n",
    "    return O_ \n",
    "\n",
    "_outdir = \"/mnt/fatsie/xRepoz/output/_00_Kmeans\"\n",
    "def save_pipe_kmeans_to_file(pname, centerz, labelz):\n",
    "    with open( f\"{_outdir}/{pname}.pkl\", 'wb') as fd:\n",
    "        o = {'centers': centerz, 'labels': labelz, 'n_clusters':_n_clusters}\n",
    "        pickle.dump( o, fd )\n",
    "        \n",
    "def train_encoder_and_fit(X_data, c=3): ## TODO: VGG @ c = 3 error \n",
    "    cnn = clustering.AutoEncoderVGG(pretrained=True, n_channelz=c)\n",
    "    clustering.train_autoencoder(cnn, X_data )\n",
    "    return [list(clustering.predict_autoencoder(cnn, x)) for x in X_data ] \n",
    "\n",
    "def cv2_kmeans_cluster(X_data, n_clusters=2):\n",
    "    stopping_criteria =  (cv2.TERM_CRITERIA_EPS + cv2.TERM_CRITERIA_MAX_ITER, 100, 0.2)\n",
    "    _, labelz, (centerz ) = cv2.kmeans(X_data, n_clusters, None, \n",
    "                                        stopping_criteria, 10, cv2.KMEANS_RANDOM_CENTERS ) \n",
    "    return np.uint8( centerz ), labelz.flatten() \n",
    "\n",
    "\n",
    "def run_clustering_on_fmap_data(channz, fmapz, n_clusters=_n_clusters):\n",
    "    print( \"***** RUNNING: \", get_pipe_name(channz) ) \n",
    "    # 1. select channels from fmap \n",
    "    X_data = Pipeline( channz ).fit_transform( fmapz ) \n",
    "    i_dim = len(X_data[0].shape )\n",
    "    print(\"1. In fmap data: \", X_data[0].shape )\n",
    "    c = X_data[0].shape[2] if i_dim >2 else 1\n",
    "    # 2. reshape and to tensor\n",
    "    X_data = [fmap_chan_to_tensor_img( (x, c)) for x in X_data] \n",
    "    print(\"2. Reshaped tensor: \", X_data[0].shape)\n",
    "    # 3. encode features \n",
    "    X_encoded = train_encoder_and_fit(X_data )\n",
    "    print(\"3. Encoded data: \", X_encoded[0][0].shape )\n",
    "#     print(\"3b. encoded ndstack: \", encoded_to_vectorized_for_kmeans(X_encoded[0][0]).shape )\n",
    "    # 4. reshape for k-means OR not\n",
    "#     X_encoded = np.vectorize( encoded_to_vectorized_for_kmeans )( X_encoded )\n",
    "    X_encoded = np.array([ encoded_to_vectorized_for_kmeans(x) for x in X_encoded ])\n",
    "    print(\"4. Vectorized data: \", X_encoded[0].shape )\n",
    "    # 5. kemans run \n",
    "    centerz, labelz = cv2_kmeans_cluster(X_encoded, n_clusters)\n",
    "    print(\"5. Kmeans clusters: \", len(centerz) , \", \", len(labelz)) \n",
    "    # 6. save to file \n",
    "    save_pipe_kmeans_to_file(get_pipe_name(channz), centerz, labelz) \n",
    "    print(\"DONE\")\n",
    "    \n",
    "    return centerz, labelz\n",
    "    \n",
    "    \n",
    "_SUB_FMAPZ = lambda x: FMAPZ_DATA[ : min(x,len(FMAPZ_DATA)) ]"
   ]
  },
  {
   "cell_type": "code",
   "execution_count": 13,
   "id": "quality-berlin",
   "metadata": {},
   "outputs": [],
   "source": [
    "__FMAPZ_n = _SUB_FMAPZ(10)"
   ]
  },
  {
   "cell_type": "code",
   "execution_count": 23,
   "id": "regional-hearts",
   "metadata": {},
   "outputs": [],
   "source": [
    "if _USE_LAB:\n",
    "    _VIZ_DATA = fmap_fname_to_data(_FMAPZ_DIR_RGB)  \n",
    "else:\n",
    "    _VIZ_DATA = fmap_fname_to_data(_FMAPZ_DIR_LAB) \n",
    "    \n",
    "_VIZ_DATA = _VIZ_DATA[:len(__FMAPZ_n)]\n",
    "    \n",
    "def plot_centers(name, centerz, n=_n_clusters):\n",
    "#     print( type(centerz[0]), centerz[0].shape )\n",
    "    imgz = [cluster_centers_to_img(x) for x in centerz]\n",
    "    tz = [f\"cluster_{c}\" for c in range( n )]\n",
    "    print(f\"Data Channel {name}\")\n",
    "    utilz.Image.plot_images_list(imgz, titlez=tz, nc=len(imgz), save=name, tfont=7)\n",
    "    \n",
    "def plot_clusters(name, labelz, n=_n_clusters):\n",
    "    conditionz = [ int(v[_conditionID]) for v in _VIZ_DATA ]\n",
    "    conditionz = [ v[_condition] for v in _VIZ_DATA ]\n",
    "    idz = [ int(v[int(_idn)]) for v in _VIZ_DATA ]\n",
    "    labelz = [ f\"cluster-{l+1}\" for l in  labelz ] #int(l)\n",
    "    df = pd.DataFrame(list(zip(idz, conditionz, labelz)), columns=['idz', 'condz', 'labelz'])\n",
    "#     g = sns.FacetGrid( df, col='labelz', height=4, aspect=1, hue='condz')\n",
    "#     g.map( sns.swarmplot, 'condz', 'idz')\n",
    "#     g = sns.swarmplot( df, 'labelz','condz', height=4, aspect=1)\n",
    "    g = sns.factorplot(x=\"labelz\", y=\"condz\", hue=\"labelz\", col=\"condz\", data=df, kind=\"swarm\")\n",
    "    g.set_title( name )\n",
    "    g.add_legend();\n",
    "        \n",
    "    \n",
    "        "
   ]
  },
  {
   "cell_type": "code",
   "execution_count": null,
   "id": "competitive-sampling",
   "metadata": {
    "scrolled": false
   },
   "outputs": [
    {
     "name": "stderr",
     "output_type": "stream",
     "text": [
      "\r",
      "  0%|          | 0/2 [00:00<?, ?it/s]"
     ]
    },
    {
     "name": "stdout",
     "output_type": "stream",
     "text": [
      "***** RUNNING:  channelz_grb\n",
      "1. In fmap data:  (168, 168, 3)\n",
      "2. Reshaped tensor:  torch.Size([1, 3, 224, 224])\n"
     ]
    },
    {
     "name": "stderr",
     "output_type": "stream",
     "text": [
      "\n",
      "  0%|          | 0/3 [00:00<?, ?it/s]\u001b[A"
     ]
    },
    {
     "name": "stdout",
     "output_type": "stream",
     "text": [
      "Setup AE\n"
     ]
    },
    {
     "name": "stderr",
     "output_type": "stream",
     "text": [
      "\n",
      " 33%|███▎      | 1/3 [00:09<00:18,  9.19s/it]\u001b[A"
     ]
    },
    {
     "name": "stdout",
     "output_type": "stream",
     "text": [
      "E 0: loss 26.740135669708252\n"
     ]
    },
    {
     "name": "stderr",
     "output_type": "stream",
     "text": [
      "\n",
      " 67%|██████▋   | 2/3 [00:18<00:09,  9.23s/it]\u001b[A"
     ]
    },
    {
     "name": "stdout",
     "output_type": "stream",
     "text": [
      "E 1: loss 18.8715261220932\n"
     ]
    },
    {
     "name": "stderr",
     "output_type": "stream",
     "text": [
      "\n",
      "100%|██████████| 3/3 [00:27<00:00,  9.23s/it]\u001b[A"
     ]
    },
    {
     "name": "stdout",
     "output_type": "stream",
     "text": [
      "E 2: loss 13.212928295135498\n"
     ]
    },
    {
     "name": "stderr",
     "output_type": "stream",
     "text": [
      "\n",
      " 50%|█████     | 1/2 [00:31<00:31, 31.84s/it]"
     ]
    },
    {
     "name": "stdout",
     "output_type": "stream",
     "text": [
      "3. Encoded data:  torch.Size([1, 3, 224, 224])\n",
      "4. Vectorized data:  (50176, 3)\n",
      "5. Kmeans clusters:  4 ,  10\n",
      "DONE\n",
      "***** RUNNING:  channelz_eigz_rb\n",
      "1. In fmap data:  (168, 168, 3)\n",
      "2. Reshaped tensor:  torch.Size([1, 3, 224, 224])\n"
     ]
    },
    {
     "name": "stderr",
     "output_type": "stream",
     "text": [
      "\n",
      "  0%|          | 0/3 [00:00<?, ?it/s]\u001b[A"
     ]
    },
    {
     "name": "stdout",
     "output_type": "stream",
     "text": [
      "Setup AE\n"
     ]
    },
    {
     "name": "stderr",
     "output_type": "stream",
     "text": [
      "\n",
      " 33%|███▎      | 1/3 [00:09<00:18,  9.48s/it]\u001b[A"
     ]
    },
    {
     "name": "stdout",
     "output_type": "stream",
     "text": [
      "E 0: loss 26.553149938583374\n"
     ]
    },
    {
     "name": "stderr",
     "output_type": "stream",
     "text": [
      "\n",
      " 67%|██████▋   | 2/3 [00:19<00:09,  9.71s/it]\u001b[A"
     ]
    },
    {
     "name": "stdout",
     "output_type": "stream",
     "text": [
      "E 1: loss 19.110228180885315\n"
     ]
    }
   ],
   "source": [
    "## For each pipeline\n",
    "##   1. fetch channel + encode + k-means \n",
    "##   3. save centers and labels \n",
    "cluster_results = {} \n",
    "for channel in tqdm(_data_pipez ):\n",
    "    fname = get_pipe_name(channelz_eigz_rb) \n",
    "    centerz, labelz = run_clustering_on_fmap_data(channel, __FMAPZ_n)\n",
    "    cluster_results[fname] = (centerz, labelz)\n"
   ]
  },
  {
   "cell_type": "code",
   "execution_count": 20,
   "id": "specific-procedure",
   "metadata": {},
   "outputs": [
    {
     "name": "stdout",
     "output_type": "stream",
     "text": [
      "**** PLOTING Facet \n"
     ]
    },
    {
     "data": {
      "text/html": [
       "<div>\n",
       "<style scoped>\n",
       "    .dataframe tbody tr th:only-of-type {\n",
       "        vertical-align: middle;\n",
       "    }\n",
       "\n",
       "    .dataframe tbody tr th {\n",
       "        vertical-align: top;\n",
       "    }\n",
       "\n",
       "    .dataframe thead th {\n",
       "        text-align: right;\n",
       "    }\n",
       "</style>\n",
       "<table border=\"1\" class=\"dataframe\">\n",
       "  <thead>\n",
       "    <tr style=\"text-align: right;\">\n",
       "      <th></th>\n",
       "      <th>idz</th>\n",
       "      <th>condz</th>\n",
       "      <th>labelz</th>\n",
       "      <th>channz</th>\n",
       "    </tr>\n",
       "  </thead>\n",
       "  <tbody>\n",
       "  </tbody>\n",
       "</table>\n",
       "</div>"
      ],
      "text/plain": [
       "Empty DataFrame\n",
       "Columns: [idz, condz, labelz, channz]\n",
       "Index: []"
      ]
     },
     "execution_count": 20,
     "metadata": {},
     "output_type": "execute_result"
    }
   ],
   "source": [
    "print(\"**** PLOTING Facet \" )\n",
    "# conditionz = [ int(v[_conditionID]) for v in _VIZ_DATA ]\n",
    "conditionz = [ v[_condition] for v in _VIZ_DATA ]\n",
    "idz = [ int(v[int(_idn)]) for v in _VIZ_DATA ]\n",
    "\n",
    "_IDZ, _CONDZ, _LBLZ, _CHANZ = [], [], [], []\n",
    "for fname, cls in cluster_results.items():\n",
    "    centerz, labelz = cls \n",
    "    channz = [f\"{fname}\"]*len(_VIZ_DATA)     \n",
    "    labelz = [ f\"cluster-{l+1}\" for l in  labelz ] #int(l)\n",
    "    _IDZ.append(idz)\n",
    "    _CONDZ.append( conditionz )\n",
    "    _LBLZ.append( labelz )\n",
    "    _CHANZ.append( channz ) \n",
    "    \n",
    "df = pd.DataFrame(list(zip(_IDZ, _CONDZ, _LBLZ, _CHANZ)), columns=['idz', 'condz', 'labelz', 'channz'])\n",
    "df.head()\n",
    "\n",
    "g = sns.factorplot(x=\"labelz\", y=\"condz\", hue=\"labelz\", col=\"channz\", data=df, kind=\"swarm\")\n",
    "g.set_title( 'K-Means Clusters' )\n",
    "g.add_legend();\n",
    " \n",
    "    "
   ]
  },
  {
   "cell_type": "code",
   "execution_count": null,
   "id": "conservative-gateway",
   "metadata": {},
   "outputs": [],
   "source": [
    "print(\"**** PLOTING CENTERS \" )\n",
    "for fname, cls in cluster_results.items():\n",
    "    centerz, labelz = cls \n",
    "    plot_centers(fname, centerz)"
   ]
  },
  {
   "cell_type": "markdown",
   "id": "referenced-validity",
   "metadata": {},
   "source": [
    "# 3. Permute and Run"
   ]
  },
  {
   "cell_type": "code",
   "execution_count": 11,
   "id": "powerful-force",
   "metadata": {},
   "outputs": [],
   "source": [
    "from sklearn.linear_model import LogisticRegression\n",
    "from sklearn import svm \n",
    "from sklearn.pipeline import Pipeline\n",
    "\n",
    "\n",
    "import model"
   ]
  },
  {
   "cell_type": "code",
   "execution_count": 12,
   "id": "worth-missile",
   "metadata": {},
   "outputs": [],
   "source": [
    "dpipez = [\n",
    "    Pipeline(channelz_origi), # origi only\n",
    "    \n",
    "    Pipeline(channelz_g_only), # green only \n",
    "    Pipeline(channelz_grb), # green red blue \n",
    "    Pipeline(channelz_vgrb),  # vessel, green red blue  \n",
    "    Pipeline(channelz_vgrby),  # vessel, green red blue  yellow   \n",
    "    \n",
    "    Pipeline(channelz_lbp_only), #lbp only \n",
    "    Pipeline(channelz_lbp_origi), #lbp and origi \n",
    "    Pipeline(channelz_lbp_grn), #lbp green \n",
    "    Pipeline(channelz_lbp_grb), #lbp green red blue\n",
    "    Pipeline(channelz_lbp_grby), #lbp green red blue yellow\n",
    "    Pipeline(channelz_lbp_vgrb), ## lbp vessel green red blue    \n",
    "    \n",
    "    Pipeline(channelz_eigz_only), #eigz_\n",
    "    Pipeline(channelz_eigz_lbp), #eigz_ lbp \n",
    "    Pipeline(channelz_eigz_rb), #eigz_ lbp rb \n",
    "    Pipeline(channelz_eigz_rby), #eigz_ lbp rb yellow\n",
    "    Pipeline(channelz_eigz_lbp_rb), #eigz_ lbp_rb \n",
    "#     Pipeline(channelz_eigz_lbp_rby), #eigz_ lbp_rb yellow\n",
    "]\n",
    "mpipez = [ ( Pipeline(flattenor+[('svm', svm.SVC() ) ]), {'kernel':('linear', 'rbf'), 'C':[1, 10]}) ,  ## \n",
    "            ( Pipeline(flattenor+[('logit', LogisticRegression() ) ]), {'C':[1,10]} ), ##\n",
    "         ]  \n"
   ]
  },
  {
   "cell_type": "code",
   "execution_count": 39,
   "id": "owned-glossary",
   "metadata": {},
   "outputs": [],
   "source": [
    "def run_sub_sample(nm='fundusEDA', n=None, dpipez=dpipez, mpipez=mpipez, outdir='./output'):\n",
    "    log_fname = f\"xLAB_acc_v3_{nm}_{'ALL' if n is None else n}\" \n",
    "    report.ZReporter.start(log_fname, log_screen=False) \n",
    "    \n",
    "#     if n is None:        \n",
    "#         small_df = pdstats.dframe\n",
    "#     else:\n",
    "#         small_df = pdstats.dframe.sample(n, random_state=1)  \n",
    "        \n",
    "#     X_data = small_df  \n",
    "#     y_data = small_df['Normal'].values.astype(np.float32) ##TODO: 'dcodez_short'\n",
    "#     print(\"Loaded into PdFrame data of size: \", len(small_df) , \" and into y_data of size \", len(y_data) )  \n",
    "#     __X_data = Pipeline(defaultz_setup_X_data).fit_transform( X_data )\n",
    "\n",
    "    __X_data = FMAPZ_DATA\n",
    "    print(\"Loaded and setup X_data\", len(__X_data) )\n",
    "    \n",
    "    mgr = model.ZTrainingManager() \n",
    "    mgr.build_permutationz(data_pipez=dpipez, model_pipez=mpipez)\n",
    "    search_output = mgr.run( __X_data , _Y_DATA, train_test_split=1.)\n",
    "    c=\"*=\"\n",
    "    print(f\"{c*10} End ZTrainingManager for sub_n_{n} {c*10}\\n {search_output[0]}\")\n",
    "    \n",
    "    ## get metrics for plotting \n",
    "    grp = [f\"{s[0]}__{s[1]}\" for s in search_output]\n",
    "#     hue_grp = [f\"{s[1].split(\" \")[0]}\" for s in search_output]\n",
    "    acc = [s[2] for s in search_output]\n",
    "    acc = np.nan_to_num (np.array( acc) )\n",
    "    max_acc = acc.max()\n",
    "    min_acc = np.min( acc[np.nonzero(acc)] )\n",
    "    mean_acc = acc.mean()\n",
    "    median_acc = np.median(acc)\n",
    "    print(f\"Max: {max_acc} \\tMin: {min_acc} \\tMean: {mean_acc} \\tMedia: {median_acc}\")\n",
    "    \n",
    "    with open(f\"{outdir}/{log_fname}.csv\", 'w') as fd:\n",
    "        for g, a in zip(grp, acc):\n",
    "            fd.write( \"\\t\".join( [str(g), str(a)] ))\n",
    "            fd.write( \"\\n\")\n",
    "    \n",
    "    ## 3. plot for all metrics\n",
    "    plt.figure(figsize=(15,20))\n",
    "    plt.barh( grp, acc);\n",
    "    plt.axvline(x=max_acc, color='r', linestyle='--')\n",
    "    plt.axvline(x=min_acc, color='gray', linestyle='--')\n",
    "    plt.title(\"Permutation Accuracies\")\n",
    "    plt.tight_layout()\n",
    "    plt.savefig( f\"{outdir}/{log_fname}__ALL_METRICS.png\", facecolor='w', dpi=100)\n",
    "    plt.show();\n",
    "    #plt.clf()\n",
    "    ## 4. get diffs/uncommon\n",
    "    grp_diff = []\n",
    "    acc_diff = []\n",
    "    base_set = None \n",
    "    g_lbl=\"{}_{}\".format\n",
    "    for sout in search_output:\n",
    "        g1, g2, ac = sout[0], sout[1], sout[2]        \n",
    "        if (base_set is None) and (ac == max_acc):\n",
    "            base_set = (g_lbl(g1, g2), ac )\n",
    "        if ac < max_acc:\n",
    "            grp_diff.append( g_lbl(g1, g2) )\n",
    "            acc_diff.append( ac )\n",
    "    grp_diff = [base_set[0],] + grp_diff\n",
    "    acc_diff = [base_set[1],] + acc_diff\n",
    "\n",
    "    plt.figure(figsize=(15,7))\n",
    "    plt.barh( grp_diff, acc_diff);\n",
    "    plt.axvline(x=max_acc, color='r', linestyle='--')\n",
    "    plt.axvline(x=min_acc, color='gray', linestyle='--')\n",
    "    plt.grid(b=True, which='minor', axis='x', color='#000000', linestyle='--')\n",
    "    plt.title(\"Different from Max\")\n",
    "    plt.tight_layout()\n",
    "    plt.savefig( f\"{outdir}/{log_fname}__DIFF__METRICS.png\", facecolor='w', dpi=100)\n",
    "    plt.show();"
   ]
  },
  {
   "cell_type": "code",
   "execution_count": 40,
   "id": "lesser-tobacco",
   "metadata": {
    "scrolled": true
   },
   "outputs": [
    {
     "name": "stderr",
     "output_type": "stream",
     "text": [
      "\r",
      "  0%|          | 0/32 [00:00<?, ?it/s]"
     ]
    },
    {
     "name": "stdout",
     "output_type": "stream",
     "text": [
      "Loaded and setup X_data 397\n"
     ]
    },
    {
     "name": "stderr",
     "output_type": "stream",
     "text": [
      "100%|██████████| 32/32 [17:32<00:00, 32.90s/it]\n"
     ]
    },
    {
     "name": "stdout",
     "output_type": "stream",
     "text": [
      "*=*=*=*=*=*=*=*=*=*= End ZTrainingManager for sub_n_None *=*=*=*=*=*=*=*=*=*=\n",
      " ['Perm_1', 'svm channelz_origi', 0.901768945738795, Pipeline(steps=[('data_pipe',\n",
      "                 Pipeline(steps=[('channelz_origi',\n",
      "                                  ChannelzSelector(ls_channelz=(6, 7, 8)))])),\n",
      "                ('model_pipe',\n",
      "                 Pipeline(steps=[('flatten', Flattenor()),\n",
      "                                 ('svm', SVC(C=1))]))]), {'model_pipe__svm__C': 1, 'model_pipe__svm__kernel': 'rbf'}]\n",
      "Max: 0.901768945738795 \tMin: 0.8715166742804934 \tMean: 0.8972827362824222 \tMedia: 0.901768945738795\n"
     ]
    },
    {
     "data": {
      "image/png": "[encoded data removed]",
      "text/plain": [
       "<Figure size 1080x1440 with 1 Axes>"
      ]
     },
     "metadata": {
      "needs_background": "light"
     },
     "output_type": "display_data"
    },
    {
     "data": {
      "image/png": "[encoded data removed]",
      "text/plain": [
       "<Figure size 1080x504 with 1 Axes>"
      ]
     },
     "metadata": {
      "needs_background": "light"
     },
     "output_type": "display_data"
    }
   ],
   "source": [
    "run_sub_sample(nm=f'{_N_CLASSES}-ary')"
   ]
  },
  {
   "cell_type": "code",
   "execution_count": 60,
   "id": "patient-competition",
   "metadata": {},
   "outputs": [
    {
     "data": {
      "text/plain": [
       "<matplotlib.colors.ListedColormap at 0x7f18715f00d0>"
      ]
     },
     "execution_count": 60,
     "metadata": {},
     "output_type": "execute_result"
    }
   ],
   "source": [
    "import seaborn as sns\n",
    "sns.set_theme(style='ticks', palette='pastel')\n",
    "sns.color_palette(\"mako\", as_cmap=True)"
   ]
  },
  {
   "cell_type": "code",
   "execution_count": 61,
   "id": "mechanical-conjunction",
   "metadata": {},
   "outputs": [
    {
     "data": {
      "text/html": [
       "<div>\n",
       "<style scoped>\n",
       "    .dataframe tbody tr th:only-of-type {\n",
       "        vertical-align: middle;\n",
       "    }\n",
       "\n",
       "    .dataframe tbody tr th {\n",
       "        vertical-align: top;\n",
       "    }\n",
       "\n",
       "    .dataframe thead th {\n",
       "        text-align: right;\n",
       "    }\n",
       "</style>\n",
       "<table border=\"1\" class=\"dataframe\">\n",
       "  <thead>\n",
       "    <tr style=\"text-align: right;\">\n",
       "      <th></th>\n",
       "      <th>Mode</th>\n",
       "      <th>Permutation</th>\n",
       "      <th>Classifier</th>\n",
       "      <th>Features</th>\n",
       "      <th>Accuracy</th>\n",
       "    </tr>\n",
       "  </thead>\n",
       "  <tbody>\n",
       "    <tr>\n",
       "      <th>count</th>\n",
       "      <td>58</td>\n",
       "      <td>58</td>\n",
       "      <td>58</td>\n",
       "      <td>58</td>\n",
       "      <td>58.000000</td>\n",
       "    </tr>\n",
       "    <tr>\n",
       "      <th>unique</th>\n",
       "      <td>2</td>\n",
       "      <td>32</td>\n",
       "      <td>2</td>\n",
       "      <td>16</td>\n",
       "      <td>NaN</td>\n",
       "    </tr>\n",
       "    <tr>\n",
       "      <th>top</th>\n",
       "      <td>With_LBA</td>\n",
       "      <td>Perm_19</td>\n",
       "      <td>logit</td>\n",
       "      <td>channelz_origi</td>\n",
       "      <td>NaN</td>\n",
       "    </tr>\n",
       "    <tr>\n",
       "      <th>freq</th>\n",
       "      <td>32</td>\n",
       "      <td>2</td>\n",
       "      <td>29</td>\n",
       "      <td>4</td>\n",
       "      <td>NaN</td>\n",
       "    </tr>\n",
       "    <tr>\n",
       "      <th>mean</th>\n",
       "      <td>NaN</td>\n",
       "      <td>NaN</td>\n",
       "      <td>NaN</td>\n",
       "      <td>NaN</td>\n",
       "      <td>0.896689</td>\n",
       "    </tr>\n",
       "    <tr>\n",
       "      <th>std</th>\n",
       "      <td>NaN</td>\n",
       "      <td>NaN</td>\n",
       "      <td>NaN</td>\n",
       "      <td>NaN</td>\n",
       "      <td>0.010787</td>\n",
       "    </tr>\n",
       "    <tr>\n",
       "      <th>min</th>\n",
       "      <td>NaN</td>\n",
       "      <td>NaN</td>\n",
       "      <td>NaN</td>\n",
       "      <td>NaN</td>\n",
       "      <td>0.848853</td>\n",
       "    </tr>\n",
       "    <tr>\n",
       "      <th>25%</th>\n",
       "      <td>NaN</td>\n",
       "      <td>NaN</td>\n",
       "      <td>NaN</td>\n",
       "      <td>NaN</td>\n",
       "      <td>0.901769</td>\n",
       "    </tr>\n",
       "    <tr>\n",
       "      <th>50%</th>\n",
       "      <td>NaN</td>\n",
       "      <td>NaN</td>\n",
       "      <td>NaN</td>\n",
       "      <td>NaN</td>\n",
       "      <td>0.901769</td>\n",
       "    </tr>\n",
       "    <tr>\n",
       "      <th>75%</th>\n",
       "      <td>NaN</td>\n",
       "      <td>NaN</td>\n",
       "      <td>NaN</td>\n",
       "      <td>NaN</td>\n",
       "      <td>0.901769</td>\n",
       "    </tr>\n",
       "    <tr>\n",
       "      <th>max</th>\n",
       "      <td>NaN</td>\n",
       "      <td>NaN</td>\n",
       "      <td>NaN</td>\n",
       "      <td>NaN</td>\n",
       "      <td>0.901769</td>\n",
       "    </tr>\n",
       "  </tbody>\n",
       "</table>\n",
       "</div>"
      ],
      "text/plain": [
       "            Mode Permutation Classifier        Features   Accuracy\n",
       "count         58          58         58              58  58.000000\n",
       "unique         2          32          2              16        NaN\n",
       "top     With_LBA     Perm_19      logit  channelz_origi        NaN\n",
       "freq          32           2         29               4        NaN\n",
       "mean         NaN         NaN        NaN             NaN   0.896689\n",
       "std          NaN         NaN        NaN             NaN   0.010787\n",
       "min          NaN         NaN        NaN             NaN   0.848853\n",
       "25%          NaN         NaN        NaN             NaN   0.901769\n",
       "50%          NaN         NaN        NaN             NaN   0.901769\n",
       "75%          NaN         NaN        NaN             NaN   0.901769\n",
       "max          NaN         NaN        NaN             NaN   0.901769"
      ]
     },
     "execution_count": 61,
     "metadata": {},
     "output_type": "execute_result"
    }
   ],
   "source": [
    "search_outputs = pd.read_csv(\"./output/20210319_all_lba_rgb_svm_logit.tsv\", sep=\"\\t\")\n",
    "search_outputs.describe(include='all')"
   ]
  },
  {
   "cell_type": "code",
   "execution_count": 63,
   "id": "worth-korean",
   "metadata": {},
   "outputs": [
    {
     "data": {
      "image/png": "[encoded data removed]",
      "text/plain": [
       "<Figure size 432x288 with 1 Axes>"
      ]
     },
     "metadata": {},
     "output_type": "display_data"
    }
   ],
   "source": [
    "sns.boxplot(x='Classifier', y='Accuracy', hue='Mode', data=search_outputs,\n",
    "           palette=['b','g'])\n",
    "sns.despine(offset=10, trim=True)\n",
    "plt.title(\"Box plot of accuracy by Classifier and color space\");"
   ]
  },
  {
   "cell_type": "code",
   "execution_count": 76,
   "id": "sexual-concept",
   "metadata": {
    "scrolled": false
   },
   "outputs": [
    {
     "data": {
      "image/png": "[encoded data removed]",
      "text/plain": [
       "<Figure size 440.8x216 with 2 Axes>"
      ]
     },
     "metadata": {},
     "output_type": "display_data"
    }
   ],
   "source": [
    "g = sns.FacetGrid( search_outputs, col='Classifier')\n",
    "g.map( sns.scatterplot, 'Features', 'Accuracy',)\n",
    "# g.map( sns.regplot, 'Mode', 'Accuracy', color='0.3', fit_reg=False, x_jitter=.1)\n",
    "g.add_legend(); "
   ]
  },
  {
   "cell_type": "code",
   "execution_count": 82,
   "id": "conditional-increase",
   "metadata": {},
   "outputs": [
    {
     "data": {
      "image/png": "[encoded data removed]",
      "text/plain": [
       "<Figure size 584.8x288 with 2 Axes>"
      ]
     },
     "metadata": {},
     "output_type": "display_data"
    }
   ],
   "source": [
    "g = sns.FacetGrid( search_outputs, col='Classifier', height=4, aspect=1)\n",
    "g.map( sns.barplot, 'Mode', 'Accuracy')\n",
    "g.add_legend(); "
   ]
  },
  {
   "cell_type": "code",
   "execution_count": 103,
   "id": "better-shower",
   "metadata": {},
   "outputs": [
    {
     "data": {
      "image/png": "[encoded data removed]",
      "text/plain": [
       "<Figure size 720x360 with 2 Axes>"
      ]
     },
     "metadata": {},
     "output_type": "display_data"
    }
   ],
   "source": [
    "g = sns.FacetGrid(search_outputs, col=\"Mode\", col_wrap=2, height=5, ylim=(0.75, 1))\n",
    "# g.map(sns.boxplot, \"Classifier\", \"Accuracy\");\n",
    "g.map(sns.violinplot, \"Classifier\", \"Accuracy\");\n",
    "# plt.title(\"Average accuracy by classifier and color space (n=59)\")\n",
    "\n",
    "plt.show();"
   ]
  },
  {
   "cell_type": "code",
   "execution_count": null,
   "id": "interstate-vector",
   "metadata": {},
   "outputs": [],
   "source": []
  }
 ],
 "metadata": {
  "kernelspec": {
   "display_name": "Python 3",
   "language": "python",
   "name": "python3"
  },
  "language_info": {
   "codemirror_mode": {
    "name": "ipython",
    "version": 3
   },
   "file_extension": ".py",
   "mimetype": "text/x-python",
   "name": "python",
   "nbconvert_exporter": "python",
   "pygments_lexer": "ipython3",
   "version": "3.7.9"
  }
 },
 "nbformat": 4,
 "nbformat_minor": 5
}
