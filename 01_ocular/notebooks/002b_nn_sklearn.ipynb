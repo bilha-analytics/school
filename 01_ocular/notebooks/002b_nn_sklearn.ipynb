version https://git-lfs.github.com/spec/v1
oid sha256:70b737462e3a811e1b7f9cb8107ebfa91f9ab7de9fbd30e1522585871dda9fa4
size 25828
