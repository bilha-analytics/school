{
 "cells": [
  {
   "cell_type": "code",
   "execution_count": 1,
   "metadata": {},
   "outputs": [],
   "source": [
    "import warnings\n",
    "warnings.filterwarnings('ignore')\n",
    "from IPython.core.interactiveshell import InteractiveShell\n",
    "InteractiveShell.ast_node_interactivity = 'all'\n",
    "\n",
    "\n",
    "from tqdm import tqdm\n",
    "\n",
    "import numpy as np\n",
    "import pandas as pd\n",
    "import matplotlib.pyplot as plt\n",
    "\n",
    "%matplotlib inline "
   ]
  },
  {
   "cell_type": "code",
   "execution_count": 2,
   "metadata": {},
   "outputs": [],
   "source": [
    "import mflow"
   ]
  },
  {
   "cell_type": "code",
   "execution_count": 3,
   "metadata": {},
   "outputs": [
    {
     "name": "stdout",
     "output_type": "stream",
     "text": [
      "CWD::  /mnt/externz/zRepoz/003_school/01_ocular/notebooks\n"
     ]
    },
    {
     "data": {
      "text/plain": [
       "['/mnt/externz/zRepoz/003_school/01_ocular/code/mflow',\n",
       " '/mnt/externz/zRepoz/003_school/01_ocular/code/mflow',\n",
       " '/mnt/externz/zRepoz/003_school/01_ocular/notebooks',\n",
       " '/home/bilha/anaconda3/lib/python37.zip',\n",
       " '/home/bilha/anaconda3/lib/python3.7',\n",
       " '/home/bilha/anaconda3/lib/python3.7/lib-dynload',\n",
       " '',\n",
       " '/home/bilha/anaconda3/lib/python3.7/site-packages',\n",
       " '/home/bilha/anaconda3/lib/python3.7/site-packages/IPython/extensions',\n",
       " '/home/bilha/.ipython']"
      ]
     },
     "execution_count": 3,
     "metadata": {},
     "output_type": "execute_result"
    }
   ],
   "source": [
    "import sys, os\n",
    "print(\"CWD:: \",os.getcwd())\n",
    "sys.path"
   ]
  },
  {
   "cell_type": "code",
   "execution_count": 4,
   "metadata": {},
   "outputs": [],
   "source": [
    "from zdata import RemappedFundusImage, ZMultiModalRecord, ZModal\n",
    "from zdata import PdDataStats, ZPdDataset\n",
    "import utilz"
   ]
  },
  {
   "cell_type": "code",
   "execution_count": null,
   "metadata": {},
   "outputs": [],
   "source": []
  }
 ],
 "metadata": {
  "kernelspec": {
   "display_name": "Python 3",
   "language": "python",
   "name": "python3"
  },
  "language_info": {
   "codemirror_mode": {
    "name": "ipython",
    "version": 3
   },
   "file_extension": ".py",
   "mimetype": "text/x-python",
   "name": "python",
   "nbconvert_exporter": "python",
   "pygments_lexer": "ipython3",
   "version": "3.7.6"
  }
 },
 "nbformat": 4,
 "nbformat_minor": 4
}
