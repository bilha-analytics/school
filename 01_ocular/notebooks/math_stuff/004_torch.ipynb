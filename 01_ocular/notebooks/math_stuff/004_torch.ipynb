{
 "cells": [
  {
   "cell_type": "code",
   "execution_count": 1,
   "metadata": {},
   "outputs": [],
   "source": [
    "import torch"
   ]
  },
  {
   "cell_type": "code",
   "execution_count": 2,
   "metadata": {},
   "outputs": [
    {
     "name": "stdout",
     "output_type": "stream",
     "text": [
      "torch.Size([10, 5]) 2\n"
     ]
    }
   ],
   "source": [
    "y = torch.rand((10,5))\n",
    "print(y.shape, y.view((-1, 25)).shape[0] )"
   ]
  },
  {
   "cell_type": "code",
   "execution_count": 2,
   "metadata": {},
   "outputs": [],
   "source": [
    "import torchvision\n",
    "from torchvision import transforms, datasets"
   ]
  },
  {
   "cell_type": "code",
   "execution_count": 14,
   "metadata": {},
   "outputs": [
    {
     "name": "stdout",
     "output_type": "stream",
     "text": [
      "Downloading http://yann.lecun.com/exdb/mnist/train-images-idx3-ubyte.gz\n",
      "Downloading http://yann.lecun.com/exdb/mnist/train-labels-idx1-ubyte.gz\n",
      "Downloading http://yann.lecun.com/exdb/mnist/t10k-images-idx3-ubyte.gz\n",
      "Downloading http://yann.lecun.com/exdb/mnist/t10k-labels-idx1-ubyte.gz\n",
      "Processing...\n",
      "Done!\n"
     ]
    }
   ],
   "source": [
    "train = datasets.MNIST(\"\", train=True, download=True,\n",
    "                      transform = transforms.Compose([transforms.ToTensor()]))\n",
    "test = datasets.MNIST(\"\", train=False, download=True,\n",
    "                      transform = transforms.Compose([transforms.ToTensor()]))"
   ]
  },
  {
   "cell_type": "code",
   "execution_count": 16,
   "metadata": {},
   "outputs": [
    {
     "data": {
      "text/plain": [
       "['__add__',\n",
       " '__class__',\n",
       " '__delattr__',\n",
       " '__dict__',\n",
       " '__dir__',\n",
       " '__doc__',\n",
       " '__eq__',\n",
       " '__format__',\n",
       " '__ge__',\n",
       " '__getattribute__',\n",
       " '__getitem__',\n",
       " '__gt__',\n",
       " '__hash__',\n",
       " '__init__',\n",
       " '__init_subclass__',\n",
       " '__le__',\n",
       " '__len__',\n",
       " '__lt__',\n",
       " '__module__',\n",
       " '__ne__',\n",
       " '__new__',\n",
       " '__reduce__',\n",
       " '__reduce_ex__',\n",
       " '__repr__',\n",
       " '__setattr__',\n",
       " '__sizeof__',\n",
       " '__str__',\n",
       " '__subclasshook__',\n",
       " '__weakref__',\n",
       " '_check_exists',\n",
       " 'download',\n",
       " 'processed_folder',\n",
       " 'raw_folder',\n",
       " 'root',\n",
       " 'target_transform',\n",
       " 'test_data',\n",
       " 'test_file',\n",
       " 'test_labels',\n",
       " 'train',\n",
       " 'training_file',\n",
       " 'transform',\n",
       " 'urls']"
      ]
     },
     "execution_count": 16,
     "metadata": {},
     "output_type": "execute_result"
    }
   ],
   "source": [
    "dir(test)"
   ]
  },
  {
   "cell_type": "code",
   "execution_count": 17,
   "metadata": {},
   "outputs": [
    {
     "data": {
      "text/plain": [
       "torch.Size([10000, 28, 28])"
      ]
     },
     "execution_count": 17,
     "metadata": {},
     "output_type": "execute_result"
    }
   ],
   "source": [
    "test.test_data.shape"
   ]
  },
  {
   "cell_type": "code",
   "execution_count": 18,
   "metadata": {},
   "outputs": [
    {
     "data": {
      "text/plain": [
       "torch.Size([60000, 28, 28])"
      ]
     },
     "execution_count": 18,
     "metadata": {},
     "output_type": "execute_result"
    }
   ],
   "source": [
    "train.train_data.shape"
   ]
  },
  {
   "cell_type": "code",
   "execution_count": 37,
   "metadata": {},
   "outputs": [
    {
     "name": "stdout",
     "output_type": "stream",
     "text": [
      "torch.Size([28, 28])\n"
     ]
    },
    {
     "data": {
      "image/png": "[encoded data removed]",
      "text/plain": [
       "<Figure size 432x288 with 1 Axes>"
      ]
     },
     "metadata": {
      "needs_background": "light"
     },
     "output_type": "display_data"
    }
   ],
   "source": [
    "import matplotlib.pyplot as plt\n",
    "%matplotlib inline\n",
    "\n",
    "print( train.train_data[90].shape )\n",
    "plt.imshow( train.train_data[90], cmap='gray'); "
   ]
  },
  {
   "cell_type": "code",
   "execution_count": 42,
   "metadata": {},
   "outputs": [
    {
     "name": "stdout",
     "output_type": "stream",
     "text": [
      "['_DataLoader__initialized', '__class__', '__delattr__', '__dict__', '__dir__', '__doc__', '__eq__', '__format__', '__ge__', '__getattribute__', '__gt__', '__hash__', '__init__', '__init_subclass__', '__iter__', '__le__', '__len__', '__lt__', '__module__', '__ne__', '__new__', '__reduce__', '__reduce_ex__', '__repr__', '__setattr__', '__sizeof__', '__str__', '__subclasshook__', '__weakref__', 'batch_sampler', 'batch_size', 'collate_fn', 'dataset', 'drop_last', 'num_workers', 'pin_memory', 'sampler', 'timeout', 'worker_init_fn']\n"
     ]
    }
   ],
   "source": [
    "## Create generator/iterator\n",
    "trainset = torch.utils.data.DataLoader(train, batch_size=10, shuffle=True)\n",
    "testset = torch.utils.data.DataLoader(test, batch_size=10, shuffle=False)\n",
    "\n",
    "print(dir(trainset))\n",
    "\n",
    "#print(trainset.shape, testset.shape)"
   ]
  },
  {
   "cell_type": "code",
   "execution_count": 44,
   "metadata": {},
   "outputs": [
    {
     "ename": "TypeError",
     "evalue": "'type' object is not iterable",
     "output_type": "error",
     "traceback": [
      "\u001b[0;31m---------------------------------------------------------------------------\u001b[0m",
      "\u001b[0;31mTypeError\u001b[0m                                 Traceback (most recent call last)",
      "\u001b[0;32m<ipython-input-44-d7aa419651bb>\u001b[0m in \u001b[0;36m<module>\u001b[0;34m\u001b[0m\n\u001b[0;32m----> 1\u001b[0;31m \u001b[0;32mfor\u001b[0m \u001b[0mdata\u001b[0m \u001b[0;32min\u001b[0m \u001b[0mtrainset\u001b[0m\u001b[0;34m:\u001b[0m\u001b[0;34m\u001b[0m\u001b[0;34m\u001b[0m\u001b[0m\n\u001b[0m\u001b[1;32m      2\u001b[0m     \u001b[0mprint\u001b[0m\u001b[0;34m(\u001b[0m \u001b[0mdata\u001b[0m\u001b[0;34m.\u001b[0m\u001b[0mshape\u001b[0m \u001b[0;34m)\u001b[0m\u001b[0;34m\u001b[0m\u001b[0;34m\u001b[0m\u001b[0m\n\u001b[1;32m      3\u001b[0m     \u001b[0;31m#plt.imshow(data)\u001b[0m\u001b[0;34m\u001b[0m\u001b[0;34m\u001b[0m\u001b[0;34m\u001b[0m\u001b[0m\n\u001b[1;32m      4\u001b[0m     \u001b[0;32mbreak\u001b[0m\u001b[0;34m\u001b[0m\u001b[0;34m\u001b[0m\u001b[0m\n",
      "\u001b[0;32m~/anaconda3/lib/python3.7/site-packages/torch/utils/data/dataloader.py\u001b[0m in \u001b[0;36m__next__\u001b[0;34m(self)\u001b[0m\n\u001b[1;32m    613\u001b[0m         \u001b[0;32mif\u001b[0m \u001b[0mself\u001b[0m\u001b[0;34m.\u001b[0m\u001b[0mnum_workers\u001b[0m \u001b[0;34m==\u001b[0m \u001b[0;36m0\u001b[0m\u001b[0;34m:\u001b[0m  \u001b[0;31m# same-process loading\u001b[0m\u001b[0;34m\u001b[0m\u001b[0;34m\u001b[0m\u001b[0m\n\u001b[1;32m    614\u001b[0m             \u001b[0mindices\u001b[0m \u001b[0;34m=\u001b[0m \u001b[0mnext\u001b[0m\u001b[0;34m(\u001b[0m\u001b[0mself\u001b[0m\u001b[0;34m.\u001b[0m\u001b[0msample_iter\u001b[0m\u001b[0;34m)\u001b[0m  \u001b[0;31m# may raise StopIteration\u001b[0m\u001b[0;34m\u001b[0m\u001b[0;34m\u001b[0m\u001b[0m\n\u001b[0;32m--> 615\u001b[0;31m             \u001b[0mbatch\u001b[0m \u001b[0;34m=\u001b[0m \u001b[0mself\u001b[0m\u001b[0;34m.\u001b[0m\u001b[0mcollate_fn\u001b[0m\u001b[0;34m(\u001b[0m\u001b[0;34m[\u001b[0m\u001b[0mself\u001b[0m\u001b[0;34m.\u001b[0m\u001b[0mdataset\u001b[0m\u001b[0;34m[\u001b[0m\u001b[0mi\u001b[0m\u001b[0;34m]\u001b[0m \u001b[0;32mfor\u001b[0m \u001b[0mi\u001b[0m \u001b[0;32min\u001b[0m \u001b[0mindices\u001b[0m\u001b[0;34m]\u001b[0m\u001b[0;34m)\u001b[0m\u001b[0;34m\u001b[0m\u001b[0;34m\u001b[0m\u001b[0m\n\u001b[0m\u001b[1;32m    616\u001b[0m             \u001b[0;32mif\u001b[0m \u001b[0mself\u001b[0m\u001b[0;34m.\u001b[0m\u001b[0mpin_memory\u001b[0m\u001b[0;34m:\u001b[0m\u001b[0;34m\u001b[0m\u001b[0;34m\u001b[0m\u001b[0m\n\u001b[1;32m    617\u001b[0m                 \u001b[0mbatch\u001b[0m \u001b[0;34m=\u001b[0m \u001b[0mpin_memory_batch\u001b[0m\u001b[0;34m(\u001b[0m\u001b[0mbatch\u001b[0m\u001b[0;34m)\u001b[0m\u001b[0;34m\u001b[0m\u001b[0;34m\u001b[0m\u001b[0m\n",
      "\u001b[0;32m~/anaconda3/lib/python3.7/site-packages/torch/utils/data/dataloader.py\u001b[0m in \u001b[0;36m<listcomp>\u001b[0;34m(.0)\u001b[0m\n\u001b[1;32m    613\u001b[0m         \u001b[0;32mif\u001b[0m \u001b[0mself\u001b[0m\u001b[0;34m.\u001b[0m\u001b[0mnum_workers\u001b[0m \u001b[0;34m==\u001b[0m \u001b[0;36m0\u001b[0m\u001b[0;34m:\u001b[0m  \u001b[0;31m# same-process loading\u001b[0m\u001b[0;34m\u001b[0m\u001b[0;34m\u001b[0m\u001b[0m\n\u001b[1;32m    614\u001b[0m             \u001b[0mindices\u001b[0m \u001b[0;34m=\u001b[0m \u001b[0mnext\u001b[0m\u001b[0;34m(\u001b[0m\u001b[0mself\u001b[0m\u001b[0;34m.\u001b[0m\u001b[0msample_iter\u001b[0m\u001b[0;34m)\u001b[0m  \u001b[0;31m# may raise StopIteration\u001b[0m\u001b[0;34m\u001b[0m\u001b[0;34m\u001b[0m\u001b[0m\n\u001b[0;32m--> 615\u001b[0;31m             \u001b[0mbatch\u001b[0m \u001b[0;34m=\u001b[0m \u001b[0mself\u001b[0m\u001b[0;34m.\u001b[0m\u001b[0mcollate_fn\u001b[0m\u001b[0;34m(\u001b[0m\u001b[0;34m[\u001b[0m\u001b[0mself\u001b[0m\u001b[0;34m.\u001b[0m\u001b[0mdataset\u001b[0m\u001b[0;34m[\u001b[0m\u001b[0mi\u001b[0m\u001b[0;34m]\u001b[0m \u001b[0;32mfor\u001b[0m \u001b[0mi\u001b[0m \u001b[0;32min\u001b[0m \u001b[0mindices\u001b[0m\u001b[0;34m]\u001b[0m\u001b[0;34m)\u001b[0m\u001b[0;34m\u001b[0m\u001b[0;34m\u001b[0m\u001b[0m\n\u001b[0m\u001b[1;32m    616\u001b[0m             \u001b[0;32mif\u001b[0m \u001b[0mself\u001b[0m\u001b[0;34m.\u001b[0m\u001b[0mpin_memory\u001b[0m\u001b[0;34m:\u001b[0m\u001b[0;34m\u001b[0m\u001b[0;34m\u001b[0m\u001b[0m\n\u001b[1;32m    617\u001b[0m                 \u001b[0mbatch\u001b[0m \u001b[0;34m=\u001b[0m \u001b[0mpin_memory_batch\u001b[0m\u001b[0;34m(\u001b[0m\u001b[0mbatch\u001b[0m\u001b[0;34m)\u001b[0m\u001b[0;34m\u001b[0m\u001b[0;34m\u001b[0m\u001b[0m\n",
      "\u001b[0;32m~/anaconda3/lib/python3.7/site-packages/torchvision/datasets/mnist.py\u001b[0m in \u001b[0;36m__getitem__\u001b[0;34m(self, index)\u001b[0m\n\u001b[1;32m     75\u001b[0m \u001b[0;34m\u001b[0m\u001b[0m\n\u001b[1;32m     76\u001b[0m         \u001b[0;32mif\u001b[0m \u001b[0mself\u001b[0m\u001b[0;34m.\u001b[0m\u001b[0mtransform\u001b[0m \u001b[0;32mis\u001b[0m \u001b[0;32mnot\u001b[0m \u001b[0;32mNone\u001b[0m\u001b[0;34m:\u001b[0m\u001b[0;34m\u001b[0m\u001b[0;34m\u001b[0m\u001b[0m\n\u001b[0;32m---> 77\u001b[0;31m             \u001b[0mimg\u001b[0m \u001b[0;34m=\u001b[0m \u001b[0mself\u001b[0m\u001b[0;34m.\u001b[0m\u001b[0mtransform\u001b[0m\u001b[0;34m(\u001b[0m\u001b[0mimg\u001b[0m\u001b[0;34m)\u001b[0m\u001b[0;34m\u001b[0m\u001b[0;34m\u001b[0m\u001b[0m\n\u001b[0m\u001b[1;32m     78\u001b[0m \u001b[0;34m\u001b[0m\u001b[0m\n\u001b[1;32m     79\u001b[0m         \u001b[0;32mif\u001b[0m \u001b[0mself\u001b[0m\u001b[0;34m.\u001b[0m\u001b[0mtarget_transform\u001b[0m \u001b[0;32mis\u001b[0m \u001b[0;32mnot\u001b[0m \u001b[0;32mNone\u001b[0m\u001b[0;34m:\u001b[0m\u001b[0;34m\u001b[0m\u001b[0;34m\u001b[0m\u001b[0m\n",
      "\u001b[0;32m~/anaconda3/lib/python3.7/site-packages/torchvision/transforms/transforms.py\u001b[0m in \u001b[0;36m__call__\u001b[0;34m(self, img)\u001b[0m\n\u001b[1;32m     46\u001b[0m \u001b[0;34m\u001b[0m\u001b[0m\n\u001b[1;32m     47\u001b[0m     \u001b[0;32mdef\u001b[0m \u001b[0m__call__\u001b[0m\u001b[0;34m(\u001b[0m\u001b[0mself\u001b[0m\u001b[0;34m,\u001b[0m \u001b[0mimg\u001b[0m\u001b[0;34m)\u001b[0m\u001b[0;34m:\u001b[0m\u001b[0;34m\u001b[0m\u001b[0;34m\u001b[0m\u001b[0m\n\u001b[0;32m---> 48\u001b[0;31m         \u001b[0;32mfor\u001b[0m \u001b[0mt\u001b[0m \u001b[0;32min\u001b[0m \u001b[0mself\u001b[0m\u001b[0;34m.\u001b[0m\u001b[0mtransforms\u001b[0m\u001b[0;34m:\u001b[0m\u001b[0;34m\u001b[0m\u001b[0;34m\u001b[0m\u001b[0m\n\u001b[0m\u001b[1;32m     49\u001b[0m             \u001b[0mimg\u001b[0m \u001b[0;34m=\u001b[0m \u001b[0mt\u001b[0m\u001b[0;34m(\u001b[0m\u001b[0mimg\u001b[0m\u001b[0;34m)\u001b[0m\u001b[0;34m\u001b[0m\u001b[0;34m\u001b[0m\u001b[0m\n\u001b[1;32m     50\u001b[0m         \u001b[0;32mreturn\u001b[0m \u001b[0mimg\u001b[0m\u001b[0;34m\u001b[0m\u001b[0;34m\u001b[0m\u001b[0m\n",
      "\u001b[0;31mTypeError\u001b[0m: 'type' object is not iterable"
     ]
    }
   ],
   "source": [
    "for data in trainset:\n",
    "    print( data.shape )\n",
    "    #plt.imshow(data)\n",
    "    break"
   ]
  },
  {
   "cell_type": "code",
   "execution_count": 3,
   "metadata": {},
   "outputs": [],
   "source": [
    "import torch.nn as nn\n",
    "import torch.nn.functional as F"
   ]
  },
  {
   "cell_type": "code",
   "execution_count": 164,
   "metadata": {},
   "outputs": [],
   "source": [
    "class Net(nn.Module):\n",
    "    # MNIST = 28*28*1  --> 10 digits \n",
    "    def __init__(self, n_inputz, n_outputz, n_hidden=64):\n",
    "        super().__init__()\n",
    "        # define the layers or network arch\n",
    "        self.fc1 = nn.Linear(n_inputz, n_hidden) # \n",
    "        self.fc2 = nn.Linear(n_hidden, n_hidden) # \n",
    "        self.fc3 = nn.Linear(n_hidden, n_hidden) # \n",
    "        self.fc4 = nn.Linear(n_hidden, n_outputz) # \n",
    "        \n",
    "    def forward(self, x):\n",
    "        x = F.relu( self.fc1(x) ) \n",
    "        x = F.relu( self.fc2(x) ) \n",
    "        x = F.relu( self.fc3(x) ) \n",
    "        x = F.log_softmax( self.fc4(x), dim=1) \n",
    "        return x\n",
    "        \n",
    "        "
   ]
  },
  {
   "cell_type": "code",
   "execution_count": 165,
   "metadata": {},
   "outputs": [
    {
     "name": "stdout",
     "output_type": "stream",
     "text": [
      "Net(\n",
      "  (fc1): Linear(in_features=784, out_features=64, bias=True)\n",
      "  (fc2): Linear(in_features=64, out_features=64, bias=True)\n",
      "  (fc3): Linear(in_features=64, out_features=64, bias=True)\n",
      "  (fc4): Linear(in_features=64, out_features=10, bias=True)\n",
      ")\n"
     ]
    }
   ],
   "source": [
    "net = Net(28*28, 10)\n",
    "print(net)"
   ]
  },
  {
   "cell_type": "code",
   "execution_count": 166,
   "metadata": {},
   "outputs": [
    {
     "name": "stdout",
     "output_type": "stream",
     "text": [
      "torch.Size([28, 28]) tensor(0.5108)\n"
     ]
    }
   ],
   "source": [
    "x = torch.rand((28,28))\n",
    "print( x.shape, x.mean())"
   ]
  },
  {
   "cell_type": "code",
   "execution_count": 167,
   "metadata": {},
   "outputs": [
    {
     "name": "stdout",
     "output_type": "stream",
     "text": [
      "torch.Size([1, 784]) torch.Size([1, 784]) <class 'torch.Tensor'>\n",
      "torch.Size([1, 10]) tensor(-2.3072, grad_fn=<MeanBackward1>)\n"
     ]
    },
    {
     "data": {
      "text/plain": [
       "tensor([[-2.2895, -2.1931, -2.2845, -2.2840, -2.4778, -2.2712, -2.2911, -2.5068,\n",
       "         -2.2112, -2.2629]], grad_fn=<LogSoftmaxBackward>)"
      ]
     },
     "execution_count": 167,
     "metadata": {},
     "output_type": "execute_result"
    }
   ],
   "source": [
    "xi = x.view(1,-1)\n",
    "print(xi.shape, x.view(-1, 28*28).shape, type(xi))\n",
    "p = net(xi)\n",
    "print(p.shape, p.mean())\n",
    "p"
   ]
  },
  {
   "cell_type": "code",
   "execution_count": 5,
   "metadata": {},
   "outputs": [
    {
     "ename": "NameError",
     "evalue": "name 'net' is not defined",
     "output_type": "error",
     "traceback": [
      "\u001b[0;31m---------------------------------------------------------------------------\u001b[0m",
      "\u001b[0;31mNameError\u001b[0m                                 Traceback (most recent call last)",
      "\u001b[0;32m<ipython-input-5-eb1c0f3d4411>\u001b[0m in \u001b[0;36m<module>\u001b[0;34m\u001b[0m\n\u001b[1;32m      1\u001b[0m \u001b[0;32mimport\u001b[0m \u001b[0mtorch\u001b[0m\u001b[0;34m.\u001b[0m\u001b[0moptim\u001b[0m \u001b[0;32mas\u001b[0m \u001b[0moptim\u001b[0m\u001b[0;34m\u001b[0m\u001b[0;34m\u001b[0m\u001b[0m\n\u001b[1;32m      2\u001b[0m \u001b[0;32mimport\u001b[0m \u001b[0mnumpy\u001b[0m \u001b[0;32mas\u001b[0m \u001b[0mnp\u001b[0m\u001b[0;34m\u001b[0m\u001b[0;34m\u001b[0m\u001b[0m\n\u001b[0;32m----> 3\u001b[0;31m \u001b[0moptimizer\u001b[0m \u001b[0;34m=\u001b[0m \u001b[0moptim\u001b[0m\u001b[0;34m.\u001b[0m\u001b[0mAdam\u001b[0m\u001b[0;34m(\u001b[0m\u001b[0mnet\u001b[0m\u001b[0;34m.\u001b[0m\u001b[0mparameters\u001b[0m\u001b[0;34m(\u001b[0m\u001b[0;34m)\u001b[0m\u001b[0;34m,\u001b[0m \u001b[0mlr\u001b[0m\u001b[0;34m=\u001b[0m\u001b[0;36m0.001\u001b[0m\u001b[0;34m)\u001b[0m \u001b[0;31m##TODO: decay, TL and freezing weights\u001b[0m\u001b[0;34m\u001b[0m\u001b[0;34m\u001b[0m\u001b[0m\n\u001b[0m\u001b[1;32m      4\u001b[0m \u001b[0;34m\u001b[0m\u001b[0m\n\u001b[1;32m      5\u001b[0m \u001b[0mEPOCH\u001b[0m \u001b[0;34m=\u001b[0m \u001b[0;36m3\u001b[0m\u001b[0;34m\u001b[0m\u001b[0;34m\u001b[0m\u001b[0m\n",
      "\u001b[0;31mNameError\u001b[0m: name 'net' is not defined"
     ]
    }
   ],
   "source": [
    "import torch.optim as optim\n",
    "import numpy as np\n",
    "optimizer = optim.Adam(net.parameters(), lr=0.001) ##TODO: decay, TL and freezing weights \n",
    "\n",
    "EPOCH = 3\n",
    "\n",
    "# TODO: batches and prior error fix \n",
    "xtrain_batch = [train.train_data[((i*10)+1):(i+1)*10] for i in range(5)] \n",
    "ytrain_batch = [train.train_labels[((i*10)+1):(i+1)*10] for i in range(5)] \n",
    "print(len(xtrain_batch), xtrain_batch[-1].shape, ytrain_batch[-1])\n",
    "\n",
    "xtrain_batch = [ [torch.rand((28,28)) for i in range(10)] for j in range(5)]\n",
    "print(len(xtrain_batch))\n",
    "## ==== Training and Backpropagation ==== \n",
    "for e in range(EPOCH):\n",
    "    for X, y in zip(xtrain_batch, ytrain_batch):        \n",
    "        #print(y[-1], x[-1].shape);\n",
    "        #plt.imshow(x[-1])\n",
    "        #break\n",
    "        # \n",
    "        net.zero_grad() ## reset grad after every batch to stop the accumulation \n",
    "        # to do tensor pass graph \n",
    "        #predz = net( X.view(-1, 28*28) ) # torch.tensor([i.view(1, -1) for i in x] ) )\n",
    "        print(X[0].shape, type(X[0]) ) \n",
    "        #predz = torch.Tensor( [ net(xi.view(1, -1)) for xi in X] ) \n",
    "        predz = net(X.view(-1, 28*28) )\n",
    "        print(predz.shape)\n",
    "        \n",
    "        loss = F.nll_loss(predz, y)\n",
    "        loss.backward()\n",
    "        optimizer.step() \n",
    "        \n",
    "    print(f\"epoch {e}: {loss}\")\n",
    "        "
   ]
  },
  {
   "cell_type": "code",
   "execution_count": 169,
   "metadata": {},
   "outputs": [
    {
     "name": "stdout",
     "output_type": "stream",
     "text": [
      "1.0.1\n"
     ]
    }
   ],
   "source": [
    "print( torch.__version__)"
   ]
  },
  {
   "cell_type": "code",
   "execution_count": 170,
   "metadata": {},
   "outputs": [
    {
     "name": "stdout",
     "output_type": "stream",
     "text": [
      "Accuracy: 0.12\n"
     ]
    }
   ],
   "source": [
    "## Assess accuracy on test data\n",
    "\n",
    "correct, total = 0, 0 \n",
    "\n",
    "with torch.no_grad(): ## don't calc gradients b/c test data <<< net.train() + net.eval() in old versions??    \n",
    "    for X, y in zip(xtrain_batch, ytrain_batch):  \n",
    "        predz = [ net(xi.view(1, -1)) for xi in X]\n",
    "        for idx,i in enumerate(predz):\n",
    "            #print( (i.shape), idx, i.argmax(), y.shape)\n",
    "            if idx <len(y) and torch.argmax(i) == y[idx]:\n",
    "                correct += 1\n",
    "            total +=1\n",
    "            \n",
    "print(f\"Accuracy: {round(correct/total, 3)}\")\n",
    "    "
   ]
  },
  {
   "cell_type": "code",
   "execution_count": 171,
   "metadata": {},
   "outputs": [
    {
     "data": {
      "text/plain": [
       "9"
      ]
     },
     "execution_count": 171,
     "metadata": {},
     "output_type": "execute_result"
    }
   ],
   "source": [
    "len(y)"
   ]
  },
  {
   "cell_type": "markdown",
   "metadata": {},
   "source": [
    "## CNNs Part 1"
   ]
  },
  {
   "cell_type": "code",
   "execution_count": 4,
   "metadata": {},
   "outputs": [],
   "source": [
    "## ==== CNNs =====\n",
    "\n",
    "import os, glob\n",
    "import cv2\n",
    "import numpy as np\n",
    "from tqdm import tqdm \n",
    "\n",
    "import matplotlib.pyplot as plt\n",
    "%matplotlib inline"
   ]
  },
  {
   "cell_type": "code",
   "execution_count": 5,
   "metadata": {},
   "outputs": [],
   "source": [
    "REBUILD_DATA = True"
   ]
  },
  {
   "cell_type": "code",
   "execution_count": 11,
   "metadata": {},
   "outputs": [],
   "source": [
    "class DogsVsCats:\n",
    "    IMG_SIZE = 50 ## resize such that max dimension is 50 + pad the smallest size\n",
    "    DIR_CATS = \"../data/PetImages/Cat\"\n",
    "    DIR_DOGS = \"../data/PetImages/Dog\"\n",
    "    LABELS = {DIR_CATS: 0, DIR_DOGS: 1}\n",
    "    training_data = []\n",
    "    catcount, dogcount = 0, 0\n",
    "    \n",
    "    def make_training_data(self, output_file):\n",
    "        ## 1. load data\n",
    "        for label in self.LABELS:\n",
    "            print(f'loading {label}')\n",
    "            for ipath in tqdm(glob.glob(f\"{label}/*\")): \n",
    "                try:\n",
    "                    img = cv2.imread(ipath, cv2.IMREAD_GRAYSCALE )\n",
    "                    img = cv2.resize(img, (self.IMG_SIZE, self.IMG_SIZE))\n",
    "                    self.training_data.append( [img,\n",
    "                                               np.eye(2)[self.LABELS[label]]] ) ## y-label as one-hot\n",
    "\n",
    "                    if label == self.DIR_CATS:\n",
    "                        self.catcount += 1\n",
    "                    elif label == self.DIR_DOGS:\n",
    "                        self.dogcount += 1\n",
    "                except Exception as e:\n",
    "                    pass\n",
    "        ## 2. shuffle\n",
    "        np.random.shuffle(self.training_data)\n",
    "        np.save(output_file, self.training_data)\n",
    "        print(f\"Dogs: {self.dogcount}\\t{(self.dogcount/(self.dogcount+self.catcount))}\" )\n",
    "        print(f\"Cats: {self.catcount}\\t{(self.dogcount/(self.dogcount+self.catcount))}\" )\n",
    "    #                 plt.imshow(img)\n",
    "    #                 print(img.shape)\n",
    "    #                 break;\n",
    "    \n",
    "## numpy.eye == diagonal identity matrix for one-hot-encoding"
   ]
  },
  {
   "cell_type": "code",
   "execution_count": 18,
   "metadata": {},
   "outputs": [
    {
     "name": "stderr",
     "output_type": "stream",
     "text": [
      "  0%|          | 33/12501 [00:00<00:38, 320.52it/s]"
     ]
    },
    {
     "name": "stdout",
     "output_type": "stream",
     "text": [
      "loading ../data/PetImages/Cat\n"
     ]
    },
    {
     "name": "stderr",
     "output_type": "stream",
     "text": [
      "100%|██████████| 12501/12501 [00:25<00:00, 488.90it/s]\n",
      "  0%|          | 32/12501 [00:00<00:39, 318.96it/s]"
     ]
    },
    {
     "name": "stdout",
     "output_type": "stream",
     "text": [
      "loading ../data/PetImages/Dog\n"
     ]
    },
    {
     "name": "stderr",
     "output_type": "stream",
     "text": [
      "100%|██████████| 12501/12501 [00:26<00:00, 465.43it/s]\n"
     ]
    },
    {
     "name": "stdout",
     "output_type": "stream",
     "text": [
      "Dogs: 12470\t0.49987974023891607\n",
      "Cats: 12476\t0.49987974023891607\n",
      "Done Building data and set it to:  False\n"
     ]
    }
   ],
   "source": [
    "DATA_SAVED_FILE = \"trainin_data.npy\"\n",
    "if REBUILD_DATA:\n",
    "    dc = DogsVsCats()\n",
    "    dc.make_training_data(DATA_SAVED_FILE)\n",
    "    REBUILD_DATA = False\n",
    "    print( \"Done Building data and set it to: \", REBUILD_DATA)"
   ]
  },
  {
   "cell_type": "code",
   "execution_count": 6,
   "metadata": {},
   "outputs": [
    {
     "name": "stdout",
     "output_type": "stream",
     "text": [
      "24946\n",
      "[1. 0.]\n"
     ]
    },
    {
     "data": {
      "image/png": "[encoded data removed]",
      "text/plain": [
       "<Figure size 432x288 with 1 Axes>"
      ]
     },
     "metadata": {
      "needs_background": "light"
     },
     "output_type": "display_data"
    }
   ],
   "source": [
    "training_data = np.load( \"trainin_data.npy\")\n",
    "print(len(training_data))\n",
    "print( training_data[0][1])\n",
    "plt.imshow(training_data[0][0]);"
   ]
  },
  {
   "cell_type": "markdown",
   "metadata": {},
   "source": [
    "# CNN Part 2"
   ]
  },
  {
   "cell_type": "code",
   "execution_count": 7,
   "metadata": {},
   "outputs": [],
   "source": [
    "import torch\n",
    "import torch.nn as nn\n",
    "import torch.nn.functional as F \n",
    "\n",
    "class DogCatNet(nn.Module):\n",
    "    def __init__(self, n_input=50, n_output=2, n_hidden=2, n_kernel=5):\n",
    "        super().__init__()\n",
    "        ## arch << pooling is defined infwd pass \n",
    "        self.conv1 = nn.Conv2d(1, 32, n_kernel)\n",
    "        self.conv2 = nn.Conv2d(32, 64, n_kernel)\n",
    "        self.conv3 = nn.Conv2d(64, 128, n_kernel)\n",
    "        \n",
    "        ## Do fake data to determine size to linear \n",
    "        x = torch.randn(n_input,n_input).view(-1, 1, n_input, n_input)\n",
    "        self._to_linear = None \n",
    "        self.convs(x)        \n",
    "        self.fc1 = nn.Linear( self._to_linear, 128)\n",
    "        self.fc2 = nn.Linear(128, n_output)\n",
    "        \n",
    "        print('_to_linear', self._to_linear)\n",
    "        \n",
    "    def convs(self, x):\n",
    "        x = F.max_pool2d(F.relu(self.conv1(x)), (2,2) )\n",
    "        x = F.max_pool2d(F.relu(self.conv2(x)), (2,2) )\n",
    "        x = F.max_pool2d(F.relu(self.conv3(x)), (2,2) )\n",
    "        \n",
    "        if self._to_linear is None:\n",
    "            print( x.shape)\n",
    "            self._to_linear = x[0].shape[0] * x[0].shape[1] * x[0].shape[2]\n",
    "        return x \n",
    "    \n",
    "    def forward(self, x):\n",
    "        x = self.convs(x)  \n",
    "        x = x.view(-1, self._to_linear) #reshape flatten \n",
    "        x = F.relu( self.fc1(x))\n",
    "        x = F.log_softmax( self.fc2(x), dim=1)  \n",
    "        return x \n",
    "        "
   ]
  },
  {
   "cell_type": "code",
   "execution_count": 9,
   "metadata": {},
   "outputs": [
    {
     "name": "stdout",
     "output_type": "stream",
     "text": [
      "torch.Size([1, 128, 2, 2])\n",
      "_to_linear 512\n",
      "DogCatNet(\n",
      "  (conv1): Conv2d(1, 32, kernel_size=(5, 5), stride=(1, 1))\n",
      "  (conv2): Conv2d(32, 64, kernel_size=(5, 5), stride=(1, 1))\n",
      "  (conv3): Conv2d(64, 128, kernel_size=(5, 5), stride=(1, 1))\n",
      "  (fc1): Linear(in_features=512, out_features=128, bias=True)\n",
      "  (fc2): Linear(in_features=128, out_features=2, bias=True)\n",
      ")\n"
     ]
    }
   ],
   "source": [
    "dc_net = DogCatNet()\n",
    "print(dc_net)"
   ]
  },
  {
   "cell_type": "code",
   "execution_count": 12,
   "metadata": {},
   "outputs": [],
   "source": [
    "import torch.optim as optim\n",
    "optimizer = optim.Adam(dc_net.parameters(), lr=0.001)\n",
    "loss_func = nn.MSELoss()\n",
    "\n",
    "X = torch.Tensor([ i[0] for i in training_data]).view(-1, DogsVsCats.IMG_SIZE, DogsVsCats.IMG_SIZE)\n",
    "X = X/255.0 ## scale intensity values \n",
    "y = torch.Tensor([ i[1] for i in training_data]) "
   ]
  },
  {
   "cell_type": "code",
   "execution_count": 13,
   "metadata": {},
   "outputs": [
    {
     "name": "stdout",
     "output_type": "stream",
     "text": [
      "24946 17463 4989 2494\n",
      "torch.Size([17463, 50, 50]) torch.Size([4989, 50, 50]) torch.Size([2494, 50, 50])\n",
      "torch.Size([17463, 2]) torch.Size([4989, 2]) torch.Size([2494, 2])\n"
     ]
    }
   ],
   "source": [
    "N = len(X)\n",
    "n_test, n_val = 0.2, 0.1 \n",
    "n_test, n_val = int(0.2*N), int(0.1*N)\n",
    "x_N = N-(n_test+n_val)\n",
    "print(N, x_N, n_test, n_val )\n",
    "\n",
    "val_X, val_y = X[-n_val:], y[-n_val: ]\n",
    "test_X, test_y = X[ x_N: -n_val ], y[x_N:-n_val]\n",
    "train_X, train_y = X[:x_N], y[:x_N]\n",
    "\n",
    "print(train_X.shape, test_X.shape, val_X.shape)\n",
    "print(train_y.shape, test_y.shape, val_y.shape)"
   ]
  },
  {
   "cell_type": "code",
   "execution_count": 24,
   "metadata": {},
   "outputs": [
    {
     "name": "stderr",
     "output_type": "stream",
     "text": [
      "100%|██████████| 175/175 [01:24<00:00,  1.97it/s]\n",
      "  0%|          | 0/175 [00:00<?, ?it/s]"
     ]
    },
    {
     "name": "stdout",
     "output_type": "stream",
     "text": [
      "0 epoch loss: 1.6574649810791016\n"
     ]
    },
    {
     "name": "stderr",
     "output_type": "stream",
     "text": [
      "100%|██████████| 175/175 [01:27<00:00,  2.27it/s]\n",
      "  0%|          | 0/175 [00:00<?, ?it/s]"
     ]
    },
    {
     "name": "stdout",
     "output_type": "stream",
     "text": [
      "1 epoch loss: 1.6568198204040527\n"
     ]
    },
    {
     "name": "stderr",
     "output_type": "stream",
     "text": [
      "100%|██████████| 175/175 [01:24<00:00,  2.20it/s]"
     ]
    },
    {
     "name": "stdout",
     "output_type": "stream",
     "text": [
      "2 epoch loss: 1.6557691097259521\n"
     ]
    },
    {
     "name": "stderr",
     "output_type": "stream",
     "text": [
      "\n"
     ]
    }
   ],
   "source": [
    "BATCH_SIZE = 100\n",
    "EPOCHS = 3\n",
    "\n",
    "for epoch in range(EPOCHS):\n",
    "    for i in tqdm(range(0, len(train_X), BATCH_SIZE) ):\n",
    "        #print(f\"Epoch {epoch}: {i} \\t {i+BATCH_SIZE}\")\n",
    "        batch_X = train_X[i : (i+BATCH_SIZE)].view(-1, 1, DogsVsCats.IMG_SIZE, DogsVsCats.IMG_SIZE) ##TODOmatch model IMG_SIZE\n",
    "        batch_y = train_y[i : (i+BATCH_SIZE)]\n",
    "        \n",
    "        # zero the gradients mode.zero_grad Vs optimizer.zero_Grad @@ freezing weights, multiple optimizers in same model, \n",
    "        dc_net.zero_grad() \n",
    "        # pred\n",
    "        predz = dc_net(batch_X)\n",
    "        # loss and backprop\n",
    "        loss = loss_func(predz, batch_y)\n",
    "        loss.backward()\n",
    "        optimizer.step()\n",
    "        \n",
    "    print(f\"{epoch} epoch loss: {loss}\" )\n",
    "        "
   ]
  },
  {
   "cell_type": "code",
   "execution_count": 25,
   "metadata": {},
   "outputs": [
    {
     "name": "stderr",
     "output_type": "stream",
     "text": [
      "100%|██████████| 4989/4989 [00:18<00:00, 272.00it/s]"
     ]
    },
    {
     "name": "stdout",
     "output_type": "stream",
     "text": [
      "Accuracy: 0.675\n"
     ]
    },
    {
     "name": "stderr",
     "output_type": "stream",
     "text": [
      "\n"
     ]
    }
   ],
   "source": [
    "## Accuracy\n",
    "correct, total = 0, 0\n",
    "with torch.no_grad():\n",
    "    for i in tqdm(range(len(test_X)) ):\n",
    "        real_y = torch.argmax( test_y[i] )\n",
    "        net_res = dc_net(test_X[i].view(-1,1,DogsVsCats.IMG_SIZE,DogsVsCats.IMG_SIZE))[0]\n",
    "        pred_y = torch.argmax(net_res)\n",
    "        if pred_y == real_y:\n",
    "            correct += 1\n",
    "        total +=1\n",
    "            \n",
    "print(f\"Accuracy: {round(correct/total, 3)}\")\n",
    "    "
   ]
  },
  {
   "cell_type": "code",
   "execution_count": 26,
   "metadata": {},
   "outputs": [
    {
     "name": "stdout",
     "output_type": "stream",
     "text": [
      "tensor(1)  ==  tensor(1) <<  torch.Size([2]) tensor([-0.7490, -0.6402])\n"
     ]
    }
   ],
   "source": [
    "print(real_y, \" == \", pred_y, \"<< \", net_res.shape, net_res)"
   ]
  },
  {
   "cell_type": "code",
   "execution_count": 27,
   "metadata": {
    "scrolled": false
   },
   "outputs": [],
   "source": [
    "# weights = np.array([x for x in net.parameters()])\n",
    "# weights.shape\n",
    "# weights"
   ]
  },
  {
   "cell_type": "markdown",
   "metadata": {},
   "source": [
    "## CUDA"
   ]
  },
  {
   "cell_type": "code",
   "execution_count": 14,
   "metadata": {},
   "outputs": [
    {
     "data": {
      "text/plain": [
       "False"
      ]
     },
     "execution_count": 14,
     "metadata": {},
     "output_type": "execute_result"
    }
   ],
   "source": [
    "torch.cuda.is_available()"
   ]
  },
  {
   "cell_type": "code",
   "execution_count": 15,
   "metadata": {},
   "outputs": [
    {
     "data": {
      "text/plain": [
       "device(type='cuda', index=0)"
      ]
     },
     "execution_count": 15,
     "metadata": {},
     "output_type": "execute_result"
    }
   ],
   "source": [
    "device = torch.device(\"cuda:0\")\n",
    "device"
   ]
  },
  {
   "cell_type": "code",
   "execution_count": 16,
   "metadata": {},
   "outputs": [
    {
     "name": "stdout",
     "output_type": "stream",
     "text": [
      "Running on:  cpu\n"
     ]
    }
   ],
   "source": [
    "if torch.cuda.is_available():\n",
    "    device = torch.device(\"cuda:0\")\n",
    "else:\n",
    "    device = torch.device(\"cpu\")\n",
    "print(\"Running on: \", device)"
   ]
  },
  {
   "cell_type": "code",
   "execution_count": 17,
   "metadata": {},
   "outputs": [
    {
     "data": {
      "text/plain": [
       "0"
      ]
     },
     "execution_count": 17,
     "metadata": {},
     "output_type": "execute_result"
    }
   ],
   "source": [
    "## Can assign different parts of the network or even layers to different GPUs\n",
    "torch.cuda.device_count()"
   ]
  },
  {
   "cell_type": "code",
   "execution_count": 18,
   "metadata": {},
   "outputs": [
    {
     "ename": "NameError",
     "evalue": "name 'net' is not defined",
     "output_type": "error",
     "traceback": [
      "\u001b[0;31m---------------------------------------------------------------------------\u001b[0m",
      "\u001b[0;31mNameError\u001b[0m                                 Traceback (most recent call last)",
      "\u001b[0;32m<ipython-input-18-13f50e3e50f2>\u001b[0m in \u001b[0;36m<module>\u001b[0;34m\u001b[0m\n\u001b[1;32m      1\u001b[0m \u001b[0;31m## Move ops to GPU for the parts that you need AND also batch level switch between GPU and CPU <<< tensors on GPU can only interact with tensors on the GPU\u001b[0m\u001b[0;34m\u001b[0m\u001b[0;34m\u001b[0m\u001b[0;34m\u001b[0m\u001b[0m\n\u001b[0;32m----> 2\u001b[0;31m \u001b[0mnet\u001b[0m\u001b[0;34m.\u001b[0m\u001b[0mto\u001b[0m\u001b[0;34m(\u001b[0m\u001b[0mdevice\u001b[0m\u001b[0;34m)\u001b[0m\u001b[0;34m\u001b[0m\u001b[0;34m\u001b[0m\u001b[0m\n\u001b[0m\u001b[1;32m      3\u001b[0m \u001b[0mnet2\u001b[0m \u001b[0;34m=\u001b[0m \u001b[0mDogCatNet\u001b[0m\u001b[0;34m(\u001b[0m\u001b[0;34m)\u001b[0m\u001b[0;34m.\u001b[0m\u001b[0mto\u001b[0m\u001b[0;34m(\u001b[0m\u001b[0mdevice\u001b[0m\u001b[0;34m)\u001b[0m\u001b[0;34m\u001b[0m\u001b[0;34m\u001b[0m\u001b[0m\n\u001b[1;32m      4\u001b[0m \u001b[0mnet2\u001b[0m\u001b[0;34m\u001b[0m\u001b[0;34m\u001b[0m\u001b[0m\n\u001b[1;32m      5\u001b[0m \u001b[0;34m\u001b[0m\u001b[0m\n",
      "\u001b[0;31mNameError\u001b[0m: name 'net' is not defined"
     ]
    }
   ],
   "source": [
    "## Move ops to GPU for the parts that you need AND also batch level switch between GPU and CPU <<< tensors on GPU can only interact with tensors on the GPU\n",
    "net.to(device)\n",
    "net2 = DogCatNet().to(device)\n",
    "net2\n",
    "\n",
    "## Ditto at optimizer, loss_func and batchez\n",
    "# - state optimizer and loss within the train methods or after device setup \n",
    "# - batch_X, batch_y = batch_X.to(device), batch_y.to(device)"
   ]
  },
  {
   "cell_type": "markdown",
   "metadata": {},
   "source": [
    "# Visualizaing Model Performance\n",
    "- in/out sample accuracy and loss"
   ]
  },
  {
   "cell_type": "code",
   "execution_count": 18,
   "metadata": {},
   "outputs": [],
   "source": [
    "## Train and Test concurrently \n",
    "def fwd_pass(net, X, y, loss_func, optimizer, train=False):\n",
    "    if train:\n",
    "        net.zero_grad()\n",
    "    outputs = net(X)\n",
    "    matches = [ torch.argmax(i) == torch.argmax(j) for i,j in zip(outputs,y)]\n",
    "    acc = matches.count(True)/len(matches) \n",
    "    loss = loss_func(outputs, y)\n",
    "    \n",
    "    if train:\n",
    "        loss.backward()\n",
    "        optimizer.step()\n",
    "    return acc, loss\n",
    "\n",
    "\n",
    "def test(net, test_X, test_y, loss_func, optimizer, size=32,\n",
    "         imgx=DogsVsCats.IMG_SIZE, imgy=DogsVsCats.IMG_SIZE):\n",
    "    i = np.random.randint( len(test_X) - size )\n",
    "    X, y = test_X[i:i+size], test_y[i:i+size]\n",
    "    with torch.no_grad():\n",
    "        val_acc, val_loss = fwd_pass(net, \n",
    "                                 X.view(-1, 1, imgx, imgy).to(device), \n",
    "                                 y.to(device), \n",
    "                                 loss_func, optimizer )\n",
    "    \n",
    "    return val_acc, val_loss\n",
    "    "
   ]
  },
  {
   "cell_type": "code",
   "execution_count": 19,
   "metadata": {},
   "outputs": [
    {
     "name": "stdout",
     "output_type": "stream",
     "text": [
      "batch size = 30 Test: 0.4666666666666667 \t 1.6736030578613281\n",
      "batch size = 80 Test: 0.5375 \t 1.6727049350738525\n",
      "batch size = 130 Test: 0.5461538461538461 \t 1.6733087301254272\n",
      "batch size = 180 Test: 0.4722222222222222 \t 1.6733580827713013\n",
      "batch size = 230 Test: 0.5260869565217391 \t 1.673205018043518\n",
      "batch size = 280 Test: 0.5071428571428571 \t 1.6732876300811768\n",
      "batch size = 330 Test: 0.48787878787878786 \t 1.6735724210739136\n",
      "batch size = 380 Test: 0.531578947368421 \t 1.6731740236282349\n",
      "batch size = 430 Test: 0.5069767441860465 \t 1.6735199689865112\n",
      "batch size = 480 Test: 0.50625 \t 1.6733976602554321\n"
     ]
    },
    {
     "data": {
      "image/png": "[encoded data removed]",
      "text/plain": [
       "<Figure size 432x288 with 1 Axes>"
      ]
     },
     "metadata": {
      "needs_background": "light"
     },
     "output_type": "display_data"
    }
   ],
   "source": [
    "val_accz, val_losz = [], []\n",
    "for s in range(30, 500, 50):\n",
    "    val_acc, val_loss = test(dc_net, test_X, test_y, loss_func, optimizer, size=s)\n",
    "    val_accz.append(val_acc)\n",
    "    val_losz.append( val_loss)\n",
    "    print(f\"batch size = {s} Test: {val_acc} \\t {val_loss}\")\n",
    "    \n",
    "ss = [s for s in range(30, 500, 50)]\n",
    "plt.plot(ss, val_accz, label='acc')\n",
    "plt.plot(ss, val_losz, label='loss')\n",
    "plt.xlabel('batch size')\n",
    "plt.legend()\n",
    "plt.show();"
   ]
  },
  {
   "cell_type": "code",
   "execution_count": 20,
   "metadata": {},
   "outputs": [
    {
     "name": "stdout",
     "output_type": "stream",
     "text": [
      "dc_net_1612457566\n"
     ]
    }
   ],
   "source": [
    "import time\n",
    "\n",
    "MODEL_NAME = f'dc_net_{int(time.time())}'\n",
    "print(MODEL_NAME)"
   ]
  },
  {
   "cell_type": "code",
   "execution_count": 21,
   "metadata": {},
   "outputs": [
    {
     "name": "stdout",
     "output_type": "stream",
     "text": [
      "torch.Size([1, 128, 2, 2])\n",
      "_to_linear 512\n"
     ]
    }
   ],
   "source": [
    "model = DogCatNet().to(device)\n",
    "\n",
    "optimizer = optim.Adam(dc_net.parameters(), lr=0.001)\n",
    "loss_func = nn.MSELoss()\n",
    "\n",
    "def train(net, train_X, train_y, test_X, test_y, \n",
    "          loss_func=loss_func, optimizer=optimizer, \n",
    "          train=True, epochs=5, batchsize=40,\n",
    "         imgx=DogsVsCats.IMG_SIZE, imgy=DogsVsCats.IMG_SIZE):\n",
    "    \n",
    "    accz, losz = [], []\n",
    "    val_accz, val_losz = [], []\n",
    "    ss = []\n",
    "    with open('model.log', \"a\") as fd:\n",
    "        for ep in range(epochs):\n",
    "            for i in tqdm(range(0, len(train_X), batchsize) ):\n",
    "                batch_X = train_X[i : (i+batchsize)].view(-1, 1, imgx,imgy) \n",
    "                batch_y = train_y[i : (i+batchsize)]              \n",
    "    \n",
    "                acc, loss = fwd_pass(net,batch_X.to(device), \n",
    "                                         batch_y.to(device), \n",
    "                                         loss_func, optimizer )\n",
    "        \n",
    "                if i % 50 == 0:\n",
    "                    v_acc, v_loss = test(net, test_X, test_y, \n",
    "                                         loss_func=loss_func, optimizer=optimizer,\n",
    "                                         size=batchsize)\n",
    "                    val_accz.append(v_acc)\n",
    "                    val_losz.append(v_loss)\n",
    "                    accz.append(acc)\n",
    "                    losz.append(loss)\n",
    "                    ss.append(i)\n",
    "            print(f\"epoch {ep}: {acc}, {loss}\")\n",
    "    \n",
    "    plt.subplot(1,2,1)\n",
    "    plt.plot(ss, val_accz, label='val_acc')    \n",
    "    plt.plot(ss, accz, label='train_acc')\n",
    "    plt.subplot(1,2,2)\n",
    "    plt.plot(ss, val_losz, label='val_loss')\n",
    "    plt.plot(ss, losz, label='train_loss')\n",
    "    plt.xlabel('epoch-batch')\n",
    "    plt.legend()\n",
    "    plt.show();"
   ]
  },
  {
   "cell_type": "code",
   "execution_count": 22,
   "metadata": {},
   "outputs": [
    {
     "name": "stderr",
     "output_type": "stream",
     "text": [
      "100%|██████████| 437/437 [00:33<00:00, 12.90it/s]\n",
      "  0%|          | 1/437 [00:00<01:03,  6.85it/s]"
     ]
    },
    {
     "name": "stdout",
     "output_type": "stream",
     "text": [
      "epoch 0: 0.4782608695652174, 1.6812458038330078\n"
     ]
    },
    {
     "name": "stderr",
     "output_type": "stream",
     "text": [
      "100%|██████████| 437/437 [00:42<00:00, 11.30it/s]\n"
     ]
    },
    {
     "name": "stdout",
     "output_type": "stream",
     "text": [
      "epoch 1: 0.4782608695652174, 1.6812458038330078\n"
     ]
    },
    {
     "data": {
      "image/png": "[encoded data removed]",
      "text/plain": [
       "<Figure size 432x288 with 2 Axes>"
      ]
     },
     "metadata": {
      "needs_background": "light"
     },
     "output_type": "display_data"
    }
   ],
   "source": [
    "train(model, train_X, train_y, test_X, test_y, epochs=2)"
   ]
  },
  {
   "cell_type": "code",
   "execution_count": null,
   "metadata": {},
   "outputs": [],
   "source": []
  }
 ],
 "metadata": {
  "kernelspec": {
   "display_name": "Python 3",
   "language": "python",
   "name": "python3"
  },
  "language_info": {
   "codemirror_mode": {
    "name": "ipython",
    "version": 3
   },
   "file_extension": ".py",
   "mimetype": "text/x-python",
   "name": "python",
   "nbconvert_exporter": "python",
   "pygments_lexer": "ipython3",
   "version": "3.7.3"
  }
 },
 "nbformat": 4,
 "nbformat_minor": 2
}
