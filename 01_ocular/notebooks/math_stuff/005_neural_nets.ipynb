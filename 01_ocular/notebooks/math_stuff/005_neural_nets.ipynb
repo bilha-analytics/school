version https://git-lfs.github.com/spec/v1
oid sha256:55934cacc485e14de41e002f45b2a951bdc233d8e629935d64626a686b3fd504
size 13346
