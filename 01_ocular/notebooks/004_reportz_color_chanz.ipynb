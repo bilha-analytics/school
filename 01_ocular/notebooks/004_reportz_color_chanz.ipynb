{
 "cells": [
  {
   "cell_type": "markdown",
   "id": "alleged-runner",
   "metadata": {},
   "source": [
    "# Fundus Image EDA - Color Channels"
   ]
  },
  {
   "cell_type": "code",
   "execution_count": 1,
   "id": "noble-gauge",
   "metadata": {},
   "outputs": [],
   "source": [
    "import warnings\n",
    "warnings.filterwarnings('ignore')\n",
    "from IPython.core.interactiveshell import InteractiveShell\n",
    "InteractiveShell.ast_node_interactivity = 'all'\n",
    "\n",
    "\n",
    "from tqdm import tqdm\n",
    "\n",
    "import numpy as np\n",
    "import pandas as pd\n",
    "import matplotlib.pyplot as plt\n",
    "\n",
    "%matplotlib inline \n",
    "\n",
    "##hack don't know why i suddenly need to do this :/\n",
    "plt.rcParams['axes.facecolor'] = 'white'"
   ]
  },
  {
   "cell_type": "code",
   "execution_count": 2,
   "id": "expensive-prompt",
   "metadata": {},
   "outputs": [],
   "source": [
    "import mflow\n",
    "from zdata import PdDataStats, ZPdDataset\n",
    "import utilz, content, preprocess, extract\n",
    "import report\n",
    "\n",
    "\n",
    "from sklearn.pipeline import Pipeline\n",
    "from sklearn.preprocessing import StandardScaler, PowerTransformer , OneHotEncoder \n",
    "from sklearn.linear_model import LogisticRegression\n",
    "from sklearn import svm \n"
   ]
  },
  {
   "cell_type": "code",
   "execution_count": 3,
   "id": "unexpected-funeral",
   "metadata": {},
   "outputs": [],
   "source": [
    "report.ZReporter.start(\"fundusEDA_Colorz\")"
   ]
  },
  {
   "cell_type": "code",
   "execution_count": null,
   "id": "rising-vatican",
   "metadata": {},
   "outputs": [],
   "source": [
    "pdstats = PdDataStats(\n",
    "                {PdDataStats.DATA_DICT_RECORDZ_KEY: content.STARE_FUNDUS_CONTENT_FPATH,\n",
    "                PdDataStats.DATA_DICT_HAS_HEADERZ_KEY: True,\n",
    "                'rec_parser': utilz.FileIO.row_parser                     \n",
    "                },\n",
    "                 ftype=PdDataStats.TYPE_TXT_LINES_FILE ) \n",
    "\n",
    "pdstats.dframe.describe() "
   ]
  }
 ],
 "metadata": {
  "kernelspec": {
   "display_name": "Python 3",
   "language": "python",
   "name": "python3"
  },
  "language_info": {
   "codemirror_mode": {
    "name": "ipython",
    "version": 3
   },
   "file_extension": ".py",
   "mimetype": "text/x-python",
   "name": "python",
   "nbconvert_exporter": "python",
   "pygments_lexer": "ipython3",
   "version": "3.7.9"
  }
 },
 "nbformat": 4,
 "nbformat_minor": 5
}
