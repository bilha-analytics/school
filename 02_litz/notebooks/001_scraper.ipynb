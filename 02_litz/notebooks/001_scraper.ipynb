{
 "cells": [
  {
   "cell_type": "code",
   "execution_count": 2,
   "metadata": {},
   "outputs": [],
   "source": [
    "import os, sys, glob\n",
    "import logging\n",
    "from datetime import datetime \n",
    "\n",
    "import pandas as pd\n",
    "import numpy as np\n",
    "import matplotlib.pyplot as plt\n",
    "\n",
    "%matplotlib inline "
   ]
  },
  {
   "cell_type": "code",
   "execution_count": 3,
   "metadata": {},
   "outputs": [],
   "source": [
    "#from newspaper3k import Article"
   ]
  },
  {
   "cell_type": "code",
   "execution_count": 4,
   "metadata": {},
   "outputs": [],
   "source": [
    "from twisted.internet import reactor\n",
    "import scrapy\n",
    "from scrapy.crawler import CrawlerProcess\n",
    "from scrapy.utils.project import get_project_settings\n",
    "from scrapy.settings import Settings"
   ]
  },
  {
   "cell_type": "code",
   "execution_count": 5,
   "metadata": {},
   "outputs": [],
   "source": [
    "class TargetObject: \n",
    "    def __init__(self, urlz, headerz, parser_xtra ):\n",
    "        self.urlz = urlz\n",
    "        self.headerz = headerz\n",
    "        self.parser_xtra = parser_xtra\n",
    "        print(\"Target: \", self.urlz)\n",
    "        \n"
   ]
  },
  {
   "cell_type": "code",
   "execution_count": 6,
   "metadata": {},
   "outputs": [],
   "source": [
    "class ArticlesFinder(scrapy.Spider):\n",
    "    name = \"articles_finder\"    \n",
    "\n",
    "    def start_requests(self):\n",
    "        print('starting articles_finder')\n",
    "        self.target = getattr(self, 'target', None)\n",
    "        print('target = ', target.__dict__)\n",
    "        if self.target.urlz:\n",
    "            for url in self.target.urlz:\n",
    "                yield scrapy.Request(url=url, \n",
    "                                     callback=self.parse,\n",
    "                                     headers={'User-Agent': \"Mozilla/5.0 (Windows NT 6.1; WOW64) AppleWebKit/537.1 (KHTML, like Gecko) Chrome/22.0.1207.1 Safari/537.1\"},\n",
    "                                     dont_filter=True,\n",
    "                                    meta={\"dont_merge_cookies\": True, 'position':0})\n",
    "    \n",
    "    def parse(self, response): \n",
    "        print(\"\\n****** starting parser - \") \n",
    "        page = response.url.split(\"/\")[-2]\n",
    "        result = response   \n",
    "        if self.target.parser_xtra:\n",
    "            yield self.target.parser_xtra( result )\n",
    "        else:\n",
    "            yield result.body\n",
    "        "
   ]
  },
  {
   "cell_type": "code",
   "execution_count": 6,
   "metadata": {
    "scrolled": true
   },
   "outputs": [
    {
     "name": "stdout",
     "output_type": "stream",
     "text": [
      "Target:  ['https://en.wikiquote.org/wiki/Marilyn_Manson']\n"
     ]
    }
   ],
   "source": [
    "# urlz = ['https://www.thelancet.com/coronavirus', ]\n",
    "##TODO: item pipelines \n",
    "name = \"articles_finder\" \n",
    "\n",
    "logger = {}\n",
    "# logger = {'LOG_LEVEL':logging.WARNING,}\n",
    "\n",
    "def crawl(target, fname, logger=logger):\n",
    "    config = get_project_settings() \n",
    "    config.update({'target': target,\n",
    "                  'FEED_FORMAT':'csv',\n",
    "                  'FEED_URI':fname, \n",
    "                  #**logger\n",
    "                  })\n",
    "\n",
    "    proc = CrawlerProcess( config )\n",
    "    # proc.crawl( ArticlesFinder )\n",
    "    #proc.crawl('quotes', 'dummyinput', **custom_settings_spider)\n",
    "    proc.crawl(ArticlesFinder, 'dummyinput', **config )\n",
    "    proc.start()\n",
    "    #reactor.stop()\n",
    "    print('FIN: ', fname)\n",
    "\n",
    "urlz = ['https://en.wikiquote.org/wiki/Marilyn_Manson', ]\n",
    "headerz = {}\n",
    "\n",
    "def parser_p(x):\n",
    "    for item in x.css('div.mw-parser-output > ul > li'):\n",
    "        return {'item':item.extract()}\n",
    "\n",
    "target = TargetObject(urlz, headerz, parser_p)\n",
    "\n",
    "# crawl(target, 'test.csv')"
   ]
  },
  {
   "cell_type": "markdown",
   "metadata": {},
   "source": [
    "# 2. Let's Quick and Dirty Find\n"
   ]
  },
  {
   "cell_type": "code",
   "execution_count": 7,
   "metadata": {
    "scrolled": true
   },
   "outputs": [],
   "source": [
    "from multiprocessing import Process, Queue\n",
    "from scrapy import crawler\n",
    "from twisted.internet import reactor\n",
    "from scrapy.utils.log import configure_logging\n",
    "\n",
    "configure_logging({'LOG_FORMAT': '%(levelname)s: %(message)s'})\n",
    "    \n",
    "def run_spider(spider, config):\n",
    "    def f(q):\n",
    "        try:\n",
    "            runner = crawler.CrawlerRunner(config)\n",
    "            deferred = runner.crawl(spider, **config )\n",
    "            deferred.addBoth( lambda _: reactor.stop() )\n",
    "            reactor.run() \n",
    "            q.put(None)\n",
    "            print( \"RAN \")\n",
    "        except Exception as e:\n",
    "            q.put(e)\n",
    "    q = Queue()\n",
    "    p = Process(target=f, args=(q,) )\n",
    "    p.start()\n",
    "    result = q.get()\n",
    "    p.join() \n",
    "    if result is not None:\n",
    "        raise result"
   ]
  },
  {
   "cell_type": "code",
   "execution_count": 8,
   "metadata": {},
   "outputs": [],
   "source": [
    "name = \"articles_finder\" \n",
    "#logger = {'LOG_LEVEL':logging.WARNING,}\n",
    "\n",
    "def crawl_articles(target, fname, logger=logger):\n",
    "    config = get_project_settings() \n",
    "    config.update({'target': target, \n",
    "                  'FEEDS': { fname:{ 'format': 'csv',}}, ##f\"~/Repoz/school/02_ocular/{fname}\", \n",
    "                  #**logger\n",
    "                  })\n",
    "#     print( config.keys() )\n",
    "    run_spider(ArticlesFinder, config) \n",
    "    print('FIN: ', fname)\n"
   ]
  },
  {
   "cell_type": "code",
   "execution_count": 9,
   "metadata": {},
   "outputs": [],
   "source": [
    "## 1. Elsevier\n",
    "def parser_gscholar(x):\n",
    "    for item in x.css('div.mw-parser-output > ul > li'):\n",
    "        print( item.extract() )\n",
    "        return {'item':item.extract()}\n",
    "\n",
    "#/html/body/main/div[1]/div/div/div/div/div[2]/div[2]/div\n",
    "def parser_elsevier(x): #div.search-result-items > \n",
    "    for item in x.css('article > header'): \n",
    "        res = {'title': item.css('h2').extract(),\n",
    "               'text': item.css('div.search-result-text ').extract(),\n",
    "               'link': item.css('ul > li > a').extract(),}\n",
    "        print( res )\n",
    "        return res\n",
    "\n",
    "def parser_ieee(x):\n",
    "    return x\n",
    "\n",
    "def parser_jama(x):\n",
    "    return x\n",
    "\n",
    "def parser_nature(x):\n",
    "    return x\n",
    "\n",
    "def parser_lancet(x):\n",
    "    return x\n"
   ]
  },
  {
   "cell_type": "code",
   "execution_count": 10,
   "metadata": {
    "scrolled": true
   },
   "outputs": [
    {
     "name": "stdout",
     "output_type": "stream",
     "text": [
      "Target:  ['https://en.wikiquote.org/wiki/Marilyn_Manson']\n"
     ]
    },
    {
     "name": "stderr",
     "output_type": "stream",
     "text": [
      "INFO: Overridden settings:\n",
      "{}\n",
      "2021-03-16 16:43:19 [scrapy.extensions.telnet] INFO: Telnet Password: c893391c53a0f51c\n",
      "2021-03-16 16:43:19 [scrapy.middleware] INFO: Enabled extensions:\n",
      "['scrapy.extensions.corestats.CoreStats',\n",
      " 'scrapy.extensions.telnet.TelnetConsole',\n",
      " 'scrapy.extensions.memusage.MemoryUsage',\n",
      " 'scrapy.extensions.feedexport.FeedExporter',\n",
      " 'scrapy.extensions.logstats.LogStats']\n",
      "2021-03-16 16:43:19 [scrapy.middleware] INFO: Enabled downloader middlewares:\n",
      "['scrapy.downloadermiddlewares.httpauth.HttpAuthMiddleware',\n",
      " 'scrapy.downloadermiddlewares.downloadtimeout.DownloadTimeoutMiddleware',\n",
      " 'scrapy.downloadermiddlewares.defaultheaders.DefaultHeadersMiddleware',\n",
      " 'scrapy.downloadermiddlewares.useragent.UserAgentMiddleware',\n",
      " 'scrapy.downloadermiddlewares.retry.RetryMiddleware',\n",
      " 'scrapy.downloadermiddlewares.redirect.MetaRefreshMiddleware',\n",
      " 'scrapy.downloadermiddlewares.httpcompression.HttpCompressionMiddleware',\n",
      " 'scrapy.downloadermiddlewares.redirect.RedirectMiddleware',\n",
      " 'scrapy.downloadermiddlewares.cookies.CookiesMiddleware',\n",
      " 'scrapy.downloadermiddlewares.httpproxy.HttpProxyMiddleware',\n",
      " 'scrapy.downloadermiddlewares.stats.DownloaderStats']\n",
      "2021-03-16 16:43:19 [scrapy.middleware] INFO: Enabled spider middlewares:\n",
      "['scrapy.spidermiddlewares.httperror.HttpErrorMiddleware',\n",
      " 'scrapy.spidermiddlewares.offsite.OffsiteMiddleware',\n",
      " 'scrapy.spidermiddlewares.referer.RefererMiddleware',\n",
      " 'scrapy.spidermiddlewares.urllength.UrlLengthMiddleware',\n",
      " 'scrapy.spidermiddlewares.depth.DepthMiddleware']\n",
      "2021-03-16 16:43:19 [scrapy.middleware] INFO: Enabled item pipelines:\n",
      "[]\n",
      "2021-03-16 16:43:19 [scrapy.core.engine] INFO: Spider opened\n",
      "2021-03-16 16:43:19 [scrapy.extensions.logstats] INFO: Crawled 0 pages (at 0 pages/min), scraped 0 items (at 0 items/min)\n",
      "2021-03-16 16:43:19 [scrapy.extensions.telnet] INFO: Telnet console listening on 127.0.0.1:6023\n"
     ]
    },
    {
     "name": "stdout",
     "output_type": "stream",
     "text": [
      "starting articles_finder\n",
      "target =  {'urlz': ['https://en.wikiquote.org/wiki/Marilyn_Manson'], 'headerz': {'DEFAULT_REQUEST_HEADERS': {'User-Agent': 'Mozilla/5.0 (Windows NT 6.1; WOW64) AppleWebKit/537.1 (KHTML, like Gecko) Chrome/22.0.1207.1 Safari/537.1'}}, 'parser_xtra': <function parser_gscholar at 0x7eff64effa60>}\n"
     ]
    },
    {
     "name": "stderr",
     "output_type": "stream",
     "text": [
      "2021-03-16 16:43:20 [scrapy.core.engine] DEBUG: Crawled (200) <GET https://en.wikiquote.org/wiki/Marilyn_Manson> (referer: None)\n"
     ]
    },
    {
     "name": "stdout",
     "output_type": "stream",
     "text": [
      "\n",
      "****** starting parser - \n",
      "<li>If people really stopped and realized how much art and creative people move the world versus politics and religion, I mean it’s not even up for debate. An artist at least creates things, puts things into the world. Where as these other people are destroying things, taking things out of the world.\n",
      "<ul><li>Interview on <i>The Henry Rollins Show</i></li></ul></li>\n"
     ]
    },
    {
     "name": "stderr",
     "output_type": "stream",
     "text": [
      "2021-03-16 16:43:20 [scrapy.core.scraper] DEBUG: Scraped from <200 https://en.wikiquote.org/wiki/Marilyn_Manson>\n",
      "{'item': '<li>If people really stopped and realized how much art and creative people move the world versus politics and religion, I mean it’s not even up for debate. An artist at least creates things, puts things into the world. Where as these other people are destroying things, taking things out of the world.\\n<ul><li>Interview on <i>The Henry Rollins Show</i></li></ul></li>'}\n",
      "2021-03-16 16:43:20 [scrapy.core.engine] INFO: Closing spider (finished)\n",
      "2021-03-16 16:43:20 [scrapy.extensions.feedexport] INFO: Stored csv feed (1 items) in: gscholar.csv\n",
      "2021-03-16 16:43:20 [scrapy.statscollectors] INFO: Dumping Scrapy stats:\n",
      "{'downloader/request_bytes': 306,\n",
      " 'downloader/request_count': 1,\n",
      " 'downloader/request_method_count/GET': 1,\n",
      " 'downloader/response_bytes': 17370,\n",
      " 'downloader/response_count': 1,\n",
      " 'downloader/response_status_count/200': 1,\n",
      " 'elapsed_time_seconds': 0.836454,\n",
      " 'finish_reason': 'finished',\n",
      " 'finish_time': datetime.datetime(2021, 3, 16, 13, 43, 20, 335153),\n",
      " 'item_scraped_count': 1,\n",
      " 'log_count/DEBUG': 2,\n",
      " 'log_count/INFO': 11,\n",
      " 'memusage/max': 115994624,\n",
      " 'memusage/startup': 115994624,\n",
      " 'response_received_count': 1,\n",
      " 'scheduler/dequeued': 1,\n",
      " 'scheduler/dequeued/memory': 1,\n",
      " 'scheduler/enqueued': 1,\n",
      " 'scheduler/enqueued/memory': 1,\n",
      " 'start_time': datetime.datetime(2021, 3, 16, 13, 43, 19, 498699)}\n",
      "2021-03-16 16:43:20 [scrapy.core.engine] INFO: Spider closed (finished)\n"
     ]
    },
    {
     "name": "stdout",
     "output_type": "stream",
     "text": [
      "RAN \n",
      "FIN:  gscholar.csv\n",
      "Target:  ['https://www.elsevier.com/search-results?query=fundus%20handcrafted%20features&labels=journals']\n"
     ]
    },
    {
     "name": "stderr",
     "output_type": "stream",
     "text": [
      "INFO: Overridden settings:\n",
      "{}\n",
      "2021-03-16 16:43:20 [scrapy.extensions.telnet] INFO: Telnet Password: d84b7c1ad84aefe5\n",
      "2021-03-16 16:43:20 [scrapy.middleware] INFO: Enabled extensions:\n",
      "['scrapy.extensions.corestats.CoreStats',\n",
      " 'scrapy.extensions.telnet.TelnetConsole',\n",
      " 'scrapy.extensions.memusage.MemoryUsage',\n",
      " 'scrapy.extensions.feedexport.FeedExporter',\n",
      " 'scrapy.extensions.logstats.LogStats']\n",
      "2021-03-16 16:43:20 [scrapy.middleware] INFO: Enabled downloader middlewares:\n",
      "['scrapy.downloadermiddlewares.httpauth.HttpAuthMiddleware',\n",
      " 'scrapy.downloadermiddlewares.downloadtimeout.DownloadTimeoutMiddleware',\n",
      " 'scrapy.downloadermiddlewares.defaultheaders.DefaultHeadersMiddleware',\n",
      " 'scrapy.downloadermiddlewares.useragent.UserAgentMiddleware',\n",
      " 'scrapy.downloadermiddlewares.retry.RetryMiddleware',\n",
      " 'scrapy.downloadermiddlewares.redirect.MetaRefreshMiddleware',\n",
      " 'scrapy.downloadermiddlewares.httpcompression.HttpCompressionMiddleware',\n",
      " 'scrapy.downloadermiddlewares.redirect.RedirectMiddleware',\n",
      " 'scrapy.downloadermiddlewares.cookies.CookiesMiddleware',\n",
      " 'scrapy.downloadermiddlewares.httpproxy.HttpProxyMiddleware',\n",
      " 'scrapy.downloadermiddlewares.stats.DownloaderStats']\n",
      "2021-03-16 16:43:20 [scrapy.middleware] INFO: Enabled spider middlewares:\n",
      "['scrapy.spidermiddlewares.httperror.HttpErrorMiddleware',\n",
      " 'scrapy.spidermiddlewares.offsite.OffsiteMiddleware',\n",
      " 'scrapy.spidermiddlewares.referer.RefererMiddleware',\n",
      " 'scrapy.spidermiddlewares.urllength.UrlLengthMiddleware',\n",
      " 'scrapy.spidermiddlewares.depth.DepthMiddleware']\n",
      "2021-03-16 16:43:20 [scrapy.middleware] INFO: Enabled item pipelines:\n",
      "[]\n",
      "2021-03-16 16:43:20 [scrapy.core.engine] INFO: Spider opened\n",
      "2021-03-16 16:43:20 [scrapy.extensions.logstats] INFO: Crawled 0 pages (at 0 pages/min), scraped 0 items (at 0 items/min)\n",
      "2021-03-16 16:43:20 [scrapy.extensions.telnet] INFO: Telnet console listening on 127.0.0.1:6023\n"
     ]
    },
    {
     "name": "stdout",
     "output_type": "stream",
     "text": [
      "starting articles_finder\n",
      "target =  {'urlz': ['https://www.elsevier.com/search-results?query=fundus%20handcrafted%20features&labels=journals'], 'headerz': {'DEFAULT_REQUEST_HEADERS': {'User-Agent': 'Mozilla/5.0 (Windows NT 6.1; WOW64) AppleWebKit/537.1 (KHTML, like Gecko) Chrome/22.0.1207.1 Safari/537.1'}}, 'parser_xtra': <function parser_elsevier at 0x7eff64effae8>}\n"
     ]
    },
    {
     "name": "stderr",
     "output_type": "stream",
     "text": [
      "2021-03-16 16:43:24 [scrapy.core.engine] DEBUG: Crawled (200) <GET https://www.elsevier.com/search-results?query=fundus%20handcrafted%20features&labels=journals> (referer: None)\n"
     ]
    },
    {
     "name": "stdout",
     "output_type": "stream",
     "text": [
      "\n",
      "****** starting parser - \n",
      "{'title': ['<h2 class=\"search-result-title search-result-journal-title\" data-v-7cc532f4><a href=\"https://www.journals.elsevier.com/journal-of-prosthetic-dentistry\" data-v-7cc532f4>Journal of Prosthetic Dentistry</a></h2>'], 'text': [], 'link': []}\n"
     ]
    },
    {
     "name": "stderr",
     "output_type": "stream",
     "text": [
      "2021-03-16 16:43:24 [scrapy.core.scraper] DEBUG: Scraped from <200 https://www.elsevier.com/search-results?query=fundus%20handcrafted%20features&labels=journals>\n",
      "{'title': ['<h2 class=\"search-result-title search-result-journal-title\" data-v-7cc532f4><a href=\"https://www.journals.elsevier.com/journal-of-prosthetic-dentistry\" data-v-7cc532f4>Journal of Prosthetic Dentistry</a></h2>'], 'text': [], 'link': []}\n",
      "2021-03-16 16:43:24 [scrapy.core.engine] INFO: Closing spider (finished)\n",
      "2021-03-16 16:43:24 [scrapy.extensions.feedexport] INFO: Stored csv feed (1 items) in: elsevier.csv\n",
      "2021-03-16 16:43:24 [scrapy.statscollectors] INFO: Dumping Scrapy stats:\n",
      "{'downloader/request_bytes': 355,\n",
      " 'downloader/request_count': 1,\n",
      " 'downloader/request_method_count/GET': 1,\n",
      " 'downloader/response_bytes': 65122,\n",
      " 'downloader/response_count': 1,\n",
      " 'downloader/response_status_count/200': 1,\n",
      " 'elapsed_time_seconds': 3.794108,\n",
      " 'finish_reason': 'finished',\n",
      " 'finish_time': datetime.datetime(2021, 3, 16, 13, 43, 24, 498474),\n",
      " 'item_scraped_count': 1,\n",
      " 'log_count/DEBUG': 2,\n",
      " 'log_count/INFO': 11,\n",
      " 'memusage/max': 116137984,\n",
      " 'memusage/startup': 116137984,\n",
      " 'response_received_count': 1,\n",
      " 'scheduler/dequeued': 1,\n",
      " 'scheduler/dequeued/memory': 1,\n",
      " 'scheduler/enqueued': 1,\n",
      " 'scheduler/enqueued/memory': 1,\n",
      " 'start_time': datetime.datetime(2021, 3, 16, 13, 43, 20, 704366)}\n",
      "2021-03-16 16:43:24 [scrapy.core.engine] INFO: Spider closed (finished)\n"
     ]
    },
    {
     "name": "stdout",
     "output_type": "stream",
     "text": [
      "RAN \n",
      "FIN:  elsevier.csv\n"
     ]
    }
   ],
   "source": [
    "# 'https://scholar.google.com/scholar?' + urlencode({'hl': 'en', 'q': query})\n",
    "\n",
    "## Url, Headerz, Parser, Fname = u, h, p, f \n",
    "headerz = {'User-Agent': \"Mozilla/5.0 (Windows NT 6.1; WOW64) AppleWebKit/537.1 (KHTML, like Gecko) Chrome/22.0.1207.1 Safari/537.1\"}\n",
    "targetz = [(['https://en.wikiquote.org/wiki/Marilyn_Manson',], {'DEFAULT_REQUEST_HEADERS': headerz}, parser_gscholar, \"gscholar.csv\"),\n",
    "           (['https://www.elsevier.com/search-results?query=fundus%20handcrafted%20features&labels=journals',], {'DEFAULT_REQUEST_HEADERS': headerz}, parser_elsevier, \"elsevier.csv\"), \n",
    "          ]\n",
    "for u, h, p, f in targetz:\n",
    "    target = TargetObject(u, h, p)\n",
    "    crawl_articles(target, f) "
   ]
  },
  {
   "cell_type": "markdown",
   "metadata": {},
   "source": [
    "# Scopus API - Elsevier\n",
    "\n",
    "https://dev.elsevier.com/\n",
    "\n",
    "\n",
    "\n",
    "https://kitchingroup.cheme.cmu.edu/blog/2015/04/03/Getting-data-from-the-Scopus-API/ \n",
    "\n",
    "\n",
    "PyScopus http://zhiyzuo.github.io/python-scopus/ \n"
   ]
  },
  {
   "cell_type": "code",
   "execution_count": 16,
   "metadata": {
    "scrolled": true
   },
   "outputs": [
    {
     "name": "stdout",
     "output_type": "stream",
     "text": [
      "Target:  ['https://en.wikiquote.org/wiki/Marilyn_Manson']\n"
     ]
    },
    {
     "name": "stderr",
     "output_type": "stream",
     "text": [
      "INFO: Overridden settings:\n",
      "{}\n",
      "2021-03-16 16:44:49 [scrapy.extensions.telnet] INFO: Telnet Password: deb1c6186ee95888\n",
      "2021-03-16 16:44:49 [scrapy.middleware] INFO: Enabled extensions:\n",
      "['scrapy.extensions.corestats.CoreStats',\n",
      " 'scrapy.extensions.telnet.TelnetConsole',\n",
      " 'scrapy.extensions.memusage.MemoryUsage',\n",
      " 'scrapy.extensions.feedexport.FeedExporter',\n",
      " 'scrapy.extensions.logstats.LogStats']\n",
      "2021-03-16 16:44:49 [scrapy.middleware] INFO: Enabled downloader middlewares:\n",
      "['scrapy.downloadermiddlewares.httpauth.HttpAuthMiddleware',\n",
      " 'scrapy.downloadermiddlewares.downloadtimeout.DownloadTimeoutMiddleware',\n",
      " 'scrapy.downloadermiddlewares.defaultheaders.DefaultHeadersMiddleware',\n",
      " 'scrapy.downloadermiddlewares.useragent.UserAgentMiddleware',\n",
      " 'scrapy.downloadermiddlewares.retry.RetryMiddleware',\n",
      " 'scrapy.downloadermiddlewares.redirect.MetaRefreshMiddleware',\n",
      " 'scrapy.downloadermiddlewares.httpcompression.HttpCompressionMiddleware',\n",
      " 'scrapy.downloadermiddlewares.redirect.RedirectMiddleware',\n",
      " 'scrapy.downloadermiddlewares.cookies.CookiesMiddleware',\n",
      " 'scrapy.downloadermiddlewares.httpproxy.HttpProxyMiddleware',\n",
      " 'scrapy.downloadermiddlewares.stats.DownloaderStats']\n",
      "2021-03-16 16:44:49 [scrapy.middleware] INFO: Enabled spider middlewares:\n",
      "['scrapy.spidermiddlewares.httperror.HttpErrorMiddleware',\n",
      " 'scrapy.spidermiddlewares.offsite.OffsiteMiddleware',\n",
      " 'scrapy.spidermiddlewares.referer.RefererMiddleware',\n",
      " 'scrapy.spidermiddlewares.urllength.UrlLengthMiddleware',\n",
      " 'scrapy.spidermiddlewares.depth.DepthMiddleware']\n",
      "2021-03-16 16:44:49 [scrapy.middleware] INFO: Enabled item pipelines:\n",
      "[]\n",
      "2021-03-16 16:44:49 [scrapy.core.engine] INFO: Spider opened\n",
      "2021-03-16 16:44:49 [scrapy.extensions.logstats] INFO: Crawled 0 pages (at 0 pages/min), scraped 0 items (at 0 items/min)\n",
      "2021-03-16 16:44:49 [scrapy.extensions.telnet] INFO: Telnet console listening on 127.0.0.1:6023\n"
     ]
    },
    {
     "name": "stdout",
     "output_type": "stream",
     "text": [
      "starting articles_finder\n",
      "target =  {'urlz': ['https://en.wikiquote.org/wiki/Marilyn_Manson'], 'headerz': {'DEFAULT_REQUEST_HEADERS': {'User-Agent': 'Mozilla/5.0 (Windows NT 6.1; WOW64) AppleWebKit/537.1 (KHTML, like Gecko) Chrome/22.0.1207.1 Safari/537.1'}}, 'parser_xtra': <function parser_gscholar at 0x7eff64effa60>}\n"
     ]
    },
    {
     "name": "stderr",
     "output_type": "stream",
     "text": [
      "2021-03-16 16:44:50 [scrapy.core.engine] DEBUG: Crawled (200) <GET https://en.wikiquote.org/wiki/Marilyn_Manson> (referer: None)\n"
     ]
    },
    {
     "name": "stdout",
     "output_type": "stream",
     "text": [
      "\n",
      "****** starting parser - \n",
      "<li>If people really stopped and realized how much art and creative people move the world versus politics and religion, I mean it’s not even up for debate. An artist at least creates things, puts things into the world. Where as these other people are destroying things, taking things out of the world.\n",
      "<ul><li>Interview on <i>The Henry Rollins Show</i></li></ul></li>\n"
     ]
    },
    {
     "name": "stderr",
     "output_type": "stream",
     "text": [
      "2021-03-16 16:44:50 [scrapy.core.scraper] DEBUG: Scraped from <200 https://en.wikiquote.org/wiki/Marilyn_Manson>\n",
      "{'item': '<li>If people really stopped and realized how much art and creative people move the world versus politics and religion, I mean it’s not even up for debate. An artist at least creates things, puts things into the world. Where as these other people are destroying things, taking things out of the world.\\n<ul><li>Interview on <i>The Henry Rollins Show</i></li></ul></li>'}\n",
      "2021-03-16 16:44:50 [scrapy.core.engine] INFO: Closing spider (finished)\n",
      "2021-03-16 16:44:50 [scrapy.extensions.feedexport] INFO: Stored csv feed (1 items) in: gscholar.csv\n",
      "2021-03-16 16:44:50 [scrapy.statscollectors] INFO: Dumping Scrapy stats:\n",
      "{'downloader/request_bytes': 306,\n",
      " 'downloader/request_count': 1,\n",
      " 'downloader/request_method_count/GET': 1,\n",
      " 'downloader/response_bytes': 17371,\n",
      " 'downloader/response_count': 1,\n",
      " 'downloader/response_status_count/200': 1,\n",
      " 'elapsed_time_seconds': 0.984737,\n",
      " 'finish_reason': 'finished',\n",
      " 'finish_time': datetime.datetime(2021, 3, 16, 13, 44, 50, 281776),\n",
      " 'item_scraped_count': 1,\n",
      " 'log_count/DEBUG': 2,\n",
      " 'log_count/INFO': 11,\n",
      " 'memusage/max': 122290176,\n",
      " 'memusage/startup': 122290176,\n",
      " 'response_received_count': 1,\n",
      " 'scheduler/dequeued': 1,\n",
      " 'scheduler/dequeued/memory': 1,\n",
      " 'scheduler/enqueued': 1,\n",
      " 'scheduler/enqueued/memory': 1,\n",
      " 'start_time': datetime.datetime(2021, 3, 16, 13, 44, 49, 297039)}\n",
      "2021-03-16 16:44:50 [scrapy.core.engine] INFO: Spider closed (finished)\n"
     ]
    },
    {
     "name": "stdout",
     "output_type": "stream",
     "text": [
      "RAN \n",
      "FIN:  gscholar.csv\n",
      "Target:  ['http://api.elsevier.com/content/search/scopus?query=fundus']\n"
     ]
    },
    {
     "name": "stderr",
     "output_type": "stream",
     "text": [
      "INFO: Overridden settings:\n",
      "{}\n",
      "2021-03-16 16:44:50 [scrapy.extensions.telnet] INFO: Telnet Password: 9d534b88d0de13c0\n",
      "2021-03-16 16:44:50 [scrapy.middleware] INFO: Enabled extensions:\n",
      "['scrapy.extensions.corestats.CoreStats',\n",
      " 'scrapy.extensions.telnet.TelnetConsole',\n",
      " 'scrapy.extensions.memusage.MemoryUsage',\n",
      " 'scrapy.extensions.feedexport.FeedExporter',\n",
      " 'scrapy.extensions.logstats.LogStats']\n",
      "2021-03-16 16:44:50 [scrapy.middleware] INFO: Enabled downloader middlewares:\n",
      "['scrapy.downloadermiddlewares.httpauth.HttpAuthMiddleware',\n",
      " 'scrapy.downloadermiddlewares.downloadtimeout.DownloadTimeoutMiddleware',\n",
      " 'scrapy.downloadermiddlewares.defaultheaders.DefaultHeadersMiddleware',\n",
      " 'scrapy.downloadermiddlewares.useragent.UserAgentMiddleware',\n",
      " 'scrapy.downloadermiddlewares.retry.RetryMiddleware',\n",
      " 'scrapy.downloadermiddlewares.redirect.MetaRefreshMiddleware',\n",
      " 'scrapy.downloadermiddlewares.httpcompression.HttpCompressionMiddleware',\n",
      " 'scrapy.downloadermiddlewares.redirect.RedirectMiddleware',\n",
      " 'scrapy.downloadermiddlewares.cookies.CookiesMiddleware',\n",
      " 'scrapy.downloadermiddlewares.httpproxy.HttpProxyMiddleware',\n",
      " 'scrapy.downloadermiddlewares.stats.DownloaderStats']\n",
      "2021-03-16 16:44:50 [scrapy.middleware] INFO: Enabled spider middlewares:\n",
      "['scrapy.spidermiddlewares.httperror.HttpErrorMiddleware',\n",
      " 'scrapy.spidermiddlewares.offsite.OffsiteMiddleware',\n",
      " 'scrapy.spidermiddlewares.referer.RefererMiddleware',\n",
      " 'scrapy.spidermiddlewares.urllength.UrlLengthMiddleware',\n",
      " 'scrapy.spidermiddlewares.depth.DepthMiddleware']\n",
      "2021-03-16 16:44:50 [scrapy.middleware] INFO: Enabled item pipelines:\n",
      "[]\n",
      "2021-03-16 16:44:50 [scrapy.core.engine] INFO: Spider opened\n",
      "2021-03-16 16:44:50 [scrapy.extensions.logstats] INFO: Crawled 0 pages (at 0 pages/min), scraped 0 items (at 0 items/min)\n",
      "2021-03-16 16:44:50 [scrapy.extensions.telnet] INFO: Telnet console listening on 127.0.0.1:6023\n"
     ]
    },
    {
     "name": "stdout",
     "output_type": "stream",
     "text": [
      "starting articles_finder\n",
      "target =  {'urlz': ['http://api.elsevier.com/content/search/scopus?query=fundus'], 'headerz': {'headers': {'Accept': 'application/json', 'X-ELS-APIKey': '6f08887e7863302c0431a454c96fb54c'}}, 'parser_xtra': <function parser_elsevier_api at 0x7eff648ce840>}\n"
     ]
    },
    {
     "name": "stderr",
     "output_type": "stream",
     "text": [
      "2021-03-16 16:44:51 [scrapy.downloadermiddlewares.redirect] DEBUG: Redirecting (308) to <GET https://api.elsevier.com/content/search/scopus?query=fundus> from <GET http://api.elsevier.com/content/search/scopus?query=fundus>\n",
      "2021-03-16 16:44:52 [scrapy.core.engine] DEBUG: Crawled (401) <GET https://api.elsevier.com/content/search/scopus?query=fundus> (referer: None)\n",
      "2021-03-16 16:44:52 [scrapy.spidermiddlewares.httperror] INFO: Ignoring response <401 https://api.elsevier.com/content/search/scopus?query=fundus>: HTTP status code is not handled or not allowed\n",
      "2021-03-16 16:44:52 [scrapy.core.engine] INFO: Closing spider (finished)\n",
      "2021-03-16 16:44:52 [scrapy.statscollectors] INFO: Dumping Scrapy stats:\n",
      "{'downloader/request_bytes': 642,\n",
      " 'downloader/request_count': 2,\n",
      " 'downloader/request_method_count/GET': 2,\n",
      " 'downloader/response_bytes': 1416,\n",
      " 'downloader/response_count': 2,\n",
      " 'downloader/response_status_count/308': 1,\n",
      " 'downloader/response_status_count/401': 1,\n",
      " 'elapsed_time_seconds': 1.887823,\n",
      " 'finish_reason': 'finished',\n",
      " 'finish_time': datetime.datetime(2021, 3, 16, 13, 44, 52, 546824),\n",
      " 'httperror/response_ignored_count': 1,\n",
      " 'httperror/response_ignored_status_count/401': 1,\n",
      " 'log_count/DEBUG': 2,\n",
      " 'log_count/INFO': 11,\n",
      " 'memusage/max': 123150336,\n",
      " 'memusage/startup': 123150336,\n",
      " 'response_received_count': 1,\n",
      " 'scheduler/dequeued': 2,\n",
      " 'scheduler/dequeued/memory': 2,\n",
      " 'scheduler/enqueued': 2,\n",
      " 'scheduler/enqueued/memory': 2,\n",
      " 'start_time': datetime.datetime(2021, 3, 16, 13, 44, 50, 659001)}\n",
      "2021-03-16 16:44:52 [scrapy.core.engine] INFO: Spider closed (finished)\n"
     ]
    },
    {
     "name": "stdout",
     "output_type": "stream",
     "text": [
      "RAN \n",
      "FIN:  elsevier_api.csv\n"
     ]
    }
   ],
   "source": [
    "import json\n",
    "\n",
    "# logger = {'LOG_LEVEL':logging.INFO,}\n",
    "# configure_logging({'LOG_FORMAT': '%(levelname)s: %(message)s'})\n",
    "MY_API_KEY = '6f08887e7863302c0431a454c96fb54c'\n",
    "headerz_api={'Accept':'application/json', 'X-ELS-APIKey': MY_API_KEY}\n",
    "\n",
    "def parser_elsevier_api(x): #div.search-result-items > \n",
    "    for item in json.loads(x.body_as_unicode().replace(\"'\", '\"')): \n",
    "        for entry in resp.json()['search-results']['entry']: \n",
    "            res = {k:v for k, v in entry if k in ('dc:title', 'prism:coverDate', 'prism:url',\n",
    "                                                    'citedby-count', 'affiliation', \n",
    "                                                    'prism:aggregationType') }\n",
    "            print(res)\n",
    "            return res\n",
    "\n",
    "targetz = [(['https://en.wikiquote.org/wiki/Marilyn_Manson',], \n",
    "            {'DEFAULT_REQUEST_HEADERS': headerz, }, \n",
    "            parser_gscholar, \"gscholar.csv\"),\n",
    "           \n",
    "           ([\"http://api.elsevier.com/content/search/scopus?query=fundus\",], \n",
    "            {'headers': headerz_api}, \n",
    "            parser_elsevier_api, \"elsevier_api.csv\"), \n",
    "  ]\n",
    "\n",
    "for u, h, p, f in targetz:\n",
    "    target = TargetObject(u, h, p)\n",
    "    crawl_articles(target, f) "
   ]
  },
  {
   "cell_type": "code",
   "execution_count": 46,
   "metadata": {
    "scrolled": true
   },
   "outputs": [],
   "source": [
    "import requests, json\n",
    "\n",
    "\n",
    "# # print( resp )\n",
    "# # print( dir(resp) )\n",
    "# # print( resp.headers )\n",
    "# ##json.dumps(resp.json(), sort_keys=True, indent=4, separators=(',', ': '))\n",
    "# ## write to file \n",
    "# def save_to_file(data, fname):\n",
    "#     with open(fname, 'a', encoding='utf-8') as f:\n",
    "#         json.dump(data, f, ensure_ascii=False, indent=4)\n",
    "\n",
    "        \n",
    "# pg = 0\n",
    "# TOTAL_ITEMS = 0\n",
    "# PAGEZ = 10 \n",
    "# # while pg is not None:\n",
    "# # for pg in range(PAGEZ): \n",
    "# while pg < PAGEZ:\n",
    "#     ## get page    \n",
    "#     resp = requests.get(f\"http://api.elsevier.com/content/search/scopus?query=fundus&count=25&start={pg*25}\", #af-id(60032114)+OR+af-id(60022265)\n",
    "#                     headers={'Accept':'application/json',\n",
    "#                              'X-ELS-APIKey': MY_API_KEY})\n",
    "#     REZ = resp.headers['X-ELS-Status']\n",
    "#     if REZ.strip() != 'OK':\n",
    "#         print( f\"*****{REZ}\")\n",
    "#         break\n",
    "#     pg += 1\n",
    "#     ## get next page id  and content object \n",
    "#     for k, v in resp.json().items():\n",
    "# #         print(k)\n",
    "#         for r, v in resp.json()['search-results'].items():\n",
    "#             if r == 'opensearch:totalResults' and TOTAL_ITEMS == 0:\n",
    "#                 TOTAL_ITEMS = int( v )\n",
    "#                 PAGEZ = TOTAL_ITEMS//25\n",
    "#                 mod = TOTAL_ITEMS%25\n",
    "#                 PAGEZ += 0 if mod == 0 else 1 \n",
    "#                 print( \"*** TOTAL_ITEMS: \", TOTAL_ITEMS, \", << \", PAGEZ)\n",
    "# #             if r == 'Page':\n",
    "# #                 pg = int(v)\n",
    "# #                 print(\"On page: \", pg )\n",
    "# #                 pg = None \n",
    "#             if r == 'entry':\n",
    "# #                 print( r, len(v) )\n",
    "# #                 i = 0                \n",
    "#                 ## save to file\n",
    "#                 save_to_file(v, f\"elsevier_api_{PAGEZ}.json\")\n",
    "# #                 for rec in v:\n",
    "# #                     print( \"\\n===\\n\", len(rec), type(rec) )\n",
    "# #                     for x, y in rec.items():\n",
    "# #                         print(f\"\\t{x}: \\t{y}\")\n",
    "# #                     if i == 0:\n",
    "# #                         break\n",
    "#                 print(f\"PG: {pg} dumped to file\")\n",
    "# #             else:\n",
    "# #                 print( r, v)\n",
    "    \n",
    "# #     break "
   ]
  },
  {
   "cell_type": "code",
   "execution_count": 13,
   "metadata": {},
   "outputs": [],
   "source": [
    "from pyscopus import Scopus"
   ]
  },
  {
   "cell_type": "code",
   "execution_count": 15,
   "metadata": {},
   "outputs": [],
   "source": [
    "scopus = Scopus(MY_API_KEY)\n",
    "\n",
    "#scopus.search(\"http://api.elsevier.com/content/search/scopus?query=fundus\", count=20)"
   ]
  },
  {
   "cell_type": "code",
   "execution_count": 49,
   "metadata": {},
   "outputs": [
    {
     "name": "stderr",
     "output_type": "stream",
     "text": [
      "DEBUG: Starting new HTTP connection (1): api.elsevier.com:80\n",
      "DEBUG: http://api.elsevier.com:80 \"GET /content/search/scopus?query=fundus&count=25 HTTP/1.1\" 308 None\n",
      "DEBUG: Starting new HTTPS connection (1): api.elsevier.com:443\n",
      "DEBUG: https://api.elsevier.com:443 \"GET /content/search/scopus?query=fundus&count=25 HTTP/1.1\" 200 None\n"
     ]
    },
    {
     "name": "stdout",
     "output_type": "stream",
     "text": [
      "Date                  Tue, 16 Mar 2021 15:01:18 GMT\n",
      "Content-Type          application/json;charset=UTF-8\n",
      "Transfer-Encoding     chunked\n",
      "Connection            keep-alive\n",
      "allow                 GET\n",
      "Content-Encoding      gzip\n",
      "Vary                  Accept-Encoding, Origin\n",
      "X-ELS-APIKey          6f08887e7863302c0431a454c96fb54c\n",
      "X-ELS-ReqId           4168da3b7d3379d8\n",
      "X-ELS-ResourceVersion  default\n",
      "X-ELS-Status          OK\n",
      "X-ELS-TransId         97eb66061e9acd6d\n",
      "X-RateLimit-Limit     20000\n",
      "X-RateLimit-Remaining  19411\n",
      "X-RateLimit-Reset     1616393076000\n",
      "CF-Cache-Status       DYNAMIC\n",
      "cf-request-id         08dd2746a400001b5fb83cd000000001\n",
      "Expect-CT             max-age=604800, report-uri=\"https://report-uri.cloudflare.com/cdn-cgi/beacon/expect-ct\"\n",
      "Server                cloudflare\n",
      "CF-RAY                630edb1ddc701b5f-NBO\n"
     ]
    }
   ],
   "source": [
    "resp = requests.get(\"http://api.elsevier.com/content/search/scopus?query=fundus&count=25\", #af-id(60032114)+OR+af-id(60022265)\n",
    "                    headers={'Accept':'application/json',\n",
    "                             'X-RateLimit-Limit':'1',                             \n",
    "                             'X-ELS-APIKey': MY_API_KEY})\n",
    "\n",
    "\n",
    "for k, v in resp.headers.items():\n",
    "    print(\"{:20}  {}\".format(k, v))"
   ]
  },
  {
   "cell_type": "code",
   "execution_count": 8,
   "metadata": {},
   "outputs": [],
   "source": [
    "def run_search(query, fname):\n",
    "    def save_to_file(data, fname):\n",
    "        with open(fname, 'a', encoding='utf-8') as f:\n",
    "            json.dump( data, f, ensure_ascii=False, indent=4)\n",
    "            f.write(\",\\n\")\n",
    "\n",
    "    pg = 0\n",
    "    TOTAL_ITEMS = 0\n",
    "    PAGEZ = 10 \n",
    "    PG_MAX = 25\n",
    "    # while pg is not None:\n",
    "    # for pg in range(PAGEZ): \n",
    "    while pg < PAGEZ:\n",
    "        ## 1. get page    \n",
    "        resp = requests.get(f\"http://api.elsevier.com/content/search/scopus?query={query}&count={PG_MAX}&start={pg*PG_MAX}\", #af-id(60032114)+OR+af-id(60022265)\n",
    "                        headers={'Accept':'application/json',\n",
    "                                 'X-ELS-APIKey': MY_API_KEY})\n",
    "        REZ = resp.headers['X-ELS-Status']\n",
    "        if REZ.strip() != 'OK':\n",
    "            print( f\"*****{REZ}\")\n",
    "            break\n",
    "        pg += 1\n",
    "        \n",
    "        ## 2. get next page id  and content object \n",
    "        for k, v in resp.json().items(): \n",
    "            for r, v in resp.json()['search-results'].items():\n",
    "                if r == 'opensearch:totalResults' and TOTAL_ITEMS == 0:\n",
    "                    TOTAL_ITEMS = int( v )\n",
    "                    PAGEZ = TOTAL_ITEMS//PG_MAX\n",
    "                    mod = TOTAL_ITEMS%PG_MAX\n",
    "                    PAGEZ += 0 if mod == 0 else 1 \n",
    "                    print( \"*** TOTAL_ITEMS: \", TOTAL_ITEMS, \", << \", PAGEZ) \n",
    "                    \n",
    "                if r == 'entry':        \n",
    "                    ## save to file\n",
    "                    save_to_file(v, f\"0ea_{PAGEZ}__{fname}\")\n",
    "                    print(f\"PG: {pg} dumped to file\")"
   ]
  },
  {
   "cell_type": "code",
   "execution_count": 52,
   "metadata": {},
   "outputs": [
    {
     "name": "stderr",
     "output_type": "stream",
     "text": [
      "DEBUG: Starting new HTTP connection (1): api.elsevier.com:80\n",
      "DEBUG: http://api.elsevier.com:80 \"GET /content/search/scopus?query=fundus%20handcrafted%20deep%20learning&count=25&start=0 HTTP/1.1\" 308 None\n",
      "DEBUG: Starting new HTTPS connection (1): api.elsevier.com:443\n",
      "DEBUG: https://api.elsevier.com:443 \"GET /content/search/scopus?query=fundus%20handcrafted%20deep%20learning&count=25&start=0 HTTP/1.1\" 200 None\n",
      "DEBUG: Starting new HTTP connection (1): api.elsevier.com:80\n"
     ]
    },
    {
     "name": "stdout",
     "output_type": "stream",
     "text": [
      "*** TOTAL_ITEMS:  106 , <<  5\n",
      "PG: 1 dumped to file\n"
     ]
    },
    {
     "name": "stderr",
     "output_type": "stream",
     "text": [
      "DEBUG: http://api.elsevier.com:80 \"GET /content/search/scopus?query=fundus%20handcrafted%20deep%20learning&count=25&start=25 HTTP/1.1\" 308 None\n",
      "DEBUG: Starting new HTTPS connection (1): api.elsevier.com:443\n",
      "DEBUG: https://api.elsevier.com:443 \"GET /content/search/scopus?query=fundus%20handcrafted%20deep%20learning&count=25&start=25 HTTP/1.1\" 200 6476\n",
      "DEBUG: Starting new HTTP connection (1): api.elsevier.com:80\n"
     ]
    },
    {
     "name": "stdout",
     "output_type": "stream",
     "text": [
      "PG: 2 dumped to file\n"
     ]
    },
    {
     "name": "stderr",
     "output_type": "stream",
     "text": [
      "DEBUG: http://api.elsevier.com:80 \"GET /content/search/scopus?query=fundus%20handcrafted%20deep%20learning&count=25&start=50 HTTP/1.1\" 308 None\n",
      "DEBUG: Starting new HTTPS connection (1): api.elsevier.com:443\n",
      "DEBUG: https://api.elsevier.com:443 \"GET /content/search/scopus?query=fundus%20handcrafted%20deep%20learning&count=25&start=50 HTTP/1.1\" 200 None\n",
      "DEBUG: Starting new HTTP connection (1): api.elsevier.com:80\n"
     ]
    },
    {
     "name": "stdout",
     "output_type": "stream",
     "text": [
      "PG: 3 dumped to file\n"
     ]
    },
    {
     "name": "stderr",
     "output_type": "stream",
     "text": [
      "DEBUG: http://api.elsevier.com:80 \"GET /content/search/scopus?query=fundus%20handcrafted%20deep%20learning&count=25&start=75 HTTP/1.1\" 308 None\n",
      "DEBUG: Starting new HTTPS connection (1): api.elsevier.com:443\n",
      "DEBUG: https://api.elsevier.com:443 \"GET /content/search/scopus?query=fundus%20handcrafted%20deep%20learning&count=25&start=75 HTTP/1.1\" 200 None\n",
      "DEBUG: Starting new HTTP connection (1): api.elsevier.com:80\n"
     ]
    },
    {
     "name": "stdout",
     "output_type": "stream",
     "text": [
      "PG: 4 dumped to file\n"
     ]
    },
    {
     "name": "stderr",
     "output_type": "stream",
     "text": [
      "DEBUG: http://api.elsevier.com:80 \"GET /content/search/scopus?query=fundus%20handcrafted%20deep%20learning&count=25&start=100 HTTP/1.1\" 308 None\n",
      "DEBUG: Starting new HTTPS connection (1): api.elsevier.com:443\n",
      "DEBUG: https://api.elsevier.com:443 \"GET /content/search/scopus?query=fundus%20handcrafted%20deep%20learning&count=25&start=100 HTTP/1.1\" 200 None\n",
      "DEBUG: Starting new HTTP connection (1): api.elsevier.com:80\n"
     ]
    },
    {
     "name": "stdout",
     "output_type": "stream",
     "text": [
      "PG: 5 dumped to file\n"
     ]
    },
    {
     "name": "stderr",
     "output_type": "stream",
     "text": [
      "DEBUG: http://api.elsevier.com:80 \"GET /content/search/scopus?query=medical%20image%20preprocessing&count=25&start=0 HTTP/1.1\" 308 None\n",
      "DEBUG: Starting new HTTPS connection (1): api.elsevier.com:443\n",
      "DEBUG: https://api.elsevier.com:443 \"GET /content/search/scopus?query=medical%20image%20preprocessing&count=25&start=0 HTTP/1.1\" 200 None\n",
      "DEBUG: Starting new HTTP connection (1): api.elsevier.com:80\n"
     ]
    },
    {
     "name": "stdout",
     "output_type": "stream",
     "text": [
      "*** TOTAL_ITEMS:  16031 , <<  642\n",
      "PG: 1 dumped to file\n"
     ]
    },
    {
     "name": "stderr",
     "output_type": "stream",
     "text": [
      "DEBUG: http://api.elsevier.com:80 \"GET /content/search/scopus?query=medical%20image%20preprocessing&count=25&start=25 HTTP/1.1\" 308 None\n",
      "DEBUG: Starting new HTTPS connection (1): api.elsevier.com:443\n",
      "DEBUG: https://api.elsevier.com:443 \"GET /content/search/scopus?query=medical%20image%20preprocessing&count=25&start=25 HTTP/1.1\" 200 None\n",
      "DEBUG: Starting new HTTP connection (1): api.elsevier.com:80\n"
     ]
    },
    {
     "name": "stdout",
     "output_type": "stream",
     "text": [
      "PG: 2 dumped to file\n"
     ]
    },
    {
     "name": "stderr",
     "output_type": "stream",
     "text": [
      "DEBUG: http://api.elsevier.com:80 \"GET /content/search/scopus?query=medical%20image%20preprocessing&count=25&start=50 HTTP/1.1\" 308 None\n",
      "DEBUG: Starting new HTTPS connection (1): api.elsevier.com:443\n",
      "DEBUG: https://api.elsevier.com:443 \"GET /content/search/scopus?query=medical%20image%20preprocessing&count=25&start=50 HTTP/1.1\" 200 None\n",
      "DEBUG: Starting new HTTP connection (1): api.elsevier.com:80\n"
     ]
    },
    {
     "name": "stdout",
     "output_type": "stream",
     "text": [
      "PG: 3 dumped to file\n"
     ]
    },
    {
     "name": "stderr",
     "output_type": "stream",
     "text": [
      "DEBUG: http://api.elsevier.com:80 \"GET /content/search/scopus?query=medical%20image%20preprocessing&count=25&start=75 HTTP/1.1\" 308 None\n",
      "DEBUG: Starting new HTTPS connection (1): api.elsevier.com:443\n",
      "DEBUG: https://api.elsevier.com:443 \"GET /content/search/scopus?query=medical%20image%20preprocessing&count=25&start=75 HTTP/1.1\" 200 None\n",
      "DEBUG: Starting new HTTP connection (1): api.elsevier.com:80\n"
     ]
    },
    {
     "name": "stdout",
     "output_type": "stream",
     "text": [
      "PG: 4 dumped to file\n"
     ]
    },
    {
     "name": "stderr",
     "output_type": "stream",
     "text": [
      "DEBUG: http://api.elsevier.com:80 \"GET /content/search/scopus?query=medical%20image%20preprocessing&count=25&start=100 HTTP/1.1\" 308 None\n",
      "DEBUG: Starting new HTTPS connection (1): api.elsevier.com:443\n",
      "DEBUG: https://api.elsevier.com:443 \"GET /content/search/scopus?query=medical%20image%20preprocessing&count=25&start=100 HTTP/1.1\" 200 None\n",
      "DEBUG: Starting new HTTP connection (1): api.elsevier.com:80\n"
     ]
    },
    {
     "name": "stdout",
     "output_type": "stream",
     "text": [
      "PG: 5 dumped to file\n"
     ]
    },
    {
     "name": "stderr",
     "output_type": "stream",
     "text": [
      "DEBUG: http://api.elsevier.com:80 \"GET /content/search/scopus?query=medical%20image%20preprocessing&count=25&start=125 HTTP/1.1\" 308 None\n",
      "DEBUG: Starting new HTTPS connection (1): api.elsevier.com:443\n",
      "DEBUG: https://api.elsevier.com:443 \"GET /content/search/scopus?query=medical%20image%20preprocessing&count=25&start=125 HTTP/1.1\" 200 None\n",
      "DEBUG: Starting new HTTP connection (1): api.elsevier.com:80\n"
     ]
    },
    {
     "name": "stdout",
     "output_type": "stream",
     "text": [
      "PG: 6 dumped to file\n"
     ]
    },
    {
     "name": "stderr",
     "output_type": "stream",
     "text": [
      "DEBUG: http://api.elsevier.com:80 \"GET /content/search/scopus?query=medical%20image%20preprocessing&count=25&start=150 HTTP/1.1\" 308 None\n",
      "DEBUG: Starting new HTTPS connection (1): api.elsevier.com:443\n",
      "DEBUG: https://api.elsevier.com:443 \"GET /content/search/scopus?query=medical%20image%20preprocessing&count=25&start=150 HTTP/1.1\" 200 None\n",
      "DEBUG: Starting new HTTP connection (1): api.elsevier.com:80\n"
     ]
    },
    {
     "name": "stdout",
     "output_type": "stream",
     "text": [
      "PG: 7 dumped to file\n"
     ]
    },
    {
     "name": "stderr",
     "output_type": "stream",
     "text": [
      "DEBUG: http://api.elsevier.com:80 \"GET /content/search/scopus?query=medical%20image%20preprocessing&count=25&start=175 HTTP/1.1\" 308 None\n",
      "DEBUG: Starting new HTTPS connection (1): api.elsevier.com:443\n",
      "DEBUG: https://api.elsevier.com:443 \"GET /content/search/scopus?query=medical%20image%20preprocessing&count=25&start=175 HTTP/1.1\" 200 None\n",
      "DEBUG: Starting new HTTP connection (1): api.elsevier.com:80\n"
     ]
    },
    {
     "name": "stdout",
     "output_type": "stream",
     "text": [
      "PG: 8 dumped to file\n"
     ]
    },
    {
     "name": "stderr",
     "output_type": "stream",
     "text": [
      "DEBUG: http://api.elsevier.com:80 \"GET /content/search/scopus?query=medical%20image%20preprocessing&count=25&start=200 HTTP/1.1\" 308 None\n",
      "DEBUG: Starting new HTTPS connection (1): api.elsevier.com:443\n",
      "DEBUG: https://api.elsevier.com:443 \"GET /content/search/scopus?query=medical%20image%20preprocessing&count=25&start=200 HTTP/1.1\" 200 None\n",
      "DEBUG: Starting new HTTP connection (1): api.elsevier.com:80\n"
     ]
    },
    {
     "name": "stdout",
     "output_type": "stream",
     "text": [
      "PG: 9 dumped to file\n"
     ]
    },
    {
     "name": "stderr",
     "output_type": "stream",
     "text": [
      "DEBUG: http://api.elsevier.com:80 \"GET /content/search/scopus?query=medical%20image%20preprocessing&count=25&start=225 HTTP/1.1\" 308 None\n",
      "DEBUG: Starting new HTTPS connection (1): api.elsevier.com:443\n",
      "DEBUG: https://api.elsevier.com:443 \"GET /content/search/scopus?query=medical%20image%20preprocessing&count=25&start=225 HTTP/1.1\" 200 None\n",
      "DEBUG: Starting new HTTP connection (1): api.elsevier.com:80\n"
     ]
    },
    {
     "name": "stdout",
     "output_type": "stream",
     "text": [
      "PG: 10 dumped to file\n"
     ]
    },
    {
     "name": "stderr",
     "output_type": "stream",
     "text": [
      "DEBUG: http://api.elsevier.com:80 \"GET /content/search/scopus?query=medical%20image%20preprocessing&count=25&start=250 HTTP/1.1\" 308 None\n",
      "DEBUG: Starting new HTTPS connection (1): api.elsevier.com:443\n",
      "DEBUG: https://api.elsevier.com:443 \"GET /content/search/scopus?query=medical%20image%20preprocessing&count=25&start=250 HTTP/1.1\" 200 None\n",
      "DEBUG: Starting new HTTP connection (1): api.elsevier.com:80\n"
     ]
    },
    {
     "name": "stdout",
     "output_type": "stream",
     "text": [
      "PG: 11 dumped to file\n"
     ]
    },
    {
     "name": "stderr",
     "output_type": "stream",
     "text": [
      "DEBUG: http://api.elsevier.com:80 \"GET /content/search/scopus?query=medical%20image%20preprocessing&count=25&start=275 HTTP/1.1\" 308 None\n",
      "DEBUG: Starting new HTTPS connection (1): api.elsevier.com:443\n",
      "DEBUG: https://api.elsevier.com:443 \"GET /content/search/scopus?query=medical%20image%20preprocessing&count=25&start=275 HTTP/1.1\" 200 None\n",
      "DEBUG: Starting new HTTP connection (1): api.elsevier.com:80\n"
     ]
    },
    {
     "name": "stdout",
     "output_type": "stream",
     "text": [
      "PG: 12 dumped to file\n"
     ]
    },
    {
     "name": "stderr",
     "output_type": "stream",
     "text": [
      "DEBUG: http://api.elsevier.com:80 \"GET /content/search/scopus?query=medical%20image%20preprocessing&count=25&start=300 HTTP/1.1\" 308 None\n",
      "DEBUG: Starting new HTTPS connection (1): api.elsevier.com:443\n",
      "DEBUG: https://api.elsevier.com:443 \"GET /content/search/scopus?query=medical%20image%20preprocessing&count=25&start=300 HTTP/1.1\" 200 None\n",
      "DEBUG: Starting new HTTP connection (1): api.elsevier.com:80\n"
     ]
    },
    {
     "name": "stdout",
     "output_type": "stream",
     "text": [
      "PG: 13 dumped to file\n"
     ]
    },
    {
     "name": "stderr",
     "output_type": "stream",
     "text": [
      "DEBUG: http://api.elsevier.com:80 \"GET /content/search/scopus?query=medical%20image%20preprocessing&count=25&start=325 HTTP/1.1\" 308 None\n",
      "DEBUG: Starting new HTTPS connection (1): api.elsevier.com:443\n",
      "DEBUG: https://api.elsevier.com:443 \"GET /content/search/scopus?query=medical%20image%20preprocessing&count=25&start=325 HTTP/1.1\" 200 None\n",
      "DEBUG: Starting new HTTP connection (1): api.elsevier.com:80\n"
     ]
    },
    {
     "name": "stdout",
     "output_type": "stream",
     "text": [
      "PG: 14 dumped to file\n"
     ]
    },
    {
     "name": "stderr",
     "output_type": "stream",
     "text": [
      "DEBUG: http://api.elsevier.com:80 \"GET /content/search/scopus?query=medical%20image%20preprocessing&count=25&start=350 HTTP/1.1\" 308 None\n",
      "DEBUG: Starting new HTTPS connection (1): api.elsevier.com:443\n",
      "DEBUG: https://api.elsevier.com:443 \"GET /content/search/scopus?query=medical%20image%20preprocessing&count=25&start=350 HTTP/1.1\" 200 None\n",
      "DEBUG: Starting new HTTP connection (1): api.elsevier.com:80\n"
     ]
    },
    {
     "name": "stdout",
     "output_type": "stream",
     "text": [
      "PG: 15 dumped to file\n"
     ]
    },
    {
     "name": "stderr",
     "output_type": "stream",
     "text": [
      "DEBUG: http://api.elsevier.com:80 \"GET /content/search/scopus?query=medical%20image%20preprocessing&count=25&start=375 HTTP/1.1\" 308 None\n",
      "DEBUG: Starting new HTTPS connection (1): api.elsevier.com:443\n",
      "DEBUG: https://api.elsevier.com:443 \"GET /content/search/scopus?query=medical%20image%20preprocessing&count=25&start=375 HTTP/1.1\" 200 None\n",
      "DEBUG: Starting new HTTP connection (1): api.elsevier.com:80\n"
     ]
    },
    {
     "name": "stdout",
     "output_type": "stream",
     "text": [
      "PG: 16 dumped to file\n"
     ]
    },
    {
     "name": "stderr",
     "output_type": "stream",
     "text": [
      "DEBUG: http://api.elsevier.com:80 \"GET /content/search/scopus?query=medical%20image%20preprocessing&count=25&start=400 HTTP/1.1\" 308 None\n",
      "DEBUG: Starting new HTTPS connection (1): api.elsevier.com:443\n",
      "DEBUG: https://api.elsevier.com:443 \"GET /content/search/scopus?query=medical%20image%20preprocessing&count=25&start=400 HTTP/1.1\" 200 None\n",
      "DEBUG: Starting new HTTP connection (1): api.elsevier.com:80\n"
     ]
    },
    {
     "name": "stdout",
     "output_type": "stream",
     "text": [
      "PG: 17 dumped to file\n"
     ]
    },
    {
     "name": "stderr",
     "output_type": "stream",
     "text": [
      "DEBUG: http://api.elsevier.com:80 \"GET /content/search/scopus?query=medical%20image%20preprocessing&count=25&start=425 HTTP/1.1\" 308 None\n",
      "DEBUG: Starting new HTTPS connection (1): api.elsevier.com:443\n",
      "DEBUG: https://api.elsevier.com:443 \"GET /content/search/scopus?query=medical%20image%20preprocessing&count=25&start=425 HTTP/1.1\" 200 None\n",
      "DEBUG: Starting new HTTP connection (1): api.elsevier.com:80\n"
     ]
    },
    {
     "name": "stdout",
     "output_type": "stream",
     "text": [
      "PG: 18 dumped to file\n"
     ]
    },
    {
     "name": "stderr",
     "output_type": "stream",
     "text": [
      "DEBUG: http://api.elsevier.com:80 \"GET /content/search/scopus?query=medical%20image%20preprocessing&count=25&start=450 HTTP/1.1\" 308 None\n",
      "DEBUG: Starting new HTTPS connection (1): api.elsevier.com:443\n",
      "DEBUG: https://api.elsevier.com:443 \"GET /content/search/scopus?query=medical%20image%20preprocessing&count=25&start=450 HTTP/1.1\" 200 None\n",
      "DEBUG: Starting new HTTP connection (1): api.elsevier.com:80\n"
     ]
    },
    {
     "name": "stdout",
     "output_type": "stream",
     "text": [
      "PG: 19 dumped to file\n"
     ]
    },
    {
     "name": "stderr",
     "output_type": "stream",
     "text": [
      "DEBUG: http://api.elsevier.com:80 \"GET /content/search/scopus?query=medical%20image%20preprocessing&count=25&start=475 HTTP/1.1\" 308 None\n",
      "DEBUG: Starting new HTTPS connection (1): api.elsevier.com:443\n",
      "DEBUG: https://api.elsevier.com:443 \"GET /content/search/scopus?query=medical%20image%20preprocessing&count=25&start=475 HTTP/1.1\" 200 None\n",
      "DEBUG: Starting new HTTP connection (1): api.elsevier.com:80\n"
     ]
    },
    {
     "name": "stdout",
     "output_type": "stream",
     "text": [
      "PG: 20 dumped to file\n"
     ]
    },
    {
     "name": "stderr",
     "output_type": "stream",
     "text": [
      "DEBUG: http://api.elsevier.com:80 \"GET /content/search/scopus?query=medical%20image%20preprocessing&count=25&start=500 HTTP/1.1\" 308 None\n",
      "DEBUG: Starting new HTTPS connection (1): api.elsevier.com:443\n",
      "DEBUG: https://api.elsevier.com:443 \"GET /content/search/scopus?query=medical%20image%20preprocessing&count=25&start=500 HTTP/1.1\" 200 None\n",
      "DEBUG: Starting new HTTP connection (1): api.elsevier.com:80\n"
     ]
    },
    {
     "name": "stdout",
     "output_type": "stream",
     "text": [
      "PG: 21 dumped to file\n"
     ]
    },
    {
     "name": "stderr",
     "output_type": "stream",
     "text": [
      "DEBUG: http://api.elsevier.com:80 \"GET /content/search/scopus?query=medical%20image%20preprocessing&count=25&start=525 HTTP/1.1\" 308 None\n",
      "DEBUG: Starting new HTTPS connection (1): api.elsevier.com:443\n",
      "DEBUG: https://api.elsevier.com:443 \"GET /content/search/scopus?query=medical%20image%20preprocessing&count=25&start=525 HTTP/1.1\" 200 None\n",
      "DEBUG: Starting new HTTP connection (1): api.elsevier.com:80\n"
     ]
    },
    {
     "name": "stdout",
     "output_type": "stream",
     "text": [
      "PG: 22 dumped to file\n"
     ]
    },
    {
     "name": "stderr",
     "output_type": "stream",
     "text": [
      "DEBUG: http://api.elsevier.com:80 \"GET /content/search/scopus?query=medical%20image%20preprocessing&count=25&start=550 HTTP/1.1\" 308 None\n",
      "DEBUG: Starting new HTTPS connection (1): api.elsevier.com:443\n",
      "DEBUG: https://api.elsevier.com:443 \"GET /content/search/scopus?query=medical%20image%20preprocessing&count=25&start=550 HTTP/1.1\" 200 None\n",
      "DEBUG: Starting new HTTP connection (1): api.elsevier.com:80\n"
     ]
    },
    {
     "name": "stdout",
     "output_type": "stream",
     "text": [
      "PG: 23 dumped to file\n"
     ]
    },
    {
     "name": "stderr",
     "output_type": "stream",
     "text": [
      "DEBUG: http://api.elsevier.com:80 \"GET /content/search/scopus?query=medical%20image%20preprocessing&count=25&start=575 HTTP/1.1\" 308 None\n",
      "DEBUG: Starting new HTTPS connection (1): api.elsevier.com:443\n",
      "DEBUG: https://api.elsevier.com:443 \"GET /content/search/scopus?query=medical%20image%20preprocessing&count=25&start=575 HTTP/1.1\" 200 None\n",
      "DEBUG: Starting new HTTP connection (1): api.elsevier.com:80\n"
     ]
    },
    {
     "name": "stdout",
     "output_type": "stream",
     "text": [
      "PG: 24 dumped to file\n"
     ]
    },
    {
     "name": "stderr",
     "output_type": "stream",
     "text": [
      "DEBUG: http://api.elsevier.com:80 \"GET /content/search/scopus?query=medical%20image%20preprocessing&count=25&start=600 HTTP/1.1\" 308 None\n",
      "DEBUG: Starting new HTTPS connection (1): api.elsevier.com:443\n",
      "DEBUG: https://api.elsevier.com:443 \"GET /content/search/scopus?query=medical%20image%20preprocessing&count=25&start=600 HTTP/1.1\" 200 None\n",
      "DEBUG: Starting new HTTP connection (1): api.elsevier.com:80\n"
     ]
    },
    {
     "name": "stdout",
     "output_type": "stream",
     "text": [
      "PG: 25 dumped to file\n"
     ]
    },
    {
     "name": "stderr",
     "output_type": "stream",
     "text": [
      "DEBUG: http://api.elsevier.com:80 \"GET /content/search/scopus?query=medical%20image%20preprocessing&count=25&start=625 HTTP/1.1\" 308 None\n",
      "DEBUG: Starting new HTTPS connection (1): api.elsevier.com:443\n",
      "DEBUG: https://api.elsevier.com:443 \"GET /content/search/scopus?query=medical%20image%20preprocessing&count=25&start=625 HTTP/1.1\" 200 None\n",
      "DEBUG: Starting new HTTP connection (1): api.elsevier.com:80\n"
     ]
    },
    {
     "name": "stdout",
     "output_type": "stream",
     "text": [
      "PG: 26 dumped to file\n"
     ]
    },
    {
     "name": "stderr",
     "output_type": "stream",
     "text": [
      "DEBUG: http://api.elsevier.com:80 \"GET /content/search/scopus?query=medical%20image%20preprocessing&count=25&start=650 HTTP/1.1\" 308 None\n",
      "DEBUG: Starting new HTTPS connection (1): api.elsevier.com:443\n",
      "DEBUG: https://api.elsevier.com:443 \"GET /content/search/scopus?query=medical%20image%20preprocessing&count=25&start=650 HTTP/1.1\" 200 None\n",
      "DEBUG: Starting new HTTP connection (1): api.elsevier.com:80\n"
     ]
    },
    {
     "name": "stdout",
     "output_type": "stream",
     "text": [
      "PG: 27 dumped to file\n"
     ]
    },
    {
     "name": "stderr",
     "output_type": "stream",
     "text": [
      "DEBUG: http://api.elsevier.com:80 \"GET /content/search/scopus?query=medical%20image%20preprocessing&count=25&start=675 HTTP/1.1\" 308 None\n",
      "DEBUG: Starting new HTTPS connection (1): api.elsevier.com:443\n",
      "DEBUG: https://api.elsevier.com:443 \"GET /content/search/scopus?query=medical%20image%20preprocessing&count=25&start=675 HTTP/1.1\" 200 None\n",
      "DEBUG: Starting new HTTP connection (1): api.elsevier.com:80\n"
     ]
    },
    {
     "name": "stdout",
     "output_type": "stream",
     "text": [
      "PG: 28 dumped to file\n"
     ]
    },
    {
     "name": "stderr",
     "output_type": "stream",
     "text": [
      "DEBUG: http://api.elsevier.com:80 \"GET /content/search/scopus?query=medical%20image%20preprocessing&count=25&start=700 HTTP/1.1\" 308 None\n",
      "DEBUG: Starting new HTTPS connection (1): api.elsevier.com:443\n",
      "DEBUG: https://api.elsevier.com:443 \"GET /content/search/scopus?query=medical%20image%20preprocessing&count=25&start=700 HTTP/1.1\" 200 None\n",
      "DEBUG: Starting new HTTP connection (1): api.elsevier.com:80\n"
     ]
    },
    {
     "name": "stdout",
     "output_type": "stream",
     "text": [
      "PG: 29 dumped to file\n"
     ]
    },
    {
     "name": "stderr",
     "output_type": "stream",
     "text": [
      "DEBUG: http://api.elsevier.com:80 \"GET /content/search/scopus?query=medical%20image%20preprocessing&count=25&start=725 HTTP/1.1\" 308 None\n",
      "DEBUG: Starting new HTTPS connection (1): api.elsevier.com:443\n",
      "DEBUG: https://api.elsevier.com:443 \"GET /content/search/scopus?query=medical%20image%20preprocessing&count=25&start=725 HTTP/1.1\" 200 None\n",
      "DEBUG: Starting new HTTP connection (1): api.elsevier.com:80\n"
     ]
    },
    {
     "name": "stdout",
     "output_type": "stream",
     "text": [
      "PG: 30 dumped to file\n"
     ]
    },
    {
     "name": "stderr",
     "output_type": "stream",
     "text": [
      "DEBUG: http://api.elsevier.com:80 \"GET /content/search/scopus?query=medical%20image%20preprocessing&count=25&start=750 HTTP/1.1\" 308 None\n",
      "DEBUG: Starting new HTTPS connection (1): api.elsevier.com:443\n",
      "DEBUG: https://api.elsevier.com:443 \"GET /content/search/scopus?query=medical%20image%20preprocessing&count=25&start=750 HTTP/1.1\" 200 None\n",
      "DEBUG: Starting new HTTP connection (1): api.elsevier.com:80\n"
     ]
    },
    {
     "name": "stdout",
     "output_type": "stream",
     "text": [
      "PG: 31 dumped to file\n"
     ]
    },
    {
     "name": "stderr",
     "output_type": "stream",
     "text": [
      "DEBUG: http://api.elsevier.com:80 \"GET /content/search/scopus?query=medical%20image%20preprocessing&count=25&start=775 HTTP/1.1\" 308 None\n",
      "DEBUG: Starting new HTTPS connection (1): api.elsevier.com:443\n",
      "DEBUG: https://api.elsevier.com:443 \"GET /content/search/scopus?query=medical%20image%20preprocessing&count=25&start=775 HTTP/1.1\" 200 None\n",
      "DEBUG: Starting new HTTP connection (1): api.elsevier.com:80\n"
     ]
    },
    {
     "name": "stdout",
     "output_type": "stream",
     "text": [
      "PG: 32 dumped to file\n"
     ]
    },
    {
     "name": "stderr",
     "output_type": "stream",
     "text": [
      "DEBUG: http://api.elsevier.com:80 \"GET /content/search/scopus?query=medical%20image%20preprocessing&count=25&start=800 HTTP/1.1\" 308 None\n",
      "DEBUG: Starting new HTTPS connection (1): api.elsevier.com:443\n",
      "DEBUG: https://api.elsevier.com:443 \"GET /content/search/scopus?query=medical%20image%20preprocessing&count=25&start=800 HTTP/1.1\" 200 None\n",
      "DEBUG: Starting new HTTP connection (1): api.elsevier.com:80\n"
     ]
    },
    {
     "name": "stdout",
     "output_type": "stream",
     "text": [
      "PG: 33 dumped to file\n"
     ]
    },
    {
     "name": "stderr",
     "output_type": "stream",
     "text": [
      "DEBUG: http://api.elsevier.com:80 \"GET /content/search/scopus?query=medical%20image%20preprocessing&count=25&start=825 HTTP/1.1\" 308 None\n",
      "DEBUG: Starting new HTTPS connection (1): api.elsevier.com:443\n",
      "DEBUG: https://api.elsevier.com:443 \"GET /content/search/scopus?query=medical%20image%20preprocessing&count=25&start=825 HTTP/1.1\" 200 None\n",
      "DEBUG: Starting new HTTP connection (1): api.elsevier.com:80\n"
     ]
    },
    {
     "name": "stdout",
     "output_type": "stream",
     "text": [
      "PG: 34 dumped to file\n"
     ]
    },
    {
     "name": "stderr",
     "output_type": "stream",
     "text": [
      "DEBUG: http://api.elsevier.com:80 \"GET /content/search/scopus?query=medical%20image%20preprocessing&count=25&start=850 HTTP/1.1\" 308 None\n",
      "DEBUG: Starting new HTTPS connection (1): api.elsevier.com:443\n",
      "DEBUG: https://api.elsevier.com:443 \"GET /content/search/scopus?query=medical%20image%20preprocessing&count=25&start=850 HTTP/1.1\" 200 None\n",
      "DEBUG: Starting new HTTP connection (1): api.elsevier.com:80\n"
     ]
    },
    {
     "name": "stdout",
     "output_type": "stream",
     "text": [
      "PG: 35 dumped to file\n"
     ]
    },
    {
     "name": "stderr",
     "output_type": "stream",
     "text": [
      "DEBUG: http://api.elsevier.com:80 \"GET /content/search/scopus?query=medical%20image%20preprocessing&count=25&start=875 HTTP/1.1\" 308 None\n",
      "DEBUG: Starting new HTTPS connection (1): api.elsevier.com:443\n",
      "DEBUG: https://api.elsevier.com:443 \"GET /content/search/scopus?query=medical%20image%20preprocessing&count=25&start=875 HTTP/1.1\" 200 None\n",
      "DEBUG: Starting new HTTP connection (1): api.elsevier.com:80\n"
     ]
    },
    {
     "name": "stdout",
     "output_type": "stream",
     "text": [
      "PG: 36 dumped to file\n"
     ]
    },
    {
     "name": "stderr",
     "output_type": "stream",
     "text": [
      "DEBUG: http://api.elsevier.com:80 \"GET /content/search/scopus?query=medical%20image%20preprocessing&count=25&start=900 HTTP/1.1\" 308 None\n",
      "DEBUG: Starting new HTTPS connection (1): api.elsevier.com:443\n",
      "DEBUG: https://api.elsevier.com:443 \"GET /content/search/scopus?query=medical%20image%20preprocessing&count=25&start=900 HTTP/1.1\" 200 None\n",
      "DEBUG: Starting new HTTP connection (1): api.elsevier.com:80\n"
     ]
    },
    {
     "name": "stdout",
     "output_type": "stream",
     "text": [
      "PG: 37 dumped to file\n"
     ]
    },
    {
     "name": "stderr",
     "output_type": "stream",
     "text": [
      "DEBUG: http://api.elsevier.com:80 \"GET /content/search/scopus?query=medical%20image%20preprocessing&count=25&start=925 HTTP/1.1\" 308 None\n",
      "DEBUG: Starting new HTTPS connection (1): api.elsevier.com:443\n",
      "DEBUG: https://api.elsevier.com:443 \"GET /content/search/scopus?query=medical%20image%20preprocessing&count=25&start=925 HTTP/1.1\" 200 None\n",
      "DEBUG: Starting new HTTP connection (1): api.elsevier.com:80\n"
     ]
    },
    {
     "name": "stdout",
     "output_type": "stream",
     "text": [
      "PG: 38 dumped to file\n"
     ]
    },
    {
     "name": "stderr",
     "output_type": "stream",
     "text": [
      "DEBUG: http://api.elsevier.com:80 \"GET /content/search/scopus?query=medical%20image%20preprocessing&count=25&start=950 HTTP/1.1\" 308 None\n",
      "DEBUG: Starting new HTTPS connection (1): api.elsevier.com:443\n",
      "DEBUG: https://api.elsevier.com:443 \"GET /content/search/scopus?query=medical%20image%20preprocessing&count=25&start=950 HTTP/1.1\" 200 None\n",
      "DEBUG: Starting new HTTP connection (1): api.elsevier.com:80\n"
     ]
    },
    {
     "name": "stdout",
     "output_type": "stream",
     "text": [
      "PG: 39 dumped to file\n"
     ]
    },
    {
     "name": "stderr",
     "output_type": "stream",
     "text": [
      "DEBUG: http://api.elsevier.com:80 \"GET /content/search/scopus?query=medical%20image%20preprocessing&count=25&start=975 HTTP/1.1\" 308 None\n",
      "DEBUG: Starting new HTTPS connection (1): api.elsevier.com:443\n",
      "DEBUG: https://api.elsevier.com:443 \"GET /content/search/scopus?query=medical%20image%20preprocessing&count=25&start=975 HTTP/1.1\" 200 None\n",
      "DEBUG: Starting new HTTP connection (1): api.elsevier.com:80\n"
     ]
    },
    {
     "name": "stdout",
     "output_type": "stream",
     "text": [
      "PG: 40 dumped to file\n"
     ]
    },
    {
     "name": "stderr",
     "output_type": "stream",
     "text": [
      "DEBUG: http://api.elsevier.com:80 \"GET /content/search/scopus?query=medical%20image%20preprocessing&count=25&start=1000 HTTP/1.1\" 308 None\n",
      "DEBUG: Starting new HTTPS connection (1): api.elsevier.com:443\n",
      "DEBUG: https://api.elsevier.com:443 \"GET /content/search/scopus?query=medical%20image%20preprocessing&count=25&start=1000 HTTP/1.1\" 200 None\n",
      "DEBUG: Starting new HTTP connection (1): api.elsevier.com:80\n"
     ]
    },
    {
     "name": "stdout",
     "output_type": "stream",
     "text": [
      "PG: 41 dumped to file\n"
     ]
    },
    {
     "name": "stderr",
     "output_type": "stream",
     "text": [
      "DEBUG: http://api.elsevier.com:80 \"GET /content/search/scopus?query=medical%20image%20preprocessing&count=25&start=1025 HTTP/1.1\" 308 None\n",
      "DEBUG: Starting new HTTPS connection (1): api.elsevier.com:443\n",
      "DEBUG: https://api.elsevier.com:443 \"GET /content/search/scopus?query=medical%20image%20preprocessing&count=25&start=1025 HTTP/1.1\" 200 None\n",
      "DEBUG: Starting new HTTP connection (1): api.elsevier.com:80\n"
     ]
    },
    {
     "name": "stdout",
     "output_type": "stream",
     "text": [
      "PG: 42 dumped to file\n"
     ]
    },
    {
     "name": "stderr",
     "output_type": "stream",
     "text": [
      "DEBUG: http://api.elsevier.com:80 \"GET /content/search/scopus?query=medical%20image%20preprocessing&count=25&start=1050 HTTP/1.1\" 308 None\n",
      "DEBUG: Starting new HTTPS connection (1): api.elsevier.com:443\n",
      "DEBUG: https://api.elsevier.com:443 \"GET /content/search/scopus?query=medical%20image%20preprocessing&count=25&start=1050 HTTP/1.1\" 200 None\n",
      "DEBUG: Starting new HTTP connection (1): api.elsevier.com:80\n"
     ]
    },
    {
     "name": "stdout",
     "output_type": "stream",
     "text": [
      "PG: 43 dumped to file\n"
     ]
    },
    {
     "name": "stderr",
     "output_type": "stream",
     "text": [
      "DEBUG: http://api.elsevier.com:80 \"GET /content/search/scopus?query=medical%20image%20preprocessing&count=25&start=1075 HTTP/1.1\" 308 None\n",
      "DEBUG: Starting new HTTPS connection (1): api.elsevier.com:443\n",
      "DEBUG: https://api.elsevier.com:443 \"GET /content/search/scopus?query=medical%20image%20preprocessing&count=25&start=1075 HTTP/1.1\" 200 None\n",
      "DEBUG: Starting new HTTP connection (1): api.elsevier.com:80\n"
     ]
    },
    {
     "name": "stdout",
     "output_type": "stream",
     "text": [
      "PG: 44 dumped to file\n"
     ]
    },
    {
     "name": "stderr",
     "output_type": "stream",
     "text": [
      "DEBUG: http://api.elsevier.com:80 \"GET /content/search/scopus?query=medical%20image%20preprocessing&count=25&start=1100 HTTP/1.1\" 308 None\n",
      "DEBUG: Starting new HTTPS connection (1): api.elsevier.com:443\n",
      "DEBUG: https://api.elsevier.com:443 \"GET /content/search/scopus?query=medical%20image%20preprocessing&count=25&start=1100 HTTP/1.1\" 200 None\n",
      "DEBUG: Starting new HTTP connection (1): api.elsevier.com:80\n"
     ]
    },
    {
     "name": "stdout",
     "output_type": "stream",
     "text": [
      "PG: 45 dumped to file\n"
     ]
    },
    {
     "name": "stderr",
     "output_type": "stream",
     "text": [
      "DEBUG: http://api.elsevier.com:80 \"GET /content/search/scopus?query=medical%20image%20preprocessing&count=25&start=1125 HTTP/1.1\" 308 None\n",
      "DEBUG: Starting new HTTPS connection (1): api.elsevier.com:443\n",
      "DEBUG: https://api.elsevier.com:443 \"GET /content/search/scopus?query=medical%20image%20preprocessing&count=25&start=1125 HTTP/1.1\" 200 None\n",
      "DEBUG: Starting new HTTP connection (1): api.elsevier.com:80\n"
     ]
    },
    {
     "name": "stdout",
     "output_type": "stream",
     "text": [
      "PG: 46 dumped to file\n"
     ]
    },
    {
     "name": "stderr",
     "output_type": "stream",
     "text": [
      "DEBUG: http://api.elsevier.com:80 \"GET /content/search/scopus?query=medical%20image%20preprocessing&count=25&start=1150 HTTP/1.1\" 308 None\n",
      "DEBUG: Starting new HTTPS connection (1): api.elsevier.com:443\n",
      "DEBUG: https://api.elsevier.com:443 \"GET /content/search/scopus?query=medical%20image%20preprocessing&count=25&start=1150 HTTP/1.1\" 200 None\n",
      "DEBUG: Starting new HTTP connection (1): api.elsevier.com:80\n"
     ]
    },
    {
     "name": "stdout",
     "output_type": "stream",
     "text": [
      "PG: 47 dumped to file\n"
     ]
    },
    {
     "name": "stderr",
     "output_type": "stream",
     "text": [
      "DEBUG: http://api.elsevier.com:80 \"GET /content/search/scopus?query=medical%20image%20preprocessing&count=25&start=1175 HTTP/1.1\" 308 None\n",
      "DEBUG: Starting new HTTPS connection (1): api.elsevier.com:443\n",
      "DEBUG: https://api.elsevier.com:443 \"GET /content/search/scopus?query=medical%20image%20preprocessing&count=25&start=1175 HTTP/1.1\" 200 None\n",
      "DEBUG: Starting new HTTP connection (1): api.elsevier.com:80\n"
     ]
    },
    {
     "name": "stdout",
     "output_type": "stream",
     "text": [
      "PG: 48 dumped to file\n"
     ]
    },
    {
     "name": "stderr",
     "output_type": "stream",
     "text": [
      "DEBUG: http://api.elsevier.com:80 \"GET /content/search/scopus?query=medical%20image%20preprocessing&count=25&start=1200 HTTP/1.1\" 308 None\n",
      "DEBUG: Starting new HTTPS connection (1): api.elsevier.com:443\n",
      "DEBUG: https://api.elsevier.com:443 \"GET /content/search/scopus?query=medical%20image%20preprocessing&count=25&start=1200 HTTP/1.1\" 200 None\n",
      "DEBUG: Starting new HTTP connection (1): api.elsevier.com:80\n"
     ]
    },
    {
     "name": "stdout",
     "output_type": "stream",
     "text": [
      "PG: 49 dumped to file\n"
     ]
    },
    {
     "name": "stderr",
     "output_type": "stream",
     "text": [
      "DEBUG: http://api.elsevier.com:80 \"GET /content/search/scopus?query=medical%20image%20preprocessing&count=25&start=1225 HTTP/1.1\" 308 None\n",
      "DEBUG: Starting new HTTPS connection (1): api.elsevier.com:443\n",
      "DEBUG: https://api.elsevier.com:443 \"GET /content/search/scopus?query=medical%20image%20preprocessing&count=25&start=1225 HTTP/1.1\" 200 None\n",
      "DEBUG: Starting new HTTP connection (1): api.elsevier.com:80\n"
     ]
    },
    {
     "name": "stdout",
     "output_type": "stream",
     "text": [
      "PG: 50 dumped to file\n"
     ]
    },
    {
     "name": "stderr",
     "output_type": "stream",
     "text": [
      "DEBUG: http://api.elsevier.com:80 \"GET /content/search/scopus?query=medical%20image%20preprocessing&count=25&start=1250 HTTP/1.1\" 308 None\n",
      "DEBUG: Starting new HTTPS connection (1): api.elsevier.com:443\n",
      "DEBUG: https://api.elsevier.com:443 \"GET /content/search/scopus?query=medical%20image%20preprocessing&count=25&start=1250 HTTP/1.1\" 200 None\n",
      "DEBUG: Starting new HTTP connection (1): api.elsevier.com:80\n"
     ]
    },
    {
     "name": "stdout",
     "output_type": "stream",
     "text": [
      "PG: 51 dumped to file\n"
     ]
    },
    {
     "name": "stderr",
     "output_type": "stream",
     "text": [
      "DEBUG: http://api.elsevier.com:80 \"GET /content/search/scopus?query=medical%20image%20preprocessing&count=25&start=1275 HTTP/1.1\" 308 None\n",
      "DEBUG: Starting new HTTPS connection (1): api.elsevier.com:443\n",
      "DEBUG: https://api.elsevier.com:443 \"GET /content/search/scopus?query=medical%20image%20preprocessing&count=25&start=1275 HTTP/1.1\" 200 None\n",
      "DEBUG: Starting new HTTP connection (1): api.elsevier.com:80\n"
     ]
    },
    {
     "name": "stdout",
     "output_type": "stream",
     "text": [
      "PG: 52 dumped to file\n"
     ]
    },
    {
     "name": "stderr",
     "output_type": "stream",
     "text": [
      "DEBUG: http://api.elsevier.com:80 \"GET /content/search/scopus?query=medical%20image%20preprocessing&count=25&start=1300 HTTP/1.1\" 308 None\n",
      "DEBUG: Starting new HTTPS connection (1): api.elsevier.com:443\n",
      "DEBUG: https://api.elsevier.com:443 \"GET /content/search/scopus?query=medical%20image%20preprocessing&count=25&start=1300 HTTP/1.1\" 200 None\n",
      "DEBUG: Starting new HTTP connection (1): api.elsevier.com:80\n"
     ]
    },
    {
     "name": "stdout",
     "output_type": "stream",
     "text": [
      "PG: 53 dumped to file\n"
     ]
    },
    {
     "name": "stderr",
     "output_type": "stream",
     "text": [
      "DEBUG: http://api.elsevier.com:80 \"GET /content/search/scopus?query=medical%20image%20preprocessing&count=25&start=1325 HTTP/1.1\" 308 None\n",
      "DEBUG: Starting new HTTPS connection (1): api.elsevier.com:443\n",
      "DEBUG: https://api.elsevier.com:443 \"GET /content/search/scopus?query=medical%20image%20preprocessing&count=25&start=1325 HTTP/1.1\" 200 None\n",
      "DEBUG: Starting new HTTP connection (1): api.elsevier.com:80\n"
     ]
    },
    {
     "name": "stdout",
     "output_type": "stream",
     "text": [
      "PG: 54 dumped to file\n"
     ]
    },
    {
     "name": "stderr",
     "output_type": "stream",
     "text": [
      "DEBUG: http://api.elsevier.com:80 \"GET /content/search/scopus?query=medical%20image%20preprocessing&count=25&start=1350 HTTP/1.1\" 308 None\n",
      "DEBUG: Starting new HTTPS connection (1): api.elsevier.com:443\n",
      "DEBUG: https://api.elsevier.com:443 \"GET /content/search/scopus?query=medical%20image%20preprocessing&count=25&start=1350 HTTP/1.1\" 200 None\n",
      "DEBUG: Starting new HTTP connection (1): api.elsevier.com:80\n"
     ]
    },
    {
     "name": "stdout",
     "output_type": "stream",
     "text": [
      "PG: 55 dumped to file\n"
     ]
    },
    {
     "name": "stderr",
     "output_type": "stream",
     "text": [
      "DEBUG: http://api.elsevier.com:80 \"GET /content/search/scopus?query=medical%20image%20preprocessing&count=25&start=1375 HTTP/1.1\" 308 None\n",
      "DEBUG: Starting new HTTPS connection (1): api.elsevier.com:443\n",
      "DEBUG: https://api.elsevier.com:443 \"GET /content/search/scopus?query=medical%20image%20preprocessing&count=25&start=1375 HTTP/1.1\" 200 None\n",
      "DEBUG: Starting new HTTP connection (1): api.elsevier.com:80\n"
     ]
    },
    {
     "name": "stdout",
     "output_type": "stream",
     "text": [
      "PG: 56 dumped to file\n"
     ]
    },
    {
     "name": "stderr",
     "output_type": "stream",
     "text": [
      "DEBUG: http://api.elsevier.com:80 \"GET /content/search/scopus?query=medical%20image%20preprocessing&count=25&start=1400 HTTP/1.1\" 308 None\n",
      "DEBUG: Starting new HTTPS connection (1): api.elsevier.com:443\n",
      "DEBUG: https://api.elsevier.com:443 \"GET /content/search/scopus?query=medical%20image%20preprocessing&count=25&start=1400 HTTP/1.1\" 200 None\n",
      "DEBUG: Starting new HTTP connection (1): api.elsevier.com:80\n"
     ]
    },
    {
     "name": "stdout",
     "output_type": "stream",
     "text": [
      "PG: 57 dumped to file\n"
     ]
    },
    {
     "name": "stderr",
     "output_type": "stream",
     "text": [
      "DEBUG: http://api.elsevier.com:80 \"GET /content/search/scopus?query=medical%20image%20preprocessing&count=25&start=1425 HTTP/1.1\" 308 None\n",
      "DEBUG: Starting new HTTPS connection (1): api.elsevier.com:443\n",
      "DEBUG: https://api.elsevier.com:443 \"GET /content/search/scopus?query=medical%20image%20preprocessing&count=25&start=1425 HTTP/1.1\" 200 None\n",
      "DEBUG: Starting new HTTP connection (1): api.elsevier.com:80\n"
     ]
    },
    {
     "name": "stdout",
     "output_type": "stream",
     "text": [
      "PG: 58 dumped to file\n"
     ]
    },
    {
     "name": "stderr",
     "output_type": "stream",
     "text": [
      "DEBUG: http://api.elsevier.com:80 \"GET /content/search/scopus?query=medical%20image%20preprocessing&count=25&start=1450 HTTP/1.1\" 308 None\n",
      "DEBUG: Starting new HTTPS connection (1): api.elsevier.com:443\n",
      "DEBUG: https://api.elsevier.com:443 \"GET /content/search/scopus?query=medical%20image%20preprocessing&count=25&start=1450 HTTP/1.1\" 200 None\n",
      "DEBUG: Starting new HTTP connection (1): api.elsevier.com:80\n"
     ]
    },
    {
     "name": "stdout",
     "output_type": "stream",
     "text": [
      "PG: 59 dumped to file\n"
     ]
    },
    {
     "name": "stderr",
     "output_type": "stream",
     "text": [
      "DEBUG: http://api.elsevier.com:80 \"GET /content/search/scopus?query=medical%20image%20preprocessing&count=25&start=1475 HTTP/1.1\" 308 None\n",
      "DEBUG: Starting new HTTPS connection (1): api.elsevier.com:443\n",
      "DEBUG: https://api.elsevier.com:443 \"GET /content/search/scopus?query=medical%20image%20preprocessing&count=25&start=1475 HTTP/1.1\" 200 None\n",
      "DEBUG: Starting new HTTP connection (1): api.elsevier.com:80\n"
     ]
    },
    {
     "name": "stdout",
     "output_type": "stream",
     "text": [
      "PG: 60 dumped to file\n"
     ]
    },
    {
     "name": "stderr",
     "output_type": "stream",
     "text": [
      "DEBUG: http://api.elsevier.com:80 \"GET /content/search/scopus?query=medical%20image%20preprocessing&count=25&start=1500 HTTP/1.1\" 308 None\n",
      "DEBUG: Starting new HTTPS connection (1): api.elsevier.com:443\n",
      "DEBUG: https://api.elsevier.com:443 \"GET /content/search/scopus?query=medical%20image%20preprocessing&count=25&start=1500 HTTP/1.1\" 200 None\n",
      "DEBUG: Starting new HTTP connection (1): api.elsevier.com:80\n"
     ]
    },
    {
     "name": "stdout",
     "output_type": "stream",
     "text": [
      "PG: 61 dumped to file\n"
     ]
    },
    {
     "name": "stderr",
     "output_type": "stream",
     "text": [
      "DEBUG: http://api.elsevier.com:80 \"GET /content/search/scopus?query=medical%20image%20preprocessing&count=25&start=1525 HTTP/1.1\" 308 None\n",
      "DEBUG: Starting new HTTPS connection (1): api.elsevier.com:443\n",
      "DEBUG: https://api.elsevier.com:443 \"GET /content/search/scopus?query=medical%20image%20preprocessing&count=25&start=1525 HTTP/1.1\" 200 None\n",
      "DEBUG: Starting new HTTP connection (1): api.elsevier.com:80\n"
     ]
    },
    {
     "name": "stdout",
     "output_type": "stream",
     "text": [
      "PG: 62 dumped to file\n"
     ]
    },
    {
     "name": "stderr",
     "output_type": "stream",
     "text": [
      "DEBUG: http://api.elsevier.com:80 \"GET /content/search/scopus?query=medical%20image%20preprocessing&count=25&start=1550 HTTP/1.1\" 308 None\n",
      "DEBUG: Starting new HTTPS connection (1): api.elsevier.com:443\n",
      "DEBUG: https://api.elsevier.com:443 \"GET /content/search/scopus?query=medical%20image%20preprocessing&count=25&start=1550 HTTP/1.1\" 200 None\n",
      "DEBUG: Starting new HTTP connection (1): api.elsevier.com:80\n"
     ]
    },
    {
     "name": "stdout",
     "output_type": "stream",
     "text": [
      "PG: 63 dumped to file\n"
     ]
    },
    {
     "name": "stderr",
     "output_type": "stream",
     "text": [
      "DEBUG: http://api.elsevier.com:80 \"GET /content/search/scopus?query=medical%20image%20preprocessing&count=25&start=1575 HTTP/1.1\" 308 None\n",
      "DEBUG: Starting new HTTPS connection (1): api.elsevier.com:443\n",
      "DEBUG: https://api.elsevier.com:443 \"GET /content/search/scopus?query=medical%20image%20preprocessing&count=25&start=1575 HTTP/1.1\" 200 None\n",
      "DEBUG: Starting new HTTP connection (1): api.elsevier.com:80\n"
     ]
    },
    {
     "name": "stdout",
     "output_type": "stream",
     "text": [
      "PG: 64 dumped to file\n"
     ]
    },
    {
     "name": "stderr",
     "output_type": "stream",
     "text": [
      "DEBUG: http://api.elsevier.com:80 \"GET /content/search/scopus?query=medical%20image%20preprocessing&count=25&start=1600 HTTP/1.1\" 308 None\n",
      "DEBUG: Starting new HTTPS connection (1): api.elsevier.com:443\n",
      "DEBUG: https://api.elsevier.com:443 \"GET /content/search/scopus?query=medical%20image%20preprocessing&count=25&start=1600 HTTP/1.1\" 200 None\n",
      "DEBUG: Starting new HTTP connection (1): api.elsevier.com:80\n"
     ]
    },
    {
     "name": "stdout",
     "output_type": "stream",
     "text": [
      "PG: 65 dumped to file\n"
     ]
    },
    {
     "name": "stderr",
     "output_type": "stream",
     "text": [
      "DEBUG: http://api.elsevier.com:80 \"GET /content/search/scopus?query=medical%20image%20preprocessing&count=25&start=1625 HTTP/1.1\" 308 None\n",
      "DEBUG: Starting new HTTPS connection (1): api.elsevier.com:443\n",
      "DEBUG: https://api.elsevier.com:443 \"GET /content/search/scopus?query=medical%20image%20preprocessing&count=25&start=1625 HTTP/1.1\" 200 None\n",
      "DEBUG: Starting new HTTP connection (1): api.elsevier.com:80\n"
     ]
    },
    {
     "name": "stdout",
     "output_type": "stream",
     "text": [
      "PG: 66 dumped to file\n"
     ]
    },
    {
     "name": "stderr",
     "output_type": "stream",
     "text": [
      "DEBUG: http://api.elsevier.com:80 \"GET /content/search/scopus?query=medical%20image%20preprocessing&count=25&start=1650 HTTP/1.1\" 308 None\n",
      "DEBUG: Starting new HTTPS connection (1): api.elsevier.com:443\n",
      "DEBUG: https://api.elsevier.com:443 \"GET /content/search/scopus?query=medical%20image%20preprocessing&count=25&start=1650 HTTP/1.1\" 200 None\n",
      "DEBUG: Starting new HTTP connection (1): api.elsevier.com:80\n"
     ]
    },
    {
     "name": "stdout",
     "output_type": "stream",
     "text": [
      "PG: 67 dumped to file\n"
     ]
    },
    {
     "name": "stderr",
     "output_type": "stream",
     "text": [
      "DEBUG: http://api.elsevier.com:80 \"GET /content/search/scopus?query=medical%20image%20preprocessing&count=25&start=1675 HTTP/1.1\" 308 None\n",
      "DEBUG: Starting new HTTPS connection (1): api.elsevier.com:443\n",
      "DEBUG: https://api.elsevier.com:443 \"GET /content/search/scopus?query=medical%20image%20preprocessing&count=25&start=1675 HTTP/1.1\" 200 None\n",
      "DEBUG: Starting new HTTP connection (1): api.elsevier.com:80\n"
     ]
    },
    {
     "name": "stdout",
     "output_type": "stream",
     "text": [
      "PG: 68 dumped to file\n"
     ]
    },
    {
     "name": "stderr",
     "output_type": "stream",
     "text": [
      "DEBUG: http://api.elsevier.com:80 \"GET /content/search/scopus?query=medical%20image%20preprocessing&count=25&start=1700 HTTP/1.1\" 308 None\n",
      "DEBUG: Starting new HTTPS connection (1): api.elsevier.com:443\n",
      "DEBUG: https://api.elsevier.com:443 \"GET /content/search/scopus?query=medical%20image%20preprocessing&count=25&start=1700 HTTP/1.1\" 200 None\n",
      "DEBUG: Starting new HTTP connection (1): api.elsevier.com:80\n"
     ]
    },
    {
     "name": "stdout",
     "output_type": "stream",
     "text": [
      "PG: 69 dumped to file\n"
     ]
    },
    {
     "name": "stderr",
     "output_type": "stream",
     "text": [
      "DEBUG: http://api.elsevier.com:80 \"GET /content/search/scopus?query=medical%20image%20preprocessing&count=25&start=1725 HTTP/1.1\" 308 None\n",
      "DEBUG: Starting new HTTPS connection (1): api.elsevier.com:443\n",
      "DEBUG: https://api.elsevier.com:443 \"GET /content/search/scopus?query=medical%20image%20preprocessing&count=25&start=1725 HTTP/1.1\" 200 None\n",
      "DEBUG: Starting new HTTP connection (1): api.elsevier.com:80\n"
     ]
    },
    {
     "name": "stdout",
     "output_type": "stream",
     "text": [
      "PG: 70 dumped to file\n"
     ]
    },
    {
     "name": "stderr",
     "output_type": "stream",
     "text": [
      "DEBUG: http://api.elsevier.com:80 \"GET /content/search/scopus?query=medical%20image%20preprocessing&count=25&start=1750 HTTP/1.1\" 308 None\n",
      "DEBUG: Starting new HTTPS connection (1): api.elsevier.com:443\n",
      "DEBUG: https://api.elsevier.com:443 \"GET /content/search/scopus?query=medical%20image%20preprocessing&count=25&start=1750 HTTP/1.1\" 200 None\n",
      "DEBUG: Starting new HTTP connection (1): api.elsevier.com:80\n"
     ]
    },
    {
     "name": "stdout",
     "output_type": "stream",
     "text": [
      "PG: 71 dumped to file\n"
     ]
    },
    {
     "name": "stderr",
     "output_type": "stream",
     "text": [
      "DEBUG: http://api.elsevier.com:80 \"GET /content/search/scopus?query=medical%20image%20preprocessing&count=25&start=1775 HTTP/1.1\" 308 None\n",
      "DEBUG: Starting new HTTPS connection (1): api.elsevier.com:443\n",
      "DEBUG: https://api.elsevier.com:443 \"GET /content/search/scopus?query=medical%20image%20preprocessing&count=25&start=1775 HTTP/1.1\" 200 None\n",
      "DEBUG: Starting new HTTP connection (1): api.elsevier.com:80\n"
     ]
    },
    {
     "name": "stdout",
     "output_type": "stream",
     "text": [
      "PG: 72 dumped to file\n"
     ]
    },
    {
     "name": "stderr",
     "output_type": "stream",
     "text": [
      "DEBUG: http://api.elsevier.com:80 \"GET /content/search/scopus?query=medical%20image%20preprocessing&count=25&start=1800 HTTP/1.1\" 308 None\n",
      "DEBUG: Starting new HTTPS connection (1): api.elsevier.com:443\n",
      "DEBUG: https://api.elsevier.com:443 \"GET /content/search/scopus?query=medical%20image%20preprocessing&count=25&start=1800 HTTP/1.1\" 200 None\n",
      "DEBUG: Starting new HTTP connection (1): api.elsevier.com:80\n"
     ]
    },
    {
     "name": "stdout",
     "output_type": "stream",
     "text": [
      "PG: 73 dumped to file\n"
     ]
    },
    {
     "name": "stderr",
     "output_type": "stream",
     "text": [
      "DEBUG: http://api.elsevier.com:80 \"GET /content/search/scopus?query=medical%20image%20preprocessing&count=25&start=1825 HTTP/1.1\" 308 None\n",
      "DEBUG: Starting new HTTPS connection (1): api.elsevier.com:443\n",
      "DEBUG: https://api.elsevier.com:443 \"GET /content/search/scopus?query=medical%20image%20preprocessing&count=25&start=1825 HTTP/1.1\" 200 None\n",
      "DEBUG: Starting new HTTP connection (1): api.elsevier.com:80\n"
     ]
    },
    {
     "name": "stdout",
     "output_type": "stream",
     "text": [
      "PG: 74 dumped to file\n"
     ]
    },
    {
     "name": "stderr",
     "output_type": "stream",
     "text": [
      "DEBUG: http://api.elsevier.com:80 \"GET /content/search/scopus?query=medical%20image%20preprocessing&count=25&start=1850 HTTP/1.1\" 308 None\n",
      "DEBUG: Starting new HTTPS connection (1): api.elsevier.com:443\n",
      "DEBUG: https://api.elsevier.com:443 \"GET /content/search/scopus?query=medical%20image%20preprocessing&count=25&start=1850 HTTP/1.1\" 200 None\n",
      "DEBUG: Starting new HTTP connection (1): api.elsevier.com:80\n"
     ]
    },
    {
     "name": "stdout",
     "output_type": "stream",
     "text": [
      "PG: 75 dumped to file\n"
     ]
    },
    {
     "name": "stderr",
     "output_type": "stream",
     "text": [
      "DEBUG: http://api.elsevier.com:80 \"GET /content/search/scopus?query=medical%20image%20preprocessing&count=25&start=1875 HTTP/1.1\" 308 None\n",
      "DEBUG: Starting new HTTPS connection (1): api.elsevier.com:443\n",
      "DEBUG: https://api.elsevier.com:443 \"GET /content/search/scopus?query=medical%20image%20preprocessing&count=25&start=1875 HTTP/1.1\" 200 None\n",
      "DEBUG: Starting new HTTP connection (1): api.elsevier.com:80\n"
     ]
    },
    {
     "name": "stdout",
     "output_type": "stream",
     "text": [
      "PG: 76 dumped to file\n"
     ]
    },
    {
     "name": "stderr",
     "output_type": "stream",
     "text": [
      "DEBUG: http://api.elsevier.com:80 \"GET /content/search/scopus?query=medical%20image%20preprocessing&count=25&start=1900 HTTP/1.1\" 308 None\n",
      "DEBUG: Starting new HTTPS connection (1): api.elsevier.com:443\n",
      "DEBUG: https://api.elsevier.com:443 \"GET /content/search/scopus?query=medical%20image%20preprocessing&count=25&start=1900 HTTP/1.1\" 200 None\n",
      "DEBUG: Starting new HTTP connection (1): api.elsevier.com:80\n"
     ]
    },
    {
     "name": "stdout",
     "output_type": "stream",
     "text": [
      "PG: 77 dumped to file\n"
     ]
    },
    {
     "name": "stderr",
     "output_type": "stream",
     "text": [
      "DEBUG: http://api.elsevier.com:80 \"GET /content/search/scopus?query=medical%20image%20preprocessing&count=25&start=1925 HTTP/1.1\" 308 None\n",
      "DEBUG: Starting new HTTPS connection (1): api.elsevier.com:443\n",
      "DEBUG: https://api.elsevier.com:443 \"GET /content/search/scopus?query=medical%20image%20preprocessing&count=25&start=1925 HTTP/1.1\" 200 None\n",
      "DEBUG: Starting new HTTP connection (1): api.elsevier.com:80\n"
     ]
    },
    {
     "name": "stdout",
     "output_type": "stream",
     "text": [
      "PG: 78 dumped to file\n"
     ]
    },
    {
     "name": "stderr",
     "output_type": "stream",
     "text": [
      "DEBUG: http://api.elsevier.com:80 \"GET /content/search/scopus?query=medical%20image%20preprocessing&count=25&start=1950 HTTP/1.1\" 308 None\n",
      "DEBUG: Starting new HTTPS connection (1): api.elsevier.com:443\n",
      "DEBUG: https://api.elsevier.com:443 \"GET /content/search/scopus?query=medical%20image%20preprocessing&count=25&start=1950 HTTP/1.1\" 200 None\n",
      "DEBUG: Starting new HTTP connection (1): api.elsevier.com:80\n"
     ]
    },
    {
     "name": "stdout",
     "output_type": "stream",
     "text": [
      "PG: 79 dumped to file\n"
     ]
    },
    {
     "name": "stderr",
     "output_type": "stream",
     "text": [
      "DEBUG: http://api.elsevier.com:80 \"GET /content/search/scopus?query=medical%20image%20preprocessing&count=25&start=1975 HTTP/1.1\" 308 None\n",
      "DEBUG: Starting new HTTPS connection (1): api.elsevier.com:443\n",
      "DEBUG: https://api.elsevier.com:443 \"GET /content/search/scopus?query=medical%20image%20preprocessing&count=25&start=1975 HTTP/1.1\" 200 None\n",
      "DEBUG: Starting new HTTP connection (1): api.elsevier.com:80\n"
     ]
    },
    {
     "name": "stdout",
     "output_type": "stream",
     "text": [
      "PG: 80 dumped to file\n"
     ]
    },
    {
     "name": "stderr",
     "output_type": "stream",
     "text": [
      "DEBUG: http://api.elsevier.com:80 \"GET /content/search/scopus?query=medical%20image%20preprocessing&count=25&start=2000 HTTP/1.1\" 308 None\n",
      "DEBUG: Starting new HTTPS connection (1): api.elsevier.com:443\n",
      "DEBUG: https://api.elsevier.com:443 \"GET /content/search/scopus?query=medical%20image%20preprocessing&count=25&start=2000 HTTP/1.1\" 200 None\n",
      "DEBUG: Starting new HTTP connection (1): api.elsevier.com:80\n"
     ]
    },
    {
     "name": "stdout",
     "output_type": "stream",
     "text": [
      "PG: 81 dumped to file\n"
     ]
    },
    {
     "name": "stderr",
     "output_type": "stream",
     "text": [
      "DEBUG: http://api.elsevier.com:80 \"GET /content/search/scopus?query=medical%20image%20preprocessing&count=25&start=2025 HTTP/1.1\" 308 None\n",
      "DEBUG: Starting new HTTPS connection (1): api.elsevier.com:443\n",
      "DEBUG: https://api.elsevier.com:443 \"GET /content/search/scopus?query=medical%20image%20preprocessing&count=25&start=2025 HTTP/1.1\" 200 None\n",
      "DEBUG: Starting new HTTP connection (1): api.elsevier.com:80\n"
     ]
    },
    {
     "name": "stdout",
     "output_type": "stream",
     "text": [
      "PG: 82 dumped to file\n"
     ]
    },
    {
     "name": "stderr",
     "output_type": "stream",
     "text": [
      "DEBUG: http://api.elsevier.com:80 \"GET /content/search/scopus?query=medical%20image%20preprocessing&count=25&start=2050 HTTP/1.1\" 308 None\n",
      "DEBUG: Starting new HTTPS connection (1): api.elsevier.com:443\n",
      "DEBUG: https://api.elsevier.com:443 \"GET /content/search/scopus?query=medical%20image%20preprocessing&count=25&start=2050 HTTP/1.1\" 200 None\n",
      "DEBUG: Starting new HTTP connection (1): api.elsevier.com:80\n"
     ]
    },
    {
     "name": "stdout",
     "output_type": "stream",
     "text": [
      "PG: 83 dumped to file\n"
     ]
    },
    {
     "name": "stderr",
     "output_type": "stream",
     "text": [
      "DEBUG: http://api.elsevier.com:80 \"GET /content/search/scopus?query=medical%20image%20preprocessing&count=25&start=2075 HTTP/1.1\" 308 None\n",
      "DEBUG: Starting new HTTPS connection (1): api.elsevier.com:443\n",
      "DEBUG: https://api.elsevier.com:443 \"GET /content/search/scopus?query=medical%20image%20preprocessing&count=25&start=2075 HTTP/1.1\" 200 None\n",
      "DEBUG: Starting new HTTP connection (1): api.elsevier.com:80\n"
     ]
    },
    {
     "name": "stdout",
     "output_type": "stream",
     "text": [
      "PG: 84 dumped to file\n"
     ]
    },
    {
     "name": "stderr",
     "output_type": "stream",
     "text": [
      "DEBUG: http://api.elsevier.com:80 \"GET /content/search/scopus?query=medical%20image%20preprocessing&count=25&start=2100 HTTP/1.1\" 308 None\n",
      "DEBUG: Starting new HTTPS connection (1): api.elsevier.com:443\n",
      "DEBUG: https://api.elsevier.com:443 \"GET /content/search/scopus?query=medical%20image%20preprocessing&count=25&start=2100 HTTP/1.1\" 200 None\n",
      "DEBUG: Starting new HTTP connection (1): api.elsevier.com:80\n"
     ]
    },
    {
     "name": "stdout",
     "output_type": "stream",
     "text": [
      "PG: 85 dumped to file\n"
     ]
    },
    {
     "name": "stderr",
     "output_type": "stream",
     "text": [
      "DEBUG: http://api.elsevier.com:80 \"GET /content/search/scopus?query=medical%20image%20preprocessing&count=25&start=2125 HTTP/1.1\" 308 None\n",
      "DEBUG: Starting new HTTPS connection (1): api.elsevier.com:443\n",
      "DEBUG: https://api.elsevier.com:443 \"GET /content/search/scopus?query=medical%20image%20preprocessing&count=25&start=2125 HTTP/1.1\" 200 None\n",
      "DEBUG: Starting new HTTP connection (1): api.elsevier.com:80\n"
     ]
    },
    {
     "name": "stdout",
     "output_type": "stream",
     "text": [
      "PG: 86 dumped to file\n"
     ]
    },
    {
     "name": "stderr",
     "output_type": "stream",
     "text": [
      "DEBUG: http://api.elsevier.com:80 \"GET /content/search/scopus?query=medical%20image%20preprocessing&count=25&start=2150 HTTP/1.1\" 308 None\n",
      "DEBUG: Starting new HTTPS connection (1): api.elsevier.com:443\n",
      "DEBUG: https://api.elsevier.com:443 \"GET /content/search/scopus?query=medical%20image%20preprocessing&count=25&start=2150 HTTP/1.1\" 200 None\n",
      "DEBUG: Starting new HTTP connection (1): api.elsevier.com:80\n"
     ]
    },
    {
     "name": "stdout",
     "output_type": "stream",
     "text": [
      "PG: 87 dumped to file\n"
     ]
    },
    {
     "name": "stderr",
     "output_type": "stream",
     "text": [
      "DEBUG: http://api.elsevier.com:80 \"GET /content/search/scopus?query=medical%20image%20preprocessing&count=25&start=2175 HTTP/1.1\" 308 None\n",
      "DEBUG: Starting new HTTPS connection (1): api.elsevier.com:443\n",
      "DEBUG: https://api.elsevier.com:443 \"GET /content/search/scopus?query=medical%20image%20preprocessing&count=25&start=2175 HTTP/1.1\" 200 None\n",
      "DEBUG: Starting new HTTP connection (1): api.elsevier.com:80\n"
     ]
    },
    {
     "name": "stdout",
     "output_type": "stream",
     "text": [
      "PG: 88 dumped to file\n"
     ]
    },
    {
     "name": "stderr",
     "output_type": "stream",
     "text": [
      "DEBUG: http://api.elsevier.com:80 \"GET /content/search/scopus?query=medical%20image%20preprocessing&count=25&start=2200 HTTP/1.1\" 308 None\n",
      "DEBUG: Starting new HTTPS connection (1): api.elsevier.com:443\n",
      "DEBUG: https://api.elsevier.com:443 \"GET /content/search/scopus?query=medical%20image%20preprocessing&count=25&start=2200 HTTP/1.1\" 200 None\n",
      "DEBUG: Starting new HTTP connection (1): api.elsevier.com:80\n"
     ]
    },
    {
     "name": "stdout",
     "output_type": "stream",
     "text": [
      "PG: 89 dumped to file\n"
     ]
    },
    {
     "name": "stderr",
     "output_type": "stream",
     "text": [
      "DEBUG: http://api.elsevier.com:80 \"GET /content/search/scopus?query=medical%20image%20preprocessing&count=25&start=2225 HTTP/1.1\" 308 None\n",
      "DEBUG: Starting new HTTPS connection (1): api.elsevier.com:443\n",
      "DEBUG: https://api.elsevier.com:443 \"GET /content/search/scopus?query=medical%20image%20preprocessing&count=25&start=2225 HTTP/1.1\" 200 None\n",
      "DEBUG: Starting new HTTP connection (1): api.elsevier.com:80\n"
     ]
    },
    {
     "name": "stdout",
     "output_type": "stream",
     "text": [
      "PG: 90 dumped to file\n"
     ]
    },
    {
     "name": "stderr",
     "output_type": "stream",
     "text": [
      "DEBUG: http://api.elsevier.com:80 \"GET /content/search/scopus?query=medical%20image%20preprocessing&count=25&start=2250 HTTP/1.1\" 308 None\n",
      "DEBUG: Starting new HTTPS connection (1): api.elsevier.com:443\n",
      "DEBUG: https://api.elsevier.com:443 \"GET /content/search/scopus?query=medical%20image%20preprocessing&count=25&start=2250 HTTP/1.1\" 200 None\n",
      "DEBUG: Starting new HTTP connection (1): api.elsevier.com:80\n"
     ]
    },
    {
     "name": "stdout",
     "output_type": "stream",
     "text": [
      "PG: 91 dumped to file\n"
     ]
    },
    {
     "name": "stderr",
     "output_type": "stream",
     "text": [
      "DEBUG: http://api.elsevier.com:80 \"GET /content/search/scopus?query=medical%20image%20preprocessing&count=25&start=2275 HTTP/1.1\" 308 None\n",
      "DEBUG: Starting new HTTPS connection (1): api.elsevier.com:443\n",
      "DEBUG: https://api.elsevier.com:443 \"GET /content/search/scopus?query=medical%20image%20preprocessing&count=25&start=2275 HTTP/1.1\" 200 None\n",
      "DEBUG: Starting new HTTP connection (1): api.elsevier.com:80\n"
     ]
    },
    {
     "name": "stdout",
     "output_type": "stream",
     "text": [
      "PG: 92 dumped to file\n"
     ]
    },
    {
     "name": "stderr",
     "output_type": "stream",
     "text": [
      "DEBUG: http://api.elsevier.com:80 \"GET /content/search/scopus?query=medical%20image%20preprocessing&count=25&start=2300 HTTP/1.1\" 308 None\n",
      "DEBUG: Starting new HTTPS connection (1): api.elsevier.com:443\n",
      "DEBUG: https://api.elsevier.com:443 \"GET /content/search/scopus?query=medical%20image%20preprocessing&count=25&start=2300 HTTP/1.1\" 200 None\n",
      "DEBUG: Starting new HTTP connection (1): api.elsevier.com:80\n"
     ]
    },
    {
     "name": "stdout",
     "output_type": "stream",
     "text": [
      "PG: 93 dumped to file\n"
     ]
    },
    {
     "name": "stderr",
     "output_type": "stream",
     "text": [
      "DEBUG: http://api.elsevier.com:80 \"GET /content/search/scopus?query=medical%20image%20preprocessing&count=25&start=2325 HTTP/1.1\" 308 None\n",
      "DEBUG: Starting new HTTPS connection (1): api.elsevier.com:443\n",
      "DEBUG: https://api.elsevier.com:443 \"GET /content/search/scopus?query=medical%20image%20preprocessing&count=25&start=2325 HTTP/1.1\" 200 None\n",
      "DEBUG: Starting new HTTP connection (1): api.elsevier.com:80\n"
     ]
    },
    {
     "name": "stdout",
     "output_type": "stream",
     "text": [
      "PG: 94 dumped to file\n"
     ]
    },
    {
     "name": "stderr",
     "output_type": "stream",
     "text": [
      "DEBUG: http://api.elsevier.com:80 \"GET /content/search/scopus?query=medical%20image%20preprocessing&count=25&start=2350 HTTP/1.1\" 308 None\n",
      "DEBUG: Starting new HTTPS connection (1): api.elsevier.com:443\n",
      "DEBUG: https://api.elsevier.com:443 \"GET /content/search/scopus?query=medical%20image%20preprocessing&count=25&start=2350 HTTP/1.1\" 200 None\n",
      "DEBUG: Starting new HTTP connection (1): api.elsevier.com:80\n"
     ]
    },
    {
     "name": "stdout",
     "output_type": "stream",
     "text": [
      "PG: 95 dumped to file\n"
     ]
    },
    {
     "name": "stderr",
     "output_type": "stream",
     "text": [
      "DEBUG: http://api.elsevier.com:80 \"GET /content/search/scopus?query=medical%20image%20preprocessing&count=25&start=2375 HTTP/1.1\" 308 None\n",
      "DEBUG: Starting new HTTPS connection (1): api.elsevier.com:443\n",
      "DEBUG: https://api.elsevier.com:443 \"GET /content/search/scopus?query=medical%20image%20preprocessing&count=25&start=2375 HTTP/1.1\" 200 None\n",
      "DEBUG: Starting new HTTP connection (1): api.elsevier.com:80\n"
     ]
    },
    {
     "name": "stdout",
     "output_type": "stream",
     "text": [
      "PG: 96 dumped to file\n"
     ]
    },
    {
     "name": "stderr",
     "output_type": "stream",
     "text": [
      "DEBUG: http://api.elsevier.com:80 \"GET /content/search/scopus?query=medical%20image%20preprocessing&count=25&start=2400 HTTP/1.1\" 308 None\n",
      "DEBUG: Starting new HTTPS connection (1): api.elsevier.com:443\n",
      "DEBUG: https://api.elsevier.com:443 \"GET /content/search/scopus?query=medical%20image%20preprocessing&count=25&start=2400 HTTP/1.1\" 200 None\n",
      "DEBUG: Starting new HTTP connection (1): api.elsevier.com:80\n"
     ]
    },
    {
     "name": "stdout",
     "output_type": "stream",
     "text": [
      "PG: 97 dumped to file\n"
     ]
    },
    {
     "name": "stderr",
     "output_type": "stream",
     "text": [
      "DEBUG: http://api.elsevier.com:80 \"GET /content/search/scopus?query=medical%20image%20preprocessing&count=25&start=2425 HTTP/1.1\" 308 None\n",
      "DEBUG: Starting new HTTPS connection (1): api.elsevier.com:443\n",
      "DEBUG: https://api.elsevier.com:443 \"GET /content/search/scopus?query=medical%20image%20preprocessing&count=25&start=2425 HTTP/1.1\" 200 None\n",
      "DEBUG: Starting new HTTP connection (1): api.elsevier.com:80\n"
     ]
    },
    {
     "name": "stdout",
     "output_type": "stream",
     "text": [
      "PG: 98 dumped to file\n"
     ]
    },
    {
     "name": "stderr",
     "output_type": "stream",
     "text": [
      "DEBUG: http://api.elsevier.com:80 \"GET /content/search/scopus?query=medical%20image%20preprocessing&count=25&start=2450 HTTP/1.1\" 308 None\n",
      "DEBUG: Starting new HTTPS connection (1): api.elsevier.com:443\n",
      "DEBUG: https://api.elsevier.com:443 \"GET /content/search/scopus?query=medical%20image%20preprocessing&count=25&start=2450 HTTP/1.1\" 200 None\n",
      "DEBUG: Starting new HTTP connection (1): api.elsevier.com:80\n"
     ]
    },
    {
     "name": "stdout",
     "output_type": "stream",
     "text": [
      "PG: 99 dumped to file\n"
     ]
    },
    {
     "name": "stderr",
     "output_type": "stream",
     "text": [
      "DEBUG: http://api.elsevier.com:80 \"GET /content/search/scopus?query=medical%20image%20preprocessing&count=25&start=2475 HTTP/1.1\" 308 None\n",
      "DEBUG: Starting new HTTPS connection (1): api.elsevier.com:443\n",
      "DEBUG: https://api.elsevier.com:443 \"GET /content/search/scopus?query=medical%20image%20preprocessing&count=25&start=2475 HTTP/1.1\" 200 None\n",
      "DEBUG: Starting new HTTP connection (1): api.elsevier.com:80\n"
     ]
    },
    {
     "name": "stdout",
     "output_type": "stream",
     "text": [
      "PG: 100 dumped to file\n"
     ]
    },
    {
     "name": "stderr",
     "output_type": "stream",
     "text": [
      "DEBUG: http://api.elsevier.com:80 \"GET /content/search/scopus?query=medical%20image%20preprocessing&count=25&start=2500 HTTP/1.1\" 308 None\n",
      "DEBUG: Starting new HTTPS connection (1): api.elsevier.com:443\n",
      "DEBUG: https://api.elsevier.com:443 \"GET /content/search/scopus?query=medical%20image%20preprocessing&count=25&start=2500 HTTP/1.1\" 200 None\n",
      "DEBUG: Starting new HTTP connection (1): api.elsevier.com:80\n"
     ]
    },
    {
     "name": "stdout",
     "output_type": "stream",
     "text": [
      "PG: 101 dumped to file\n"
     ]
    },
    {
     "name": "stderr",
     "output_type": "stream",
     "text": [
      "DEBUG: http://api.elsevier.com:80 \"GET /content/search/scopus?query=medical%20image%20preprocessing&count=25&start=2525 HTTP/1.1\" 308 None\n",
      "DEBUG: Starting new HTTPS connection (1): api.elsevier.com:443\n",
      "DEBUG: https://api.elsevier.com:443 \"GET /content/search/scopus?query=medical%20image%20preprocessing&count=25&start=2525 HTTP/1.1\" 200 None\n",
      "DEBUG: Starting new HTTP connection (1): api.elsevier.com:80\n"
     ]
    },
    {
     "name": "stdout",
     "output_type": "stream",
     "text": [
      "PG: 102 dumped to file\n"
     ]
    },
    {
     "name": "stderr",
     "output_type": "stream",
     "text": [
      "DEBUG: http://api.elsevier.com:80 \"GET /content/search/scopus?query=medical%20image%20preprocessing&count=25&start=2550 HTTP/1.1\" 308 None\n",
      "DEBUG: Starting new HTTPS connection (1): api.elsevier.com:443\n",
      "DEBUG: https://api.elsevier.com:443 \"GET /content/search/scopus?query=medical%20image%20preprocessing&count=25&start=2550 HTTP/1.1\" 200 None\n",
      "DEBUG: Starting new HTTP connection (1): api.elsevier.com:80\n"
     ]
    },
    {
     "name": "stdout",
     "output_type": "stream",
     "text": [
      "PG: 103 dumped to file\n"
     ]
    },
    {
     "name": "stderr",
     "output_type": "stream",
     "text": [
      "DEBUG: http://api.elsevier.com:80 \"GET /content/search/scopus?query=medical%20image%20preprocessing&count=25&start=2575 HTTP/1.1\" 308 None\n",
      "DEBUG: Starting new HTTPS connection (1): api.elsevier.com:443\n",
      "DEBUG: https://api.elsevier.com:443 \"GET /content/search/scopus?query=medical%20image%20preprocessing&count=25&start=2575 HTTP/1.1\" 200 None\n",
      "DEBUG: Starting new HTTP connection (1): api.elsevier.com:80\n"
     ]
    },
    {
     "name": "stdout",
     "output_type": "stream",
     "text": [
      "PG: 104 dumped to file\n"
     ]
    },
    {
     "name": "stderr",
     "output_type": "stream",
     "text": [
      "DEBUG: http://api.elsevier.com:80 \"GET /content/search/scopus?query=medical%20image%20preprocessing&count=25&start=2600 HTTP/1.1\" 308 None\n",
      "DEBUG: Starting new HTTPS connection (1): api.elsevier.com:443\n",
      "DEBUG: https://api.elsevier.com:443 \"GET /content/search/scopus?query=medical%20image%20preprocessing&count=25&start=2600 HTTP/1.1\" 200 None\n",
      "DEBUG: Starting new HTTP connection (1): api.elsevier.com:80\n"
     ]
    },
    {
     "name": "stdout",
     "output_type": "stream",
     "text": [
      "PG: 105 dumped to file\n"
     ]
    },
    {
     "name": "stderr",
     "output_type": "stream",
     "text": [
      "DEBUG: http://api.elsevier.com:80 \"GET /content/search/scopus?query=medical%20image%20preprocessing&count=25&start=2625 HTTP/1.1\" 308 None\n",
      "DEBUG: Starting new HTTPS connection (1): api.elsevier.com:443\n",
      "DEBUG: https://api.elsevier.com:443 \"GET /content/search/scopus?query=medical%20image%20preprocessing&count=25&start=2625 HTTP/1.1\" 200 None\n",
      "DEBUG: Starting new HTTP connection (1): api.elsevier.com:80\n"
     ]
    },
    {
     "name": "stdout",
     "output_type": "stream",
     "text": [
      "PG: 106 dumped to file\n"
     ]
    },
    {
     "name": "stderr",
     "output_type": "stream",
     "text": [
      "DEBUG: http://api.elsevier.com:80 \"GET /content/search/scopus?query=medical%20image%20preprocessing&count=25&start=2650 HTTP/1.1\" 308 None\n",
      "DEBUG: Starting new HTTPS connection (1): api.elsevier.com:443\n",
      "DEBUG: https://api.elsevier.com:443 \"GET /content/search/scopus?query=medical%20image%20preprocessing&count=25&start=2650 HTTP/1.1\" 200 None\n",
      "DEBUG: Starting new HTTP connection (1): api.elsevier.com:80\n"
     ]
    },
    {
     "name": "stdout",
     "output_type": "stream",
     "text": [
      "PG: 107 dumped to file\n"
     ]
    },
    {
     "name": "stderr",
     "output_type": "stream",
     "text": [
      "DEBUG: http://api.elsevier.com:80 \"GET /content/search/scopus?query=medical%20image%20preprocessing&count=25&start=2675 HTTP/1.1\" 308 None\n",
      "DEBUG: Starting new HTTPS connection (1): api.elsevier.com:443\n",
      "DEBUG: https://api.elsevier.com:443 \"GET /content/search/scopus?query=medical%20image%20preprocessing&count=25&start=2675 HTTP/1.1\" 200 None\n",
      "DEBUG: Starting new HTTP connection (1): api.elsevier.com:80\n"
     ]
    },
    {
     "name": "stdout",
     "output_type": "stream",
     "text": [
      "PG: 108 dumped to file\n"
     ]
    },
    {
     "name": "stderr",
     "output_type": "stream",
     "text": [
      "DEBUG: http://api.elsevier.com:80 \"GET /content/search/scopus?query=medical%20image%20preprocessing&count=25&start=2700 HTTP/1.1\" 308 None\n",
      "DEBUG: Starting new HTTPS connection (1): api.elsevier.com:443\n",
      "DEBUG: https://api.elsevier.com:443 \"GET /content/search/scopus?query=medical%20image%20preprocessing&count=25&start=2700 HTTP/1.1\" 200 None\n",
      "DEBUG: Starting new HTTP connection (1): api.elsevier.com:80\n"
     ]
    },
    {
     "name": "stdout",
     "output_type": "stream",
     "text": [
      "PG: 109 dumped to file\n"
     ]
    },
    {
     "name": "stderr",
     "output_type": "stream",
     "text": [
      "DEBUG: http://api.elsevier.com:80 \"GET /content/search/scopus?query=medical%20image%20preprocessing&count=25&start=2725 HTTP/1.1\" 308 None\n",
      "DEBUG: Starting new HTTPS connection (1): api.elsevier.com:443\n",
      "DEBUG: https://api.elsevier.com:443 \"GET /content/search/scopus?query=medical%20image%20preprocessing&count=25&start=2725 HTTP/1.1\" 200 None\n",
      "DEBUG: Starting new HTTP connection (1): api.elsevier.com:80\n"
     ]
    },
    {
     "name": "stdout",
     "output_type": "stream",
     "text": [
      "PG: 110 dumped to file\n"
     ]
    },
    {
     "name": "stderr",
     "output_type": "stream",
     "text": [
      "DEBUG: http://api.elsevier.com:80 \"GET /content/search/scopus?query=medical%20image%20preprocessing&count=25&start=2750 HTTP/1.1\" 308 None\n",
      "DEBUG: Starting new HTTPS connection (1): api.elsevier.com:443\n",
      "DEBUG: https://api.elsevier.com:443 \"GET /content/search/scopus?query=medical%20image%20preprocessing&count=25&start=2750 HTTP/1.1\" 200 None\n",
      "DEBUG: Starting new HTTP connection (1): api.elsevier.com:80\n"
     ]
    },
    {
     "name": "stdout",
     "output_type": "stream",
     "text": [
      "PG: 111 dumped to file\n"
     ]
    },
    {
     "name": "stderr",
     "output_type": "stream",
     "text": [
      "DEBUG: http://api.elsevier.com:80 \"GET /content/search/scopus?query=medical%20image%20preprocessing&count=25&start=2775 HTTP/1.1\" 308 None\n",
      "DEBUG: Starting new HTTPS connection (1): api.elsevier.com:443\n",
      "DEBUG: https://api.elsevier.com:443 \"GET /content/search/scopus?query=medical%20image%20preprocessing&count=25&start=2775 HTTP/1.1\" 200 None\n",
      "DEBUG: Starting new HTTP connection (1): api.elsevier.com:80\n"
     ]
    },
    {
     "name": "stdout",
     "output_type": "stream",
     "text": [
      "PG: 112 dumped to file\n"
     ]
    },
    {
     "name": "stderr",
     "output_type": "stream",
     "text": [
      "DEBUG: http://api.elsevier.com:80 \"GET /content/search/scopus?query=medical%20image%20preprocessing&count=25&start=2800 HTTP/1.1\" 308 None\n",
      "DEBUG: Starting new HTTPS connection (1): api.elsevier.com:443\n",
      "DEBUG: https://api.elsevier.com:443 \"GET /content/search/scopus?query=medical%20image%20preprocessing&count=25&start=2800 HTTP/1.1\" 200 None\n",
      "DEBUG: Starting new HTTP connection (1): api.elsevier.com:80\n"
     ]
    },
    {
     "name": "stdout",
     "output_type": "stream",
     "text": [
      "PG: 113 dumped to file\n"
     ]
    },
    {
     "name": "stderr",
     "output_type": "stream",
     "text": [
      "DEBUG: http://api.elsevier.com:80 \"GET /content/search/scopus?query=medical%20image%20preprocessing&count=25&start=2825 HTTP/1.1\" 308 None\n",
      "DEBUG: Starting new HTTPS connection (1): api.elsevier.com:443\n",
      "DEBUG: https://api.elsevier.com:443 \"GET /content/search/scopus?query=medical%20image%20preprocessing&count=25&start=2825 HTTP/1.1\" 200 None\n",
      "DEBUG: Starting new HTTP connection (1): api.elsevier.com:80\n"
     ]
    },
    {
     "name": "stdout",
     "output_type": "stream",
     "text": [
      "PG: 114 dumped to file\n"
     ]
    },
    {
     "name": "stderr",
     "output_type": "stream",
     "text": [
      "DEBUG: http://api.elsevier.com:80 \"GET /content/search/scopus?query=medical%20image%20preprocessing&count=25&start=2850 HTTP/1.1\" 308 None\n",
      "DEBUG: Starting new HTTPS connection (1): api.elsevier.com:443\n",
      "DEBUG: https://api.elsevier.com:443 \"GET /content/search/scopus?query=medical%20image%20preprocessing&count=25&start=2850 HTTP/1.1\" 200 None\n",
      "DEBUG: Starting new HTTP connection (1): api.elsevier.com:80\n"
     ]
    },
    {
     "name": "stdout",
     "output_type": "stream",
     "text": [
      "PG: 115 dumped to file\n"
     ]
    },
    {
     "name": "stderr",
     "output_type": "stream",
     "text": [
      "DEBUG: http://api.elsevier.com:80 \"GET /content/search/scopus?query=medical%20image%20preprocessing&count=25&start=2875 HTTP/1.1\" 308 None\n",
      "DEBUG: Starting new HTTPS connection (1): api.elsevier.com:443\n",
      "DEBUG: https://api.elsevier.com:443 \"GET /content/search/scopus?query=medical%20image%20preprocessing&count=25&start=2875 HTTP/1.1\" 200 None\n",
      "DEBUG: Starting new HTTP connection (1): api.elsevier.com:80\n"
     ]
    },
    {
     "name": "stdout",
     "output_type": "stream",
     "text": [
      "PG: 116 dumped to file\n"
     ]
    },
    {
     "name": "stderr",
     "output_type": "stream",
     "text": [
      "DEBUG: http://api.elsevier.com:80 \"GET /content/search/scopus?query=medical%20image%20preprocessing&count=25&start=2900 HTTP/1.1\" 308 None\n",
      "DEBUG: Starting new HTTPS connection (1): api.elsevier.com:443\n",
      "DEBUG: https://api.elsevier.com:443 \"GET /content/search/scopus?query=medical%20image%20preprocessing&count=25&start=2900 HTTP/1.1\" 200 None\n",
      "DEBUG: Starting new HTTP connection (1): api.elsevier.com:80\n"
     ]
    },
    {
     "name": "stdout",
     "output_type": "stream",
     "text": [
      "PG: 117 dumped to file\n"
     ]
    },
    {
     "name": "stderr",
     "output_type": "stream",
     "text": [
      "DEBUG: http://api.elsevier.com:80 \"GET /content/search/scopus?query=medical%20image%20preprocessing&count=25&start=2925 HTTP/1.1\" 308 None\n",
      "DEBUG: Starting new HTTPS connection (1): api.elsevier.com:443\n",
      "DEBUG: https://api.elsevier.com:443 \"GET /content/search/scopus?query=medical%20image%20preprocessing&count=25&start=2925 HTTP/1.1\" 200 None\n",
      "DEBUG: Starting new HTTP connection (1): api.elsevier.com:80\n"
     ]
    },
    {
     "name": "stdout",
     "output_type": "stream",
     "text": [
      "PG: 118 dumped to file\n"
     ]
    },
    {
     "name": "stderr",
     "output_type": "stream",
     "text": [
      "DEBUG: http://api.elsevier.com:80 \"GET /content/search/scopus?query=medical%20image%20preprocessing&count=25&start=2950 HTTP/1.1\" 308 None\n",
      "DEBUG: Starting new HTTPS connection (1): api.elsevier.com:443\n",
      "DEBUG: https://api.elsevier.com:443 \"GET /content/search/scopus?query=medical%20image%20preprocessing&count=25&start=2950 HTTP/1.1\" 200 None\n",
      "DEBUG: Starting new HTTP connection (1): api.elsevier.com:80\n"
     ]
    },
    {
     "name": "stdout",
     "output_type": "stream",
     "text": [
      "PG: 119 dumped to file\n"
     ]
    },
    {
     "name": "stderr",
     "output_type": "stream",
     "text": [
      "DEBUG: http://api.elsevier.com:80 \"GET /content/search/scopus?query=medical%20image%20preprocessing&count=25&start=2975 HTTP/1.1\" 308 None\n",
      "DEBUG: Starting new HTTPS connection (1): api.elsevier.com:443\n",
      "DEBUG: https://api.elsevier.com:443 \"GET /content/search/scopus?query=medical%20image%20preprocessing&count=25&start=2975 HTTP/1.1\" 200 None\n",
      "DEBUG: Starting new HTTP connection (1): api.elsevier.com:80\n"
     ]
    },
    {
     "name": "stdout",
     "output_type": "stream",
     "text": [
      "PG: 120 dumped to file\n"
     ]
    },
    {
     "name": "stderr",
     "output_type": "stream",
     "text": [
      "DEBUG: http://api.elsevier.com:80 \"GET /content/search/scopus?query=medical%20image%20preprocessing&count=25&start=3000 HTTP/1.1\" 308 None\n",
      "DEBUG: Starting new HTTPS connection (1): api.elsevier.com:443\n",
      "DEBUG: https://api.elsevier.com:443 \"GET /content/search/scopus?query=medical%20image%20preprocessing&count=25&start=3000 HTTP/1.1\" 200 None\n",
      "DEBUG: Starting new HTTP connection (1): api.elsevier.com:80\n"
     ]
    },
    {
     "name": "stdout",
     "output_type": "stream",
     "text": [
      "PG: 121 dumped to file\n"
     ]
    },
    {
     "name": "stderr",
     "output_type": "stream",
     "text": [
      "DEBUG: http://api.elsevier.com:80 \"GET /content/search/scopus?query=medical%20image%20preprocessing&count=25&start=3025 HTTP/1.1\" 308 None\n",
      "DEBUG: Starting new HTTPS connection (1): api.elsevier.com:443\n",
      "DEBUG: https://api.elsevier.com:443 \"GET /content/search/scopus?query=medical%20image%20preprocessing&count=25&start=3025 HTTP/1.1\" 200 None\n",
      "DEBUG: Starting new HTTP connection (1): api.elsevier.com:80\n"
     ]
    },
    {
     "name": "stdout",
     "output_type": "stream",
     "text": [
      "PG: 122 dumped to file\n"
     ]
    },
    {
     "name": "stderr",
     "output_type": "stream",
     "text": [
      "DEBUG: http://api.elsevier.com:80 \"GET /content/search/scopus?query=medical%20image%20preprocessing&count=25&start=3050 HTTP/1.1\" 308 None\n",
      "DEBUG: Starting new HTTPS connection (1): api.elsevier.com:443\n",
      "DEBUG: https://api.elsevier.com:443 \"GET /content/search/scopus?query=medical%20image%20preprocessing&count=25&start=3050 HTTP/1.1\" 200 None\n",
      "DEBUG: Starting new HTTP connection (1): api.elsevier.com:80\n"
     ]
    },
    {
     "name": "stdout",
     "output_type": "stream",
     "text": [
      "PG: 123 dumped to file\n"
     ]
    },
    {
     "name": "stderr",
     "output_type": "stream",
     "text": [
      "DEBUG: http://api.elsevier.com:80 \"GET /content/search/scopus?query=medical%20image%20preprocessing&count=25&start=3075 HTTP/1.1\" 308 None\n",
      "DEBUG: Starting new HTTPS connection (1): api.elsevier.com:443\n",
      "DEBUG: https://api.elsevier.com:443 \"GET /content/search/scopus?query=medical%20image%20preprocessing&count=25&start=3075 HTTP/1.1\" 200 None\n",
      "DEBUG: Starting new HTTP connection (1): api.elsevier.com:80\n"
     ]
    },
    {
     "name": "stdout",
     "output_type": "stream",
     "text": [
      "PG: 124 dumped to file\n"
     ]
    },
    {
     "name": "stderr",
     "output_type": "stream",
     "text": [
      "DEBUG: http://api.elsevier.com:80 \"GET /content/search/scopus?query=medical%20image%20preprocessing&count=25&start=3100 HTTP/1.1\" 308 None\n",
      "DEBUG: Starting new HTTPS connection (1): api.elsevier.com:443\n",
      "DEBUG: https://api.elsevier.com:443 \"GET /content/search/scopus?query=medical%20image%20preprocessing&count=25&start=3100 HTTP/1.1\" 200 None\n",
      "DEBUG: Starting new HTTP connection (1): api.elsevier.com:80\n"
     ]
    },
    {
     "name": "stdout",
     "output_type": "stream",
     "text": [
      "PG: 125 dumped to file\n"
     ]
    },
    {
     "name": "stderr",
     "output_type": "stream",
     "text": [
      "DEBUG: http://api.elsevier.com:80 \"GET /content/search/scopus?query=medical%20image%20preprocessing&count=25&start=3125 HTTP/1.1\" 308 None\n",
      "DEBUG: Starting new HTTPS connection (1): api.elsevier.com:443\n",
      "DEBUG: https://api.elsevier.com:443 \"GET /content/search/scopus?query=medical%20image%20preprocessing&count=25&start=3125 HTTP/1.1\" 200 None\n",
      "DEBUG: Starting new HTTP connection (1): api.elsevier.com:80\n"
     ]
    },
    {
     "name": "stdout",
     "output_type": "stream",
     "text": [
      "PG: 126 dumped to file\n"
     ]
    },
    {
     "name": "stderr",
     "output_type": "stream",
     "text": [
      "DEBUG: http://api.elsevier.com:80 \"GET /content/search/scopus?query=medical%20image%20preprocessing&count=25&start=3150 HTTP/1.1\" 308 None\n",
      "DEBUG: Starting new HTTPS connection (1): api.elsevier.com:443\n",
      "DEBUG: https://api.elsevier.com:443 \"GET /content/search/scopus?query=medical%20image%20preprocessing&count=25&start=3150 HTTP/1.1\" 200 None\n",
      "DEBUG: Starting new HTTP connection (1): api.elsevier.com:80\n"
     ]
    },
    {
     "name": "stdout",
     "output_type": "stream",
     "text": [
      "PG: 127 dumped to file\n"
     ]
    },
    {
     "name": "stderr",
     "output_type": "stream",
     "text": [
      "DEBUG: http://api.elsevier.com:80 \"GET /content/search/scopus?query=medical%20image%20preprocessing&count=25&start=3175 HTTP/1.1\" 308 None\n",
      "DEBUG: Starting new HTTPS connection (1): api.elsevier.com:443\n",
      "DEBUG: https://api.elsevier.com:443 \"GET /content/search/scopus?query=medical%20image%20preprocessing&count=25&start=3175 HTTP/1.1\" 200 None\n",
      "DEBUG: Starting new HTTP connection (1): api.elsevier.com:80\n"
     ]
    },
    {
     "name": "stdout",
     "output_type": "stream",
     "text": [
      "PG: 128 dumped to file\n"
     ]
    },
    {
     "name": "stderr",
     "output_type": "stream",
     "text": [
      "DEBUG: http://api.elsevier.com:80 \"GET /content/search/scopus?query=medical%20image%20preprocessing&count=25&start=3200 HTTP/1.1\" 308 None\n",
      "DEBUG: Starting new HTTPS connection (1): api.elsevier.com:443\n",
      "DEBUG: https://api.elsevier.com:443 \"GET /content/search/scopus?query=medical%20image%20preprocessing&count=25&start=3200 HTTP/1.1\" 200 None\n",
      "DEBUG: Starting new HTTP connection (1): api.elsevier.com:80\n"
     ]
    },
    {
     "name": "stdout",
     "output_type": "stream",
     "text": [
      "PG: 129 dumped to file\n"
     ]
    },
    {
     "name": "stderr",
     "output_type": "stream",
     "text": [
      "DEBUG: http://api.elsevier.com:80 \"GET /content/search/scopus?query=medical%20image%20preprocessing&count=25&start=3225 HTTP/1.1\" 308 None\n",
      "DEBUG: Starting new HTTPS connection (1): api.elsevier.com:443\n",
      "DEBUG: https://api.elsevier.com:443 \"GET /content/search/scopus?query=medical%20image%20preprocessing&count=25&start=3225 HTTP/1.1\" 200 None\n",
      "DEBUG: Starting new HTTP connection (1): api.elsevier.com:80\n"
     ]
    },
    {
     "name": "stdout",
     "output_type": "stream",
     "text": [
      "PG: 130 dumped to file\n"
     ]
    },
    {
     "name": "stderr",
     "output_type": "stream",
     "text": [
      "DEBUG: http://api.elsevier.com:80 \"GET /content/search/scopus?query=medical%20image%20preprocessing&count=25&start=3250 HTTP/1.1\" 308 None\n",
      "DEBUG: Starting new HTTPS connection (1): api.elsevier.com:443\n",
      "DEBUG: https://api.elsevier.com:443 \"GET /content/search/scopus?query=medical%20image%20preprocessing&count=25&start=3250 HTTP/1.1\" 200 None\n",
      "DEBUG: Starting new HTTP connection (1): api.elsevier.com:80\n"
     ]
    },
    {
     "name": "stdout",
     "output_type": "stream",
     "text": [
      "PG: 131 dumped to file\n"
     ]
    },
    {
     "name": "stderr",
     "output_type": "stream",
     "text": [
      "DEBUG: http://api.elsevier.com:80 \"GET /content/search/scopus?query=medical%20image%20preprocessing&count=25&start=3275 HTTP/1.1\" 308 None\n",
      "DEBUG: Starting new HTTPS connection (1): api.elsevier.com:443\n",
      "DEBUG: https://api.elsevier.com:443 \"GET /content/search/scopus?query=medical%20image%20preprocessing&count=25&start=3275 HTTP/1.1\" 200 None\n",
      "DEBUG: Starting new HTTP connection (1): api.elsevier.com:80\n"
     ]
    },
    {
     "name": "stdout",
     "output_type": "stream",
     "text": [
      "PG: 132 dumped to file\n"
     ]
    },
    {
     "name": "stderr",
     "output_type": "stream",
     "text": [
      "DEBUG: http://api.elsevier.com:80 \"GET /content/search/scopus?query=medical%20image%20preprocessing&count=25&start=3300 HTTP/1.1\" 308 None\n",
      "DEBUG: Starting new HTTPS connection (1): api.elsevier.com:443\n",
      "DEBUG: https://api.elsevier.com:443 \"GET /content/search/scopus?query=medical%20image%20preprocessing&count=25&start=3300 HTTP/1.1\" 200 None\n",
      "DEBUG: Starting new HTTP connection (1): api.elsevier.com:80\n"
     ]
    },
    {
     "name": "stdout",
     "output_type": "stream",
     "text": [
      "PG: 133 dumped to file\n"
     ]
    },
    {
     "name": "stderr",
     "output_type": "stream",
     "text": [
      "DEBUG: http://api.elsevier.com:80 \"GET /content/search/scopus?query=medical%20image%20preprocessing&count=25&start=3325 HTTP/1.1\" 308 None\n",
      "DEBUG: Starting new HTTPS connection (1): api.elsevier.com:443\n",
      "DEBUG: https://api.elsevier.com:443 \"GET /content/search/scopus?query=medical%20image%20preprocessing&count=25&start=3325 HTTP/1.1\" 200 None\n",
      "DEBUG: Starting new HTTP connection (1): api.elsevier.com:80\n"
     ]
    },
    {
     "name": "stdout",
     "output_type": "stream",
     "text": [
      "PG: 134 dumped to file\n"
     ]
    },
    {
     "name": "stderr",
     "output_type": "stream",
     "text": [
      "DEBUG: http://api.elsevier.com:80 \"GET /content/search/scopus?query=medical%20image%20preprocessing&count=25&start=3350 HTTP/1.1\" 308 None\n",
      "DEBUG: Starting new HTTPS connection (1): api.elsevier.com:443\n",
      "DEBUG: https://api.elsevier.com:443 \"GET /content/search/scopus?query=medical%20image%20preprocessing&count=25&start=3350 HTTP/1.1\" 200 None\n",
      "DEBUG: Starting new HTTP connection (1): api.elsevier.com:80\n"
     ]
    },
    {
     "name": "stdout",
     "output_type": "stream",
     "text": [
      "PG: 135 dumped to file\n"
     ]
    },
    {
     "name": "stderr",
     "output_type": "stream",
     "text": [
      "DEBUG: http://api.elsevier.com:80 \"GET /content/search/scopus?query=medical%20image%20preprocessing&count=25&start=3375 HTTP/1.1\" 308 None\n",
      "DEBUG: Starting new HTTPS connection (1): api.elsevier.com:443\n",
      "DEBUG: https://api.elsevier.com:443 \"GET /content/search/scopus?query=medical%20image%20preprocessing&count=25&start=3375 HTTP/1.1\" 200 None\n",
      "DEBUG: Starting new HTTP connection (1): api.elsevier.com:80\n"
     ]
    },
    {
     "name": "stdout",
     "output_type": "stream",
     "text": [
      "PG: 136 dumped to file\n"
     ]
    },
    {
     "name": "stderr",
     "output_type": "stream",
     "text": [
      "DEBUG: http://api.elsevier.com:80 \"GET /content/search/scopus?query=medical%20image%20preprocessing&count=25&start=3400 HTTP/1.1\" 308 None\n",
      "DEBUG: Starting new HTTPS connection (1): api.elsevier.com:443\n",
      "DEBUG: https://api.elsevier.com:443 \"GET /content/search/scopus?query=medical%20image%20preprocessing&count=25&start=3400 HTTP/1.1\" 200 None\n",
      "DEBUG: Starting new HTTP connection (1): api.elsevier.com:80\n"
     ]
    },
    {
     "name": "stdout",
     "output_type": "stream",
     "text": [
      "PG: 137 dumped to file\n"
     ]
    },
    {
     "name": "stderr",
     "output_type": "stream",
     "text": [
      "DEBUG: http://api.elsevier.com:80 \"GET /content/search/scopus?query=medical%20image%20preprocessing&count=25&start=3425 HTTP/1.1\" 308 None\n",
      "DEBUG: Starting new HTTPS connection (1): api.elsevier.com:443\n",
      "DEBUG: https://api.elsevier.com:443 \"GET /content/search/scopus?query=medical%20image%20preprocessing&count=25&start=3425 HTTP/1.1\" 200 None\n",
      "DEBUG: Starting new HTTP connection (1): api.elsevier.com:80\n"
     ]
    },
    {
     "name": "stdout",
     "output_type": "stream",
     "text": [
      "PG: 138 dumped to file\n"
     ]
    },
    {
     "name": "stderr",
     "output_type": "stream",
     "text": [
      "DEBUG: http://api.elsevier.com:80 \"GET /content/search/scopus?query=medical%20image%20preprocessing&count=25&start=3450 HTTP/1.1\" 308 None\n",
      "DEBUG: Starting new HTTPS connection (1): api.elsevier.com:443\n",
      "DEBUG: https://api.elsevier.com:443 \"GET /content/search/scopus?query=medical%20image%20preprocessing&count=25&start=3450 HTTP/1.1\" 200 None\n",
      "DEBUG: Starting new HTTP connection (1): api.elsevier.com:80\n"
     ]
    },
    {
     "name": "stdout",
     "output_type": "stream",
     "text": [
      "PG: 139 dumped to file\n"
     ]
    },
    {
     "name": "stderr",
     "output_type": "stream",
     "text": [
      "DEBUG: http://api.elsevier.com:80 \"GET /content/search/scopus?query=medical%20image%20preprocessing&count=25&start=3475 HTTP/1.1\" 308 None\n",
      "DEBUG: Starting new HTTPS connection (1): api.elsevier.com:443\n",
      "DEBUG: https://api.elsevier.com:443 \"GET /content/search/scopus?query=medical%20image%20preprocessing&count=25&start=3475 HTTP/1.1\" 200 None\n",
      "DEBUG: Starting new HTTP connection (1): api.elsevier.com:80\n"
     ]
    },
    {
     "name": "stdout",
     "output_type": "stream",
     "text": [
      "PG: 140 dumped to file\n"
     ]
    },
    {
     "name": "stderr",
     "output_type": "stream",
     "text": [
      "DEBUG: http://api.elsevier.com:80 \"GET /content/search/scopus?query=medical%20image%20preprocessing&count=25&start=3500 HTTP/1.1\" 308 None\n",
      "DEBUG: Starting new HTTPS connection (1): api.elsevier.com:443\n",
      "DEBUG: https://api.elsevier.com:443 \"GET /content/search/scopus?query=medical%20image%20preprocessing&count=25&start=3500 HTTP/1.1\" 200 None\n",
      "DEBUG: Starting new HTTP connection (1): api.elsevier.com:80\n"
     ]
    },
    {
     "name": "stdout",
     "output_type": "stream",
     "text": [
      "PG: 141 dumped to file\n"
     ]
    },
    {
     "name": "stderr",
     "output_type": "stream",
     "text": [
      "DEBUG: http://api.elsevier.com:80 \"GET /content/search/scopus?query=medical%20image%20preprocessing&count=25&start=3525 HTTP/1.1\" 308 None\n",
      "DEBUG: Starting new HTTPS connection (1): api.elsevier.com:443\n",
      "DEBUG: https://api.elsevier.com:443 \"GET /content/search/scopus?query=medical%20image%20preprocessing&count=25&start=3525 HTTP/1.1\" 200 None\n",
      "DEBUG: Starting new HTTP connection (1): api.elsevier.com:80\n"
     ]
    },
    {
     "name": "stdout",
     "output_type": "stream",
     "text": [
      "PG: 142 dumped to file\n"
     ]
    },
    {
     "name": "stderr",
     "output_type": "stream",
     "text": [
      "DEBUG: http://api.elsevier.com:80 \"GET /content/search/scopus?query=medical%20image%20preprocessing&count=25&start=3550 HTTP/1.1\" 308 None\n",
      "DEBUG: Starting new HTTPS connection (1): api.elsevier.com:443\n",
      "DEBUG: https://api.elsevier.com:443 \"GET /content/search/scopus?query=medical%20image%20preprocessing&count=25&start=3550 HTTP/1.1\" 200 None\n",
      "DEBUG: Starting new HTTP connection (1): api.elsevier.com:80\n"
     ]
    },
    {
     "name": "stdout",
     "output_type": "stream",
     "text": [
      "PG: 143 dumped to file\n"
     ]
    },
    {
     "name": "stderr",
     "output_type": "stream",
     "text": [
      "DEBUG: http://api.elsevier.com:80 \"GET /content/search/scopus?query=medical%20image%20preprocessing&count=25&start=3575 HTTP/1.1\" 308 None\n",
      "DEBUG: Starting new HTTPS connection (1): api.elsevier.com:443\n",
      "DEBUG: https://api.elsevier.com:443 \"GET /content/search/scopus?query=medical%20image%20preprocessing&count=25&start=3575 HTTP/1.1\" 200 None\n",
      "DEBUG: Starting new HTTP connection (1): api.elsevier.com:80\n"
     ]
    },
    {
     "name": "stdout",
     "output_type": "stream",
     "text": [
      "PG: 144 dumped to file\n"
     ]
    },
    {
     "name": "stderr",
     "output_type": "stream",
     "text": [
      "DEBUG: http://api.elsevier.com:80 \"GET /content/search/scopus?query=medical%20image%20preprocessing&count=25&start=3600 HTTP/1.1\" 308 None\n",
      "DEBUG: Starting new HTTPS connection (1): api.elsevier.com:443\n",
      "DEBUG: https://api.elsevier.com:443 \"GET /content/search/scopus?query=medical%20image%20preprocessing&count=25&start=3600 HTTP/1.1\" 200 None\n",
      "DEBUG: Starting new HTTP connection (1): api.elsevier.com:80\n"
     ]
    },
    {
     "name": "stdout",
     "output_type": "stream",
     "text": [
      "PG: 145 dumped to file\n"
     ]
    },
    {
     "name": "stderr",
     "output_type": "stream",
     "text": [
      "DEBUG: http://api.elsevier.com:80 \"GET /content/search/scopus?query=medical%20image%20preprocessing&count=25&start=3625 HTTP/1.1\" 308 None\n",
      "DEBUG: Starting new HTTPS connection (1): api.elsevier.com:443\n",
      "DEBUG: https://api.elsevier.com:443 \"GET /content/search/scopus?query=medical%20image%20preprocessing&count=25&start=3625 HTTP/1.1\" 200 None\n",
      "DEBUG: Starting new HTTP connection (1): api.elsevier.com:80\n"
     ]
    },
    {
     "name": "stdout",
     "output_type": "stream",
     "text": [
      "PG: 146 dumped to file\n"
     ]
    },
    {
     "name": "stderr",
     "output_type": "stream",
     "text": [
      "DEBUG: http://api.elsevier.com:80 \"GET /content/search/scopus?query=medical%20image%20preprocessing&count=25&start=3650 HTTP/1.1\" 308 None\n",
      "DEBUG: Starting new HTTPS connection (1): api.elsevier.com:443\n",
      "DEBUG: https://api.elsevier.com:443 \"GET /content/search/scopus?query=medical%20image%20preprocessing&count=25&start=3650 HTTP/1.1\" 200 None\n",
      "DEBUG: Starting new HTTP connection (1): api.elsevier.com:80\n"
     ]
    },
    {
     "name": "stdout",
     "output_type": "stream",
     "text": [
      "PG: 147 dumped to file\n"
     ]
    },
    {
     "name": "stderr",
     "output_type": "stream",
     "text": [
      "DEBUG: http://api.elsevier.com:80 \"GET /content/search/scopus?query=medical%20image%20preprocessing&count=25&start=3675 HTTP/1.1\" 308 None\n",
      "DEBUG: Starting new HTTPS connection (1): api.elsevier.com:443\n",
      "DEBUG: https://api.elsevier.com:443 \"GET /content/search/scopus?query=medical%20image%20preprocessing&count=25&start=3675 HTTP/1.1\" 200 None\n",
      "DEBUG: Starting new HTTP connection (1): api.elsevier.com:80\n"
     ]
    },
    {
     "name": "stdout",
     "output_type": "stream",
     "text": [
      "PG: 148 dumped to file\n"
     ]
    },
    {
     "name": "stderr",
     "output_type": "stream",
     "text": [
      "DEBUG: http://api.elsevier.com:80 \"GET /content/search/scopus?query=medical%20image%20preprocessing&count=25&start=3700 HTTP/1.1\" 308 None\n",
      "DEBUG: Starting new HTTPS connection (1): api.elsevier.com:443\n",
      "DEBUG: https://api.elsevier.com:443 \"GET /content/search/scopus?query=medical%20image%20preprocessing&count=25&start=3700 HTTP/1.1\" 200 None\n",
      "DEBUG: Starting new HTTP connection (1): api.elsevier.com:80\n"
     ]
    },
    {
     "name": "stdout",
     "output_type": "stream",
     "text": [
      "PG: 149 dumped to file\n"
     ]
    },
    {
     "name": "stderr",
     "output_type": "stream",
     "text": [
      "DEBUG: http://api.elsevier.com:80 \"GET /content/search/scopus?query=medical%20image%20preprocessing&count=25&start=3725 HTTP/1.1\" 308 None\n",
      "DEBUG: Starting new HTTPS connection (1): api.elsevier.com:443\n",
      "DEBUG: https://api.elsevier.com:443 \"GET /content/search/scopus?query=medical%20image%20preprocessing&count=25&start=3725 HTTP/1.1\" 200 None\n",
      "DEBUG: Starting new HTTP connection (1): api.elsevier.com:80\n"
     ]
    },
    {
     "name": "stdout",
     "output_type": "stream",
     "text": [
      "PG: 150 dumped to file\n"
     ]
    },
    {
     "name": "stderr",
     "output_type": "stream",
     "text": [
      "DEBUG: http://api.elsevier.com:80 \"GET /content/search/scopus?query=medical%20image%20preprocessing&count=25&start=3750 HTTP/1.1\" 308 None\n",
      "DEBUG: Starting new HTTPS connection (1): api.elsevier.com:443\n",
      "DEBUG: https://api.elsevier.com:443 \"GET /content/search/scopus?query=medical%20image%20preprocessing&count=25&start=3750 HTTP/1.1\" 200 None\n",
      "DEBUG: Starting new HTTP connection (1): api.elsevier.com:80\n"
     ]
    },
    {
     "name": "stdout",
     "output_type": "stream",
     "text": [
      "PG: 151 dumped to file\n"
     ]
    },
    {
     "name": "stderr",
     "output_type": "stream",
     "text": [
      "DEBUG: http://api.elsevier.com:80 \"GET /content/search/scopus?query=medical%20image%20preprocessing&count=25&start=3775 HTTP/1.1\" 308 None\n",
      "DEBUG: Starting new HTTPS connection (1): api.elsevier.com:443\n",
      "DEBUG: https://api.elsevier.com:443 \"GET /content/search/scopus?query=medical%20image%20preprocessing&count=25&start=3775 HTTP/1.1\" 200 None\n",
      "DEBUG: Starting new HTTP connection (1): api.elsevier.com:80\n"
     ]
    },
    {
     "name": "stdout",
     "output_type": "stream",
     "text": [
      "PG: 152 dumped to file\n"
     ]
    },
    {
     "name": "stderr",
     "output_type": "stream",
     "text": [
      "DEBUG: http://api.elsevier.com:80 \"GET /content/search/scopus?query=medical%20image%20preprocessing&count=25&start=3800 HTTP/1.1\" 308 None\n",
      "DEBUG: Starting new HTTPS connection (1): api.elsevier.com:443\n",
      "DEBUG: https://api.elsevier.com:443 \"GET /content/search/scopus?query=medical%20image%20preprocessing&count=25&start=3800 HTTP/1.1\" 200 None\n",
      "DEBUG: Starting new HTTP connection (1): api.elsevier.com:80\n"
     ]
    },
    {
     "name": "stdout",
     "output_type": "stream",
     "text": [
      "PG: 153 dumped to file\n"
     ]
    },
    {
     "name": "stderr",
     "output_type": "stream",
     "text": [
      "DEBUG: http://api.elsevier.com:80 \"GET /content/search/scopus?query=medical%20image%20preprocessing&count=25&start=3825 HTTP/1.1\" 308 None\n",
      "DEBUG: Starting new HTTPS connection (1): api.elsevier.com:443\n",
      "DEBUG: https://api.elsevier.com:443 \"GET /content/search/scopus?query=medical%20image%20preprocessing&count=25&start=3825 HTTP/1.1\" 200 None\n",
      "DEBUG: Starting new HTTP connection (1): api.elsevier.com:80\n"
     ]
    },
    {
     "name": "stdout",
     "output_type": "stream",
     "text": [
      "PG: 154 dumped to file\n"
     ]
    },
    {
     "name": "stderr",
     "output_type": "stream",
     "text": [
      "DEBUG: http://api.elsevier.com:80 \"GET /content/search/scopus?query=medical%20image%20preprocessing&count=25&start=3850 HTTP/1.1\" 308 None\n",
      "DEBUG: Starting new HTTPS connection (1): api.elsevier.com:443\n",
      "DEBUG: https://api.elsevier.com:443 \"GET /content/search/scopus?query=medical%20image%20preprocessing&count=25&start=3850 HTTP/1.1\" 200 None\n",
      "DEBUG: Starting new HTTP connection (1): api.elsevier.com:80\n"
     ]
    },
    {
     "name": "stdout",
     "output_type": "stream",
     "text": [
      "PG: 155 dumped to file\n"
     ]
    },
    {
     "name": "stderr",
     "output_type": "stream",
     "text": [
      "DEBUG: http://api.elsevier.com:80 \"GET /content/search/scopus?query=medical%20image%20preprocessing&count=25&start=3875 HTTP/1.1\" 308 None\n",
      "DEBUG: Starting new HTTPS connection (1): api.elsevier.com:443\n",
      "DEBUG: https://api.elsevier.com:443 \"GET /content/search/scopus?query=medical%20image%20preprocessing&count=25&start=3875 HTTP/1.1\" 200 None\n",
      "DEBUG: Starting new HTTP connection (1): api.elsevier.com:80\n"
     ]
    },
    {
     "name": "stdout",
     "output_type": "stream",
     "text": [
      "PG: 156 dumped to file\n"
     ]
    },
    {
     "name": "stderr",
     "output_type": "stream",
     "text": [
      "DEBUG: http://api.elsevier.com:80 \"GET /content/search/scopus?query=medical%20image%20preprocessing&count=25&start=3900 HTTP/1.1\" 308 None\n",
      "DEBUG: Starting new HTTPS connection (1): api.elsevier.com:443\n",
      "DEBUG: https://api.elsevier.com:443 \"GET /content/search/scopus?query=medical%20image%20preprocessing&count=25&start=3900 HTTP/1.1\" 200 None\n",
      "DEBUG: Starting new HTTP connection (1): api.elsevier.com:80\n"
     ]
    },
    {
     "name": "stdout",
     "output_type": "stream",
     "text": [
      "PG: 157 dumped to file\n"
     ]
    },
    {
     "name": "stderr",
     "output_type": "stream",
     "text": [
      "DEBUG: http://api.elsevier.com:80 \"GET /content/search/scopus?query=medical%20image%20preprocessing&count=25&start=3925 HTTP/1.1\" 308 None\n",
      "DEBUG: Starting new HTTPS connection (1): api.elsevier.com:443\n",
      "DEBUG: https://api.elsevier.com:443 \"GET /content/search/scopus?query=medical%20image%20preprocessing&count=25&start=3925 HTTP/1.1\" 200 None\n",
      "DEBUG: Starting new HTTP connection (1): api.elsevier.com:80\n"
     ]
    },
    {
     "name": "stdout",
     "output_type": "stream",
     "text": [
      "PG: 158 dumped to file\n"
     ]
    },
    {
     "name": "stderr",
     "output_type": "stream",
     "text": [
      "DEBUG: http://api.elsevier.com:80 \"GET /content/search/scopus?query=medical%20image%20preprocessing&count=25&start=3950 HTTP/1.1\" 308 None\n",
      "DEBUG: Starting new HTTPS connection (1): api.elsevier.com:443\n",
      "DEBUG: https://api.elsevier.com:443 \"GET /content/search/scopus?query=medical%20image%20preprocessing&count=25&start=3950 HTTP/1.1\" 200 None\n",
      "DEBUG: Starting new HTTP connection (1): api.elsevier.com:80\n"
     ]
    },
    {
     "name": "stdout",
     "output_type": "stream",
     "text": [
      "PG: 159 dumped to file\n"
     ]
    },
    {
     "name": "stderr",
     "output_type": "stream",
     "text": [
      "DEBUG: http://api.elsevier.com:80 \"GET /content/search/scopus?query=medical%20image%20preprocessing&count=25&start=3975 HTTP/1.1\" 308 None\n",
      "DEBUG: Starting new HTTPS connection (1): api.elsevier.com:443\n",
      "DEBUG: https://api.elsevier.com:443 \"GET /content/search/scopus?query=medical%20image%20preprocessing&count=25&start=3975 HTTP/1.1\" 200 None\n",
      "DEBUG: Starting new HTTP connection (1): api.elsevier.com:80\n"
     ]
    },
    {
     "name": "stdout",
     "output_type": "stream",
     "text": [
      "PG: 160 dumped to file\n"
     ]
    },
    {
     "name": "stderr",
     "output_type": "stream",
     "text": [
      "DEBUG: http://api.elsevier.com:80 \"GET /content/search/scopus?query=medical%20image%20preprocessing&count=25&start=4000 HTTP/1.1\" 308 None\n",
      "DEBUG: Starting new HTTPS connection (1): api.elsevier.com:443\n",
      "DEBUG: https://api.elsevier.com:443 \"GET /content/search/scopus?query=medical%20image%20preprocessing&count=25&start=4000 HTTP/1.1\" 200 None\n",
      "DEBUG: Starting new HTTP connection (1): api.elsevier.com:80\n"
     ]
    },
    {
     "name": "stdout",
     "output_type": "stream",
     "text": [
      "PG: 161 dumped to file\n"
     ]
    },
    {
     "name": "stderr",
     "output_type": "stream",
     "text": [
      "DEBUG: http://api.elsevier.com:80 \"GET /content/search/scopus?query=medical%20image%20preprocessing&count=25&start=4025 HTTP/1.1\" 308 None\n",
      "DEBUG: Starting new HTTPS connection (1): api.elsevier.com:443\n",
      "DEBUG: https://api.elsevier.com:443 \"GET /content/search/scopus?query=medical%20image%20preprocessing&count=25&start=4025 HTTP/1.1\" 200 None\n",
      "DEBUG: Starting new HTTP connection (1): api.elsevier.com:80\n"
     ]
    },
    {
     "name": "stdout",
     "output_type": "stream",
     "text": [
      "PG: 162 dumped to file\n"
     ]
    },
    {
     "name": "stderr",
     "output_type": "stream",
     "text": [
      "DEBUG: http://api.elsevier.com:80 \"GET /content/search/scopus?query=medical%20image%20preprocessing&count=25&start=4050 HTTP/1.1\" 308 None\n",
      "DEBUG: Starting new HTTPS connection (1): api.elsevier.com:443\n",
      "DEBUG: https://api.elsevier.com:443 \"GET /content/search/scopus?query=medical%20image%20preprocessing&count=25&start=4050 HTTP/1.1\" 200 None\n",
      "DEBUG: Starting new HTTP connection (1): api.elsevier.com:80\n"
     ]
    },
    {
     "name": "stdout",
     "output_type": "stream",
     "text": [
      "PG: 163 dumped to file\n"
     ]
    },
    {
     "name": "stderr",
     "output_type": "stream",
     "text": [
      "DEBUG: http://api.elsevier.com:80 \"GET /content/search/scopus?query=medical%20image%20preprocessing&count=25&start=4075 HTTP/1.1\" 308 None\n",
      "DEBUG: Starting new HTTPS connection (1): api.elsevier.com:443\n",
      "DEBUG: https://api.elsevier.com:443 \"GET /content/search/scopus?query=medical%20image%20preprocessing&count=25&start=4075 HTTP/1.1\" 200 None\n",
      "DEBUG: Starting new HTTP connection (1): api.elsevier.com:80\n"
     ]
    },
    {
     "name": "stdout",
     "output_type": "stream",
     "text": [
      "PG: 164 dumped to file\n"
     ]
    },
    {
     "name": "stderr",
     "output_type": "stream",
     "text": [
      "DEBUG: http://api.elsevier.com:80 \"GET /content/search/scopus?query=medical%20image%20preprocessing&count=25&start=4100 HTTP/1.1\" 308 None\n",
      "DEBUG: Starting new HTTPS connection (1): api.elsevier.com:443\n",
      "DEBUG: https://api.elsevier.com:443 \"GET /content/search/scopus?query=medical%20image%20preprocessing&count=25&start=4100 HTTP/1.1\" 200 None\n",
      "DEBUG: Starting new HTTP connection (1): api.elsevier.com:80\n"
     ]
    },
    {
     "name": "stdout",
     "output_type": "stream",
     "text": [
      "PG: 165 dumped to file\n"
     ]
    },
    {
     "name": "stderr",
     "output_type": "stream",
     "text": [
      "DEBUG: http://api.elsevier.com:80 \"GET /content/search/scopus?query=medical%20image%20preprocessing&count=25&start=4125 HTTP/1.1\" 308 None\n",
      "DEBUG: Starting new HTTPS connection (1): api.elsevier.com:443\n",
      "DEBUG: https://api.elsevier.com:443 \"GET /content/search/scopus?query=medical%20image%20preprocessing&count=25&start=4125 HTTP/1.1\" 200 None\n",
      "DEBUG: Starting new HTTP connection (1): api.elsevier.com:80\n"
     ]
    },
    {
     "name": "stdout",
     "output_type": "stream",
     "text": [
      "PG: 166 dumped to file\n"
     ]
    },
    {
     "name": "stderr",
     "output_type": "stream",
     "text": [
      "DEBUG: http://api.elsevier.com:80 \"GET /content/search/scopus?query=medical%20image%20preprocessing&count=25&start=4150 HTTP/1.1\" 308 None\n",
      "DEBUG: Starting new HTTPS connection (1): api.elsevier.com:443\n",
      "DEBUG: https://api.elsevier.com:443 \"GET /content/search/scopus?query=medical%20image%20preprocessing&count=25&start=4150 HTTP/1.1\" 200 None\n",
      "DEBUG: Starting new HTTP connection (1): api.elsevier.com:80\n"
     ]
    },
    {
     "name": "stdout",
     "output_type": "stream",
     "text": [
      "PG: 167 dumped to file\n"
     ]
    },
    {
     "name": "stderr",
     "output_type": "stream",
     "text": [
      "DEBUG: http://api.elsevier.com:80 \"GET /content/search/scopus?query=medical%20image%20preprocessing&count=25&start=4175 HTTP/1.1\" 308 None\n",
      "DEBUG: Starting new HTTPS connection (1): api.elsevier.com:443\n",
      "DEBUG: https://api.elsevier.com:443 \"GET /content/search/scopus?query=medical%20image%20preprocessing&count=25&start=4175 HTTP/1.1\" 200 None\n",
      "DEBUG: Starting new HTTP connection (1): api.elsevier.com:80\n"
     ]
    },
    {
     "name": "stdout",
     "output_type": "stream",
     "text": [
      "PG: 168 dumped to file\n"
     ]
    },
    {
     "name": "stderr",
     "output_type": "stream",
     "text": [
      "DEBUG: http://api.elsevier.com:80 \"GET /content/search/scopus?query=medical%20image%20preprocessing&count=25&start=4200 HTTP/1.1\" 308 None\n",
      "DEBUG: Starting new HTTPS connection (1): api.elsevier.com:443\n",
      "DEBUG: https://api.elsevier.com:443 \"GET /content/search/scopus?query=medical%20image%20preprocessing&count=25&start=4200 HTTP/1.1\" 200 None\n",
      "DEBUG: Starting new HTTP connection (1): api.elsevier.com:80\n"
     ]
    },
    {
     "name": "stdout",
     "output_type": "stream",
     "text": [
      "PG: 169 dumped to file\n"
     ]
    },
    {
     "name": "stderr",
     "output_type": "stream",
     "text": [
      "DEBUG: http://api.elsevier.com:80 \"GET /content/search/scopus?query=medical%20image%20preprocessing&count=25&start=4225 HTTP/1.1\" 308 None\n",
      "DEBUG: Starting new HTTPS connection (1): api.elsevier.com:443\n",
      "DEBUG: https://api.elsevier.com:443 \"GET /content/search/scopus?query=medical%20image%20preprocessing&count=25&start=4225 HTTP/1.1\" 200 None\n",
      "DEBUG: Starting new HTTP connection (1): api.elsevier.com:80\n"
     ]
    },
    {
     "name": "stdout",
     "output_type": "stream",
     "text": [
      "PG: 170 dumped to file\n"
     ]
    },
    {
     "name": "stderr",
     "output_type": "stream",
     "text": [
      "DEBUG: http://api.elsevier.com:80 \"GET /content/search/scopus?query=medical%20image%20preprocessing&count=25&start=4250 HTTP/1.1\" 308 None\n",
      "DEBUG: Starting new HTTPS connection (1): api.elsevier.com:443\n",
      "DEBUG: https://api.elsevier.com:443 \"GET /content/search/scopus?query=medical%20image%20preprocessing&count=25&start=4250 HTTP/1.1\" 200 None\n",
      "DEBUG: Starting new HTTP connection (1): api.elsevier.com:80\n"
     ]
    },
    {
     "name": "stdout",
     "output_type": "stream",
     "text": [
      "PG: 171 dumped to file\n"
     ]
    },
    {
     "name": "stderr",
     "output_type": "stream",
     "text": [
      "DEBUG: http://api.elsevier.com:80 \"GET /content/search/scopus?query=medical%20image%20preprocessing&count=25&start=4275 HTTP/1.1\" 308 None\n",
      "DEBUG: Starting new HTTPS connection (1): api.elsevier.com:443\n",
      "DEBUG: https://api.elsevier.com:443 \"GET /content/search/scopus?query=medical%20image%20preprocessing&count=25&start=4275 HTTP/1.1\" 200 None\n",
      "DEBUG: Starting new HTTP connection (1): api.elsevier.com:80\n"
     ]
    },
    {
     "name": "stdout",
     "output_type": "stream",
     "text": [
      "PG: 172 dumped to file\n"
     ]
    },
    {
     "name": "stderr",
     "output_type": "stream",
     "text": [
      "DEBUG: http://api.elsevier.com:80 \"GET /content/search/scopus?query=medical%20image%20preprocessing&count=25&start=4300 HTTP/1.1\" 308 None\n",
      "DEBUG: Starting new HTTPS connection (1): api.elsevier.com:443\n",
      "DEBUG: https://api.elsevier.com:443 \"GET /content/search/scopus?query=medical%20image%20preprocessing&count=25&start=4300 HTTP/1.1\" 200 None\n",
      "DEBUG: Starting new HTTP connection (1): api.elsevier.com:80\n"
     ]
    },
    {
     "name": "stdout",
     "output_type": "stream",
     "text": [
      "PG: 173 dumped to file\n"
     ]
    },
    {
     "name": "stderr",
     "output_type": "stream",
     "text": [
      "DEBUG: http://api.elsevier.com:80 \"GET /content/search/scopus?query=medical%20image%20preprocessing&count=25&start=4325 HTTP/1.1\" 308 None\n",
      "DEBUG: Starting new HTTPS connection (1): api.elsevier.com:443\n",
      "DEBUG: https://api.elsevier.com:443 \"GET /content/search/scopus?query=medical%20image%20preprocessing&count=25&start=4325 HTTP/1.1\" 200 None\n",
      "DEBUG: Starting new HTTP connection (1): api.elsevier.com:80\n"
     ]
    },
    {
     "name": "stdout",
     "output_type": "stream",
     "text": [
      "PG: 174 dumped to file\n"
     ]
    },
    {
     "name": "stderr",
     "output_type": "stream",
     "text": [
      "DEBUG: http://api.elsevier.com:80 \"GET /content/search/scopus?query=medical%20image%20preprocessing&count=25&start=4350 HTTP/1.1\" 308 None\n",
      "DEBUG: Starting new HTTPS connection (1): api.elsevier.com:443\n",
      "DEBUG: https://api.elsevier.com:443 \"GET /content/search/scopus?query=medical%20image%20preprocessing&count=25&start=4350 HTTP/1.1\" 200 None\n",
      "DEBUG: Starting new HTTP connection (1): api.elsevier.com:80\n"
     ]
    },
    {
     "name": "stdout",
     "output_type": "stream",
     "text": [
      "PG: 175 dumped to file\n"
     ]
    },
    {
     "name": "stderr",
     "output_type": "stream",
     "text": [
      "DEBUG: http://api.elsevier.com:80 \"GET /content/search/scopus?query=medical%20image%20preprocessing&count=25&start=4375 HTTP/1.1\" 308 None\n",
      "DEBUG: Starting new HTTPS connection (1): api.elsevier.com:443\n",
      "DEBUG: https://api.elsevier.com:443 \"GET /content/search/scopus?query=medical%20image%20preprocessing&count=25&start=4375 HTTP/1.1\" 200 None\n",
      "DEBUG: Starting new HTTP connection (1): api.elsevier.com:80\n"
     ]
    },
    {
     "name": "stdout",
     "output_type": "stream",
     "text": [
      "PG: 176 dumped to file\n"
     ]
    },
    {
     "name": "stderr",
     "output_type": "stream",
     "text": [
      "DEBUG: http://api.elsevier.com:80 \"GET /content/search/scopus?query=medical%20image%20preprocessing&count=25&start=4400 HTTP/1.1\" 308 None\n",
      "DEBUG: Starting new HTTPS connection (1): api.elsevier.com:443\n",
      "DEBUG: https://api.elsevier.com:443 \"GET /content/search/scopus?query=medical%20image%20preprocessing&count=25&start=4400 HTTP/1.1\" 200 None\n",
      "DEBUG: Starting new HTTP connection (1): api.elsevier.com:80\n"
     ]
    },
    {
     "name": "stdout",
     "output_type": "stream",
     "text": [
      "PG: 177 dumped to file\n"
     ]
    },
    {
     "name": "stderr",
     "output_type": "stream",
     "text": [
      "DEBUG: http://api.elsevier.com:80 \"GET /content/search/scopus?query=medical%20image%20preprocessing&count=25&start=4425 HTTP/1.1\" 308 None\n",
      "DEBUG: Starting new HTTPS connection (1): api.elsevier.com:443\n",
      "DEBUG: https://api.elsevier.com:443 \"GET /content/search/scopus?query=medical%20image%20preprocessing&count=25&start=4425 HTTP/1.1\" 200 None\n",
      "DEBUG: Starting new HTTP connection (1): api.elsevier.com:80\n"
     ]
    },
    {
     "name": "stdout",
     "output_type": "stream",
     "text": [
      "PG: 178 dumped to file\n"
     ]
    },
    {
     "name": "stderr",
     "output_type": "stream",
     "text": [
      "DEBUG: http://api.elsevier.com:80 \"GET /content/search/scopus?query=medical%20image%20preprocessing&count=25&start=4450 HTTP/1.1\" 308 None\n",
      "DEBUG: Starting new HTTPS connection (1): api.elsevier.com:443\n",
      "DEBUG: https://api.elsevier.com:443 \"GET /content/search/scopus?query=medical%20image%20preprocessing&count=25&start=4450 HTTP/1.1\" 200 None\n",
      "DEBUG: Starting new HTTP connection (1): api.elsevier.com:80\n"
     ]
    },
    {
     "name": "stdout",
     "output_type": "stream",
     "text": [
      "PG: 179 dumped to file\n"
     ]
    },
    {
     "name": "stderr",
     "output_type": "stream",
     "text": [
      "DEBUG: http://api.elsevier.com:80 \"GET /content/search/scopus?query=medical%20image%20preprocessing&count=25&start=4475 HTTP/1.1\" 308 None\n",
      "DEBUG: Starting new HTTPS connection (1): api.elsevier.com:443\n",
      "DEBUG: https://api.elsevier.com:443 \"GET /content/search/scopus?query=medical%20image%20preprocessing&count=25&start=4475 HTTP/1.1\" 200 None\n",
      "DEBUG: Starting new HTTP connection (1): api.elsevier.com:80\n"
     ]
    },
    {
     "name": "stdout",
     "output_type": "stream",
     "text": [
      "PG: 180 dumped to file\n"
     ]
    },
    {
     "name": "stderr",
     "output_type": "stream",
     "text": [
      "DEBUG: http://api.elsevier.com:80 \"GET /content/search/scopus?query=medical%20image%20preprocessing&count=25&start=4500 HTTP/1.1\" 308 None\n",
      "DEBUG: Starting new HTTPS connection (1): api.elsevier.com:443\n",
      "DEBUG: https://api.elsevier.com:443 \"GET /content/search/scopus?query=medical%20image%20preprocessing&count=25&start=4500 HTTP/1.1\" 200 None\n",
      "DEBUG: Starting new HTTP connection (1): api.elsevier.com:80\n"
     ]
    },
    {
     "name": "stdout",
     "output_type": "stream",
     "text": [
      "PG: 181 dumped to file\n"
     ]
    },
    {
     "name": "stderr",
     "output_type": "stream",
     "text": [
      "DEBUG: http://api.elsevier.com:80 \"GET /content/search/scopus?query=medical%20image%20preprocessing&count=25&start=4525 HTTP/1.1\" 308 None\n",
      "DEBUG: Starting new HTTPS connection (1): api.elsevier.com:443\n",
      "DEBUG: https://api.elsevier.com:443 \"GET /content/search/scopus?query=medical%20image%20preprocessing&count=25&start=4525 HTTP/1.1\" 200 None\n",
      "DEBUG: Starting new HTTP connection (1): api.elsevier.com:80\n"
     ]
    },
    {
     "name": "stdout",
     "output_type": "stream",
     "text": [
      "PG: 182 dumped to file\n"
     ]
    },
    {
     "name": "stderr",
     "output_type": "stream",
     "text": [
      "DEBUG: http://api.elsevier.com:80 \"GET /content/search/scopus?query=medical%20image%20preprocessing&count=25&start=4550 HTTP/1.1\" 308 None\n",
      "DEBUG: Starting new HTTPS connection (1): api.elsevier.com:443\n",
      "DEBUG: https://api.elsevier.com:443 \"GET /content/search/scopus?query=medical%20image%20preprocessing&count=25&start=4550 HTTP/1.1\" 200 None\n",
      "DEBUG: Starting new HTTP connection (1): api.elsevier.com:80\n"
     ]
    },
    {
     "name": "stdout",
     "output_type": "stream",
     "text": [
      "PG: 183 dumped to file\n"
     ]
    },
    {
     "name": "stderr",
     "output_type": "stream",
     "text": [
      "DEBUG: http://api.elsevier.com:80 \"GET /content/search/scopus?query=medical%20image%20preprocessing&count=25&start=4575 HTTP/1.1\" 308 None\n",
      "DEBUG: Starting new HTTPS connection (1): api.elsevier.com:443\n",
      "DEBUG: https://api.elsevier.com:443 \"GET /content/search/scopus?query=medical%20image%20preprocessing&count=25&start=4575 HTTP/1.1\" 200 None\n",
      "DEBUG: Starting new HTTP connection (1): api.elsevier.com:80\n"
     ]
    },
    {
     "name": "stdout",
     "output_type": "stream",
     "text": [
      "PG: 184 dumped to file\n"
     ]
    },
    {
     "name": "stderr",
     "output_type": "stream",
     "text": [
      "DEBUG: http://api.elsevier.com:80 \"GET /content/search/scopus?query=medical%20image%20preprocessing&count=25&start=4600 HTTP/1.1\" 308 None\n",
      "DEBUG: Starting new HTTPS connection (1): api.elsevier.com:443\n",
      "DEBUG: https://api.elsevier.com:443 \"GET /content/search/scopus?query=medical%20image%20preprocessing&count=25&start=4600 HTTP/1.1\" 200 None\n",
      "DEBUG: Starting new HTTP connection (1): api.elsevier.com:80\n"
     ]
    },
    {
     "name": "stdout",
     "output_type": "stream",
     "text": [
      "PG: 185 dumped to file\n"
     ]
    },
    {
     "name": "stderr",
     "output_type": "stream",
     "text": [
      "DEBUG: http://api.elsevier.com:80 \"GET /content/search/scopus?query=medical%20image%20preprocessing&count=25&start=4625 HTTP/1.1\" 308 None\n",
      "DEBUG: Starting new HTTPS connection (1): api.elsevier.com:443\n",
      "DEBUG: https://api.elsevier.com:443 \"GET /content/search/scopus?query=medical%20image%20preprocessing&count=25&start=4625 HTTP/1.1\" 200 None\n",
      "DEBUG: Starting new HTTP connection (1): api.elsevier.com:80\n"
     ]
    },
    {
     "name": "stdout",
     "output_type": "stream",
     "text": [
      "PG: 186 dumped to file\n"
     ]
    },
    {
     "name": "stderr",
     "output_type": "stream",
     "text": [
      "DEBUG: http://api.elsevier.com:80 \"GET /content/search/scopus?query=medical%20image%20preprocessing&count=25&start=4650 HTTP/1.1\" 308 None\n",
      "DEBUG: Starting new HTTPS connection (1): api.elsevier.com:443\n",
      "DEBUG: https://api.elsevier.com:443 \"GET /content/search/scopus?query=medical%20image%20preprocessing&count=25&start=4650 HTTP/1.1\" 200 None\n",
      "DEBUG: Starting new HTTP connection (1): api.elsevier.com:80\n"
     ]
    },
    {
     "name": "stdout",
     "output_type": "stream",
     "text": [
      "PG: 187 dumped to file\n"
     ]
    },
    {
     "name": "stderr",
     "output_type": "stream",
     "text": [
      "DEBUG: http://api.elsevier.com:80 \"GET /content/search/scopus?query=medical%20image%20preprocessing&count=25&start=4675 HTTP/1.1\" 308 None\n",
      "DEBUG: Starting new HTTPS connection (1): api.elsevier.com:443\n",
      "DEBUG: https://api.elsevier.com:443 \"GET /content/search/scopus?query=medical%20image%20preprocessing&count=25&start=4675 HTTP/1.1\" 200 None\n",
      "DEBUG: Starting new HTTP connection (1): api.elsevier.com:80\n"
     ]
    },
    {
     "name": "stdout",
     "output_type": "stream",
     "text": [
      "PG: 188 dumped to file\n"
     ]
    },
    {
     "name": "stderr",
     "output_type": "stream",
     "text": [
      "DEBUG: http://api.elsevier.com:80 \"GET /content/search/scopus?query=medical%20image%20preprocessing&count=25&start=4700 HTTP/1.1\" 308 None\n",
      "DEBUG: Starting new HTTPS connection (1): api.elsevier.com:443\n",
      "DEBUG: https://api.elsevier.com:443 \"GET /content/search/scopus?query=medical%20image%20preprocessing&count=25&start=4700 HTTP/1.1\" 200 None\n",
      "DEBUG: Starting new HTTP connection (1): api.elsevier.com:80\n"
     ]
    },
    {
     "name": "stdout",
     "output_type": "stream",
     "text": [
      "PG: 189 dumped to file\n"
     ]
    },
    {
     "name": "stderr",
     "output_type": "stream",
     "text": [
      "DEBUG: http://api.elsevier.com:80 \"GET /content/search/scopus?query=medical%20image%20preprocessing&count=25&start=4725 HTTP/1.1\" 308 None\n",
      "DEBUG: Starting new HTTPS connection (1): api.elsevier.com:443\n",
      "DEBUG: https://api.elsevier.com:443 \"GET /content/search/scopus?query=medical%20image%20preprocessing&count=25&start=4725 HTTP/1.1\" 200 None\n",
      "DEBUG: Starting new HTTP connection (1): api.elsevier.com:80\n"
     ]
    },
    {
     "name": "stdout",
     "output_type": "stream",
     "text": [
      "PG: 190 dumped to file\n"
     ]
    },
    {
     "name": "stderr",
     "output_type": "stream",
     "text": [
      "DEBUG: http://api.elsevier.com:80 \"GET /content/search/scopus?query=medical%20image%20preprocessing&count=25&start=4750 HTTP/1.1\" 308 None\n",
      "DEBUG: Starting new HTTPS connection (1): api.elsevier.com:443\n",
      "DEBUG: https://api.elsevier.com:443 \"GET /content/search/scopus?query=medical%20image%20preprocessing&count=25&start=4750 HTTP/1.1\" 200 None\n",
      "DEBUG: Starting new HTTP connection (1): api.elsevier.com:80\n"
     ]
    },
    {
     "name": "stdout",
     "output_type": "stream",
     "text": [
      "PG: 191 dumped to file\n"
     ]
    },
    {
     "name": "stderr",
     "output_type": "stream",
     "text": [
      "DEBUG: http://api.elsevier.com:80 \"GET /content/search/scopus?query=medical%20image%20preprocessing&count=25&start=4775 HTTP/1.1\" 308 None\n",
      "DEBUG: Starting new HTTPS connection (1): api.elsevier.com:443\n",
      "DEBUG: https://api.elsevier.com:443 \"GET /content/search/scopus?query=medical%20image%20preprocessing&count=25&start=4775 HTTP/1.1\" 200 None\n",
      "DEBUG: Starting new HTTP connection (1): api.elsevier.com:80\n"
     ]
    },
    {
     "name": "stdout",
     "output_type": "stream",
     "text": [
      "PG: 192 dumped to file\n"
     ]
    },
    {
     "name": "stderr",
     "output_type": "stream",
     "text": [
      "DEBUG: http://api.elsevier.com:80 \"GET /content/search/scopus?query=medical%20image%20preprocessing&count=25&start=4800 HTTP/1.1\" 308 None\n",
      "DEBUG: Starting new HTTPS connection (1): api.elsevier.com:443\n",
      "DEBUG: https://api.elsevier.com:443 \"GET /content/search/scopus?query=medical%20image%20preprocessing&count=25&start=4800 HTTP/1.1\" 200 None\n",
      "DEBUG: Starting new HTTP connection (1): api.elsevier.com:80\n"
     ]
    },
    {
     "name": "stdout",
     "output_type": "stream",
     "text": [
      "PG: 193 dumped to file\n"
     ]
    },
    {
     "name": "stderr",
     "output_type": "stream",
     "text": [
      "DEBUG: http://api.elsevier.com:80 \"GET /content/search/scopus?query=medical%20image%20preprocessing&count=25&start=4825 HTTP/1.1\" 308 None\n",
      "DEBUG: Starting new HTTPS connection (1): api.elsevier.com:443\n",
      "DEBUG: https://api.elsevier.com:443 \"GET /content/search/scopus?query=medical%20image%20preprocessing&count=25&start=4825 HTTP/1.1\" 200 None\n",
      "DEBUG: Starting new HTTP connection (1): api.elsevier.com:80\n"
     ]
    },
    {
     "name": "stdout",
     "output_type": "stream",
     "text": [
      "PG: 194 dumped to file\n"
     ]
    },
    {
     "name": "stderr",
     "output_type": "stream",
     "text": [
      "DEBUG: http://api.elsevier.com:80 \"GET /content/search/scopus?query=medical%20image%20preprocessing&count=25&start=4850 HTTP/1.1\" 308 None\n",
      "DEBUG: Starting new HTTPS connection (1): api.elsevier.com:443\n",
      "DEBUG: https://api.elsevier.com:443 \"GET /content/search/scopus?query=medical%20image%20preprocessing&count=25&start=4850 HTTP/1.1\" 200 None\n",
      "DEBUG: Starting new HTTP connection (1): api.elsevier.com:80\n"
     ]
    },
    {
     "name": "stdout",
     "output_type": "stream",
     "text": [
      "PG: 195 dumped to file\n"
     ]
    },
    {
     "name": "stderr",
     "output_type": "stream",
     "text": [
      "DEBUG: http://api.elsevier.com:80 \"GET /content/search/scopus?query=medical%20image%20preprocessing&count=25&start=4875 HTTP/1.1\" 308 None\n",
      "DEBUG: Starting new HTTPS connection (1): api.elsevier.com:443\n",
      "DEBUG: https://api.elsevier.com:443 \"GET /content/search/scopus?query=medical%20image%20preprocessing&count=25&start=4875 HTTP/1.1\" 200 None\n",
      "DEBUG: Starting new HTTP connection (1): api.elsevier.com:80\n"
     ]
    },
    {
     "name": "stdout",
     "output_type": "stream",
     "text": [
      "PG: 196 dumped to file\n"
     ]
    },
    {
     "name": "stderr",
     "output_type": "stream",
     "text": [
      "DEBUG: http://api.elsevier.com:80 \"GET /content/search/scopus?query=medical%20image%20preprocessing&count=25&start=4900 HTTP/1.1\" 308 None\n",
      "DEBUG: Starting new HTTPS connection (1): api.elsevier.com:443\n",
      "DEBUG: https://api.elsevier.com:443 \"GET /content/search/scopus?query=medical%20image%20preprocessing&count=25&start=4900 HTTP/1.1\" 200 None\n",
      "DEBUG: Starting new HTTP connection (1): api.elsevier.com:80\n"
     ]
    },
    {
     "name": "stdout",
     "output_type": "stream",
     "text": [
      "PG: 197 dumped to file\n"
     ]
    },
    {
     "name": "stderr",
     "output_type": "stream",
     "text": [
      "DEBUG: http://api.elsevier.com:80 \"GET /content/search/scopus?query=medical%20image%20preprocessing&count=25&start=4925 HTTP/1.1\" 308 None\n",
      "DEBUG: Starting new HTTPS connection (1): api.elsevier.com:443\n",
      "DEBUG: https://api.elsevier.com:443 \"GET /content/search/scopus?query=medical%20image%20preprocessing&count=25&start=4925 HTTP/1.1\" 200 None\n",
      "DEBUG: Starting new HTTP connection (1): api.elsevier.com:80\n"
     ]
    },
    {
     "name": "stdout",
     "output_type": "stream",
     "text": [
      "PG: 198 dumped to file\n"
     ]
    },
    {
     "name": "stderr",
     "output_type": "stream",
     "text": [
      "DEBUG: http://api.elsevier.com:80 \"GET /content/search/scopus?query=medical%20image%20preprocessing&count=25&start=4950 HTTP/1.1\" 308 None\n",
      "DEBUG: Starting new HTTPS connection (1): api.elsevier.com:443\n",
      "DEBUG: https://api.elsevier.com:443 \"GET /content/search/scopus?query=medical%20image%20preprocessing&count=25&start=4950 HTTP/1.1\" 200 None\n",
      "DEBUG: Starting new HTTP connection (1): api.elsevier.com:80\n"
     ]
    },
    {
     "name": "stdout",
     "output_type": "stream",
     "text": [
      "PG: 199 dumped to file\n"
     ]
    },
    {
     "name": "stderr",
     "output_type": "stream",
     "text": [
      "DEBUG: http://api.elsevier.com:80 \"GET /content/search/scopus?query=medical%20image%20preprocessing&count=25&start=4975 HTTP/1.1\" 308 None\n",
      "DEBUG: Starting new HTTPS connection (1): api.elsevier.com:443\n",
      "DEBUG: https://api.elsevier.com:443 \"GET /content/search/scopus?query=medical%20image%20preprocessing&count=25&start=4975 HTTP/1.1\" 200 None\n",
      "DEBUG: Starting new HTTP connection (1): api.elsevier.com:80\n"
     ]
    },
    {
     "name": "stdout",
     "output_type": "stream",
     "text": [
      "PG: 200 dumped to file\n"
     ]
    },
    {
     "name": "stderr",
     "output_type": "stream",
     "text": [
      "DEBUG: http://api.elsevier.com:80 \"GET /content/search/scopus?query=medical%20image%20preprocessing&count=25&start=5000 HTTP/1.1\" 308 None\n",
      "DEBUG: Starting new HTTPS connection (1): api.elsevier.com:443\n",
      "DEBUG: https://api.elsevier.com:443 \"GET /content/search/scopus?query=medical%20image%20preprocessing&count=25&start=5000 HTTP/1.1\" 400 111\n",
      "DEBUG: Starting new HTTP connection (1): api.elsevier.com:80\n"
     ]
    },
    {
     "name": "stdout",
     "output_type": "stream",
     "text": [
      "*****INVALID_INPUT - Exceeds the number of search results\n"
     ]
    },
    {
     "name": "stderr",
     "output_type": "stream",
     "text": [
      "DEBUG: http://api.elsevier.com:80 \"GET /content/search/scopus?query=image%20fuse%20handcrafted%20deep%20learning%20features&count=25&start=0 HTTP/1.1\" 308 None\n",
      "DEBUG: Starting new HTTPS connection (1): api.elsevier.com:443\n",
      "DEBUG: https://api.elsevier.com:443 \"GET /content/search/scopus?query=image%20fuse%20handcrafted%20deep%20learning%20features&count=25&start=0 HTTP/1.1\" 200 None\n",
      "DEBUG: Starting new HTTP connection (1): api.elsevier.com:80\n"
     ]
    },
    {
     "name": "stdout",
     "output_type": "stream",
     "text": [
      "*** TOTAL_ITEMS:  87 , <<  4\n",
      "PG: 1 dumped to file\n"
     ]
    },
    {
     "name": "stderr",
     "output_type": "stream",
     "text": [
      "DEBUG: http://api.elsevier.com:80 \"GET /content/search/scopus?query=image%20fuse%20handcrafted%20deep%20learning%20features&count=25&start=25 HTTP/1.1\" 308 None\n",
      "DEBUG: Starting new HTTPS connection (1): api.elsevier.com:443\n",
      "DEBUG: https://api.elsevier.com:443 \"GET /content/search/scopus?query=image%20fuse%20handcrafted%20deep%20learning%20features&count=25&start=25 HTTP/1.1\" 200 None\n",
      "DEBUG: Starting new HTTP connection (1): api.elsevier.com:80\n"
     ]
    },
    {
     "name": "stdout",
     "output_type": "stream",
     "text": [
      "PG: 2 dumped to file\n"
     ]
    },
    {
     "name": "stderr",
     "output_type": "stream",
     "text": [
      "DEBUG: http://api.elsevier.com:80 \"GET /content/search/scopus?query=image%20fuse%20handcrafted%20deep%20learning%20features&count=25&start=50 HTTP/1.1\" 308 None\n",
      "DEBUG: Starting new HTTPS connection (1): api.elsevier.com:443\n",
      "DEBUG: https://api.elsevier.com:443 \"GET /content/search/scopus?query=image%20fuse%20handcrafted%20deep%20learning%20features&count=25&start=50 HTTP/1.1\" 200 None\n",
      "DEBUG: Starting new HTTP connection (1): api.elsevier.com:80\n"
     ]
    },
    {
     "name": "stdout",
     "output_type": "stream",
     "text": [
      "PG: 3 dumped to file\n"
     ]
    },
    {
     "name": "stderr",
     "output_type": "stream",
     "text": [
      "DEBUG: http://api.elsevier.com:80 \"GET /content/search/scopus?query=image%20fuse%20handcrafted%20deep%20learning%20features&count=25&start=75 HTTP/1.1\" 308 None\n",
      "DEBUG: Starting new HTTPS connection (1): api.elsevier.com:443\n",
      "DEBUG: https://api.elsevier.com:443 \"GET /content/search/scopus?query=image%20fuse%20handcrafted%20deep%20learning%20features&count=25&start=75 HTTP/1.1\" 200 None\n",
      "DEBUG: Starting new HTTP connection (1): api.elsevier.com:80\n"
     ]
    },
    {
     "name": "stdout",
     "output_type": "stream",
     "text": [
      "PG: 4 dumped to file\n"
     ]
    },
    {
     "name": "stderr",
     "output_type": "stream",
     "text": [
      "DEBUG: http://api.elsevier.com:80 \"GET /content/search/scopus?query=fundus&count=25&start=0 HTTP/1.1\" 308 None\n",
      "DEBUG: Starting new HTTPS connection (1): api.elsevier.com:443\n",
      "DEBUG: https://api.elsevier.com:443 \"GET /content/search/scopus?query=fundus&count=25&start=0 HTTP/1.1\" 200 None\n",
      "DEBUG: Starting new HTTP connection (1): api.elsevier.com:80\n"
     ]
    },
    {
     "name": "stdout",
     "output_type": "stream",
     "text": [
      "*** TOTAL_ITEMS:  98139 , <<  3926\n",
      "PG: 1 dumped to file\n"
     ]
    },
    {
     "name": "stderr",
     "output_type": "stream",
     "text": [
      "DEBUG: http://api.elsevier.com:80 \"GET /content/search/scopus?query=fundus&count=25&start=25 HTTP/1.1\" 308 None\n",
      "DEBUG: Starting new HTTPS connection (1): api.elsevier.com:443\n",
      "DEBUG: https://api.elsevier.com:443 \"GET /content/search/scopus?query=fundus&count=25&start=25 HTTP/1.1\" 200 None\n",
      "DEBUG: Starting new HTTP connection (1): api.elsevier.com:80\n"
     ]
    },
    {
     "name": "stdout",
     "output_type": "stream",
     "text": [
      "PG: 2 dumped to file\n"
     ]
    },
    {
     "name": "stderr",
     "output_type": "stream",
     "text": [
      "DEBUG: http://api.elsevier.com:80 \"GET /content/search/scopus?query=fundus&count=25&start=50 HTTP/1.1\" 308 None\n",
      "DEBUG: Starting new HTTPS connection (1): api.elsevier.com:443\n",
      "DEBUG: https://api.elsevier.com:443 \"GET /content/search/scopus?query=fundus&count=25&start=50 HTTP/1.1\" 200 None\n",
      "DEBUG: Starting new HTTP connection (1): api.elsevier.com:80\n"
     ]
    },
    {
     "name": "stdout",
     "output_type": "stream",
     "text": [
      "PG: 3 dumped to file\n"
     ]
    },
    {
     "name": "stderr",
     "output_type": "stream",
     "text": [
      "DEBUG: http://api.elsevier.com:80 \"GET /content/search/scopus?query=fundus&count=25&start=75 HTTP/1.1\" 308 None\n",
      "DEBUG: Starting new HTTPS connection (1): api.elsevier.com:443\n",
      "DEBUG: https://api.elsevier.com:443 \"GET /content/search/scopus?query=fundus&count=25&start=75 HTTP/1.1\" 200 None\n",
      "DEBUG: Starting new HTTP connection (1): api.elsevier.com:80\n"
     ]
    },
    {
     "name": "stdout",
     "output_type": "stream",
     "text": [
      "PG: 4 dumped to file\n"
     ]
    },
    {
     "name": "stderr",
     "output_type": "stream",
     "text": [
      "DEBUG: http://api.elsevier.com:80 \"GET /content/search/scopus?query=fundus&count=25&start=100 HTTP/1.1\" 308 None\n",
      "DEBUG: Starting new HTTPS connection (1): api.elsevier.com:443\n",
      "DEBUG: https://api.elsevier.com:443 \"GET /content/search/scopus?query=fundus&count=25&start=100 HTTP/1.1\" 200 None\n",
      "DEBUG: Starting new HTTP connection (1): api.elsevier.com:80\n"
     ]
    },
    {
     "name": "stdout",
     "output_type": "stream",
     "text": [
      "PG: 5 dumped to file\n"
     ]
    },
    {
     "name": "stderr",
     "output_type": "stream",
     "text": [
      "DEBUG: http://api.elsevier.com:80 \"GET /content/search/scopus?query=fundus&count=25&start=125 HTTP/1.1\" 308 None\n",
      "DEBUG: Starting new HTTPS connection (1): api.elsevier.com:443\n",
      "DEBUG: https://api.elsevier.com:443 \"GET /content/search/scopus?query=fundus&count=25&start=125 HTTP/1.1\" 200 None\n",
      "DEBUG: Starting new HTTP connection (1): api.elsevier.com:80\n"
     ]
    },
    {
     "name": "stdout",
     "output_type": "stream",
     "text": [
      "PG: 6 dumped to file\n"
     ]
    },
    {
     "name": "stderr",
     "output_type": "stream",
     "text": [
      "DEBUG: http://api.elsevier.com:80 \"GET /content/search/scopus?query=fundus&count=25&start=150 HTTP/1.1\" 308 None\n",
      "DEBUG: Starting new HTTPS connection (1): api.elsevier.com:443\n",
      "DEBUG: https://api.elsevier.com:443 \"GET /content/search/scopus?query=fundus&count=25&start=150 HTTP/1.1\" 200 None\n",
      "DEBUG: Starting new HTTP connection (1): api.elsevier.com:80\n"
     ]
    },
    {
     "name": "stdout",
     "output_type": "stream",
     "text": [
      "PG: 7 dumped to file\n"
     ]
    },
    {
     "name": "stderr",
     "output_type": "stream",
     "text": [
      "DEBUG: http://api.elsevier.com:80 \"GET /content/search/scopus?query=fundus&count=25&start=175 HTTP/1.1\" 308 None\n",
      "DEBUG: Starting new HTTPS connection (1): api.elsevier.com:443\n",
      "DEBUG: https://api.elsevier.com:443 \"GET /content/search/scopus?query=fundus&count=25&start=175 HTTP/1.1\" 200 None\n",
      "DEBUG: Starting new HTTP connection (1): api.elsevier.com:80\n"
     ]
    },
    {
     "name": "stdout",
     "output_type": "stream",
     "text": [
      "PG: 8 dumped to file\n"
     ]
    },
    {
     "name": "stderr",
     "output_type": "stream",
     "text": [
      "DEBUG: http://api.elsevier.com:80 \"GET /content/search/scopus?query=fundus&count=25&start=200 HTTP/1.1\" 308 None\n",
      "DEBUG: Starting new HTTPS connection (1): api.elsevier.com:443\n",
      "DEBUG: https://api.elsevier.com:443 \"GET /content/search/scopus?query=fundus&count=25&start=200 HTTP/1.1\" 200 None\n",
      "DEBUG: Starting new HTTP connection (1): api.elsevier.com:80\n"
     ]
    },
    {
     "name": "stdout",
     "output_type": "stream",
     "text": [
      "PG: 9 dumped to file\n"
     ]
    },
    {
     "name": "stderr",
     "output_type": "stream",
     "text": [
      "DEBUG: http://api.elsevier.com:80 \"GET /content/search/scopus?query=fundus&count=25&start=225 HTTP/1.1\" 308 None\n",
      "DEBUG: Starting new HTTPS connection (1): api.elsevier.com:443\n",
      "DEBUG: https://api.elsevier.com:443 \"GET /content/search/scopus?query=fundus&count=25&start=225 HTTP/1.1\" 200 None\n",
      "DEBUG: Starting new HTTP connection (1): api.elsevier.com:80\n"
     ]
    },
    {
     "name": "stdout",
     "output_type": "stream",
     "text": [
      "PG: 10 dumped to file\n"
     ]
    },
    {
     "name": "stderr",
     "output_type": "stream",
     "text": [
      "DEBUG: http://api.elsevier.com:80 \"GET /content/search/scopus?query=fundus&count=25&start=250 HTTP/1.1\" 308 None\n",
      "DEBUG: Starting new HTTPS connection (1): api.elsevier.com:443\n",
      "DEBUG: https://api.elsevier.com:443 \"GET /content/search/scopus?query=fundus&count=25&start=250 HTTP/1.1\" 200 None\n",
      "DEBUG: Starting new HTTP connection (1): api.elsevier.com:80\n"
     ]
    },
    {
     "name": "stdout",
     "output_type": "stream",
     "text": [
      "PG: 11 dumped to file\n"
     ]
    },
    {
     "name": "stderr",
     "output_type": "stream",
     "text": [
      "DEBUG: http://api.elsevier.com:80 \"GET /content/search/scopus?query=fundus&count=25&start=275 HTTP/1.1\" 308 None\n",
      "DEBUG: Starting new HTTPS connection (1): api.elsevier.com:443\n",
      "DEBUG: https://api.elsevier.com:443 \"GET /content/search/scopus?query=fundus&count=25&start=275 HTTP/1.1\" 200 None\n",
      "DEBUG: Starting new HTTP connection (1): api.elsevier.com:80\n"
     ]
    },
    {
     "name": "stdout",
     "output_type": "stream",
     "text": [
      "PG: 12 dumped to file\n"
     ]
    },
    {
     "name": "stderr",
     "output_type": "stream",
     "text": [
      "DEBUG: http://api.elsevier.com:80 \"GET /content/search/scopus?query=fundus&count=25&start=300 HTTP/1.1\" 308 None\n",
      "DEBUG: Starting new HTTPS connection (1): api.elsevier.com:443\n",
      "DEBUG: https://api.elsevier.com:443 \"GET /content/search/scopus?query=fundus&count=25&start=300 HTTP/1.1\" 200 None\n",
      "DEBUG: Starting new HTTP connection (1): api.elsevier.com:80\n"
     ]
    },
    {
     "name": "stdout",
     "output_type": "stream",
     "text": [
      "PG: 13 dumped to file\n"
     ]
    },
    {
     "name": "stderr",
     "output_type": "stream",
     "text": [
      "DEBUG: http://api.elsevier.com:80 \"GET /content/search/scopus?query=fundus&count=25&start=325 HTTP/1.1\" 308 None\n",
      "DEBUG: Starting new HTTPS connection (1): api.elsevier.com:443\n",
      "DEBUG: https://api.elsevier.com:443 \"GET /content/search/scopus?query=fundus&count=25&start=325 HTTP/1.1\" 200 None\n",
      "DEBUG: Starting new HTTP connection (1): api.elsevier.com:80\n"
     ]
    },
    {
     "name": "stdout",
     "output_type": "stream",
     "text": [
      "PG: 14 dumped to file\n"
     ]
    },
    {
     "name": "stderr",
     "output_type": "stream",
     "text": [
      "DEBUG: http://api.elsevier.com:80 \"GET /content/search/scopus?query=fundus&count=25&start=350 HTTP/1.1\" 308 None\n",
      "DEBUG: Starting new HTTPS connection (1): api.elsevier.com:443\n",
      "DEBUG: https://api.elsevier.com:443 \"GET /content/search/scopus?query=fundus&count=25&start=350 HTTP/1.1\" 200 None\n",
      "DEBUG: Starting new HTTP connection (1): api.elsevier.com:80\n"
     ]
    },
    {
     "name": "stdout",
     "output_type": "stream",
     "text": [
      "PG: 15 dumped to file\n"
     ]
    },
    {
     "name": "stderr",
     "output_type": "stream",
     "text": [
      "DEBUG: http://api.elsevier.com:80 \"GET /content/search/scopus?query=fundus&count=25&start=375 HTTP/1.1\" 308 None\n",
      "DEBUG: Starting new HTTPS connection (1): api.elsevier.com:443\n",
      "DEBUG: https://api.elsevier.com:443 \"GET /content/search/scopus?query=fundus&count=25&start=375 HTTP/1.1\" 200 None\n",
      "DEBUG: Starting new HTTP connection (1): api.elsevier.com:80\n"
     ]
    },
    {
     "name": "stdout",
     "output_type": "stream",
     "text": [
      "PG: 16 dumped to file\n"
     ]
    },
    {
     "name": "stderr",
     "output_type": "stream",
     "text": [
      "DEBUG: http://api.elsevier.com:80 \"GET /content/search/scopus?query=fundus&count=25&start=400 HTTP/1.1\" 308 None\n",
      "DEBUG: Starting new HTTPS connection (1): api.elsevier.com:443\n",
      "DEBUG: https://api.elsevier.com:443 \"GET /content/search/scopus?query=fundus&count=25&start=400 HTTP/1.1\" 200 None\n",
      "DEBUG: Starting new HTTP connection (1): api.elsevier.com:80\n"
     ]
    },
    {
     "name": "stdout",
     "output_type": "stream",
     "text": [
      "PG: 17 dumped to file\n"
     ]
    },
    {
     "name": "stderr",
     "output_type": "stream",
     "text": [
      "DEBUG: http://api.elsevier.com:80 \"GET /content/search/scopus?query=fundus&count=25&start=425 HTTP/1.1\" 308 None\n",
      "DEBUG: Starting new HTTPS connection (1): api.elsevier.com:443\n",
      "DEBUG: https://api.elsevier.com:443 \"GET /content/search/scopus?query=fundus&count=25&start=425 HTTP/1.1\" 200 None\n",
      "DEBUG: Starting new HTTP connection (1): api.elsevier.com:80\n"
     ]
    },
    {
     "name": "stdout",
     "output_type": "stream",
     "text": [
      "PG: 18 dumped to file\n"
     ]
    },
    {
     "name": "stderr",
     "output_type": "stream",
     "text": [
      "DEBUG: http://api.elsevier.com:80 \"GET /content/search/scopus?query=fundus&count=25&start=450 HTTP/1.1\" 308 None\n",
      "DEBUG: Starting new HTTPS connection (1): api.elsevier.com:443\n",
      "DEBUG: https://api.elsevier.com:443 \"GET /content/search/scopus?query=fundus&count=25&start=450 HTTP/1.1\" 200 None\n",
      "DEBUG: Starting new HTTP connection (1): api.elsevier.com:80\n"
     ]
    },
    {
     "name": "stdout",
     "output_type": "stream",
     "text": [
      "PG: 19 dumped to file\n"
     ]
    },
    {
     "name": "stderr",
     "output_type": "stream",
     "text": [
      "DEBUG: http://api.elsevier.com:80 \"GET /content/search/scopus?query=fundus&count=25&start=475 HTTP/1.1\" 308 None\n",
      "DEBUG: Starting new HTTPS connection (1): api.elsevier.com:443\n",
      "DEBUG: https://api.elsevier.com:443 \"GET /content/search/scopus?query=fundus&count=25&start=475 HTTP/1.1\" 200 None\n",
      "DEBUG: Starting new HTTP connection (1): api.elsevier.com:80\n"
     ]
    },
    {
     "name": "stdout",
     "output_type": "stream",
     "text": [
      "PG: 20 dumped to file\n"
     ]
    },
    {
     "name": "stderr",
     "output_type": "stream",
     "text": [
      "DEBUG: http://api.elsevier.com:80 \"GET /content/search/scopus?query=fundus&count=25&start=500 HTTP/1.1\" 308 None\n",
      "DEBUG: Starting new HTTPS connection (1): api.elsevier.com:443\n",
      "DEBUG: https://api.elsevier.com:443 \"GET /content/search/scopus?query=fundus&count=25&start=500 HTTP/1.1\" 200 None\n",
      "DEBUG: Starting new HTTP connection (1): api.elsevier.com:80\n"
     ]
    },
    {
     "name": "stdout",
     "output_type": "stream",
     "text": [
      "PG: 21 dumped to file\n"
     ]
    },
    {
     "name": "stderr",
     "output_type": "stream",
     "text": [
      "DEBUG: http://api.elsevier.com:80 \"GET /content/search/scopus?query=fundus&count=25&start=525 HTTP/1.1\" 308 None\n",
      "DEBUG: Starting new HTTPS connection (1): api.elsevier.com:443\n",
      "DEBUG: https://api.elsevier.com:443 \"GET /content/search/scopus?query=fundus&count=25&start=525 HTTP/1.1\" 200 None\n",
      "DEBUG: Starting new HTTP connection (1): api.elsevier.com:80\n"
     ]
    },
    {
     "name": "stdout",
     "output_type": "stream",
     "text": [
      "PG: 22 dumped to file\n"
     ]
    },
    {
     "name": "stderr",
     "output_type": "stream",
     "text": [
      "DEBUG: http://api.elsevier.com:80 \"GET /content/search/scopus?query=fundus&count=25&start=550 HTTP/1.1\" 308 None\n",
      "DEBUG: Starting new HTTPS connection (1): api.elsevier.com:443\n",
      "DEBUG: https://api.elsevier.com:443 \"GET /content/search/scopus?query=fundus&count=25&start=550 HTTP/1.1\" 200 None\n",
      "DEBUG: Starting new HTTP connection (1): api.elsevier.com:80\n"
     ]
    },
    {
     "name": "stdout",
     "output_type": "stream",
     "text": [
      "PG: 23 dumped to file\n"
     ]
    },
    {
     "name": "stderr",
     "output_type": "stream",
     "text": [
      "DEBUG: http://api.elsevier.com:80 \"GET /content/search/scopus?query=fundus&count=25&start=575 HTTP/1.1\" 308 None\n",
      "DEBUG: Starting new HTTPS connection (1): api.elsevier.com:443\n",
      "DEBUG: https://api.elsevier.com:443 \"GET /content/search/scopus?query=fundus&count=25&start=575 HTTP/1.1\" 200 None\n",
      "DEBUG: Starting new HTTP connection (1): api.elsevier.com:80\n"
     ]
    },
    {
     "name": "stdout",
     "output_type": "stream",
     "text": [
      "PG: 24 dumped to file\n"
     ]
    },
    {
     "name": "stderr",
     "output_type": "stream",
     "text": [
      "DEBUG: http://api.elsevier.com:80 \"GET /content/search/scopus?query=fundus&count=25&start=600 HTTP/1.1\" 308 None\n",
      "DEBUG: Starting new HTTPS connection (1): api.elsevier.com:443\n",
      "DEBUG: https://api.elsevier.com:443 \"GET /content/search/scopus?query=fundus&count=25&start=600 HTTP/1.1\" 200 None\n",
      "DEBUG: Starting new HTTP connection (1): api.elsevier.com:80\n"
     ]
    },
    {
     "name": "stdout",
     "output_type": "stream",
     "text": [
      "PG: 25 dumped to file\n"
     ]
    },
    {
     "name": "stderr",
     "output_type": "stream",
     "text": [
      "DEBUG: http://api.elsevier.com:80 \"GET /content/search/scopus?query=fundus&count=25&start=625 HTTP/1.1\" 308 None\n",
      "DEBUG: Starting new HTTPS connection (1): api.elsevier.com:443\n",
      "DEBUG: https://api.elsevier.com:443 \"GET /content/search/scopus?query=fundus&count=25&start=625 HTTP/1.1\" 200 None\n",
      "DEBUG: Starting new HTTP connection (1): api.elsevier.com:80\n"
     ]
    },
    {
     "name": "stdout",
     "output_type": "stream",
     "text": [
      "PG: 26 dumped to file\n"
     ]
    },
    {
     "name": "stderr",
     "output_type": "stream",
     "text": [
      "DEBUG: http://api.elsevier.com:80 \"GET /content/search/scopus?query=fundus&count=25&start=650 HTTP/1.1\" 308 None\n",
      "DEBUG: Starting new HTTPS connection (1): api.elsevier.com:443\n",
      "DEBUG: https://api.elsevier.com:443 \"GET /content/search/scopus?query=fundus&count=25&start=650 HTTP/1.1\" 200 None\n",
      "DEBUG: Starting new HTTP connection (1): api.elsevier.com:80\n"
     ]
    },
    {
     "name": "stdout",
     "output_type": "stream",
     "text": [
      "PG: 27 dumped to file\n"
     ]
    },
    {
     "name": "stderr",
     "output_type": "stream",
     "text": [
      "DEBUG: http://api.elsevier.com:80 \"GET /content/search/scopus?query=fundus&count=25&start=675 HTTP/1.1\" 308 None\n",
      "DEBUG: Starting new HTTPS connection (1): api.elsevier.com:443\n",
      "DEBUG: https://api.elsevier.com:443 \"GET /content/search/scopus?query=fundus&count=25&start=675 HTTP/1.1\" 200 None\n",
      "DEBUG: Starting new HTTP connection (1): api.elsevier.com:80\n"
     ]
    },
    {
     "name": "stdout",
     "output_type": "stream",
     "text": [
      "PG: 28 dumped to file\n"
     ]
    },
    {
     "name": "stderr",
     "output_type": "stream",
     "text": [
      "DEBUG: http://api.elsevier.com:80 \"GET /content/search/scopus?query=fundus&count=25&start=700 HTTP/1.1\" 308 None\n",
      "DEBUG: Starting new HTTPS connection (1): api.elsevier.com:443\n",
      "DEBUG: https://api.elsevier.com:443 \"GET /content/search/scopus?query=fundus&count=25&start=700 HTTP/1.1\" 200 None\n",
      "DEBUG: Starting new HTTP connection (1): api.elsevier.com:80\n"
     ]
    },
    {
     "name": "stdout",
     "output_type": "stream",
     "text": [
      "PG: 29 dumped to file\n"
     ]
    },
    {
     "name": "stderr",
     "output_type": "stream",
     "text": [
      "DEBUG: http://api.elsevier.com:80 \"GET /content/search/scopus?query=fundus&count=25&start=725 HTTP/1.1\" 308 None\n",
      "DEBUG: Starting new HTTPS connection (1): api.elsevier.com:443\n",
      "DEBUG: https://api.elsevier.com:443 \"GET /content/search/scopus?query=fundus&count=25&start=725 HTTP/1.1\" 200 None\n",
      "DEBUG: Starting new HTTP connection (1): api.elsevier.com:80\n"
     ]
    },
    {
     "name": "stdout",
     "output_type": "stream",
     "text": [
      "PG: 30 dumped to file\n"
     ]
    },
    {
     "name": "stderr",
     "output_type": "stream",
     "text": [
      "DEBUG: http://api.elsevier.com:80 \"GET /content/search/scopus?query=fundus&count=25&start=750 HTTP/1.1\" 308 None\n",
      "DEBUG: Starting new HTTPS connection (1): api.elsevier.com:443\n",
      "DEBUG: https://api.elsevier.com:443 \"GET /content/search/scopus?query=fundus&count=25&start=750 HTTP/1.1\" 200 None\n",
      "DEBUG: Starting new HTTP connection (1): api.elsevier.com:80\n"
     ]
    },
    {
     "name": "stdout",
     "output_type": "stream",
     "text": [
      "PG: 31 dumped to file\n"
     ]
    },
    {
     "name": "stderr",
     "output_type": "stream",
     "text": [
      "DEBUG: http://api.elsevier.com:80 \"GET /content/search/scopus?query=fundus&count=25&start=775 HTTP/1.1\" 308 None\n",
      "DEBUG: Starting new HTTPS connection (1): api.elsevier.com:443\n",
      "DEBUG: https://api.elsevier.com:443 \"GET /content/search/scopus?query=fundus&count=25&start=775 HTTP/1.1\" 200 None\n",
      "DEBUG: Starting new HTTP connection (1): api.elsevier.com:80\n"
     ]
    },
    {
     "name": "stdout",
     "output_type": "stream",
     "text": [
      "PG: 32 dumped to file\n"
     ]
    },
    {
     "name": "stderr",
     "output_type": "stream",
     "text": [
      "DEBUG: http://api.elsevier.com:80 \"GET /content/search/scopus?query=fundus&count=25&start=800 HTTP/1.1\" 308 None\n",
      "DEBUG: Starting new HTTPS connection (1): api.elsevier.com:443\n",
      "DEBUG: https://api.elsevier.com:443 \"GET /content/search/scopus?query=fundus&count=25&start=800 HTTP/1.1\" 200 None\n",
      "DEBUG: Starting new HTTP connection (1): api.elsevier.com:80\n"
     ]
    },
    {
     "name": "stdout",
     "output_type": "stream",
     "text": [
      "PG: 33 dumped to file\n"
     ]
    },
    {
     "name": "stderr",
     "output_type": "stream",
     "text": [
      "DEBUG: http://api.elsevier.com:80 \"GET /content/search/scopus?query=fundus&count=25&start=825 HTTP/1.1\" 308 None\n",
      "DEBUG: Starting new HTTPS connection (1): api.elsevier.com:443\n",
      "DEBUG: https://api.elsevier.com:443 \"GET /content/search/scopus?query=fundus&count=25&start=825 HTTP/1.1\" 200 None\n",
      "DEBUG: Starting new HTTP connection (1): api.elsevier.com:80\n"
     ]
    },
    {
     "name": "stdout",
     "output_type": "stream",
     "text": [
      "PG: 34 dumped to file\n"
     ]
    },
    {
     "name": "stderr",
     "output_type": "stream",
     "text": [
      "DEBUG: http://api.elsevier.com:80 \"GET /content/search/scopus?query=fundus&count=25&start=850 HTTP/1.1\" 308 None\n",
      "DEBUG: Starting new HTTPS connection (1): api.elsevier.com:443\n",
      "DEBUG: https://api.elsevier.com:443 \"GET /content/search/scopus?query=fundus&count=25&start=850 HTTP/1.1\" 200 None\n",
      "DEBUG: Starting new HTTP connection (1): api.elsevier.com:80\n"
     ]
    },
    {
     "name": "stdout",
     "output_type": "stream",
     "text": [
      "PG: 35 dumped to file\n"
     ]
    },
    {
     "name": "stderr",
     "output_type": "stream",
     "text": [
      "DEBUG: http://api.elsevier.com:80 \"GET /content/search/scopus?query=fundus&count=25&start=875 HTTP/1.1\" 308 None\n",
      "DEBUG: Starting new HTTPS connection (1): api.elsevier.com:443\n",
      "DEBUG: https://api.elsevier.com:443 \"GET /content/search/scopus?query=fundus&count=25&start=875 HTTP/1.1\" 200 None\n",
      "DEBUG: Starting new HTTP connection (1): api.elsevier.com:80\n"
     ]
    },
    {
     "name": "stdout",
     "output_type": "stream",
     "text": [
      "PG: 36 dumped to file\n"
     ]
    },
    {
     "name": "stderr",
     "output_type": "stream",
     "text": [
      "DEBUG: http://api.elsevier.com:80 \"GET /content/search/scopus?query=fundus&count=25&start=900 HTTP/1.1\" 308 None\n",
      "DEBUG: Starting new HTTPS connection (1): api.elsevier.com:443\n",
      "DEBUG: https://api.elsevier.com:443 \"GET /content/search/scopus?query=fundus&count=25&start=900 HTTP/1.1\" 200 None\n",
      "DEBUG: Starting new HTTP connection (1): api.elsevier.com:80\n"
     ]
    },
    {
     "name": "stdout",
     "output_type": "stream",
     "text": [
      "PG: 37 dumped to file\n"
     ]
    },
    {
     "name": "stderr",
     "output_type": "stream",
     "text": [
      "DEBUG: http://api.elsevier.com:80 \"GET /content/search/scopus?query=fundus&count=25&start=925 HTTP/1.1\" 308 None\n",
      "DEBUG: Starting new HTTPS connection (1): api.elsevier.com:443\n",
      "DEBUG: https://api.elsevier.com:443 \"GET /content/search/scopus?query=fundus&count=25&start=925 HTTP/1.1\" 200 None\n",
      "DEBUG: Starting new HTTP connection (1): api.elsevier.com:80\n"
     ]
    },
    {
     "name": "stdout",
     "output_type": "stream",
     "text": [
      "PG: 38 dumped to file\n"
     ]
    },
    {
     "name": "stderr",
     "output_type": "stream",
     "text": [
      "DEBUG: http://api.elsevier.com:80 \"GET /content/search/scopus?query=fundus&count=25&start=950 HTTP/1.1\" 308 None\n",
      "DEBUG: Starting new HTTPS connection (1): api.elsevier.com:443\n",
      "DEBUG: https://api.elsevier.com:443 \"GET /content/search/scopus?query=fundus&count=25&start=950 HTTP/1.1\" 200 None\n",
      "DEBUG: Starting new HTTP connection (1): api.elsevier.com:80\n"
     ]
    },
    {
     "name": "stdout",
     "output_type": "stream",
     "text": [
      "PG: 39 dumped to file\n"
     ]
    },
    {
     "name": "stderr",
     "output_type": "stream",
     "text": [
      "DEBUG: http://api.elsevier.com:80 \"GET /content/search/scopus?query=fundus&count=25&start=975 HTTP/1.1\" 308 None\n",
      "DEBUG: Starting new HTTPS connection (1): api.elsevier.com:443\n",
      "DEBUG: https://api.elsevier.com:443 \"GET /content/search/scopus?query=fundus&count=25&start=975 HTTP/1.1\" 200 None\n",
      "DEBUG: Starting new HTTP connection (1): api.elsevier.com:80\n"
     ]
    },
    {
     "name": "stdout",
     "output_type": "stream",
     "text": [
      "PG: 40 dumped to file\n"
     ]
    },
    {
     "name": "stderr",
     "output_type": "stream",
     "text": [
      "DEBUG: http://api.elsevier.com:80 \"GET /content/search/scopus?query=fundus&count=25&start=1000 HTTP/1.1\" 308 None\n",
      "DEBUG: Starting new HTTPS connection (1): api.elsevier.com:443\n",
      "DEBUG: https://api.elsevier.com:443 \"GET /content/search/scopus?query=fundus&count=25&start=1000 HTTP/1.1\" 200 None\n",
      "DEBUG: Starting new HTTP connection (1): api.elsevier.com:80\n"
     ]
    },
    {
     "name": "stdout",
     "output_type": "stream",
     "text": [
      "PG: 41 dumped to file\n"
     ]
    },
    {
     "name": "stderr",
     "output_type": "stream",
     "text": [
      "DEBUG: http://api.elsevier.com:80 \"GET /content/search/scopus?query=fundus&count=25&start=1025 HTTP/1.1\" 308 None\n",
      "DEBUG: Starting new HTTPS connection (1): api.elsevier.com:443\n",
      "DEBUG: https://api.elsevier.com:443 \"GET /content/search/scopus?query=fundus&count=25&start=1025 HTTP/1.1\" 200 None\n",
      "DEBUG: Starting new HTTP connection (1): api.elsevier.com:80\n"
     ]
    },
    {
     "name": "stdout",
     "output_type": "stream",
     "text": [
      "PG: 42 dumped to file\n"
     ]
    },
    {
     "name": "stderr",
     "output_type": "stream",
     "text": [
      "DEBUG: http://api.elsevier.com:80 \"GET /content/search/scopus?query=fundus&count=25&start=1050 HTTP/1.1\" 308 None\n",
      "DEBUG: Starting new HTTPS connection (1): api.elsevier.com:443\n",
      "DEBUG: https://api.elsevier.com:443 \"GET /content/search/scopus?query=fundus&count=25&start=1050 HTTP/1.1\" 200 6790\n",
      "DEBUG: Starting new HTTP connection (1): api.elsevier.com:80\n"
     ]
    },
    {
     "name": "stdout",
     "output_type": "stream",
     "text": [
      "PG: 43 dumped to file\n"
     ]
    },
    {
     "name": "stderr",
     "output_type": "stream",
     "text": [
      "DEBUG: http://api.elsevier.com:80 \"GET /content/search/scopus?query=fundus&count=25&start=1075 HTTP/1.1\" 308 None\n",
      "DEBUG: Starting new HTTPS connection (1): api.elsevier.com:443\n",
      "DEBUG: https://api.elsevier.com:443 \"GET /content/search/scopus?query=fundus&count=25&start=1075 HTTP/1.1\" 200 None\n",
      "DEBUG: Starting new HTTP connection (1): api.elsevier.com:80\n"
     ]
    },
    {
     "name": "stdout",
     "output_type": "stream",
     "text": [
      "PG: 44 dumped to file\n"
     ]
    },
    {
     "name": "stderr",
     "output_type": "stream",
     "text": [
      "DEBUG: http://api.elsevier.com:80 \"GET /content/search/scopus?query=fundus&count=25&start=1100 HTTP/1.1\" 308 None\n",
      "DEBUG: Starting new HTTPS connection (1): api.elsevier.com:443\n",
      "DEBUG: https://api.elsevier.com:443 \"GET /content/search/scopus?query=fundus&count=25&start=1100 HTTP/1.1\" 200 None\n",
      "DEBUG: Starting new HTTP connection (1): api.elsevier.com:80\n"
     ]
    },
    {
     "name": "stdout",
     "output_type": "stream",
     "text": [
      "PG: 45 dumped to file\n"
     ]
    },
    {
     "name": "stderr",
     "output_type": "stream",
     "text": [
      "DEBUG: http://api.elsevier.com:80 \"GET /content/search/scopus?query=fundus&count=25&start=1125 HTTP/1.1\" 308 None\n",
      "DEBUG: Starting new HTTPS connection (1): api.elsevier.com:443\n",
      "DEBUG: https://api.elsevier.com:443 \"GET /content/search/scopus?query=fundus&count=25&start=1125 HTTP/1.1\" 200 None\n",
      "DEBUG: Starting new HTTP connection (1): api.elsevier.com:80\n"
     ]
    },
    {
     "name": "stdout",
     "output_type": "stream",
     "text": [
      "PG: 46 dumped to file\n"
     ]
    },
    {
     "name": "stderr",
     "output_type": "stream",
     "text": [
      "DEBUG: http://api.elsevier.com:80 \"GET /content/search/scopus?query=fundus&count=25&start=1150 HTTP/1.1\" 308 None\n",
      "DEBUG: Starting new HTTPS connection (1): api.elsevier.com:443\n",
      "DEBUG: https://api.elsevier.com:443 \"GET /content/search/scopus?query=fundus&count=25&start=1150 HTTP/1.1\" 200 None\n",
      "DEBUG: Starting new HTTP connection (1): api.elsevier.com:80\n"
     ]
    },
    {
     "name": "stdout",
     "output_type": "stream",
     "text": [
      "PG: 47 dumped to file\n"
     ]
    },
    {
     "name": "stderr",
     "output_type": "stream",
     "text": [
      "DEBUG: http://api.elsevier.com:80 \"GET /content/search/scopus?query=fundus&count=25&start=1175 HTTP/1.1\" 308 None\n",
      "DEBUG: Starting new HTTPS connection (1): api.elsevier.com:443\n",
      "DEBUG: https://api.elsevier.com:443 \"GET /content/search/scopus?query=fundus&count=25&start=1175 HTTP/1.1\" 200 None\n",
      "DEBUG: Starting new HTTP connection (1): api.elsevier.com:80\n"
     ]
    },
    {
     "name": "stdout",
     "output_type": "stream",
     "text": [
      "PG: 48 dumped to file\n"
     ]
    },
    {
     "name": "stderr",
     "output_type": "stream",
     "text": [
      "DEBUG: http://api.elsevier.com:80 \"GET /content/search/scopus?query=fundus&count=25&start=1200 HTTP/1.1\" 308 None\n",
      "DEBUG: Starting new HTTPS connection (1): api.elsevier.com:443\n",
      "DEBUG: https://api.elsevier.com:443 \"GET /content/search/scopus?query=fundus&count=25&start=1200 HTTP/1.1\" 200 None\n",
      "DEBUG: Starting new HTTP connection (1): api.elsevier.com:80\n"
     ]
    },
    {
     "name": "stdout",
     "output_type": "stream",
     "text": [
      "PG: 49 dumped to file\n"
     ]
    },
    {
     "name": "stderr",
     "output_type": "stream",
     "text": [
      "DEBUG: http://api.elsevier.com:80 \"GET /content/search/scopus?query=fundus&count=25&start=1225 HTTP/1.1\" 308 None\n",
      "DEBUG: Starting new HTTPS connection (1): api.elsevier.com:443\n",
      "DEBUG: https://api.elsevier.com:443 \"GET /content/search/scopus?query=fundus&count=25&start=1225 HTTP/1.1\" 200 None\n",
      "DEBUG: Starting new HTTP connection (1): api.elsevier.com:80\n"
     ]
    },
    {
     "name": "stdout",
     "output_type": "stream",
     "text": [
      "PG: 50 dumped to file\n"
     ]
    },
    {
     "name": "stderr",
     "output_type": "stream",
     "text": [
      "DEBUG: http://api.elsevier.com:80 \"GET /content/search/scopus?query=fundus&count=25&start=1250 HTTP/1.1\" 308 None\n",
      "DEBUG: Starting new HTTPS connection (1): api.elsevier.com:443\n",
      "DEBUG: https://api.elsevier.com:443 \"GET /content/search/scopus?query=fundus&count=25&start=1250 HTTP/1.1\" 200 None\n",
      "DEBUG: Starting new HTTP connection (1): api.elsevier.com:80\n"
     ]
    },
    {
     "name": "stdout",
     "output_type": "stream",
     "text": [
      "PG: 51 dumped to file\n"
     ]
    },
    {
     "name": "stderr",
     "output_type": "stream",
     "text": [
      "DEBUG: http://api.elsevier.com:80 \"GET /content/search/scopus?query=fundus&count=25&start=1275 HTTP/1.1\" 308 None\n",
      "DEBUG: Starting new HTTPS connection (1): api.elsevier.com:443\n",
      "DEBUG: https://api.elsevier.com:443 \"GET /content/search/scopus?query=fundus&count=25&start=1275 HTTP/1.1\" 200 None\n",
      "DEBUG: Starting new HTTP connection (1): api.elsevier.com:80\n"
     ]
    },
    {
     "name": "stdout",
     "output_type": "stream",
     "text": [
      "PG: 52 dumped to file\n"
     ]
    },
    {
     "name": "stderr",
     "output_type": "stream",
     "text": [
      "DEBUG: http://api.elsevier.com:80 \"GET /content/search/scopus?query=fundus&count=25&start=1300 HTTP/1.1\" 308 None\n",
      "DEBUG: Starting new HTTPS connection (1): api.elsevier.com:443\n",
      "DEBUG: https://api.elsevier.com:443 \"GET /content/search/scopus?query=fundus&count=25&start=1300 HTTP/1.1\" 200 None\n",
      "DEBUG: Starting new HTTP connection (1): api.elsevier.com:80\n"
     ]
    },
    {
     "name": "stdout",
     "output_type": "stream",
     "text": [
      "PG: 53 dumped to file\n"
     ]
    },
    {
     "name": "stderr",
     "output_type": "stream",
     "text": [
      "DEBUG: http://api.elsevier.com:80 \"GET /content/search/scopus?query=fundus&count=25&start=1325 HTTP/1.1\" 308 None\n",
      "DEBUG: Starting new HTTPS connection (1): api.elsevier.com:443\n",
      "DEBUG: https://api.elsevier.com:443 \"GET /content/search/scopus?query=fundus&count=25&start=1325 HTTP/1.1\" 200 None\n",
      "DEBUG: Starting new HTTP connection (1): api.elsevier.com:80\n"
     ]
    },
    {
     "name": "stdout",
     "output_type": "stream",
     "text": [
      "PG: 54 dumped to file\n"
     ]
    },
    {
     "name": "stderr",
     "output_type": "stream",
     "text": [
      "DEBUG: http://api.elsevier.com:80 \"GET /content/search/scopus?query=fundus&count=25&start=1350 HTTP/1.1\" 308 None\n",
      "DEBUG: Starting new HTTPS connection (1): api.elsevier.com:443\n",
      "DEBUG: https://api.elsevier.com:443 \"GET /content/search/scopus?query=fundus&count=25&start=1350 HTTP/1.1\" 200 None\n",
      "DEBUG: Starting new HTTP connection (1): api.elsevier.com:80\n"
     ]
    },
    {
     "name": "stdout",
     "output_type": "stream",
     "text": [
      "PG: 55 dumped to file\n"
     ]
    },
    {
     "name": "stderr",
     "output_type": "stream",
     "text": [
      "DEBUG: http://api.elsevier.com:80 \"GET /content/search/scopus?query=fundus&count=25&start=1375 HTTP/1.1\" 308 None\n",
      "DEBUG: Starting new HTTPS connection (1): api.elsevier.com:443\n",
      "DEBUG: https://api.elsevier.com:443 \"GET /content/search/scopus?query=fundus&count=25&start=1375 HTTP/1.1\" 200 None\n",
      "DEBUG: Starting new HTTP connection (1): api.elsevier.com:80\n"
     ]
    },
    {
     "name": "stdout",
     "output_type": "stream",
     "text": [
      "PG: 56 dumped to file\n"
     ]
    },
    {
     "name": "stderr",
     "output_type": "stream",
     "text": [
      "DEBUG: http://api.elsevier.com:80 \"GET /content/search/scopus?query=fundus&count=25&start=1400 HTTP/1.1\" 308 None\n",
      "DEBUG: Starting new HTTPS connection (1): api.elsevier.com:443\n",
      "DEBUG: https://api.elsevier.com:443 \"GET /content/search/scopus?query=fundus&count=25&start=1400 HTTP/1.1\" 200 None\n",
      "DEBUG: Starting new HTTP connection (1): api.elsevier.com:80\n"
     ]
    },
    {
     "name": "stdout",
     "output_type": "stream",
     "text": [
      "PG: 57 dumped to file\n"
     ]
    },
    {
     "name": "stderr",
     "output_type": "stream",
     "text": [
      "DEBUG: http://api.elsevier.com:80 \"GET /content/search/scopus?query=fundus&count=25&start=1425 HTTP/1.1\" 308 None\n",
      "DEBUG: Starting new HTTPS connection (1): api.elsevier.com:443\n",
      "DEBUG: https://api.elsevier.com:443 \"GET /content/search/scopus?query=fundus&count=25&start=1425 HTTP/1.1\" 200 None\n",
      "DEBUG: Starting new HTTP connection (1): api.elsevier.com:80\n"
     ]
    },
    {
     "name": "stdout",
     "output_type": "stream",
     "text": [
      "PG: 58 dumped to file\n"
     ]
    },
    {
     "name": "stderr",
     "output_type": "stream",
     "text": [
      "DEBUG: http://api.elsevier.com:80 \"GET /content/search/scopus?query=fundus&count=25&start=1450 HTTP/1.1\" 308 None\n",
      "DEBUG: Starting new HTTPS connection (1): api.elsevier.com:443\n",
      "DEBUG: https://api.elsevier.com:443 \"GET /content/search/scopus?query=fundus&count=25&start=1450 HTTP/1.1\" 200 None\n",
      "DEBUG: Starting new HTTP connection (1): api.elsevier.com:80\n"
     ]
    },
    {
     "name": "stdout",
     "output_type": "stream",
     "text": [
      "PG: 59 dumped to file\n"
     ]
    },
    {
     "name": "stderr",
     "output_type": "stream",
     "text": [
      "DEBUG: http://api.elsevier.com:80 \"GET /content/search/scopus?query=fundus&count=25&start=1475 HTTP/1.1\" 308 None\n",
      "DEBUG: Starting new HTTPS connection (1): api.elsevier.com:443\n",
      "DEBUG: https://api.elsevier.com:443 \"GET /content/search/scopus?query=fundus&count=25&start=1475 HTTP/1.1\" 200 None\n",
      "DEBUG: Starting new HTTP connection (1): api.elsevier.com:80\n"
     ]
    },
    {
     "name": "stdout",
     "output_type": "stream",
     "text": [
      "PG: 60 dumped to file\n"
     ]
    },
    {
     "name": "stderr",
     "output_type": "stream",
     "text": [
      "DEBUG: http://api.elsevier.com:80 \"GET /content/search/scopus?query=fundus&count=25&start=1500 HTTP/1.1\" 308 None\n",
      "DEBUG: Starting new HTTPS connection (1): api.elsevier.com:443\n",
      "DEBUG: https://api.elsevier.com:443 \"GET /content/search/scopus?query=fundus&count=25&start=1500 HTTP/1.1\" 200 None\n",
      "DEBUG: Starting new HTTP connection (1): api.elsevier.com:80\n"
     ]
    },
    {
     "name": "stdout",
     "output_type": "stream",
     "text": [
      "PG: 61 dumped to file\n"
     ]
    },
    {
     "name": "stderr",
     "output_type": "stream",
     "text": [
      "DEBUG: http://api.elsevier.com:80 \"GET /content/search/scopus?query=fundus&count=25&start=1525 HTTP/1.1\" 308 None\n",
      "DEBUG: Starting new HTTPS connection (1): api.elsevier.com:443\n",
      "DEBUG: https://api.elsevier.com:443 \"GET /content/search/scopus?query=fundus&count=25&start=1525 HTTP/1.1\" 200 None\n",
      "DEBUG: Starting new HTTP connection (1): api.elsevier.com:80\n"
     ]
    },
    {
     "name": "stdout",
     "output_type": "stream",
     "text": [
      "PG: 62 dumped to file\n"
     ]
    },
    {
     "name": "stderr",
     "output_type": "stream",
     "text": [
      "DEBUG: http://api.elsevier.com:80 \"GET /content/search/scopus?query=fundus&count=25&start=1550 HTTP/1.1\" 308 None\n",
      "DEBUG: Starting new HTTPS connection (1): api.elsevier.com:443\n",
      "DEBUG: https://api.elsevier.com:443 \"GET /content/search/scopus?query=fundus&count=25&start=1550 HTTP/1.1\" 200 None\n",
      "DEBUG: Starting new HTTP connection (1): api.elsevier.com:80\n"
     ]
    },
    {
     "name": "stdout",
     "output_type": "stream",
     "text": [
      "PG: 63 dumped to file\n"
     ]
    },
    {
     "name": "stderr",
     "output_type": "stream",
     "text": [
      "DEBUG: http://api.elsevier.com:80 \"GET /content/search/scopus?query=fundus&count=25&start=1575 HTTP/1.1\" 308 None\n",
      "DEBUG: Starting new HTTPS connection (1): api.elsevier.com:443\n",
      "DEBUG: https://api.elsevier.com:443 \"GET /content/search/scopus?query=fundus&count=25&start=1575 HTTP/1.1\" 200 None\n",
      "DEBUG: Starting new HTTP connection (1): api.elsevier.com:80\n"
     ]
    },
    {
     "name": "stdout",
     "output_type": "stream",
     "text": [
      "PG: 64 dumped to file\n"
     ]
    },
    {
     "name": "stderr",
     "output_type": "stream",
     "text": [
      "DEBUG: http://api.elsevier.com:80 \"GET /content/search/scopus?query=fundus&count=25&start=1600 HTTP/1.1\" 308 None\n",
      "DEBUG: Starting new HTTPS connection (1): api.elsevier.com:443\n",
      "DEBUG: https://api.elsevier.com:443 \"GET /content/search/scopus?query=fundus&count=25&start=1600 HTTP/1.1\" 200 None\n",
      "DEBUG: Starting new HTTP connection (1): api.elsevier.com:80\n"
     ]
    },
    {
     "name": "stdout",
     "output_type": "stream",
     "text": [
      "PG: 65 dumped to file\n"
     ]
    },
    {
     "name": "stderr",
     "output_type": "stream",
     "text": [
      "DEBUG: http://api.elsevier.com:80 \"GET /content/search/scopus?query=fundus&count=25&start=1625 HTTP/1.1\" 308 None\n",
      "DEBUG: Starting new HTTPS connection (1): api.elsevier.com:443\n",
      "DEBUG: https://api.elsevier.com:443 \"GET /content/search/scopus?query=fundus&count=25&start=1625 HTTP/1.1\" 200 None\n",
      "DEBUG: Starting new HTTP connection (1): api.elsevier.com:80\n"
     ]
    },
    {
     "name": "stdout",
     "output_type": "stream",
     "text": [
      "PG: 66 dumped to file\n"
     ]
    },
    {
     "name": "stderr",
     "output_type": "stream",
     "text": [
      "DEBUG: http://api.elsevier.com:80 \"GET /content/search/scopus?query=fundus&count=25&start=1650 HTTP/1.1\" 308 None\n",
      "DEBUG: Starting new HTTPS connection (1): api.elsevier.com:443\n",
      "DEBUG: https://api.elsevier.com:443 \"GET /content/search/scopus?query=fundus&count=25&start=1650 HTTP/1.1\" 200 None\n",
      "DEBUG: Starting new HTTP connection (1): api.elsevier.com:80\n"
     ]
    },
    {
     "name": "stdout",
     "output_type": "stream",
     "text": [
      "PG: 67 dumped to file\n"
     ]
    },
    {
     "name": "stderr",
     "output_type": "stream",
     "text": [
      "DEBUG: http://api.elsevier.com:80 \"GET /content/search/scopus?query=fundus&count=25&start=1675 HTTP/1.1\" 308 None\n",
      "DEBUG: Starting new HTTPS connection (1): api.elsevier.com:443\n",
      "DEBUG: https://api.elsevier.com:443 \"GET /content/search/scopus?query=fundus&count=25&start=1675 HTTP/1.1\" 200 None\n",
      "DEBUG: Starting new HTTP connection (1): api.elsevier.com:80\n"
     ]
    },
    {
     "name": "stdout",
     "output_type": "stream",
     "text": [
      "PG: 68 dumped to file\n"
     ]
    },
    {
     "name": "stderr",
     "output_type": "stream",
     "text": [
      "DEBUG: http://api.elsevier.com:80 \"GET /content/search/scopus?query=fundus&count=25&start=1700 HTTP/1.1\" 308 None\n",
      "DEBUG: Starting new HTTPS connection (1): api.elsevier.com:443\n",
      "DEBUG: https://api.elsevier.com:443 \"GET /content/search/scopus?query=fundus&count=25&start=1700 HTTP/1.1\" 200 None\n",
      "DEBUG: Starting new HTTP connection (1): api.elsevier.com:80\n"
     ]
    },
    {
     "name": "stdout",
     "output_type": "stream",
     "text": [
      "PG: 69 dumped to file\n"
     ]
    },
    {
     "name": "stderr",
     "output_type": "stream",
     "text": [
      "DEBUG: http://api.elsevier.com:80 \"GET /content/search/scopus?query=fundus&count=25&start=1725 HTTP/1.1\" 308 None\n",
      "DEBUG: Starting new HTTPS connection (1): api.elsevier.com:443\n",
      "DEBUG: https://api.elsevier.com:443 \"GET /content/search/scopus?query=fundus&count=25&start=1725 HTTP/1.1\" 200 None\n",
      "DEBUG: Starting new HTTP connection (1): api.elsevier.com:80\n"
     ]
    },
    {
     "name": "stdout",
     "output_type": "stream",
     "text": [
      "PG: 70 dumped to file\n"
     ]
    },
    {
     "name": "stderr",
     "output_type": "stream",
     "text": [
      "DEBUG: http://api.elsevier.com:80 \"GET /content/search/scopus?query=fundus&count=25&start=1750 HTTP/1.1\" 308 None\n",
      "DEBUG: Starting new HTTPS connection (1): api.elsevier.com:443\n",
      "DEBUG: https://api.elsevier.com:443 \"GET /content/search/scopus?query=fundus&count=25&start=1750 HTTP/1.1\" 200 None\n",
      "DEBUG: Starting new HTTP connection (1): api.elsevier.com:80\n"
     ]
    },
    {
     "name": "stdout",
     "output_type": "stream",
     "text": [
      "PG: 71 dumped to file\n"
     ]
    },
    {
     "name": "stderr",
     "output_type": "stream",
     "text": [
      "DEBUG: http://api.elsevier.com:80 \"GET /content/search/scopus?query=fundus&count=25&start=1775 HTTP/1.1\" 308 None\n",
      "DEBUG: Starting new HTTPS connection (1): api.elsevier.com:443\n",
      "DEBUG: https://api.elsevier.com:443 \"GET /content/search/scopus?query=fundus&count=25&start=1775 HTTP/1.1\" 200 None\n",
      "DEBUG: Starting new HTTP connection (1): api.elsevier.com:80\n"
     ]
    },
    {
     "name": "stdout",
     "output_type": "stream",
     "text": [
      "PG: 72 dumped to file\n"
     ]
    },
    {
     "name": "stderr",
     "output_type": "stream",
     "text": [
      "DEBUG: http://api.elsevier.com:80 \"GET /content/search/scopus?query=fundus&count=25&start=1800 HTTP/1.1\" 308 None\n",
      "DEBUG: Starting new HTTPS connection (1): api.elsevier.com:443\n",
      "DEBUG: https://api.elsevier.com:443 \"GET /content/search/scopus?query=fundus&count=25&start=1800 HTTP/1.1\" 200 None\n",
      "DEBUG: Starting new HTTP connection (1): api.elsevier.com:80\n"
     ]
    },
    {
     "name": "stdout",
     "output_type": "stream",
     "text": [
      "PG: 73 dumped to file\n"
     ]
    },
    {
     "name": "stderr",
     "output_type": "stream",
     "text": [
      "DEBUG: http://api.elsevier.com:80 \"GET /content/search/scopus?query=fundus&count=25&start=1825 HTTP/1.1\" 308 None\n",
      "DEBUG: Starting new HTTPS connection (1): api.elsevier.com:443\n",
      "DEBUG: https://api.elsevier.com:443 \"GET /content/search/scopus?query=fundus&count=25&start=1825 HTTP/1.1\" 200 None\n",
      "DEBUG: Starting new HTTP connection (1): api.elsevier.com:80\n"
     ]
    },
    {
     "name": "stdout",
     "output_type": "stream",
     "text": [
      "PG: 74 dumped to file\n"
     ]
    },
    {
     "name": "stderr",
     "output_type": "stream",
     "text": [
      "DEBUG: http://api.elsevier.com:80 \"GET /content/search/scopus?query=fundus&count=25&start=1850 HTTP/1.1\" 308 None\n",
      "DEBUG: Starting new HTTPS connection (1): api.elsevier.com:443\n",
      "DEBUG: https://api.elsevier.com:443 \"GET /content/search/scopus?query=fundus&count=25&start=1850 HTTP/1.1\" 200 None\n",
      "DEBUG: Starting new HTTP connection (1): api.elsevier.com:80\n"
     ]
    },
    {
     "name": "stdout",
     "output_type": "stream",
     "text": [
      "PG: 75 dumped to file\n"
     ]
    },
    {
     "name": "stderr",
     "output_type": "stream",
     "text": [
      "DEBUG: http://api.elsevier.com:80 \"GET /content/search/scopus?query=fundus&count=25&start=1875 HTTP/1.1\" 308 None\n",
      "DEBUG: Starting new HTTPS connection (1): api.elsevier.com:443\n",
      "DEBUG: https://api.elsevier.com:443 \"GET /content/search/scopus?query=fundus&count=25&start=1875 HTTP/1.1\" 200 None\n",
      "DEBUG: Starting new HTTP connection (1): api.elsevier.com:80\n"
     ]
    },
    {
     "name": "stdout",
     "output_type": "stream",
     "text": [
      "PG: 76 dumped to file\n"
     ]
    },
    {
     "name": "stderr",
     "output_type": "stream",
     "text": [
      "DEBUG: http://api.elsevier.com:80 \"GET /content/search/scopus?query=fundus&count=25&start=1900 HTTP/1.1\" 308 None\n",
      "DEBUG: Starting new HTTPS connection (1): api.elsevier.com:443\n",
      "DEBUG: https://api.elsevier.com:443 \"GET /content/search/scopus?query=fundus&count=25&start=1900 HTTP/1.1\" 200 None\n",
      "DEBUG: Starting new HTTP connection (1): api.elsevier.com:80\n"
     ]
    },
    {
     "name": "stdout",
     "output_type": "stream",
     "text": [
      "PG: 77 dumped to file\n"
     ]
    },
    {
     "name": "stderr",
     "output_type": "stream",
     "text": [
      "DEBUG: http://api.elsevier.com:80 \"GET /content/search/scopus?query=fundus&count=25&start=1925 HTTP/1.1\" 308 None\n",
      "DEBUG: Starting new HTTPS connection (1): api.elsevier.com:443\n",
      "DEBUG: https://api.elsevier.com:443 \"GET /content/search/scopus?query=fundus&count=25&start=1925 HTTP/1.1\" 200 None\n",
      "DEBUG: Starting new HTTP connection (1): api.elsevier.com:80\n"
     ]
    },
    {
     "name": "stdout",
     "output_type": "stream",
     "text": [
      "PG: 78 dumped to file\n"
     ]
    },
    {
     "name": "stderr",
     "output_type": "stream",
     "text": [
      "DEBUG: http://api.elsevier.com:80 \"GET /content/search/scopus?query=fundus&count=25&start=1950 HTTP/1.1\" 308 None\n",
      "DEBUG: Starting new HTTPS connection (1): api.elsevier.com:443\n",
      "DEBUG: https://api.elsevier.com:443 \"GET /content/search/scopus?query=fundus&count=25&start=1950 HTTP/1.1\" 200 None\n",
      "DEBUG: Starting new HTTP connection (1): api.elsevier.com:80\n"
     ]
    },
    {
     "name": "stdout",
     "output_type": "stream",
     "text": [
      "PG: 79 dumped to file\n"
     ]
    },
    {
     "name": "stderr",
     "output_type": "stream",
     "text": [
      "DEBUG: http://api.elsevier.com:80 \"GET /content/search/scopus?query=fundus&count=25&start=1975 HTTP/1.1\" 308 None\n",
      "DEBUG: Starting new HTTPS connection (1): api.elsevier.com:443\n",
      "DEBUG: https://api.elsevier.com:443 \"GET /content/search/scopus?query=fundus&count=25&start=1975 HTTP/1.1\" 200 None\n",
      "DEBUG: Starting new HTTP connection (1): api.elsevier.com:80\n"
     ]
    },
    {
     "name": "stdout",
     "output_type": "stream",
     "text": [
      "PG: 80 dumped to file\n"
     ]
    },
    {
     "name": "stderr",
     "output_type": "stream",
     "text": [
      "DEBUG: http://api.elsevier.com:80 \"GET /content/search/scopus?query=fundus&count=25&start=2000 HTTP/1.1\" 308 None\n",
      "DEBUG: Starting new HTTPS connection (1): api.elsevier.com:443\n",
      "DEBUG: https://api.elsevier.com:443 \"GET /content/search/scopus?query=fundus&count=25&start=2000 HTTP/1.1\" 200 None\n",
      "DEBUG: Starting new HTTP connection (1): api.elsevier.com:80\n"
     ]
    },
    {
     "name": "stdout",
     "output_type": "stream",
     "text": [
      "PG: 81 dumped to file\n"
     ]
    },
    {
     "name": "stderr",
     "output_type": "stream",
     "text": [
      "DEBUG: http://api.elsevier.com:80 \"GET /content/search/scopus?query=fundus&count=25&start=2025 HTTP/1.1\" 308 None\n",
      "DEBUG: Starting new HTTPS connection (1): api.elsevier.com:443\n",
      "DEBUG: https://api.elsevier.com:443 \"GET /content/search/scopus?query=fundus&count=25&start=2025 HTTP/1.1\" 200 None\n",
      "DEBUG: Starting new HTTP connection (1): api.elsevier.com:80\n"
     ]
    },
    {
     "name": "stdout",
     "output_type": "stream",
     "text": [
      "PG: 82 dumped to file\n"
     ]
    },
    {
     "name": "stderr",
     "output_type": "stream",
     "text": [
      "DEBUG: http://api.elsevier.com:80 \"GET /content/search/scopus?query=fundus&count=25&start=2050 HTTP/1.1\" 308 None\n",
      "DEBUG: Starting new HTTPS connection (1): api.elsevier.com:443\n",
      "DEBUG: https://api.elsevier.com:443 \"GET /content/search/scopus?query=fundus&count=25&start=2050 HTTP/1.1\" 200 None\n",
      "DEBUG: Starting new HTTP connection (1): api.elsevier.com:80\n"
     ]
    },
    {
     "name": "stdout",
     "output_type": "stream",
     "text": [
      "PG: 83 dumped to file\n"
     ]
    },
    {
     "name": "stderr",
     "output_type": "stream",
     "text": [
      "DEBUG: http://api.elsevier.com:80 \"GET /content/search/scopus?query=fundus&count=25&start=2075 HTTP/1.1\" 308 None\n",
      "DEBUG: Starting new HTTPS connection (1): api.elsevier.com:443\n",
      "DEBUG: https://api.elsevier.com:443 \"GET /content/search/scopus?query=fundus&count=25&start=2075 HTTP/1.1\" 200 None\n",
      "DEBUG: Starting new HTTP connection (1): api.elsevier.com:80\n"
     ]
    },
    {
     "name": "stdout",
     "output_type": "stream",
     "text": [
      "PG: 84 dumped to file\n"
     ]
    },
    {
     "name": "stderr",
     "output_type": "stream",
     "text": [
      "DEBUG: http://api.elsevier.com:80 \"GET /content/search/scopus?query=fundus&count=25&start=2100 HTTP/1.1\" 308 None\n",
      "DEBUG: Starting new HTTPS connection (1): api.elsevier.com:443\n",
      "DEBUG: https://api.elsevier.com:443 \"GET /content/search/scopus?query=fundus&count=25&start=2100 HTTP/1.1\" 200 None\n",
      "DEBUG: Starting new HTTP connection (1): api.elsevier.com:80\n"
     ]
    },
    {
     "name": "stdout",
     "output_type": "stream",
     "text": [
      "PG: 85 dumped to file\n"
     ]
    },
    {
     "name": "stderr",
     "output_type": "stream",
     "text": [
      "DEBUG: http://api.elsevier.com:80 \"GET /content/search/scopus?query=fundus&count=25&start=2125 HTTP/1.1\" 308 None\n",
      "DEBUG: Starting new HTTPS connection (1): api.elsevier.com:443\n",
      "DEBUG: https://api.elsevier.com:443 \"GET /content/search/scopus?query=fundus&count=25&start=2125 HTTP/1.1\" 200 None\n",
      "DEBUG: Starting new HTTP connection (1): api.elsevier.com:80\n"
     ]
    },
    {
     "name": "stdout",
     "output_type": "stream",
     "text": [
      "PG: 86 dumped to file\n"
     ]
    },
    {
     "name": "stderr",
     "output_type": "stream",
     "text": [
      "DEBUG: http://api.elsevier.com:80 \"GET /content/search/scopus?query=fundus&count=25&start=2150 HTTP/1.1\" 308 None\n",
      "DEBUG: Starting new HTTPS connection (1): api.elsevier.com:443\n",
      "DEBUG: https://api.elsevier.com:443 \"GET /content/search/scopus?query=fundus&count=25&start=2150 HTTP/1.1\" 200 None\n",
      "DEBUG: Starting new HTTP connection (1): api.elsevier.com:80\n"
     ]
    },
    {
     "name": "stdout",
     "output_type": "stream",
     "text": [
      "PG: 87 dumped to file\n"
     ]
    },
    {
     "name": "stderr",
     "output_type": "stream",
     "text": [
      "DEBUG: http://api.elsevier.com:80 \"GET /content/search/scopus?query=fundus&count=25&start=2175 HTTP/1.1\" 308 None\n",
      "DEBUG: Starting new HTTPS connection (1): api.elsevier.com:443\n",
      "DEBUG: https://api.elsevier.com:443 \"GET /content/search/scopus?query=fundus&count=25&start=2175 HTTP/1.1\" 200 None\n",
      "DEBUG: Starting new HTTP connection (1): api.elsevier.com:80\n"
     ]
    },
    {
     "name": "stdout",
     "output_type": "stream",
     "text": [
      "PG: 88 dumped to file\n"
     ]
    },
    {
     "name": "stderr",
     "output_type": "stream",
     "text": [
      "DEBUG: http://api.elsevier.com:80 \"GET /content/search/scopus?query=fundus&count=25&start=2200 HTTP/1.1\" 308 None\n",
      "DEBUG: Starting new HTTPS connection (1): api.elsevier.com:443\n",
      "DEBUG: https://api.elsevier.com:443 \"GET /content/search/scopus?query=fundus&count=25&start=2200 HTTP/1.1\" 200 None\n",
      "DEBUG: Starting new HTTP connection (1): api.elsevier.com:80\n"
     ]
    },
    {
     "name": "stdout",
     "output_type": "stream",
     "text": [
      "PG: 89 dumped to file\n"
     ]
    },
    {
     "name": "stderr",
     "output_type": "stream",
     "text": [
      "DEBUG: http://api.elsevier.com:80 \"GET /content/search/scopus?query=fundus&count=25&start=2225 HTTP/1.1\" 308 None\n",
      "DEBUG: Starting new HTTPS connection (1): api.elsevier.com:443\n",
      "DEBUG: https://api.elsevier.com:443 \"GET /content/search/scopus?query=fundus&count=25&start=2225 HTTP/1.1\" 200 None\n",
      "DEBUG: Starting new HTTP connection (1): api.elsevier.com:80\n"
     ]
    },
    {
     "name": "stdout",
     "output_type": "stream",
     "text": [
      "PG: 90 dumped to file\n"
     ]
    },
    {
     "name": "stderr",
     "output_type": "stream",
     "text": [
      "DEBUG: http://api.elsevier.com:80 \"GET /content/search/scopus?query=fundus&count=25&start=2250 HTTP/1.1\" 308 None\n",
      "DEBUG: Starting new HTTPS connection (1): api.elsevier.com:443\n",
      "DEBUG: https://api.elsevier.com:443 \"GET /content/search/scopus?query=fundus&count=25&start=2250 HTTP/1.1\" 200 None\n",
      "DEBUG: Starting new HTTP connection (1): api.elsevier.com:80\n"
     ]
    },
    {
     "name": "stdout",
     "output_type": "stream",
     "text": [
      "PG: 91 dumped to file\n"
     ]
    },
    {
     "name": "stderr",
     "output_type": "stream",
     "text": [
      "DEBUG: http://api.elsevier.com:80 \"GET /content/search/scopus?query=fundus&count=25&start=2275 HTTP/1.1\" 308 None\n",
      "DEBUG: Starting new HTTPS connection (1): api.elsevier.com:443\n",
      "DEBUG: https://api.elsevier.com:443 \"GET /content/search/scopus?query=fundus&count=25&start=2275 HTTP/1.1\" 200 None\n",
      "DEBUG: Starting new HTTP connection (1): api.elsevier.com:80\n"
     ]
    },
    {
     "name": "stdout",
     "output_type": "stream",
     "text": [
      "PG: 92 dumped to file\n"
     ]
    },
    {
     "name": "stderr",
     "output_type": "stream",
     "text": [
      "DEBUG: http://api.elsevier.com:80 \"GET /content/search/scopus?query=fundus&count=25&start=2300 HTTP/1.1\" 308 None\n",
      "DEBUG: Starting new HTTPS connection (1): api.elsevier.com:443\n",
      "DEBUG: https://api.elsevier.com:443 \"GET /content/search/scopus?query=fundus&count=25&start=2300 HTTP/1.1\" 200 None\n",
      "DEBUG: Starting new HTTP connection (1): api.elsevier.com:80\n"
     ]
    },
    {
     "name": "stdout",
     "output_type": "stream",
     "text": [
      "PG: 93 dumped to file\n"
     ]
    },
    {
     "name": "stderr",
     "output_type": "stream",
     "text": [
      "DEBUG: http://api.elsevier.com:80 \"GET /content/search/scopus?query=fundus&count=25&start=2325 HTTP/1.1\" 308 None\n",
      "DEBUG: Starting new HTTPS connection (1): api.elsevier.com:443\n",
      "DEBUG: https://api.elsevier.com:443 \"GET /content/search/scopus?query=fundus&count=25&start=2325 HTTP/1.1\" 200 None\n",
      "DEBUG: Starting new HTTP connection (1): api.elsevier.com:80\n"
     ]
    },
    {
     "name": "stdout",
     "output_type": "stream",
     "text": [
      "PG: 94 dumped to file\n"
     ]
    },
    {
     "name": "stderr",
     "output_type": "stream",
     "text": [
      "DEBUG: http://api.elsevier.com:80 \"GET /content/search/scopus?query=fundus&count=25&start=2350 HTTP/1.1\" 308 None\n",
      "DEBUG: Starting new HTTPS connection (1): api.elsevier.com:443\n",
      "DEBUG: https://api.elsevier.com:443 \"GET /content/search/scopus?query=fundus&count=25&start=2350 HTTP/1.1\" 200 None\n",
      "DEBUG: Starting new HTTP connection (1): api.elsevier.com:80\n"
     ]
    },
    {
     "name": "stdout",
     "output_type": "stream",
     "text": [
      "PG: 95 dumped to file\n"
     ]
    },
    {
     "name": "stderr",
     "output_type": "stream",
     "text": [
      "DEBUG: http://api.elsevier.com:80 \"GET /content/search/scopus?query=fundus&count=25&start=2375 HTTP/1.1\" 308 None\n",
      "DEBUG: Starting new HTTPS connection (1): api.elsevier.com:443\n",
      "DEBUG: https://api.elsevier.com:443 \"GET /content/search/scopus?query=fundus&count=25&start=2375 HTTP/1.1\" 200 None\n",
      "DEBUG: Starting new HTTP connection (1): api.elsevier.com:80\n"
     ]
    },
    {
     "name": "stdout",
     "output_type": "stream",
     "text": [
      "PG: 96 dumped to file\n"
     ]
    },
    {
     "name": "stderr",
     "output_type": "stream",
     "text": [
      "DEBUG: http://api.elsevier.com:80 \"GET /content/search/scopus?query=fundus&count=25&start=2400 HTTP/1.1\" 308 None\n",
      "DEBUG: Starting new HTTPS connection (1): api.elsevier.com:443\n",
      "DEBUG: https://api.elsevier.com:443 \"GET /content/search/scopus?query=fundus&count=25&start=2400 HTTP/1.1\" 200 None\n",
      "DEBUG: Starting new HTTP connection (1): api.elsevier.com:80\n"
     ]
    },
    {
     "name": "stdout",
     "output_type": "stream",
     "text": [
      "PG: 97 dumped to file\n"
     ]
    },
    {
     "name": "stderr",
     "output_type": "stream",
     "text": [
      "DEBUG: http://api.elsevier.com:80 \"GET /content/search/scopus?query=fundus&count=25&start=2425 HTTP/1.1\" 308 None\n",
      "DEBUG: Starting new HTTPS connection (1): api.elsevier.com:443\n",
      "DEBUG: https://api.elsevier.com:443 \"GET /content/search/scopus?query=fundus&count=25&start=2425 HTTP/1.1\" 200 None\n",
      "DEBUG: Starting new HTTP connection (1): api.elsevier.com:80\n"
     ]
    },
    {
     "name": "stdout",
     "output_type": "stream",
     "text": [
      "PG: 98 dumped to file\n"
     ]
    },
    {
     "name": "stderr",
     "output_type": "stream",
     "text": [
      "DEBUG: http://api.elsevier.com:80 \"GET /content/search/scopus?query=fundus&count=25&start=2450 HTTP/1.1\" 308 None\n",
      "DEBUG: Starting new HTTPS connection (1): api.elsevier.com:443\n",
      "DEBUG: https://api.elsevier.com:443 \"GET /content/search/scopus?query=fundus&count=25&start=2450 HTTP/1.1\" 200 None\n",
      "DEBUG: Starting new HTTP connection (1): api.elsevier.com:80\n"
     ]
    },
    {
     "name": "stdout",
     "output_type": "stream",
     "text": [
      "PG: 99 dumped to file\n"
     ]
    },
    {
     "name": "stderr",
     "output_type": "stream",
     "text": [
      "DEBUG: http://api.elsevier.com:80 \"GET /content/search/scopus?query=fundus&count=25&start=2475 HTTP/1.1\" 308 None\n",
      "DEBUG: Starting new HTTPS connection (1): api.elsevier.com:443\n",
      "DEBUG: https://api.elsevier.com:443 \"GET /content/search/scopus?query=fundus&count=25&start=2475 HTTP/1.1\" 200 7210\n",
      "DEBUG: Starting new HTTP connection (1): api.elsevier.com:80\n"
     ]
    },
    {
     "name": "stdout",
     "output_type": "stream",
     "text": [
      "PG: 100 dumped to file\n"
     ]
    },
    {
     "name": "stderr",
     "output_type": "stream",
     "text": [
      "DEBUG: http://api.elsevier.com:80 \"GET /content/search/scopus?query=fundus&count=25&start=2500 HTTP/1.1\" 308 None\n",
      "DEBUG: Starting new HTTPS connection (1): api.elsevier.com:443\n",
      "DEBUG: https://api.elsevier.com:443 \"GET /content/search/scopus?query=fundus&count=25&start=2500 HTTP/1.1\" 200 None\n",
      "DEBUG: Starting new HTTP connection (1): api.elsevier.com:80\n"
     ]
    },
    {
     "name": "stdout",
     "output_type": "stream",
     "text": [
      "PG: 101 dumped to file\n"
     ]
    },
    {
     "name": "stderr",
     "output_type": "stream",
     "text": [
      "DEBUG: http://api.elsevier.com:80 \"GET /content/search/scopus?query=fundus&count=25&start=2525 HTTP/1.1\" 308 None\n",
      "DEBUG: Starting new HTTPS connection (1): api.elsevier.com:443\n",
      "DEBUG: https://api.elsevier.com:443 \"GET /content/search/scopus?query=fundus&count=25&start=2525 HTTP/1.1\" 200 None\n",
      "DEBUG: Starting new HTTP connection (1): api.elsevier.com:80\n"
     ]
    },
    {
     "name": "stdout",
     "output_type": "stream",
     "text": [
      "PG: 102 dumped to file\n"
     ]
    },
    {
     "name": "stderr",
     "output_type": "stream",
     "text": [
      "DEBUG: http://api.elsevier.com:80 \"GET /content/search/scopus?query=fundus&count=25&start=2550 HTTP/1.1\" 308 None\n",
      "DEBUG: Starting new HTTPS connection (1): api.elsevier.com:443\n",
      "DEBUG: https://api.elsevier.com:443 \"GET /content/search/scopus?query=fundus&count=25&start=2550 HTTP/1.1\" 200 None\n",
      "DEBUG: Starting new HTTP connection (1): api.elsevier.com:80\n"
     ]
    },
    {
     "name": "stdout",
     "output_type": "stream",
     "text": [
      "PG: 103 dumped to file\n"
     ]
    },
    {
     "name": "stderr",
     "output_type": "stream",
     "text": [
      "DEBUG: http://api.elsevier.com:80 \"GET /content/search/scopus?query=fundus&count=25&start=2575 HTTP/1.1\" 308 None\n",
      "DEBUG: Starting new HTTPS connection (1): api.elsevier.com:443\n",
      "DEBUG: https://api.elsevier.com:443 \"GET /content/search/scopus?query=fundus&count=25&start=2575 HTTP/1.1\" 200 None\n",
      "DEBUG: Starting new HTTP connection (1): api.elsevier.com:80\n"
     ]
    },
    {
     "name": "stdout",
     "output_type": "stream",
     "text": [
      "PG: 104 dumped to file\n"
     ]
    },
    {
     "name": "stderr",
     "output_type": "stream",
     "text": [
      "DEBUG: http://api.elsevier.com:80 \"GET /content/search/scopus?query=fundus&count=25&start=2600 HTTP/1.1\" 308 None\n",
      "DEBUG: Starting new HTTPS connection (1): api.elsevier.com:443\n",
      "DEBUG: https://api.elsevier.com:443 \"GET /content/search/scopus?query=fundus&count=25&start=2600 HTTP/1.1\" 200 None\n",
      "DEBUG: Starting new HTTP connection (1): api.elsevier.com:80\n"
     ]
    },
    {
     "name": "stdout",
     "output_type": "stream",
     "text": [
      "PG: 105 dumped to file\n"
     ]
    },
    {
     "name": "stderr",
     "output_type": "stream",
     "text": [
      "DEBUG: http://api.elsevier.com:80 \"GET /content/search/scopus?query=fundus&count=25&start=2625 HTTP/1.1\" 308 None\n",
      "DEBUG: Starting new HTTPS connection (1): api.elsevier.com:443\n",
      "DEBUG: https://api.elsevier.com:443 \"GET /content/search/scopus?query=fundus&count=25&start=2625 HTTP/1.1\" 200 None\n",
      "DEBUG: Starting new HTTP connection (1): api.elsevier.com:80\n"
     ]
    },
    {
     "name": "stdout",
     "output_type": "stream",
     "text": [
      "PG: 106 dumped to file\n"
     ]
    },
    {
     "name": "stderr",
     "output_type": "stream",
     "text": [
      "DEBUG: http://api.elsevier.com:80 \"GET /content/search/scopus?query=fundus&count=25&start=2650 HTTP/1.1\" 308 None\n",
      "DEBUG: Starting new HTTPS connection (1): api.elsevier.com:443\n",
      "DEBUG: https://api.elsevier.com:443 \"GET /content/search/scopus?query=fundus&count=25&start=2650 HTTP/1.1\" 200 None\n",
      "DEBUG: Starting new HTTP connection (1): api.elsevier.com:80\n"
     ]
    },
    {
     "name": "stdout",
     "output_type": "stream",
     "text": [
      "PG: 107 dumped to file\n"
     ]
    },
    {
     "name": "stderr",
     "output_type": "stream",
     "text": [
      "DEBUG: http://api.elsevier.com:80 \"GET /content/search/scopus?query=fundus&count=25&start=2675 HTTP/1.1\" 308 None\n",
      "DEBUG: Starting new HTTPS connection (1): api.elsevier.com:443\n",
      "DEBUG: https://api.elsevier.com:443 \"GET /content/search/scopus?query=fundus&count=25&start=2675 HTTP/1.1\" 200 None\n",
      "DEBUG: Starting new HTTP connection (1): api.elsevier.com:80\n"
     ]
    },
    {
     "name": "stdout",
     "output_type": "stream",
     "text": [
      "PG: 108 dumped to file\n"
     ]
    },
    {
     "name": "stderr",
     "output_type": "stream",
     "text": [
      "DEBUG: http://api.elsevier.com:80 \"GET /content/search/scopus?query=fundus&count=25&start=2700 HTTP/1.1\" 308 None\n",
      "DEBUG: Starting new HTTPS connection (1): api.elsevier.com:443\n",
      "DEBUG: https://api.elsevier.com:443 \"GET /content/search/scopus?query=fundus&count=25&start=2700 HTTP/1.1\" 200 None\n",
      "DEBUG: Starting new HTTP connection (1): api.elsevier.com:80\n"
     ]
    },
    {
     "name": "stdout",
     "output_type": "stream",
     "text": [
      "PG: 109 dumped to file\n"
     ]
    },
    {
     "name": "stderr",
     "output_type": "stream",
     "text": [
      "DEBUG: http://api.elsevier.com:80 \"GET /content/search/scopus?query=fundus&count=25&start=2725 HTTP/1.1\" 308 None\n",
      "DEBUG: Starting new HTTPS connection (1): api.elsevier.com:443\n",
      "DEBUG: https://api.elsevier.com:443 \"GET /content/search/scopus?query=fundus&count=25&start=2725 HTTP/1.1\" 200 None\n",
      "DEBUG: Starting new HTTP connection (1): api.elsevier.com:80\n"
     ]
    },
    {
     "name": "stdout",
     "output_type": "stream",
     "text": [
      "PG: 110 dumped to file\n"
     ]
    },
    {
     "name": "stderr",
     "output_type": "stream",
     "text": [
      "DEBUG: http://api.elsevier.com:80 \"GET /content/search/scopus?query=fundus&count=25&start=2750 HTTP/1.1\" 308 None\n",
      "DEBUG: Starting new HTTPS connection (1): api.elsevier.com:443\n",
      "DEBUG: https://api.elsevier.com:443 \"GET /content/search/scopus?query=fundus&count=25&start=2750 HTTP/1.1\" 200 None\n",
      "DEBUG: Starting new HTTP connection (1): api.elsevier.com:80\n"
     ]
    },
    {
     "name": "stdout",
     "output_type": "stream",
     "text": [
      "PG: 111 dumped to file\n"
     ]
    },
    {
     "name": "stderr",
     "output_type": "stream",
     "text": [
      "DEBUG: http://api.elsevier.com:80 \"GET /content/search/scopus?query=fundus&count=25&start=2775 HTTP/1.1\" 308 None\n",
      "DEBUG: Starting new HTTPS connection (1): api.elsevier.com:443\n",
      "DEBUG: https://api.elsevier.com:443 \"GET /content/search/scopus?query=fundus&count=25&start=2775 HTTP/1.1\" 200 None\n",
      "DEBUG: Starting new HTTP connection (1): api.elsevier.com:80\n"
     ]
    },
    {
     "name": "stdout",
     "output_type": "stream",
     "text": [
      "PG: 112 dumped to file\n"
     ]
    },
    {
     "name": "stderr",
     "output_type": "stream",
     "text": [
      "DEBUG: http://api.elsevier.com:80 \"GET /content/search/scopus?query=fundus&count=25&start=2800 HTTP/1.1\" 308 None\n",
      "DEBUG: Starting new HTTPS connection (1): api.elsevier.com:443\n",
      "DEBUG: https://api.elsevier.com:443 \"GET /content/search/scopus?query=fundus&count=25&start=2800 HTTP/1.1\" 200 None\n",
      "DEBUG: Starting new HTTP connection (1): api.elsevier.com:80\n"
     ]
    },
    {
     "name": "stdout",
     "output_type": "stream",
     "text": [
      "PG: 113 dumped to file\n"
     ]
    },
    {
     "name": "stderr",
     "output_type": "stream",
     "text": [
      "DEBUG: http://api.elsevier.com:80 \"GET /content/search/scopus?query=fundus&count=25&start=2825 HTTP/1.1\" 308 None\n",
      "DEBUG: Starting new HTTPS connection (1): api.elsevier.com:443\n",
      "DEBUG: https://api.elsevier.com:443 \"GET /content/search/scopus?query=fundus&count=25&start=2825 HTTP/1.1\" 200 None\n",
      "DEBUG: Starting new HTTP connection (1): api.elsevier.com:80\n"
     ]
    },
    {
     "name": "stdout",
     "output_type": "stream",
     "text": [
      "PG: 114 dumped to file\n"
     ]
    },
    {
     "name": "stderr",
     "output_type": "stream",
     "text": [
      "DEBUG: http://api.elsevier.com:80 \"GET /content/search/scopus?query=fundus&count=25&start=2850 HTTP/1.1\" 308 None\n",
      "DEBUG: Starting new HTTPS connection (1): api.elsevier.com:443\n",
      "DEBUG: https://api.elsevier.com:443 \"GET /content/search/scopus?query=fundus&count=25&start=2850 HTTP/1.1\" 200 None\n",
      "DEBUG: Starting new HTTP connection (1): api.elsevier.com:80\n"
     ]
    },
    {
     "name": "stdout",
     "output_type": "stream",
     "text": [
      "PG: 115 dumped to file\n"
     ]
    },
    {
     "name": "stderr",
     "output_type": "stream",
     "text": [
      "DEBUG: http://api.elsevier.com:80 \"GET /content/search/scopus?query=fundus&count=25&start=2875 HTTP/1.1\" 308 None\n",
      "DEBUG: Starting new HTTPS connection (1): api.elsevier.com:443\n",
      "DEBUG: https://api.elsevier.com:443 \"GET /content/search/scopus?query=fundus&count=25&start=2875 HTTP/1.1\" 200 None\n",
      "DEBUG: Starting new HTTP connection (1): api.elsevier.com:80\n"
     ]
    },
    {
     "name": "stdout",
     "output_type": "stream",
     "text": [
      "PG: 116 dumped to file\n"
     ]
    },
    {
     "name": "stderr",
     "output_type": "stream",
     "text": [
      "DEBUG: http://api.elsevier.com:80 \"GET /content/search/scopus?query=fundus&count=25&start=2900 HTTP/1.1\" 308 None\n",
      "DEBUG: Starting new HTTPS connection (1): api.elsevier.com:443\n",
      "DEBUG: https://api.elsevier.com:443 \"GET /content/search/scopus?query=fundus&count=25&start=2900 HTTP/1.1\" 200 None\n",
      "DEBUG: Starting new HTTP connection (1): api.elsevier.com:80\n"
     ]
    },
    {
     "name": "stdout",
     "output_type": "stream",
     "text": [
      "PG: 117 dumped to file\n"
     ]
    },
    {
     "name": "stderr",
     "output_type": "stream",
     "text": [
      "DEBUG: http://api.elsevier.com:80 \"GET /content/search/scopus?query=fundus&count=25&start=2925 HTTP/1.1\" 308 None\n",
      "DEBUG: Starting new HTTPS connection (1): api.elsevier.com:443\n",
      "DEBUG: https://api.elsevier.com:443 \"GET /content/search/scopus?query=fundus&count=25&start=2925 HTTP/1.1\" 200 None\n",
      "DEBUG: Starting new HTTP connection (1): api.elsevier.com:80\n"
     ]
    },
    {
     "name": "stdout",
     "output_type": "stream",
     "text": [
      "PG: 118 dumped to file\n"
     ]
    },
    {
     "name": "stderr",
     "output_type": "stream",
     "text": [
      "DEBUG: http://api.elsevier.com:80 \"GET /content/search/scopus?query=fundus&count=25&start=2950 HTTP/1.1\" 308 None\n",
      "DEBUG: Starting new HTTPS connection (1): api.elsevier.com:443\n",
      "DEBUG: https://api.elsevier.com:443 \"GET /content/search/scopus?query=fundus&count=25&start=2950 HTTP/1.1\" 200 None\n",
      "DEBUG: Starting new HTTP connection (1): api.elsevier.com:80\n"
     ]
    },
    {
     "name": "stdout",
     "output_type": "stream",
     "text": [
      "PG: 119 dumped to file\n"
     ]
    },
    {
     "name": "stderr",
     "output_type": "stream",
     "text": [
      "DEBUG: http://api.elsevier.com:80 \"GET /content/search/scopus?query=fundus&count=25&start=2975 HTTP/1.1\" 308 None\n",
      "DEBUG: Starting new HTTPS connection (1): api.elsevier.com:443\n",
      "DEBUG: https://api.elsevier.com:443 \"GET /content/search/scopus?query=fundus&count=25&start=2975 HTTP/1.1\" 200 None\n",
      "DEBUG: Starting new HTTP connection (1): api.elsevier.com:80\n"
     ]
    },
    {
     "name": "stdout",
     "output_type": "stream",
     "text": [
      "PG: 120 dumped to file\n"
     ]
    },
    {
     "name": "stderr",
     "output_type": "stream",
     "text": [
      "DEBUG: http://api.elsevier.com:80 \"GET /content/search/scopus?query=fundus&count=25&start=3000 HTTP/1.1\" 308 None\n",
      "DEBUG: Starting new HTTPS connection (1): api.elsevier.com:443\n",
      "DEBUG: https://api.elsevier.com:443 \"GET /content/search/scopus?query=fundus&count=25&start=3000 HTTP/1.1\" 200 None\n",
      "DEBUG: Starting new HTTP connection (1): api.elsevier.com:80\n"
     ]
    },
    {
     "name": "stdout",
     "output_type": "stream",
     "text": [
      "PG: 121 dumped to file\n"
     ]
    },
    {
     "name": "stderr",
     "output_type": "stream",
     "text": [
      "DEBUG: http://api.elsevier.com:80 \"GET /content/search/scopus?query=fundus&count=25&start=3025 HTTP/1.1\" 308 None\n",
      "DEBUG: Starting new HTTPS connection (1): api.elsevier.com:443\n",
      "DEBUG: https://api.elsevier.com:443 \"GET /content/search/scopus?query=fundus&count=25&start=3025 HTTP/1.1\" 200 None\n",
      "DEBUG: Starting new HTTP connection (1): api.elsevier.com:80\n"
     ]
    },
    {
     "name": "stdout",
     "output_type": "stream",
     "text": [
      "PG: 122 dumped to file\n"
     ]
    },
    {
     "name": "stderr",
     "output_type": "stream",
     "text": [
      "DEBUG: http://api.elsevier.com:80 \"GET /content/search/scopus?query=fundus&count=25&start=3050 HTTP/1.1\" 308 None\n",
      "DEBUG: Starting new HTTPS connection (1): api.elsevier.com:443\n",
      "DEBUG: https://api.elsevier.com:443 \"GET /content/search/scopus?query=fundus&count=25&start=3050 HTTP/1.1\" 200 None\n",
      "DEBUG: Starting new HTTP connection (1): api.elsevier.com:80\n"
     ]
    },
    {
     "name": "stdout",
     "output_type": "stream",
     "text": [
      "PG: 123 dumped to file\n"
     ]
    },
    {
     "name": "stderr",
     "output_type": "stream",
     "text": [
      "DEBUG: http://api.elsevier.com:80 \"GET /content/search/scopus?query=fundus&count=25&start=3075 HTTP/1.1\" 308 None\n",
      "DEBUG: Starting new HTTPS connection (1): api.elsevier.com:443\n",
      "DEBUG: https://api.elsevier.com:443 \"GET /content/search/scopus?query=fundus&count=25&start=3075 HTTP/1.1\" 200 None\n",
      "DEBUG: Starting new HTTP connection (1): api.elsevier.com:80\n"
     ]
    },
    {
     "name": "stdout",
     "output_type": "stream",
     "text": [
      "PG: 124 dumped to file\n"
     ]
    },
    {
     "name": "stderr",
     "output_type": "stream",
     "text": [
      "DEBUG: http://api.elsevier.com:80 \"GET /content/search/scopus?query=fundus&count=25&start=3100 HTTP/1.1\" 308 None\n",
      "DEBUG: Starting new HTTPS connection (1): api.elsevier.com:443\n",
      "DEBUG: https://api.elsevier.com:443 \"GET /content/search/scopus?query=fundus&count=25&start=3100 HTTP/1.1\" 200 None\n",
      "DEBUG: Starting new HTTP connection (1): api.elsevier.com:80\n"
     ]
    },
    {
     "name": "stdout",
     "output_type": "stream",
     "text": [
      "PG: 125 dumped to file\n"
     ]
    },
    {
     "name": "stderr",
     "output_type": "stream",
     "text": [
      "DEBUG: http://api.elsevier.com:80 \"GET /content/search/scopus?query=fundus&count=25&start=3125 HTTP/1.1\" 308 None\n",
      "DEBUG: Starting new HTTPS connection (1): api.elsevier.com:443\n",
      "DEBUG: https://api.elsevier.com:443 \"GET /content/search/scopus?query=fundus&count=25&start=3125 HTTP/1.1\" 200 None\n",
      "DEBUG: Starting new HTTP connection (1): api.elsevier.com:80\n"
     ]
    },
    {
     "name": "stdout",
     "output_type": "stream",
     "text": [
      "PG: 126 dumped to file\n"
     ]
    },
    {
     "name": "stderr",
     "output_type": "stream",
     "text": [
      "DEBUG: http://api.elsevier.com:80 \"GET /content/search/scopus?query=fundus&count=25&start=3150 HTTP/1.1\" 308 None\n",
      "DEBUG: Starting new HTTPS connection (1): api.elsevier.com:443\n",
      "DEBUG: https://api.elsevier.com:443 \"GET /content/search/scopus?query=fundus&count=25&start=3150 HTTP/1.1\" 200 None\n",
      "DEBUG: Starting new HTTP connection (1): api.elsevier.com:80\n"
     ]
    },
    {
     "name": "stdout",
     "output_type": "stream",
     "text": [
      "PG: 127 dumped to file\n"
     ]
    },
    {
     "name": "stderr",
     "output_type": "stream",
     "text": [
      "DEBUG: http://api.elsevier.com:80 \"GET /content/search/scopus?query=fundus&count=25&start=3175 HTTP/1.1\" 308 None\n",
      "DEBUG: Starting new HTTPS connection (1): api.elsevier.com:443\n",
      "DEBUG: https://api.elsevier.com:443 \"GET /content/search/scopus?query=fundus&count=25&start=3175 HTTP/1.1\" 200 None\n",
      "DEBUG: Starting new HTTP connection (1): api.elsevier.com:80\n"
     ]
    },
    {
     "name": "stdout",
     "output_type": "stream",
     "text": [
      "PG: 128 dumped to file\n"
     ]
    },
    {
     "name": "stderr",
     "output_type": "stream",
     "text": [
      "DEBUG: http://api.elsevier.com:80 \"GET /content/search/scopus?query=fundus&count=25&start=3200 HTTP/1.1\" 308 None\n",
      "DEBUG: Starting new HTTPS connection (1): api.elsevier.com:443\n",
      "DEBUG: https://api.elsevier.com:443 \"GET /content/search/scopus?query=fundus&count=25&start=3200 HTTP/1.1\" 200 None\n",
      "DEBUG: Starting new HTTP connection (1): api.elsevier.com:80\n"
     ]
    },
    {
     "name": "stdout",
     "output_type": "stream",
     "text": [
      "PG: 129 dumped to file\n"
     ]
    },
    {
     "name": "stderr",
     "output_type": "stream",
     "text": [
      "DEBUG: http://api.elsevier.com:80 \"GET /content/search/scopus?query=fundus&count=25&start=3225 HTTP/1.1\" 308 None\n",
      "DEBUG: Starting new HTTPS connection (1): api.elsevier.com:443\n",
      "DEBUG: https://api.elsevier.com:443 \"GET /content/search/scopus?query=fundus&count=25&start=3225 HTTP/1.1\" 200 None\n",
      "DEBUG: Starting new HTTP connection (1): api.elsevier.com:80\n"
     ]
    },
    {
     "name": "stdout",
     "output_type": "stream",
     "text": [
      "PG: 130 dumped to file\n"
     ]
    },
    {
     "name": "stderr",
     "output_type": "stream",
     "text": [
      "DEBUG: http://api.elsevier.com:80 \"GET /content/search/scopus?query=fundus&count=25&start=3250 HTTP/1.1\" 308 None\n",
      "DEBUG: Starting new HTTPS connection (1): api.elsevier.com:443\n",
      "DEBUG: https://api.elsevier.com:443 \"GET /content/search/scopus?query=fundus&count=25&start=3250 HTTP/1.1\" 200 None\n",
      "DEBUG: Starting new HTTP connection (1): api.elsevier.com:80\n"
     ]
    },
    {
     "name": "stdout",
     "output_type": "stream",
     "text": [
      "PG: 131 dumped to file\n"
     ]
    },
    {
     "name": "stderr",
     "output_type": "stream",
     "text": [
      "DEBUG: http://api.elsevier.com:80 \"GET /content/search/scopus?query=fundus&count=25&start=3275 HTTP/1.1\" 308 None\n",
      "DEBUG: Starting new HTTPS connection (1): api.elsevier.com:443\n",
      "DEBUG: https://api.elsevier.com:443 \"GET /content/search/scopus?query=fundus&count=25&start=3275 HTTP/1.1\" 200 None\n",
      "DEBUG: Starting new HTTP connection (1): api.elsevier.com:80\n"
     ]
    },
    {
     "name": "stdout",
     "output_type": "stream",
     "text": [
      "PG: 132 dumped to file\n"
     ]
    },
    {
     "name": "stderr",
     "output_type": "stream",
     "text": [
      "DEBUG: http://api.elsevier.com:80 \"GET /content/search/scopus?query=fundus&count=25&start=3300 HTTP/1.1\" 308 None\n",
      "DEBUG: Starting new HTTPS connection (1): api.elsevier.com:443\n",
      "DEBUG: https://api.elsevier.com:443 \"GET /content/search/scopus?query=fundus&count=25&start=3300 HTTP/1.1\" 200 None\n",
      "DEBUG: Starting new HTTP connection (1): api.elsevier.com:80\n"
     ]
    },
    {
     "name": "stdout",
     "output_type": "stream",
     "text": [
      "PG: 133 dumped to file\n"
     ]
    },
    {
     "name": "stderr",
     "output_type": "stream",
     "text": [
      "DEBUG: http://api.elsevier.com:80 \"GET /content/search/scopus?query=fundus&count=25&start=3325 HTTP/1.1\" 308 None\n",
      "DEBUG: Starting new HTTPS connection (1): api.elsevier.com:443\n",
      "DEBUG: https://api.elsevier.com:443 \"GET /content/search/scopus?query=fundus&count=25&start=3325 HTTP/1.1\" 200 None\n",
      "DEBUG: Starting new HTTP connection (1): api.elsevier.com:80\n"
     ]
    },
    {
     "name": "stdout",
     "output_type": "stream",
     "text": [
      "PG: 134 dumped to file\n"
     ]
    },
    {
     "name": "stderr",
     "output_type": "stream",
     "text": [
      "DEBUG: http://api.elsevier.com:80 \"GET /content/search/scopus?query=fundus&count=25&start=3350 HTTP/1.1\" 308 None\n",
      "DEBUG: Starting new HTTPS connection (1): api.elsevier.com:443\n",
      "DEBUG: https://api.elsevier.com:443 \"GET /content/search/scopus?query=fundus&count=25&start=3350 HTTP/1.1\" 200 None\n",
      "DEBUG: Starting new HTTP connection (1): api.elsevier.com:80\n"
     ]
    },
    {
     "name": "stdout",
     "output_type": "stream",
     "text": [
      "PG: 135 dumped to file\n"
     ]
    },
    {
     "name": "stderr",
     "output_type": "stream",
     "text": [
      "DEBUG: http://api.elsevier.com:80 \"GET /content/search/scopus?query=fundus&count=25&start=3375 HTTP/1.1\" 308 None\n",
      "DEBUG: Starting new HTTPS connection (1): api.elsevier.com:443\n",
      "DEBUG: https://api.elsevier.com:443 \"GET /content/search/scopus?query=fundus&count=25&start=3375 HTTP/1.1\" 200 None\n",
      "DEBUG: Starting new HTTP connection (1): api.elsevier.com:80\n"
     ]
    },
    {
     "name": "stdout",
     "output_type": "stream",
     "text": [
      "PG: 136 dumped to file\n"
     ]
    },
    {
     "name": "stderr",
     "output_type": "stream",
     "text": [
      "DEBUG: http://api.elsevier.com:80 \"GET /content/search/scopus?query=fundus&count=25&start=3400 HTTP/1.1\" 308 None\n",
      "DEBUG: Starting new HTTPS connection (1): api.elsevier.com:443\n",
      "DEBUG: https://api.elsevier.com:443 \"GET /content/search/scopus?query=fundus&count=25&start=3400 HTTP/1.1\" 200 None\n",
      "DEBUG: Starting new HTTP connection (1): api.elsevier.com:80\n"
     ]
    },
    {
     "name": "stdout",
     "output_type": "stream",
     "text": [
      "PG: 137 dumped to file\n"
     ]
    },
    {
     "name": "stderr",
     "output_type": "stream",
     "text": [
      "DEBUG: http://api.elsevier.com:80 \"GET /content/search/scopus?query=fundus&count=25&start=3425 HTTP/1.1\" 308 None\n",
      "DEBUG: Starting new HTTPS connection (1): api.elsevier.com:443\n",
      "DEBUG: https://api.elsevier.com:443 \"GET /content/search/scopus?query=fundus&count=25&start=3425 HTTP/1.1\" 200 None\n",
      "DEBUG: Starting new HTTP connection (1): api.elsevier.com:80\n"
     ]
    },
    {
     "name": "stdout",
     "output_type": "stream",
     "text": [
      "PG: 138 dumped to file\n"
     ]
    },
    {
     "name": "stderr",
     "output_type": "stream",
     "text": [
      "DEBUG: http://api.elsevier.com:80 \"GET /content/search/scopus?query=fundus&count=25&start=3450 HTTP/1.1\" 308 None\n",
      "DEBUG: Starting new HTTPS connection (1): api.elsevier.com:443\n",
      "DEBUG: https://api.elsevier.com:443 \"GET /content/search/scopus?query=fundus&count=25&start=3450 HTTP/1.1\" 200 None\n",
      "DEBUG: Starting new HTTP connection (1): api.elsevier.com:80\n"
     ]
    },
    {
     "name": "stdout",
     "output_type": "stream",
     "text": [
      "PG: 139 dumped to file\n"
     ]
    },
    {
     "name": "stderr",
     "output_type": "stream",
     "text": [
      "DEBUG: http://api.elsevier.com:80 \"GET /content/search/scopus?query=fundus&count=25&start=3475 HTTP/1.1\" 308 None\n",
      "DEBUG: Starting new HTTPS connection (1): api.elsevier.com:443\n",
      "DEBUG: https://api.elsevier.com:443 \"GET /content/search/scopus?query=fundus&count=25&start=3475 HTTP/1.1\" 200 None\n",
      "DEBUG: Starting new HTTP connection (1): api.elsevier.com:80\n"
     ]
    },
    {
     "name": "stdout",
     "output_type": "stream",
     "text": [
      "PG: 140 dumped to file\n"
     ]
    },
    {
     "name": "stderr",
     "output_type": "stream",
     "text": [
      "DEBUG: http://api.elsevier.com:80 \"GET /content/search/scopus?query=fundus&count=25&start=3500 HTTP/1.1\" 308 None\n",
      "DEBUG: Starting new HTTPS connection (1): api.elsevier.com:443\n",
      "DEBUG: https://api.elsevier.com:443 \"GET /content/search/scopus?query=fundus&count=25&start=3500 HTTP/1.1\" 200 None\n",
      "DEBUG: Starting new HTTP connection (1): api.elsevier.com:80\n"
     ]
    },
    {
     "name": "stdout",
     "output_type": "stream",
     "text": [
      "PG: 141 dumped to file\n"
     ]
    },
    {
     "name": "stderr",
     "output_type": "stream",
     "text": [
      "DEBUG: http://api.elsevier.com:80 \"GET /content/search/scopus?query=fundus&count=25&start=3525 HTTP/1.1\" 308 None\n",
      "DEBUG: Starting new HTTPS connection (1): api.elsevier.com:443\n",
      "DEBUG: https://api.elsevier.com:443 \"GET /content/search/scopus?query=fundus&count=25&start=3525 HTTP/1.1\" 200 None\n",
      "DEBUG: Starting new HTTP connection (1): api.elsevier.com:80\n"
     ]
    },
    {
     "name": "stdout",
     "output_type": "stream",
     "text": [
      "PG: 142 dumped to file\n"
     ]
    },
    {
     "name": "stderr",
     "output_type": "stream",
     "text": [
      "DEBUG: http://api.elsevier.com:80 \"GET /content/search/scopus?query=fundus&count=25&start=3550 HTTP/1.1\" 308 None\n",
      "DEBUG: Starting new HTTPS connection (1): api.elsevier.com:443\n",
      "DEBUG: https://api.elsevier.com:443 \"GET /content/search/scopus?query=fundus&count=25&start=3550 HTTP/1.1\" 200 None\n",
      "DEBUG: Starting new HTTP connection (1): api.elsevier.com:80\n"
     ]
    },
    {
     "name": "stdout",
     "output_type": "stream",
     "text": [
      "PG: 143 dumped to file\n"
     ]
    },
    {
     "name": "stderr",
     "output_type": "stream",
     "text": [
      "DEBUG: http://api.elsevier.com:80 \"GET /content/search/scopus?query=fundus&count=25&start=3575 HTTP/1.1\" 308 None\n",
      "DEBUG: Starting new HTTPS connection (1): api.elsevier.com:443\n",
      "DEBUG: https://api.elsevier.com:443 \"GET /content/search/scopus?query=fundus&count=25&start=3575 HTTP/1.1\" 200 None\n",
      "DEBUG: Starting new HTTP connection (1): api.elsevier.com:80\n"
     ]
    },
    {
     "name": "stdout",
     "output_type": "stream",
     "text": [
      "PG: 144 dumped to file\n"
     ]
    },
    {
     "name": "stderr",
     "output_type": "stream",
     "text": [
      "DEBUG: http://api.elsevier.com:80 \"GET /content/search/scopus?query=fundus&count=25&start=3600 HTTP/1.1\" 308 None\n",
      "DEBUG: Starting new HTTPS connection (1): api.elsevier.com:443\n",
      "DEBUG: https://api.elsevier.com:443 \"GET /content/search/scopus?query=fundus&count=25&start=3600 HTTP/1.1\" 200 None\n",
      "DEBUG: Starting new HTTP connection (1): api.elsevier.com:80\n"
     ]
    },
    {
     "name": "stdout",
     "output_type": "stream",
     "text": [
      "PG: 145 dumped to file\n"
     ]
    },
    {
     "name": "stderr",
     "output_type": "stream",
     "text": [
      "DEBUG: http://api.elsevier.com:80 \"GET /content/search/scopus?query=fundus&count=25&start=3625 HTTP/1.1\" 308 None\n",
      "DEBUG: Starting new HTTPS connection (1): api.elsevier.com:443\n",
      "DEBUG: https://api.elsevier.com:443 \"GET /content/search/scopus?query=fundus&count=25&start=3625 HTTP/1.1\" 200 None\n",
      "DEBUG: Starting new HTTP connection (1): api.elsevier.com:80\n"
     ]
    },
    {
     "name": "stdout",
     "output_type": "stream",
     "text": [
      "PG: 146 dumped to file\n"
     ]
    },
    {
     "name": "stderr",
     "output_type": "stream",
     "text": [
      "DEBUG: http://api.elsevier.com:80 \"GET /content/search/scopus?query=fundus&count=25&start=3650 HTTP/1.1\" 308 None\n",
      "DEBUG: Starting new HTTPS connection (1): api.elsevier.com:443\n",
      "DEBUG: https://api.elsevier.com:443 \"GET /content/search/scopus?query=fundus&count=25&start=3650 HTTP/1.1\" 200 None\n",
      "DEBUG: Starting new HTTP connection (1): api.elsevier.com:80\n"
     ]
    },
    {
     "name": "stdout",
     "output_type": "stream",
     "text": [
      "PG: 147 dumped to file\n"
     ]
    },
    {
     "name": "stderr",
     "output_type": "stream",
     "text": [
      "DEBUG: http://api.elsevier.com:80 \"GET /content/search/scopus?query=fundus&count=25&start=3675 HTTP/1.1\" 308 None\n",
      "DEBUG: Starting new HTTPS connection (1): api.elsevier.com:443\n",
      "DEBUG: https://api.elsevier.com:443 \"GET /content/search/scopus?query=fundus&count=25&start=3675 HTTP/1.1\" 200 None\n",
      "DEBUG: Starting new HTTP connection (1): api.elsevier.com:80\n"
     ]
    },
    {
     "name": "stdout",
     "output_type": "stream",
     "text": [
      "PG: 148 dumped to file\n"
     ]
    },
    {
     "name": "stderr",
     "output_type": "stream",
     "text": [
      "DEBUG: http://api.elsevier.com:80 \"GET /content/search/scopus?query=fundus&count=25&start=3700 HTTP/1.1\" 308 None\n",
      "DEBUG: Starting new HTTPS connection (1): api.elsevier.com:443\n",
      "DEBUG: https://api.elsevier.com:443 \"GET /content/search/scopus?query=fundus&count=25&start=3700 HTTP/1.1\" 200 None\n",
      "DEBUG: Starting new HTTP connection (1): api.elsevier.com:80\n"
     ]
    },
    {
     "name": "stdout",
     "output_type": "stream",
     "text": [
      "PG: 149 dumped to file\n"
     ]
    },
    {
     "name": "stderr",
     "output_type": "stream",
     "text": [
      "DEBUG: http://api.elsevier.com:80 \"GET /content/search/scopus?query=fundus&count=25&start=3725 HTTP/1.1\" 308 None\n",
      "DEBUG: Starting new HTTPS connection (1): api.elsevier.com:443\n",
      "DEBUG: https://api.elsevier.com:443 \"GET /content/search/scopus?query=fundus&count=25&start=3725 HTTP/1.1\" 200 None\n",
      "DEBUG: Starting new HTTP connection (1): api.elsevier.com:80\n"
     ]
    },
    {
     "name": "stdout",
     "output_type": "stream",
     "text": [
      "PG: 150 dumped to file\n"
     ]
    },
    {
     "name": "stderr",
     "output_type": "stream",
     "text": [
      "DEBUG: http://api.elsevier.com:80 \"GET /content/search/scopus?query=fundus&count=25&start=3750 HTTP/1.1\" 308 None\n",
      "DEBUG: Starting new HTTPS connection (1): api.elsevier.com:443\n",
      "DEBUG: https://api.elsevier.com:443 \"GET /content/search/scopus?query=fundus&count=25&start=3750 HTTP/1.1\" 200 None\n",
      "DEBUG: Starting new HTTP connection (1): api.elsevier.com:80\n"
     ]
    },
    {
     "name": "stdout",
     "output_type": "stream",
     "text": [
      "PG: 151 dumped to file\n"
     ]
    },
    {
     "name": "stderr",
     "output_type": "stream",
     "text": [
      "DEBUG: http://api.elsevier.com:80 \"GET /content/search/scopus?query=fundus&count=25&start=3775 HTTP/1.1\" 308 None\n",
      "DEBUG: Starting new HTTPS connection (1): api.elsevier.com:443\n",
      "DEBUG: https://api.elsevier.com:443 \"GET /content/search/scopus?query=fundus&count=25&start=3775 HTTP/1.1\" 200 None\n",
      "DEBUG: Starting new HTTP connection (1): api.elsevier.com:80\n"
     ]
    },
    {
     "name": "stdout",
     "output_type": "stream",
     "text": [
      "PG: 152 dumped to file\n"
     ]
    },
    {
     "name": "stderr",
     "output_type": "stream",
     "text": [
      "DEBUG: http://api.elsevier.com:80 \"GET /content/search/scopus?query=fundus&count=25&start=3800 HTTP/1.1\" 308 None\n",
      "DEBUG: Starting new HTTPS connection (1): api.elsevier.com:443\n",
      "DEBUG: https://api.elsevier.com:443 \"GET /content/search/scopus?query=fundus&count=25&start=3800 HTTP/1.1\" 200 None\n",
      "DEBUG: Starting new HTTP connection (1): api.elsevier.com:80\n"
     ]
    },
    {
     "name": "stdout",
     "output_type": "stream",
     "text": [
      "PG: 153 dumped to file\n"
     ]
    },
    {
     "name": "stderr",
     "output_type": "stream",
     "text": [
      "DEBUG: http://api.elsevier.com:80 \"GET /content/search/scopus?query=fundus&count=25&start=3825 HTTP/1.1\" 308 None\n",
      "DEBUG: Starting new HTTPS connection (1): api.elsevier.com:443\n",
      "DEBUG: https://api.elsevier.com:443 \"GET /content/search/scopus?query=fundus&count=25&start=3825 HTTP/1.1\" 200 None\n",
      "DEBUG: Starting new HTTP connection (1): api.elsevier.com:80\n"
     ]
    },
    {
     "name": "stdout",
     "output_type": "stream",
     "text": [
      "PG: 154 dumped to file\n"
     ]
    },
    {
     "name": "stderr",
     "output_type": "stream",
     "text": [
      "DEBUG: http://api.elsevier.com:80 \"GET /content/search/scopus?query=fundus&count=25&start=3850 HTTP/1.1\" 308 None\n",
      "DEBUG: Starting new HTTPS connection (1): api.elsevier.com:443\n",
      "DEBUG: https://api.elsevier.com:443 \"GET /content/search/scopus?query=fundus&count=25&start=3850 HTTP/1.1\" 200 None\n",
      "DEBUG: Starting new HTTP connection (1): api.elsevier.com:80\n"
     ]
    },
    {
     "name": "stdout",
     "output_type": "stream",
     "text": [
      "PG: 155 dumped to file\n"
     ]
    },
    {
     "name": "stderr",
     "output_type": "stream",
     "text": [
      "DEBUG: http://api.elsevier.com:80 \"GET /content/search/scopus?query=fundus&count=25&start=3875 HTTP/1.1\" 308 None\n",
      "DEBUG: Starting new HTTPS connection (1): api.elsevier.com:443\n",
      "DEBUG: https://api.elsevier.com:443 \"GET /content/search/scopus?query=fundus&count=25&start=3875 HTTP/1.1\" 200 None\n",
      "DEBUG: Starting new HTTP connection (1): api.elsevier.com:80\n"
     ]
    },
    {
     "name": "stdout",
     "output_type": "stream",
     "text": [
      "PG: 156 dumped to file\n"
     ]
    },
    {
     "name": "stderr",
     "output_type": "stream",
     "text": [
      "DEBUG: http://api.elsevier.com:80 \"GET /content/search/scopus?query=fundus&count=25&start=3900 HTTP/1.1\" 308 None\n",
      "DEBUG: Starting new HTTPS connection (1): api.elsevier.com:443\n",
      "DEBUG: https://api.elsevier.com:443 \"GET /content/search/scopus?query=fundus&count=25&start=3900 HTTP/1.1\" 200 None\n",
      "DEBUG: Starting new HTTP connection (1): api.elsevier.com:80\n"
     ]
    },
    {
     "name": "stdout",
     "output_type": "stream",
     "text": [
      "PG: 157 dumped to file\n"
     ]
    },
    {
     "name": "stderr",
     "output_type": "stream",
     "text": [
      "DEBUG: http://api.elsevier.com:80 \"GET /content/search/scopus?query=fundus&count=25&start=3925 HTTP/1.1\" 308 None\n",
      "DEBUG: Starting new HTTPS connection (1): api.elsevier.com:443\n",
      "DEBUG: https://api.elsevier.com:443 \"GET /content/search/scopus?query=fundus&count=25&start=3925 HTTP/1.1\" 200 None\n",
      "DEBUG: Starting new HTTP connection (1): api.elsevier.com:80\n"
     ]
    },
    {
     "name": "stdout",
     "output_type": "stream",
     "text": [
      "PG: 158 dumped to file\n"
     ]
    },
    {
     "name": "stderr",
     "output_type": "stream",
     "text": [
      "DEBUG: http://api.elsevier.com:80 \"GET /content/search/scopus?query=fundus&count=25&start=3950 HTTP/1.1\" 308 None\n",
      "DEBUG: Starting new HTTPS connection (1): api.elsevier.com:443\n",
      "DEBUG: https://api.elsevier.com:443 \"GET /content/search/scopus?query=fundus&count=25&start=3950 HTTP/1.1\" 200 None\n",
      "DEBUG: Starting new HTTP connection (1): api.elsevier.com:80\n"
     ]
    },
    {
     "name": "stdout",
     "output_type": "stream",
     "text": [
      "PG: 159 dumped to file\n"
     ]
    },
    {
     "name": "stderr",
     "output_type": "stream",
     "text": [
      "DEBUG: http://api.elsevier.com:80 \"GET /content/search/scopus?query=fundus&count=25&start=3975 HTTP/1.1\" 308 None\n",
      "DEBUG: Starting new HTTPS connection (1): api.elsevier.com:443\n",
      "DEBUG: https://api.elsevier.com:443 \"GET /content/search/scopus?query=fundus&count=25&start=3975 HTTP/1.1\" 200 None\n",
      "DEBUG: Starting new HTTP connection (1): api.elsevier.com:80\n"
     ]
    },
    {
     "name": "stdout",
     "output_type": "stream",
     "text": [
      "PG: 160 dumped to file\n"
     ]
    },
    {
     "name": "stderr",
     "output_type": "stream",
     "text": [
      "DEBUG: http://api.elsevier.com:80 \"GET /content/search/scopus?query=fundus&count=25&start=4000 HTTP/1.1\" 308 None\n",
      "DEBUG: Starting new HTTPS connection (1): api.elsevier.com:443\n",
      "DEBUG: https://api.elsevier.com:443 \"GET /content/search/scopus?query=fundus&count=25&start=4000 HTTP/1.1\" 200 None\n",
      "DEBUG: Starting new HTTP connection (1): api.elsevier.com:80\n"
     ]
    },
    {
     "name": "stdout",
     "output_type": "stream",
     "text": [
      "PG: 161 dumped to file\n"
     ]
    },
    {
     "name": "stderr",
     "output_type": "stream",
     "text": [
      "DEBUG: http://api.elsevier.com:80 \"GET /content/search/scopus?query=fundus&count=25&start=4025 HTTP/1.1\" 308 None\n",
      "DEBUG: Starting new HTTPS connection (1): api.elsevier.com:443\n",
      "DEBUG: https://api.elsevier.com:443 \"GET /content/search/scopus?query=fundus&count=25&start=4025 HTTP/1.1\" 200 None\n",
      "DEBUG: Starting new HTTP connection (1): api.elsevier.com:80\n"
     ]
    },
    {
     "name": "stdout",
     "output_type": "stream",
     "text": [
      "PG: 162 dumped to file\n"
     ]
    },
    {
     "name": "stderr",
     "output_type": "stream",
     "text": [
      "DEBUG: http://api.elsevier.com:80 \"GET /content/search/scopus?query=fundus&count=25&start=4050 HTTP/1.1\" 308 None\n",
      "DEBUG: Starting new HTTPS connection (1): api.elsevier.com:443\n",
      "DEBUG: https://api.elsevier.com:443 \"GET /content/search/scopus?query=fundus&count=25&start=4050 HTTP/1.1\" 200 None\n",
      "DEBUG: Starting new HTTP connection (1): api.elsevier.com:80\n"
     ]
    },
    {
     "name": "stdout",
     "output_type": "stream",
     "text": [
      "PG: 163 dumped to file\n"
     ]
    },
    {
     "name": "stderr",
     "output_type": "stream",
     "text": [
      "DEBUG: http://api.elsevier.com:80 \"GET /content/search/scopus?query=fundus&count=25&start=4075 HTTP/1.1\" 308 None\n",
      "DEBUG: Starting new HTTPS connection (1): api.elsevier.com:443\n",
      "DEBUG: https://api.elsevier.com:443 \"GET /content/search/scopus?query=fundus&count=25&start=4075 HTTP/1.1\" 200 None\n",
      "DEBUG: Starting new HTTP connection (1): api.elsevier.com:80\n"
     ]
    },
    {
     "name": "stdout",
     "output_type": "stream",
     "text": [
      "PG: 164 dumped to file\n"
     ]
    },
    {
     "name": "stderr",
     "output_type": "stream",
     "text": [
      "DEBUG: http://api.elsevier.com:80 \"GET /content/search/scopus?query=fundus&count=25&start=4100 HTTP/1.1\" 308 None\n",
      "DEBUG: Starting new HTTPS connection (1): api.elsevier.com:443\n",
      "DEBUG: https://api.elsevier.com:443 \"GET /content/search/scopus?query=fundus&count=25&start=4100 HTTP/1.1\" 200 None\n",
      "DEBUG: Starting new HTTP connection (1): api.elsevier.com:80\n"
     ]
    },
    {
     "name": "stdout",
     "output_type": "stream",
     "text": [
      "PG: 165 dumped to file\n"
     ]
    },
    {
     "name": "stderr",
     "output_type": "stream",
     "text": [
      "DEBUG: http://api.elsevier.com:80 \"GET /content/search/scopus?query=fundus&count=25&start=4125 HTTP/1.1\" 308 None\n",
      "DEBUG: Starting new HTTPS connection (1): api.elsevier.com:443\n",
      "DEBUG: https://api.elsevier.com:443 \"GET /content/search/scopus?query=fundus&count=25&start=4125 HTTP/1.1\" 200 None\n",
      "DEBUG: Starting new HTTP connection (1): api.elsevier.com:80\n"
     ]
    },
    {
     "name": "stdout",
     "output_type": "stream",
     "text": [
      "PG: 166 dumped to file\n"
     ]
    },
    {
     "name": "stderr",
     "output_type": "stream",
     "text": [
      "DEBUG: http://api.elsevier.com:80 \"GET /content/search/scopus?query=fundus&count=25&start=4150 HTTP/1.1\" 308 None\n",
      "DEBUG: Starting new HTTPS connection (1): api.elsevier.com:443\n",
      "DEBUG: https://api.elsevier.com:443 \"GET /content/search/scopus?query=fundus&count=25&start=4150 HTTP/1.1\" 200 None\n",
      "DEBUG: Starting new HTTP connection (1): api.elsevier.com:80\n"
     ]
    },
    {
     "name": "stdout",
     "output_type": "stream",
     "text": [
      "PG: 167 dumped to file\n"
     ]
    },
    {
     "name": "stderr",
     "output_type": "stream",
     "text": [
      "DEBUG: http://api.elsevier.com:80 \"GET /content/search/scopus?query=fundus&count=25&start=4175 HTTP/1.1\" 308 None\n",
      "DEBUG: Starting new HTTPS connection (1): api.elsevier.com:443\n",
      "DEBUG: https://api.elsevier.com:443 \"GET /content/search/scopus?query=fundus&count=25&start=4175 HTTP/1.1\" 200 None\n",
      "DEBUG: Starting new HTTP connection (1): api.elsevier.com:80\n"
     ]
    },
    {
     "name": "stdout",
     "output_type": "stream",
     "text": [
      "PG: 168 dumped to file\n"
     ]
    },
    {
     "name": "stderr",
     "output_type": "stream",
     "text": [
      "DEBUG: http://api.elsevier.com:80 \"GET /content/search/scopus?query=fundus&count=25&start=4200 HTTP/1.1\" 308 None\n",
      "DEBUG: Starting new HTTPS connection (1): api.elsevier.com:443\n",
      "DEBUG: https://api.elsevier.com:443 \"GET /content/search/scopus?query=fundus&count=25&start=4200 HTTP/1.1\" 200 None\n",
      "DEBUG: Starting new HTTP connection (1): api.elsevier.com:80\n"
     ]
    },
    {
     "name": "stdout",
     "output_type": "stream",
     "text": [
      "PG: 169 dumped to file\n"
     ]
    },
    {
     "name": "stderr",
     "output_type": "stream",
     "text": [
      "DEBUG: http://api.elsevier.com:80 \"GET /content/search/scopus?query=fundus&count=25&start=4225 HTTP/1.1\" 308 None\n",
      "DEBUG: Starting new HTTPS connection (1): api.elsevier.com:443\n",
      "DEBUG: https://api.elsevier.com:443 \"GET /content/search/scopus?query=fundus&count=25&start=4225 HTTP/1.1\" 200 None\n",
      "DEBUG: Starting new HTTP connection (1): api.elsevier.com:80\n"
     ]
    },
    {
     "name": "stdout",
     "output_type": "stream",
     "text": [
      "PG: 170 dumped to file\n"
     ]
    },
    {
     "name": "stderr",
     "output_type": "stream",
     "text": [
      "DEBUG: http://api.elsevier.com:80 \"GET /content/search/scopus?query=fundus&count=25&start=4250 HTTP/1.1\" 308 None\n",
      "DEBUG: Starting new HTTPS connection (1): api.elsevier.com:443\n",
      "DEBUG: https://api.elsevier.com:443 \"GET /content/search/scopus?query=fundus&count=25&start=4250 HTTP/1.1\" 200 None\n",
      "DEBUG: Starting new HTTP connection (1): api.elsevier.com:80\n"
     ]
    },
    {
     "name": "stdout",
     "output_type": "stream",
     "text": [
      "PG: 171 dumped to file\n"
     ]
    },
    {
     "name": "stderr",
     "output_type": "stream",
     "text": [
      "DEBUG: http://api.elsevier.com:80 \"GET /content/search/scopus?query=fundus&count=25&start=4275 HTTP/1.1\" 308 None\n",
      "DEBUG: Starting new HTTPS connection (1): api.elsevier.com:443\n",
      "DEBUG: https://api.elsevier.com:443 \"GET /content/search/scopus?query=fundus&count=25&start=4275 HTTP/1.1\" 200 None\n",
      "DEBUG: Starting new HTTP connection (1): api.elsevier.com:80\n"
     ]
    },
    {
     "name": "stdout",
     "output_type": "stream",
     "text": [
      "PG: 172 dumped to file\n"
     ]
    },
    {
     "name": "stderr",
     "output_type": "stream",
     "text": [
      "DEBUG: http://api.elsevier.com:80 \"GET /content/search/scopus?query=fundus&count=25&start=4300 HTTP/1.1\" 308 None\n",
      "DEBUG: Starting new HTTPS connection (1): api.elsevier.com:443\n",
      "DEBUG: https://api.elsevier.com:443 \"GET /content/search/scopus?query=fundus&count=25&start=4300 HTTP/1.1\" 200 None\n",
      "DEBUG: Starting new HTTP connection (1): api.elsevier.com:80\n"
     ]
    },
    {
     "name": "stdout",
     "output_type": "stream",
     "text": [
      "PG: 173 dumped to file\n"
     ]
    },
    {
     "name": "stderr",
     "output_type": "stream",
     "text": [
      "DEBUG: http://api.elsevier.com:80 \"GET /content/search/scopus?query=fundus&count=25&start=4325 HTTP/1.1\" 308 None\n",
      "DEBUG: Starting new HTTPS connection (1): api.elsevier.com:443\n",
      "DEBUG: https://api.elsevier.com:443 \"GET /content/search/scopus?query=fundus&count=25&start=4325 HTTP/1.1\" 200 None\n",
      "DEBUG: Starting new HTTP connection (1): api.elsevier.com:80\n"
     ]
    },
    {
     "name": "stdout",
     "output_type": "stream",
     "text": [
      "PG: 174 dumped to file\n"
     ]
    },
    {
     "name": "stderr",
     "output_type": "stream",
     "text": [
      "DEBUG: http://api.elsevier.com:80 \"GET /content/search/scopus?query=fundus&count=25&start=4350 HTTP/1.1\" 308 None\n",
      "DEBUG: Starting new HTTPS connection (1): api.elsevier.com:443\n",
      "DEBUG: https://api.elsevier.com:443 \"GET /content/search/scopus?query=fundus&count=25&start=4350 HTTP/1.1\" 200 None\n",
      "DEBUG: Starting new HTTP connection (1): api.elsevier.com:80\n"
     ]
    },
    {
     "name": "stdout",
     "output_type": "stream",
     "text": [
      "PG: 175 dumped to file\n"
     ]
    },
    {
     "name": "stderr",
     "output_type": "stream",
     "text": [
      "DEBUG: http://api.elsevier.com:80 \"GET /content/search/scopus?query=fundus&count=25&start=4375 HTTP/1.1\" 308 None\n",
      "DEBUG: Starting new HTTPS connection (1): api.elsevier.com:443\n",
      "DEBUG: https://api.elsevier.com:443 \"GET /content/search/scopus?query=fundus&count=25&start=4375 HTTP/1.1\" 200 None\n",
      "DEBUG: Starting new HTTP connection (1): api.elsevier.com:80\n"
     ]
    },
    {
     "name": "stdout",
     "output_type": "stream",
     "text": [
      "PG: 176 dumped to file\n"
     ]
    },
    {
     "name": "stderr",
     "output_type": "stream",
     "text": [
      "DEBUG: http://api.elsevier.com:80 \"GET /content/search/scopus?query=fundus&count=25&start=4400 HTTP/1.1\" 308 None\n",
      "DEBUG: Starting new HTTPS connection (1): api.elsevier.com:443\n",
      "DEBUG: https://api.elsevier.com:443 \"GET /content/search/scopus?query=fundus&count=25&start=4400 HTTP/1.1\" 200 None\n",
      "DEBUG: Starting new HTTP connection (1): api.elsevier.com:80\n"
     ]
    },
    {
     "name": "stdout",
     "output_type": "stream",
     "text": [
      "PG: 177 dumped to file\n"
     ]
    },
    {
     "name": "stderr",
     "output_type": "stream",
     "text": [
      "DEBUG: http://api.elsevier.com:80 \"GET /content/search/scopus?query=fundus&count=25&start=4425 HTTP/1.1\" 308 None\n",
      "DEBUG: Starting new HTTPS connection (1): api.elsevier.com:443\n",
      "DEBUG: https://api.elsevier.com:443 \"GET /content/search/scopus?query=fundus&count=25&start=4425 HTTP/1.1\" 200 None\n",
      "DEBUG: Starting new HTTP connection (1): api.elsevier.com:80\n"
     ]
    },
    {
     "name": "stdout",
     "output_type": "stream",
     "text": [
      "PG: 178 dumped to file\n"
     ]
    },
    {
     "name": "stderr",
     "output_type": "stream",
     "text": [
      "DEBUG: http://api.elsevier.com:80 \"GET /content/search/scopus?query=fundus&count=25&start=4450 HTTP/1.1\" 308 None\n",
      "DEBUG: Starting new HTTPS connection (1): api.elsevier.com:443\n",
      "DEBUG: https://api.elsevier.com:443 \"GET /content/search/scopus?query=fundus&count=25&start=4450 HTTP/1.1\" 200 None\n",
      "DEBUG: Starting new HTTP connection (1): api.elsevier.com:80\n"
     ]
    },
    {
     "name": "stdout",
     "output_type": "stream",
     "text": [
      "PG: 179 dumped to file\n"
     ]
    },
    {
     "name": "stderr",
     "output_type": "stream",
     "text": [
      "DEBUG: http://api.elsevier.com:80 \"GET /content/search/scopus?query=fundus&count=25&start=4475 HTTP/1.1\" 308 None\n",
      "DEBUG: Starting new HTTPS connection (1): api.elsevier.com:443\n",
      "DEBUG: https://api.elsevier.com:443 \"GET /content/search/scopus?query=fundus&count=25&start=4475 HTTP/1.1\" 200 None\n",
      "DEBUG: Starting new HTTP connection (1): api.elsevier.com:80\n"
     ]
    },
    {
     "name": "stdout",
     "output_type": "stream",
     "text": [
      "PG: 180 dumped to file\n"
     ]
    },
    {
     "name": "stderr",
     "output_type": "stream",
     "text": [
      "DEBUG: http://api.elsevier.com:80 \"GET /content/search/scopus?query=fundus&count=25&start=4500 HTTP/1.1\" 308 None\n",
      "DEBUG: Starting new HTTPS connection (1): api.elsevier.com:443\n",
      "DEBUG: https://api.elsevier.com:443 \"GET /content/search/scopus?query=fundus&count=25&start=4500 HTTP/1.1\" 200 None\n",
      "DEBUG: Starting new HTTP connection (1): api.elsevier.com:80\n"
     ]
    },
    {
     "name": "stdout",
     "output_type": "stream",
     "text": [
      "PG: 181 dumped to file\n"
     ]
    },
    {
     "name": "stderr",
     "output_type": "stream",
     "text": [
      "DEBUG: http://api.elsevier.com:80 \"GET /content/search/scopus?query=fundus&count=25&start=4525 HTTP/1.1\" 308 None\n",
      "DEBUG: Starting new HTTPS connection (1): api.elsevier.com:443\n",
      "DEBUG: https://api.elsevier.com:443 \"GET /content/search/scopus?query=fundus&count=25&start=4525 HTTP/1.1\" 200 None\n",
      "DEBUG: Starting new HTTP connection (1): api.elsevier.com:80\n"
     ]
    },
    {
     "name": "stdout",
     "output_type": "stream",
     "text": [
      "PG: 182 dumped to file\n"
     ]
    },
    {
     "name": "stderr",
     "output_type": "stream",
     "text": [
      "DEBUG: http://api.elsevier.com:80 \"GET /content/search/scopus?query=fundus&count=25&start=4550 HTTP/1.1\" 308 None\n",
      "DEBUG: Starting new HTTPS connection (1): api.elsevier.com:443\n",
      "DEBUG: https://api.elsevier.com:443 \"GET /content/search/scopus?query=fundus&count=25&start=4550 HTTP/1.1\" 200 None\n",
      "DEBUG: Starting new HTTP connection (1): api.elsevier.com:80\n"
     ]
    },
    {
     "name": "stdout",
     "output_type": "stream",
     "text": [
      "PG: 183 dumped to file\n"
     ]
    },
    {
     "name": "stderr",
     "output_type": "stream",
     "text": [
      "DEBUG: http://api.elsevier.com:80 \"GET /content/search/scopus?query=fundus&count=25&start=4575 HTTP/1.1\" 308 None\n",
      "DEBUG: Starting new HTTPS connection (1): api.elsevier.com:443\n",
      "DEBUG: https://api.elsevier.com:443 \"GET /content/search/scopus?query=fundus&count=25&start=4575 HTTP/1.1\" 200 None\n",
      "DEBUG: Starting new HTTP connection (1): api.elsevier.com:80\n"
     ]
    },
    {
     "name": "stdout",
     "output_type": "stream",
     "text": [
      "PG: 184 dumped to file\n"
     ]
    },
    {
     "name": "stderr",
     "output_type": "stream",
     "text": [
      "DEBUG: http://api.elsevier.com:80 \"GET /content/search/scopus?query=fundus&count=25&start=4600 HTTP/1.1\" 308 None\n",
      "DEBUG: Starting new HTTPS connection (1): api.elsevier.com:443\n",
      "DEBUG: https://api.elsevier.com:443 \"GET /content/search/scopus?query=fundus&count=25&start=4600 HTTP/1.1\" 200 None\n",
      "DEBUG: Starting new HTTP connection (1): api.elsevier.com:80\n"
     ]
    },
    {
     "name": "stdout",
     "output_type": "stream",
     "text": [
      "PG: 185 dumped to file\n"
     ]
    },
    {
     "name": "stderr",
     "output_type": "stream",
     "text": [
      "DEBUG: http://api.elsevier.com:80 \"GET /content/search/scopus?query=fundus&count=25&start=4625 HTTP/1.1\" 308 None\n",
      "DEBUG: Starting new HTTPS connection (1): api.elsevier.com:443\n",
      "DEBUG: https://api.elsevier.com:443 \"GET /content/search/scopus?query=fundus&count=25&start=4625 HTTP/1.1\" 200 None\n",
      "DEBUG: Starting new HTTP connection (1): api.elsevier.com:80\n"
     ]
    },
    {
     "name": "stdout",
     "output_type": "stream",
     "text": [
      "PG: 186 dumped to file\n"
     ]
    },
    {
     "name": "stderr",
     "output_type": "stream",
     "text": [
      "DEBUG: http://api.elsevier.com:80 \"GET /content/search/scopus?query=fundus&count=25&start=4650 HTTP/1.1\" 308 None\n",
      "DEBUG: Starting new HTTPS connection (1): api.elsevier.com:443\n",
      "DEBUG: https://api.elsevier.com:443 \"GET /content/search/scopus?query=fundus&count=25&start=4650 HTTP/1.1\" 200 None\n",
      "DEBUG: Starting new HTTP connection (1): api.elsevier.com:80\n"
     ]
    },
    {
     "name": "stdout",
     "output_type": "stream",
     "text": [
      "PG: 187 dumped to file\n"
     ]
    },
    {
     "name": "stderr",
     "output_type": "stream",
     "text": [
      "DEBUG: http://api.elsevier.com:80 \"GET /content/search/scopus?query=fundus&count=25&start=4675 HTTP/1.1\" 308 None\n",
      "DEBUG: Starting new HTTPS connection (1): api.elsevier.com:443\n",
      "DEBUG: https://api.elsevier.com:443 \"GET /content/search/scopus?query=fundus&count=25&start=4675 HTTP/1.1\" 200 None\n",
      "DEBUG: Starting new HTTP connection (1): api.elsevier.com:80\n"
     ]
    },
    {
     "name": "stdout",
     "output_type": "stream",
     "text": [
      "PG: 188 dumped to file\n"
     ]
    },
    {
     "name": "stderr",
     "output_type": "stream",
     "text": [
      "DEBUG: http://api.elsevier.com:80 \"GET /content/search/scopus?query=fundus&count=25&start=4700 HTTP/1.1\" 308 None\n",
      "DEBUG: Starting new HTTPS connection (1): api.elsevier.com:443\n",
      "DEBUG: https://api.elsevier.com:443 \"GET /content/search/scopus?query=fundus&count=25&start=4700 HTTP/1.1\" 200 None\n",
      "DEBUG: Starting new HTTP connection (1): api.elsevier.com:80\n"
     ]
    },
    {
     "name": "stdout",
     "output_type": "stream",
     "text": [
      "PG: 189 dumped to file\n"
     ]
    },
    {
     "name": "stderr",
     "output_type": "stream",
     "text": [
      "DEBUG: http://api.elsevier.com:80 \"GET /content/search/scopus?query=fundus&count=25&start=4725 HTTP/1.1\" 308 None\n",
      "DEBUG: Starting new HTTPS connection (1): api.elsevier.com:443\n",
      "DEBUG: https://api.elsevier.com:443 \"GET /content/search/scopus?query=fundus&count=25&start=4725 HTTP/1.1\" 200 None\n",
      "DEBUG: Starting new HTTP connection (1): api.elsevier.com:80\n"
     ]
    },
    {
     "name": "stdout",
     "output_type": "stream",
     "text": [
      "PG: 190 dumped to file\n"
     ]
    },
    {
     "name": "stderr",
     "output_type": "stream",
     "text": [
      "DEBUG: http://api.elsevier.com:80 \"GET /content/search/scopus?query=fundus&count=25&start=4750 HTTP/1.1\" 308 None\n",
      "DEBUG: Starting new HTTPS connection (1): api.elsevier.com:443\n",
      "DEBUG: https://api.elsevier.com:443 \"GET /content/search/scopus?query=fundus&count=25&start=4750 HTTP/1.1\" 200 None\n",
      "DEBUG: Starting new HTTP connection (1): api.elsevier.com:80\n"
     ]
    },
    {
     "name": "stdout",
     "output_type": "stream",
     "text": [
      "PG: 191 dumped to file\n"
     ]
    },
    {
     "name": "stderr",
     "output_type": "stream",
     "text": [
      "DEBUG: http://api.elsevier.com:80 \"GET /content/search/scopus?query=fundus&count=25&start=4775 HTTP/1.1\" 308 None\n",
      "DEBUG: Starting new HTTPS connection (1): api.elsevier.com:443\n",
      "DEBUG: https://api.elsevier.com:443 \"GET /content/search/scopus?query=fundus&count=25&start=4775 HTTP/1.1\" 200 None\n",
      "DEBUG: Starting new HTTP connection (1): api.elsevier.com:80\n"
     ]
    },
    {
     "name": "stdout",
     "output_type": "stream",
     "text": [
      "PG: 192 dumped to file\n"
     ]
    },
    {
     "name": "stderr",
     "output_type": "stream",
     "text": [
      "DEBUG: http://api.elsevier.com:80 \"GET /content/search/scopus?query=fundus&count=25&start=4800 HTTP/1.1\" 308 None\n",
      "DEBUG: Starting new HTTPS connection (1): api.elsevier.com:443\n",
      "DEBUG: https://api.elsevier.com:443 \"GET /content/search/scopus?query=fundus&count=25&start=4800 HTTP/1.1\" 200 None\n",
      "DEBUG: Starting new HTTP connection (1): api.elsevier.com:80\n"
     ]
    },
    {
     "name": "stdout",
     "output_type": "stream",
     "text": [
      "PG: 193 dumped to file\n"
     ]
    },
    {
     "name": "stderr",
     "output_type": "stream",
     "text": [
      "DEBUG: http://api.elsevier.com:80 \"GET /content/search/scopus?query=fundus&count=25&start=4825 HTTP/1.1\" 308 None\n",
      "DEBUG: Starting new HTTPS connection (1): api.elsevier.com:443\n",
      "DEBUG: https://api.elsevier.com:443 \"GET /content/search/scopus?query=fundus&count=25&start=4825 HTTP/1.1\" 200 None\n",
      "DEBUG: Starting new HTTP connection (1): api.elsevier.com:80\n"
     ]
    },
    {
     "name": "stdout",
     "output_type": "stream",
     "text": [
      "PG: 194 dumped to file\n"
     ]
    },
    {
     "name": "stderr",
     "output_type": "stream",
     "text": [
      "DEBUG: http://api.elsevier.com:80 \"GET /content/search/scopus?query=fundus&count=25&start=4850 HTTP/1.1\" 308 None\n",
      "DEBUG: Starting new HTTPS connection (1): api.elsevier.com:443\n",
      "DEBUG: https://api.elsevier.com:443 \"GET /content/search/scopus?query=fundus&count=25&start=4850 HTTP/1.1\" 200 None\n",
      "DEBUG: Starting new HTTP connection (1): api.elsevier.com:80\n"
     ]
    },
    {
     "name": "stdout",
     "output_type": "stream",
     "text": [
      "PG: 195 dumped to file\n"
     ]
    },
    {
     "name": "stderr",
     "output_type": "stream",
     "text": [
      "DEBUG: http://api.elsevier.com:80 \"GET /content/search/scopus?query=fundus&count=25&start=4875 HTTP/1.1\" 308 None\n",
      "DEBUG: Starting new HTTPS connection (1): api.elsevier.com:443\n",
      "DEBUG: https://api.elsevier.com:443 \"GET /content/search/scopus?query=fundus&count=25&start=4875 HTTP/1.1\" 200 None\n",
      "DEBUG: Starting new HTTP connection (1): api.elsevier.com:80\n"
     ]
    },
    {
     "name": "stdout",
     "output_type": "stream",
     "text": [
      "PG: 196 dumped to file\n"
     ]
    },
    {
     "name": "stderr",
     "output_type": "stream",
     "text": [
      "DEBUG: http://api.elsevier.com:80 \"GET /content/search/scopus?query=fundus&count=25&start=4900 HTTP/1.1\" 308 None\n",
      "DEBUG: Starting new HTTPS connection (1): api.elsevier.com:443\n",
      "DEBUG: https://api.elsevier.com:443 \"GET /content/search/scopus?query=fundus&count=25&start=4900 HTTP/1.1\" 200 None\n",
      "DEBUG: Starting new HTTP connection (1): api.elsevier.com:80\n"
     ]
    },
    {
     "name": "stdout",
     "output_type": "stream",
     "text": [
      "PG: 197 dumped to file\n"
     ]
    },
    {
     "name": "stderr",
     "output_type": "stream",
     "text": [
      "DEBUG: http://api.elsevier.com:80 \"GET /content/search/scopus?query=fundus&count=25&start=4925 HTTP/1.1\" 308 None\n",
      "DEBUG: Starting new HTTPS connection (1): api.elsevier.com:443\n",
      "DEBUG: https://api.elsevier.com:443 \"GET /content/search/scopus?query=fundus&count=25&start=4925 HTTP/1.1\" 200 None\n",
      "DEBUG: Starting new HTTP connection (1): api.elsevier.com:80\n"
     ]
    },
    {
     "name": "stdout",
     "output_type": "stream",
     "text": [
      "PG: 198 dumped to file\n"
     ]
    },
    {
     "name": "stderr",
     "output_type": "stream",
     "text": [
      "DEBUG: http://api.elsevier.com:80 \"GET /content/search/scopus?query=fundus&count=25&start=4950 HTTP/1.1\" 308 None\n",
      "DEBUG: Starting new HTTPS connection (1): api.elsevier.com:443\n",
      "DEBUG: https://api.elsevier.com:443 \"GET /content/search/scopus?query=fundus&count=25&start=4950 HTTP/1.1\" 200 None\n",
      "DEBUG: Starting new HTTP connection (1): api.elsevier.com:80\n"
     ]
    },
    {
     "name": "stdout",
     "output_type": "stream",
     "text": [
      "PG: 199 dumped to file\n"
     ]
    },
    {
     "name": "stderr",
     "output_type": "stream",
     "text": [
      "DEBUG: http://api.elsevier.com:80 \"GET /content/search/scopus?query=fundus&count=25&start=4975 HTTP/1.1\" 308 None\n",
      "DEBUG: Starting new HTTPS connection (1): api.elsevier.com:443\n",
      "DEBUG: https://api.elsevier.com:443 \"GET /content/search/scopus?query=fundus&count=25&start=4975 HTTP/1.1\" 200 None\n",
      "DEBUG: Starting new HTTP connection (1): api.elsevier.com:80\n"
     ]
    },
    {
     "name": "stdout",
     "output_type": "stream",
     "text": [
      "PG: 200 dumped to file\n"
     ]
    },
    {
     "name": "stderr",
     "output_type": "stream",
     "text": [
      "DEBUG: http://api.elsevier.com:80 \"GET /content/search/scopus?query=fundus&count=25&start=5000 HTTP/1.1\" 308 None\n",
      "DEBUG: Starting new HTTPS connection (1): api.elsevier.com:443\n",
      "DEBUG: https://api.elsevier.com:443 \"GET /content/search/scopus?query=fundus&count=25&start=5000 HTTP/1.1\" 400 111\n"
     ]
    },
    {
     "name": "stdout",
     "output_type": "stream",
     "text": [
      "*****INVALID_INPUT - Exceeds the number of search results\n"
     ]
    }
   ],
   "source": [
    "searchez = [ (\"fundus handcrafted deep learning\", 'fundus_hc_dl.json'),\n",
    "           (\"medical image preprocessing\", \"medical_img_preproc.json\"),\n",
    "           (\"image fuse handcrafted deep learning features\", 'fuse_hc_dl.json'),\n",
    "           (\"fundus\", 'fundus.json')]\n",
    "\n",
    "\n",
    "for q, f in searchez:\n",
    "    run_search(q, f)\n"
   ]
  },
  {
   "cell_type": "code",
   "execution_count": 53,
   "metadata": {},
   "outputs": [],
   "source": [
    "## data = 16/3 18:37\n",
    "fundus_search_next_start_at = 5000"
   ]
  },
  {
   "cell_type": "markdown",
   "metadata": {},
   "source": [
    " # TODO: Search Language of Scopus\n",
    "    \n",
    "    http://schema.elsevier.com/dtds/document/bkapi/search/SCOPUSSearchTips.htm "
   ]
  },
  {
   "cell_type": "code",
   "execution_count": 7,
   "metadata": {},
   "outputs": [],
   "source": [
    "import pandas as pd\n",
    "import numpy as np\n",
    "import json\n",
    "from datetime import datetime \n",
    "\n",
    "\n",
    "def parse_json_file_to_csv(fname): \n",
    "    keyz = [ 'prism:url', \n",
    "             \"dc:identifier\", \"dc:title\", \"prism:publicationName\",\n",
    "             \"prism:coverDate\", \"citedby-count\", \n",
    "            ]\n",
    "    affilz = \"affiliation\" ## sub = affilname, affiliation-city, affiliation-country\n",
    "    first_affilz_country = \"country_1\"\n",
    "    first_affilz_org = \"institution_1\"\n",
    "    \n",
    "    has_fundus_in_title = \"fundus_in_title\"\n",
    "    pub_year = \"pub_year\"\n",
    "    \n",
    "    abhref = 'abstract'\n",
    "    \n",
    "    def parse_elsevier_json_item(item):    \n",
    "        \n",
    "        def get_pub_year(pub_date):\n",
    "            return str( datetime.strptime(pub_date, \"%Y-%m-%d\").year )\n",
    "        \n",
    "        def has_fundus(titl):\n",
    "            return str( int( 'fundus' in titl.lower() ) )\n",
    "        \n",
    "        O_ = []\n",
    "        ## 1. everything top level \n",
    "        for k in keyz:\n",
    "            O_.append( item[k] ) \n",
    "        \n",
    "        ## 2. parse affiliation details and join org,city,country\n",
    "        k_affz = ['affilname', 'affiliation-city', 'affiliation-country']\n",
    "        A_ = []\n",
    "        I_ = '-'\n",
    "        C_ = '-'\n",
    "        ia = 0 \n",
    "        affitem = item.get(\"affiliation\", None)\n",
    "        if affitem:\n",
    "            for aff in affitem:\n",
    "                if aff:\n",
    "                    a_ = []\n",
    "                    for k in k_affz:\n",
    "                        x = aff.get(k, \"-\") \n",
    "                        a_.append( x if x is not None else \"-\")\n",
    "#                     print( a_ )\n",
    "                    A_.append(\", \".join(a_) )         \n",
    "                    if ia == 0:\n",
    "                        C_ = a_[-1]  \n",
    "                        I_ = a_[0]\n",
    "                        ia = 100 \n",
    "            O_.append( \"++\".join(A_) )\n",
    "        else:\n",
    "            O_.append( \"-\" )\n",
    "        O_.append( I_ )\n",
    "        O_.append( C_ )\n",
    "        \n",
    "        ## 3. preprocs\n",
    "        O_.append( has_fundus( item.get(\"dc:title\", \"\") ) )\n",
    "        O_.append( get_pub_year(item.get(\"prism:coverDate\", \"\")))\n",
    "        \n",
    "        ## 4. parse abstract url \n",
    "        abstract = \"link\" # @ref = \"self\", \"@href\" \n",
    "        for abl in item[abstract]:\n",
    "            if abl['@ref'] == 'self':\n",
    "                O_.append( abl['@href'] ) \n",
    "        \n",
    "        return O_ \n",
    "    \n",
    "        \n",
    "    def fetch_abstract(ahref):\n",
    "        pass \n",
    "    \n",
    "    to_csv = []\n",
    "    with open( f'{fname}.json', 'r') as fd:\n",
    "        pagez = json.load( fd)\n",
    "#         print( type(pagez), len(pagez) )\n",
    "        for page in pagez:\n",
    "            for item in page:\n",
    "                to_csv.append( parse_elsevier_json_item(item) )\n",
    "            \n",
    "    \n",
    "    def dump_csv_row(rec):\n",
    "#         print(type(rec), len(rec), rec)\n",
    "        fd.write( \"\\t\".join( rec) )\n",
    "        fd.write(\"\\n\")\n",
    "        \n",
    "    with open( f\"{fname}.csv\", 'w') as fd:\n",
    "        headz = keyz + [affilz, first_affilz_org, first_affilz_country, \n",
    "                        has_fundus_in_title, pub_year, \n",
    "                        abhref] \n",
    "        dump_csv_row(headz)\n",
    "        for rec in to_csv:\n",
    "            dump_csv_row(rec)\n",
    "            \n",
    "        "
   ]
  },
  {
   "cell_type": "code",
   "execution_count": null,
   "metadata": {},
   "outputs": [],
   "source": [
    "datz = ['0ea_4__fuse_hc_dl', \n",
    "        '0ea_5__fundus_hc_dl', \n",
    "        '0ea_642__medical_img_preproc', \n",
    "        '0ea_3926__fundus'\n",
    "       ]\n",
    "\n",
    "# for fname in datz:\n",
    "#     parse_json_file_to_csv(fname)\n",
    "#     print(\"******** FINISHED - \", fname )"
   ]
  },
  {
   "cell_type": "code",
   "execution_count": 10,
   "metadata": {},
   "outputs": [
    {
     "name": "stdout",
     "output_type": "stream",
     "text": [
      "*** TOTAL_ITEMS:  28 , <<  2\n",
      "PG: 1 dumped to file\n",
      "PG: 2 dumped to file\n"
     ]
    }
   ],
   "source": [
    "#### ======== FIND ME THESE GUYS\n",
    "from pyscopus import Scopus\n",
    "import requests, json\n",
    "#Cells: 7, 8\n",
    "\n",
    "MY_API_KEY = '6f08887e7863302c0431a454c96fb54c'\n",
    "headerz_api={'Accept':'application/json', 'X-ELS-APIKey': MY_API_KEY}\n",
    "\n",
    "\n",
    "scopus = Scopus(MY_API_KEY)\n",
    "searchez = [ (\"unsupervised survey intensity threshold based fundus blood vessels\", 'vessels-paper1.json'),]\n",
    "\n",
    "\n",
    "for q, f in searchez:\n",
    "    run_search(q, f)"
   ]
  },
  {
   "cell_type": "code",
   "execution_count": 16,
   "metadata": {},
   "outputs": [],
   "source": [
    "parse_json_file_to_csv('0ea_2__vessels-paper1')"
   ]
  },
  {
   "cell_type": "code",
   "execution_count": null,
   "metadata": {},
   "outputs": [],
   "source": []
  }
 ],
 "metadata": {
  "kernelspec": {
   "display_name": "Python 3",
   "language": "python",
   "name": "python3"
  },
  "language_info": {
   "codemirror_mode": {
    "name": "ipython",
    "version": 3
   },
   "file_extension": ".py",
   "mimetype": "text/x-python",
   "name": "python",
   "nbconvert_exporter": "python",
   "pygments_lexer": "ipython3",
   "version": "3.7.9"
  }
 },
 "nbformat": 4,
 "nbformat_minor": 2
}
